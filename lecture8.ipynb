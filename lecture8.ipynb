{
 "cells": [
  {
   "cell_type": "code",
   "execution_count": 11,
   "metadata": {},
   "outputs": [],
   "source": [
    "import os"
   ]
  },
  {
   "cell_type": "markdown",
   "metadata": {},
   "source": []
  },
  {
   "cell_type": "code",
   "execution_count": 4,
   "metadata": {},
   "outputs": [
    {
     "name": "stdout",
     "output_type": "stream",
     "text": [
      "Hello there \n"
     ]
    }
   ],
   "source": [
    "x=open(\"test\",\"r\")   # ---> open file in read only mode\n",
    "print(x.read())\n",
    "x.close()"
   ]
  },
  {
   "cell_type": "code",
   "execution_count": 33,
   "metadata": {},
   "outputs": [],
   "source": [
    "x=open(\"test\",\"w\") # ---> open file in write mode( Rewrite previously written file data)\n",
    "x.write(\"We are leaning File handling\")\n",
    "# print(x.read())\n",
    "x.close()"
   ]
  },
  {
   "cell_type": "code",
   "execution_count": 34,
   "metadata": {},
   "outputs": [],
   "source": [
    "#---> Append is used to add text to the previous existing file(updating)\n",
    "f=open(\"test\",\"a\")\n",
    "text=\"\\nWe read about read, write, append methods\"\n",
    "f.write(text)\n",
    "f.close()"
   ]
  },
  {
   "cell_type": "code",
   "execution_count": 35,
   "metadata": {},
   "outputs": [
    {
     "name": "stdout",
     "output_type": "stream",
     "text": [
      "We are leaning File handling\n",
      "We read about read, write, append methods\n"
     ]
    }
   ],
   "source": [
    "f=open(\"test\",\"r\")\n",
    "print(f.read())\n"
   ]
  },
  {
   "cell_type": "code",
   "execution_count": 37,
   "metadata": {},
   "outputs": [
    {
     "name": "stdout",
     "output_type": "stream",
     "text": [
      "We are leaning File handling\n",
      "\n"
     ]
    }
   ],
   "source": [
    "# ----> readline() used to read single line from the text file \n",
    "file=open(\"test\")\n",
    "print(file.readline())"
   ]
  },
  {
   "cell_type": "code",
   "execution_count": 38,
   "metadata": {},
   "outputs": [
    {
     "name": "stdout",
     "output_type": "stream",
     "text": [
      "We are leaning File handling\n",
      "\n"
     ]
    }
   ],
   "source": [
    "file=open(\"test\")\n",
    "i=0\n",
    "while True:\n",
    "    i=i+1\n",
    "    print(line := file.readline())\n",
    "    if not line:\n",
    "        break"
   ]
  },
  {
   "cell_type": "code",
   "execution_count": 12,
   "metadata": {},
   "outputs": [],
   "source": [
    "file=open(\"test\",\"w\")\n",
    "line=[f\"\\nhello\",\"\\nWe have learnt\",\"\\n1. Read\",\"\\n2. Write\",\"\\n3. append\",\"\\n4. readlines\",\"\\n5. write lines\"]\n",
    "file.writelines(line)\n",
    "file.close()"
   ]
  },
  {
   "cell_type": "code",
   "execution_count": 13,
   "metadata": {},
   "outputs": [
    {
     "name": "stdout",
     "output_type": "stream",
     "text": [
      "\n",
      "hello\n",
      "We have learnt\n",
      "1. Read\n",
      "2. Write\n",
      "3. append\n",
      "4. readlines\n",
      "5. write lines\n"
     ]
    }
   ],
   "source": [
    "with open(\"test\") as f:\n",
    "    print(f.read())"
   ]
  },
  {
   "cell_type": "code",
   "execution_count": 50,
   "metadata": {},
   "outputs": [
    {
     "name": "stdout",
     "output_type": "stream",
     "text": [
      "['\\n', 'hello\\n', 'We have learnt\\n', '1. Read\\n', '2. Write\\n', '3. append\\n', '4. readlines\\n', '5. write lines']\n",
      "[]\n"
     ]
    }
   ],
   "source": [
    "file=open(\"test\",\"r\")\n",
    "i=0\n",
    "\n",
    "while True:\n",
    "    i=i+1\n",
    "    line=file.readlines()\n",
    "    print(line)\n",
    "    if not line:\n",
    "        break\n"
   ]
  },
  {
   "cell_type": "code",
   "execution_count": 55,
   "metadata": {},
   "outputs": [
    {
     "name": "stdout",
     "output_type": "stream",
     "text": [
      "30\n",
      "30\n"
     ]
    }
   ],
   "source": [
    "print(file.seek(30)) #--> search for 30 words\n",
    "print(file.tell())  #-->tell how many character are skeed"
   ]
  },
  {
   "cell_type": "code",
   "execution_count": 63,
   "metadata": {},
   "outputs": [
    {
     "data": {
      "text/plain": [
       "'c:\\\\Users\\\\PMLS\\\\Desktop\\\\artifical intelligence\\\\Python basic'"
      ]
     },
     "execution_count": 63,
     "metadata": {},
     "output_type": "execute_result"
    }
   ],
   "source": [
    "os.getcwd()   #-->show the current folder in which we are working\n"
   ]
  },
  {
   "cell_type": "code",
   "execution_count": 69,
   "metadata": {},
   "outputs": [],
   "source": [
    "with open(\"test1\",\"w\") as file:\n",
    "    file.write(\"Hello there! We are in test1 file\")"
   ]
  },
  {
   "cell_type": "code",
   "execution_count": 76,
   "metadata": {},
   "outputs": [],
   "source": [
    "os.chdir(\"../\")  # ---->change current working directory to one step back "
   ]
  },
  {
   "cell_type": "code",
   "execution_count": 71,
   "metadata": {},
   "outputs": [
    {
     "data": {
      "text/plain": [
       "'c:\\\\Users\\\\PMLS\\\\Desktop\\\\artifical intelligence\\\\Python basic'"
      ]
     },
     "execution_count": 71,
     "metadata": {},
     "output_type": "execute_result"
    }
   ],
   "source": [
    "os.getcwd()"
   ]
  },
  {
   "cell_type": "code",
   "execution_count": null,
   "metadata": {},
   "outputs": [],
   "source": [
    "os.rmdir(\"mainTest\")  #this will remove the directory mainTest in python basic folder"
   ]
  },
  {
   "cell_type": "code",
   "execution_count": 103,
   "metadata": {},
   "outputs": [
    {
     "name": "stdout",
     "output_type": "stream",
     "text": [
      "Your searching directory is not found \n",
      "New file have been created\n"
     ]
    }
   ],
   "source": [
    "if os.path.exists(\"test3\"):\n",
    "    os.remove(\"test3\")\n",
    "    print(\"Your existing file is removed\")\n",
    "else:\n",
    "    print(\"Your searching directory is not found \")\n",
    "    with open(\"test3\",\"w\") as file:\n",
    "        file.write(\"here we have created a new file as test3\")\n",
    "    print(\"New file have been created\")\n",
    "\n"
   ]
  },
  {
   "cell_type": "code",
   "execution_count": 6,
   "metadata": {},
   "outputs": [],
   "source": [
    "import shutil"
   ]
  },
  {
   "cell_type": "code",
   "execution_count": 7,
   "metadata": {},
   "outputs": [
    {
     "data": {
      "text/plain": [
       "'mainTest'"
      ]
     },
     "execution_count": 7,
     "metadata": {},
     "output_type": "execute_result"
    }
   ],
   "source": [
    "shutil.copy(\"test\",\"mainTest\")  #--->this will copy content of test file to mainTest file"
   ]
  },
  {
   "cell_type": "code",
   "execution_count": 14,
   "metadata": {},
   "outputs": [],
   "source": [
    "# shutil.copytree(\"demo\",\"demo1\")\n",
    "# os.getcwd()\n"
   ]
  },
  {
   "cell_type": "code",
   "execution_count": 2,
   "metadata": {},
   "outputs": [],
   "source": [
    "from mym import Greet, Employee,Fact\n",
    "\n"
   ]
  },
  {
   "cell_type": "code",
   "execution_count": 3,
   "metadata": {},
   "outputs": [
    {
     "name": "stdout",
     "output_type": "stream",
     "text": [
      " Good Morning Saman\n"
     ]
    }
   ],
   "source": [
    "a1=Greet(\"Saman\")\n",
    "a1.greeting()"
   ]
  },
  {
   "cell_type": "code",
   "execution_count": 7,
   "metadata": {},
   "outputs": [],
   "source": [
    "a2=Employee(\"noman\",234)"
   ]
  },
  {
   "cell_type": "code",
   "execution_count": 8,
   "metadata": {},
   "outputs": [
    {
     "name": "stdout",
     "output_type": "stream",
     "text": [
      "name is noman Id is 234\n"
     ]
    }
   ],
   "source": [
    "a2.show()"
   ]
  },
  {
   "cell_type": "code",
   "execution_count": 9,
   "metadata": {},
   "outputs": [
    {
     "name": "stdout",
     "output_type": "stream",
     "text": [
      " Good Morning noman\n"
     ]
    }
   ],
   "source": [
    "a2.greeting()"
   ]
  },
  {
   "cell_type": "code",
   "execution_count": 10,
   "metadata": {},
   "outputs": [],
   "source": [
    "f=Fact(5)"
   ]
  },
  {
   "cell_type": "code",
   "execution_count": 11,
   "metadata": {},
   "outputs": [
    {
     "data": {
      "text/plain": [
       "120"
      ]
     },
     "execution_count": 11,
     "metadata": {},
     "output_type": "execute_result"
    }
   ],
   "source": [
    "f.calculate()"
   ]
  },
  {
   "cell_type": "code",
   "execution_count": null,
   "metadata": {},
   "outputs": [],
   "source": []
  }
 ],
 "metadata": {
  "kernelspec": {
   "display_name": "base",
   "language": "python",
   "name": "python3"
  },
  "language_info": {
   "codemirror_mode": {
    "name": "ipython",
    "version": 3
   },
   "file_extension": ".py",
   "mimetype": "text/x-python",
   "name": "python",
   "nbconvert_exporter": "python",
   "pygments_lexer": "ipython3",
   "version": "3.11.7"
  }
 },
 "nbformat": 4,
 "nbformat_minor": 2
}
