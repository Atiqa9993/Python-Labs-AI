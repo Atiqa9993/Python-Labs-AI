{
 "cells": [
  {
   "cell_type": "code",
   "execution_count": 2,
   "metadata": {},
   "outputs": [],
   "source": [
    "import pandas as pd"
   ]
  },
  {
   "cell_type": "markdown",
   "metadata": {},
   "source": [
    "New Lecture Friday 7/2/25"
   ]
  },
  {
   "cell_type": "code",
   "execution_count": 3,
   "metadata": {},
   "outputs": [],
   "source": [
    "# Dataframes:--->multidimensional data set/multiple rows and columns\n",
    "\n",
    "mydata={\n",
    "    \"names\":[\"Sara\",\"Ahmed\",\"Seema\",\"Fatima\"],\n",
    "    \"marks1\":[64,57,43,67],\n",
    "    \"marks2\":[76,78,85,97]\n",
    "}"
   ]
  },
  {
   "cell_type": "code",
   "execution_count": 4,
   "metadata": {},
   "outputs": [
    {
     "name": "stdout",
     "output_type": "stream",
     "text": [
      "    names  marks1  marks2\n",
      "0    Sara      64      76\n",
      "1   Ahmed      57      78\n",
      "2   Seema      43      85\n",
      "3  Fatima      67      97\n"
     ]
    }
   ],
   "source": [
    "students_data=pd.DataFrame(mydata)\n",
    "print(students_data)"
   ]
  },
  {
   "cell_type": "code",
   "execution_count": 5,
   "metadata": {},
   "outputs": [
    {
     "name": "stdout",
     "output_type": "stream",
     "text": [
      "name            Atiqa\n",
      "Profession    Student\n",
      "Domain             AI\n",
      "marks              98\n",
      "dtype: object\n"
     ]
    }
   ],
   "source": [
    "# series:---> series one dimensional data column\n",
    "\n",
    "info={\n",
    "    \"name\":\"Atiqa\",\n",
    "    \"Profession\":\"Student\",\n",
    "    \"Domain\":\"AI\",\n",
    "    \"marks\": 98\n",
    "}\n",
    "\n",
    "data_series=pd.Series(info)\n",
    "print(data_series)"
   ]
  },
  {
   "cell_type": "code",
   "execution_count": 6,
   "metadata": {},
   "outputs": [
    {
     "name": "stdout",
     "output_type": "stream",
     "text": [
      "0      Sara\n",
      "1     Ahmed\n",
      "2     Seema\n",
      "3    Fatima\n",
      "Name: names, dtype: object\n",
      "0    64\n",
      "1    57\n",
      "2    43\n",
      "3    67\n",
      "Name: marks1, dtype: int64\n"
     ]
    }
   ],
   "source": [
    "mydata={\n",
    "    \"names\":[\"Sara\",\"Ahmed\",\"Seema\",\"Fatima\"],\n",
    "    \"marks1\":[64,57,43,67],\n",
    "    \"marks2\":[76,78,85,97]\n",
    "}\n",
    "\n",
    "df_mydata=pd.DataFrame(mydata)\n",
    "x=df_mydata['names']\n",
    "print(x)\n",
    "\n",
    "x=df_mydata['marks1']\n",
    "print(x)"
   ]
  },
  {
   "cell_type": "code",
   "execution_count": 7,
   "metadata": {},
   "outputs": [
    {
     "name": "stdout",
     "output_type": "stream",
     "text": [
      "a    1\n",
      "b    2\n",
      "c    3\n",
      "d    4\n",
      "e    5\n",
      "dtype: int64\n",
      "4\n"
     ]
    }
   ],
   "source": [
    "a=[1,2,3,4,5]\n",
    "index_lable=['a','b','c','d','e']\n",
    "anss=pd.Series(a, index=index_lable)\n",
    "print(anss)\n",
    "print(anss.loc['d'])"
   ]
  },
  {
   "cell_type": "code",
   "execution_count": 8,
   "metadata": {},
   "outputs": [
    {
     "name": "stdout",
     "output_type": "stream",
     "text": [
      "names    Sara\n",
      "Age        23\n",
      "mrx        34\n",
      "dtype: object\n"
     ]
    }
   ],
   "source": [
    "data={\"names\":\"Sara\",\n",
    "      \"Age\":23,\n",
    "      \"mrx\":34\n",
    "      }\n",
    "\n",
    "print(pd.Series(data))\n"
   ]
  },
  {
   "cell_type": "code",
   "execution_count": 9,
   "metadata": {},
   "outputs": [
    {
     "name": "stdout",
     "output_type": "stream",
     "text": [
      "first     1\n",
      "second    2\n",
      "third     3\n",
      "fourth    5\n",
      "dtype: int64\n"
     ]
    }
   ],
   "source": [
    "list=[1,2,3,5]\n",
    "labels=['first','second','third','fourth']\n",
    "series=pd.Series(list, index=labels)\n",
    "print(series)\n"
   ]
  },
  {
   "cell_type": "code",
   "execution_count": 10,
   "metadata": {},
   "outputs": [
    {
     "name": "stdout",
     "output_type": "stream",
     "text": [
      "1\n",
      "2\n"
     ]
    }
   ],
   "source": [
    "print(series['first'])\n",
    "print(series['second'])"
   ]
  },
  {
   "cell_type": "code",
   "execution_count": 11,
   "metadata": {},
   "outputs": [
    {
     "name": "stdout",
     "output_type": "stream",
     "text": [
      "first     1\n",
      "second    2\n",
      "third     3\n",
      "dtype: int64\n",
      "------------------------------\n",
      "third     3\n",
      "fourth    5\n",
      "dtype: int64\n",
      "------------------------------\n",
      "first     1\n",
      "second    2\n",
      "third     3\n",
      "fourth    5\n",
      "dtype: int64\n"
     ]
    }
   ],
   "source": [
    "print(series[:3])\n",
    "print(\"-\"*30)\n",
    "print(series[2:])\n",
    "print(\"-\"*30)\n",
    "print(series[:])"
   ]
  },
  {
   "cell_type": "code",
   "execution_count": 12,
   "metadata": {},
   "outputs": [
    {
     "name": "stdout",
     "output_type": "stream",
     "text": [
      "first     4\n",
      "second    5\n",
      "third     6\n",
      "fourth    8\n",
      "dtype: int64\n",
      "first      3\n",
      "second     6\n",
      "third      9\n",
      "fourth    15\n",
      "dtype: int64\n",
      "first     1\n",
      "second    2\n",
      "third     3\n",
      "fourth    5\n",
      "dtype: int64\n"
     ]
    }
   ],
   "source": [
    "# series operations\n",
    "print(series+3)\n",
    "print(series*3)\n",
    "print(series)"
   ]
  },
  {
   "cell_type": "code",
   "execution_count": 13,
   "metadata": {},
   "outputs": [
    {
     "name": "stdout",
     "output_type": "stream",
     "text": [
      "second    2\n",
      "dtype: int64\n",
      "------------------\n",
      "third     3\n",
      "fourth    5\n",
      "dtype: int64\n"
     ]
    }
   ],
   "source": [
    "print(series[series%2==0])\n",
    "print(\"------------------\")\n",
    "print(series[series>2])"
   ]
  },
  {
   "cell_type": "code",
   "execution_count": 80,
   "metadata": {},
   "outputs": [],
   "source": [
    "import pandas as pd\n",
    "\n",
    "mydata={\n",
    "    \"names\":[\"Sara\",\"Ahmed\",\"Seema\",\"Fatima\"],\n",
    "    \"marks1\":[64,57,43,67],\n",
    "    \"marks2\":[76,78,85,97]\n",
    "}"
   ]
  },
  {
   "cell_type": "code",
   "execution_count": 81,
   "metadata": {},
   "outputs": [
    {
     "name": "stdout",
     "output_type": "stream",
     "text": [
      "    names  marks1  marks2\n",
      "0    Sara      64      76\n",
      "1   Ahmed      57      78\n",
      "2   Seema      43      85\n",
      "3  Fatima      67      97\n"
     ]
    }
   ],
   "source": [
    "df=pd.DataFrame(mydata)\n",
    "print(df)"
   ]
  },
  {
   "cell_type": "code",
   "execution_count": 86,
   "metadata": {},
   "outputs": [
    {
     "name": "stdout",
     "output_type": "stream",
     "text": [
      "    names  marks1  marks2\n",
      "0    Sara      64      76\n",
      "1   Ahmed      57      78\n",
      "2   Seema      43      85\n",
      "3  Fatima      67      97\n"
     ]
    }
   ],
   "source": [
    "mydata['Age']=[23, 12, 43, 33]\n",
    "mydata['ph#no']=[145565778,452566778,987565443,233567788]\n",
    "print(df)"
   ]
  },
  {
   "cell_type": "markdown",
   "metadata": {},
   "source": [
    "New Lecture Monday 10/2/25"
   ]
  },
  {
   "cell_type": "code",
   "execution_count": 88,
   "metadata": {},
   "outputs": [
    {
     "name": "stdout",
     "output_type": "stream",
     "text": [
      "------------------------------\n",
      " value at Row1 column3:\n",
      "      names  marks1  marks2\n",
      "1   Ahmed      57      78\n",
      "2   Seema      43      85\n",
      "3  Fatima      67      97\n"
     ]
    }
   ],
   "source": [
    "# iloc is used to find the exact location od the required data\n",
    "# iloc ----> integer location\n",
    "# it also accept row index and colunm\n",
    "# iloc only accept integer based index\n",
    "\n",
    "# print(df.iloc[1])\n",
    "print('-'*30)\n",
    "print(\" value at Row1 column3:\\n \",df.iloc[1:,:])"
   ]
  },
  {
   "cell_type": "code",
   "execution_count": 90,
   "metadata": {},
   "outputs": [
    {
     "name": "stdout",
     "output_type": "stream",
     "text": [
      "    names  marks1  marks2\n",
      "0    Sara      64      76\n",
      "1   Ahmed      57      78\n",
      "2   Seema      43      85\n",
      "3  Fatima      67      97\n"
     ]
    }
   ],
   "source": [
    "print(df.iloc[:4]) #----> accessing multiple vlues"
   ]
  },
  {
   "cell_type": "code",
   "execution_count": 94,
   "metadata": {},
   "outputs": [
    {
     "name": "stdout",
     "output_type": "stream",
     "text": [
      "    names  marks1  marks2\n",
      "0    Sara      64      76\n",
      "1   Ahmed      57      78\n",
      "2   Seema      43      85\n",
      "3  Fatima      67      97\n",
      "\n",
      "    names  marks1  marks2\n",
      "1   Ahmed      57      78\n",
      "2   Seema      43      85\n",
      "3  Fatima      67      97\n"
     ]
    }
   ],
   "source": [
    "print(df)\n",
    "print()\n",
    "print(df.iloc[1:4,0:4])"
   ]
  },
  {
   "cell_type": "code",
   "execution_count": 104,
   "metadata": {},
   "outputs": [
    {
     "name": "stdout",
     "output_type": "stream",
     "text": [
      "   marks1\n",
      "0      64\n",
      "1      57\n",
      "----------------\n",
      "0    64\n",
      "1    57\n",
      "Name: marks1, dtype: int64\n"
     ]
    }
   ],
   "source": [
    "print(df.iloc[0:2, [1]]) \n",
    "print(\"----------------\")\n",
    "print(df.iloc[0:2, 1]) "
   ]
  },
  {
   "cell_type": "code",
   "execution_count": 97,
   "metadata": {},
   "outputs": [
    {
     "name": "stdout",
     "output_type": "stream",
     "text": [
      "   marks2\n",
      "0      76\n",
      "1      78\n",
      "2      85\n",
      "3      97\n"
     ]
    }
   ],
   "source": [
    "print(df.iloc[:,[-1]])"
   ]
  },
  {
   "cell_type": "code",
   "execution_count": 106,
   "metadata": {},
   "outputs": [],
   "source": [
    "# filtered=df[df['Age']>30]"
   ]
  },
  {
   "cell_type": "code",
   "execution_count": null,
   "metadata": {},
   "outputs": [],
   "source": [
    "# print(filtered.iloc[:2])"
   ]
  },
  {
   "cell_type": "code",
   "execution_count": 113,
   "metadata": {},
   "outputs": [
    {
     "name": "stdout",
     "output_type": "stream",
     "text": [
      "    names  marks1  marks2\n",
      "0    Sara      64      76\n",
      "1   Ahmed      57      78\n",
      "2   Seema      43      85\n",
      "3  Fatima      67      97\n",
      "\n",
      "    names  marks1  marks2  Age      ph#no\n",
      "A    Sara      64      76   23  145565778\n",
      "B   Ahmed      57      78   12  452566778\n",
      "C   Seema      43      85   43  987565443\n",
      "D  Fatima      67      97   33  233567788\n",
      "\n",
      "names          Sara\n",
      "marks1           64\n",
      "marks2           76\n",
      "Age              23\n",
      "ph#no     145565778\n",
      "Name: A, dtype: object\n"
     ]
    }
   ],
   "source": [
    "print(df)\n",
    "df1=pd.DataFrame(mydata, index=[\"A\",\"B\",\"C\",\"D\"])\n",
    "print()\n",
    "print(df1)\n",
    "print()\n",
    "print(df1.loc['A'])"
   ]
  },
  {
   "cell_type": "code",
   "execution_count": 114,
   "metadata": {},
   "outputs": [
    {
     "name": "stdout",
     "output_type": "stream",
     "text": [
      "    names  marks1  marks2  Age      ph#no\n",
      "A    Sara      64      76   23  145565778\n",
      "D  Fatima      67      97   33  233567788\n"
     ]
    }
   ],
   "source": [
    "print(df1.loc[['A','D']])   #----> multiple aalues are accessible in loc using labeled index\n"
   ]
  },
  {
   "cell_type": "code",
   "execution_count": 115,
   "metadata": {},
   "outputs": [
    {
     "name": "stdout",
     "output_type": "stream",
     "text": [
      "   names  Age\n",
      "A   Sara   23\n",
      "B  Ahmed   12\n"
     ]
    }
   ],
   "source": [
    "print(df1.loc[['A','B'],['names','Age']])"
   ]
  },
  {
   "cell_type": "code",
   "execution_count": 125,
   "metadata": {},
   "outputs": [
    {
     "name": "stdout",
     "output_type": "stream",
     "text": [
      "    names\n",
      "A    Sara\n",
      "B   Ahmed\n",
      "C   Seema\n",
      "D  Fatima\n"
     ]
    }
   ],
   "source": [
    "\n",
    "print(df1.loc[:,['names']])\n"
   ]
  },
  {
   "cell_type": "code",
   "execution_count": 126,
   "metadata": {},
   "outputs": [],
   "source": [
    "data={\n",
    "    'name':['Ahmed','Sana','Sohail','Rida'],\n",
    "    'Age':[32,23,34,45],\n",
    "    'marks':[34,45,64,67],\n",
    "    'Weight':[30,34,45,32]\n",
    "}"
   ]
  },
  {
   "cell_type": "code",
   "execution_count": 128,
   "metadata": {},
   "outputs": [
    {
     "name": "stdout",
     "output_type": "stream",
     "text": [
      "     name  Age  marks  Weight\n",
      "0   Ahmed   32     34      30\n",
      "1    Sana   23     45      34\n",
      "2  Sohail   34     64      45\n",
      "3    Rida   45     67      32\n",
      "\n",
      "     name  Age  marks  Weight\n",
      "2  Sohail   34     64      45\n",
      "3    Rida   45     67      32\n",
      "\n",
      "Weight    45\n",
      "Name: 2, dtype: object\n"
     ]
    }
   ],
   "source": [
    "df=pd.DataFrame(data)\n",
    "print(df)\n",
    "print()\n",
    "print(df.iloc[2:])\n",
    "print()\n",
    "print(df.iloc[2,[3]])"
   ]
  },
  {
   "cell_type": "code",
   "execution_count": 129,
   "metadata": {},
   "outputs": [
    {
     "name": "stdout",
     "output_type": "stream",
     "text": [
      "0    32\n",
      "1    23\n",
      "2    34\n",
      "3    45\n",
      "Name: Age, dtype: int64\n",
      "<class 'pandas.core.series.Series'>\n",
      "---------------------------\n",
      "     name  Age  marks  Weight\n",
      "0   Ahmed   32     34      30\n",
      "1    Sana   23     45      34\n",
      "2  Sohail   34     64      45\n",
      "3    Rida   45     67      32\n",
      "<class 'pandas.core.frame.DataFrame'>\n"
     ]
    }
   ],
   "source": [
    "\n",
    "import pandas as pd\n",
    "x=df.iloc[:,1]\n",
    "print(x)\n",
    "print(type(x))  #----> series\n",
    "print(\"---------------------------\")\n",
    "x=df.iloc[:,:4]\n",
    "print(x)\n",
    "print(type(x))#-------> Dataframes"
   ]
  },
  {
   "cell_type": "code",
   "execution_count": 130,
   "metadata": {},
   "outputs": [
    {
     "name": "stdout",
     "output_type": "stream",
     "text": [
      "      Date_reported Country_code      Country WHO_region  New_cases  \\\n",
      "0        05/01/2020           AF  Afghanistan       EMRO        NaN   \n",
      "1        12/01/2020           AF  Afghanistan       EMRO        NaN   \n",
      "2        19/01/2020           AF  Afghanistan       EMRO        NaN   \n",
      "3        26/01/2020           AF  Afghanistan       EMRO        NaN   \n",
      "4        02/02/2020           AF  Afghanistan       EMRO        NaN   \n",
      "...             ...          ...          ...        ...        ...   \n",
      "57835    14/07/2024           ZW     Zimbabwe       AFRO        NaN   \n",
      "57836    21/07/2024           ZW     Zimbabwe       AFRO        1.0   \n",
      "57837    28/07/2024           ZW     Zimbabwe       AFRO        NaN   \n",
      "57838    04/08/2024           ZW     Zimbabwe       AFRO        NaN   \n",
      "57839    11/08/2024           ZW     Zimbabwe       AFRO        NaN   \n",
      "\n",
      "       Cumulative_cases  New_deaths Cumulative_deaths,  \n",
      "0                     0         NaN                 0,  \n",
      "1                     0         NaN                 0,  \n",
      "2                     0         NaN                 0,  \n",
      "3                     0         NaN                 0,  \n",
      "4                     0         NaN                 0,  \n",
      "...                 ...         ...                ...  \n",
      "57835            266385         NaN              5740,  \n",
      "57836            266386         NaN              5740,  \n",
      "57837            266386         NaN              5740,  \n",
      "57838            266386         NaN              5740,  \n",
      "57839            266386         NaN              5740,  \n",
      "\n",
      "[57840 rows x 8 columns]\n"
     ]
    }
   ],
   "source": [
    "#----> read datafrom csv \n",
    "\n",
    "path='WHO-COVID-19-global-data.csv'\n",
    "covid_data=pd.read_csv(path,sep=';')\n",
    "print(covid_data)"
   ]
  },
  {
   "cell_type": "code",
   "execution_count": null,
   "metadata": {},
   "outputs": [
    {
     "name": "stdout",
     "output_type": "stream",
     "text": [
      "<class 'pandas.core.frame.DataFrame'>\n"
     ]
    }
   ],
   "source": [
    "print(type(covid_data))"
   ]
  },
  {
   "cell_type": "code",
   "execution_count": null,
   "metadata": {},
   "outputs": [
    {
     "data": {
      "text/html": [
       "<div>\n",
       "<style scoped>\n",
       "    .dataframe tbody tr th:only-of-type {\n",
       "        vertical-align: middle;\n",
       "    }\n",
       "\n",
       "    .dataframe tbody tr th {\n",
       "        vertical-align: top;\n",
       "    }\n",
       "\n",
       "    .dataframe thead th {\n",
       "        text-align: right;\n",
       "    }\n",
       "</style>\n",
       "<table border=\"1\" class=\"dataframe\">\n",
       "  <thead>\n",
       "    <tr style=\"text-align: right;\">\n",
       "      <th></th>\n",
       "      <th>Date_reported</th>\n",
       "      <th>Country_code</th>\n",
       "      <th>Country</th>\n",
       "      <th>WHO_region</th>\n",
       "      <th>New_cases</th>\n",
       "      <th>Cumulative_cases</th>\n",
       "      <th>New_deaths</th>\n",
       "      <th>Cumulative_deaths,</th>\n",
       "    </tr>\n",
       "  </thead>\n",
       "  <tbody>\n",
       "    <tr>\n",
       "      <th>0</th>\n",
       "      <td>05/01/2020</td>\n",
       "      <td>AF</td>\n",
       "      <td>Afghanistan</td>\n",
       "      <td>EMRO</td>\n",
       "      <td>NaN</td>\n",
       "      <td>0</td>\n",
       "      <td>NaN</td>\n",
       "      <td>0,</td>\n",
       "    </tr>\n",
       "    <tr>\n",
       "      <th>1</th>\n",
       "      <td>12/01/2020</td>\n",
       "      <td>AF</td>\n",
       "      <td>Afghanistan</td>\n",
       "      <td>EMRO</td>\n",
       "      <td>NaN</td>\n",
       "      <td>0</td>\n",
       "      <td>NaN</td>\n",
       "      <td>0,</td>\n",
       "    </tr>\n",
       "    <tr>\n",
       "      <th>2</th>\n",
       "      <td>19/01/2020</td>\n",
       "      <td>AF</td>\n",
       "      <td>Afghanistan</td>\n",
       "      <td>EMRO</td>\n",
       "      <td>NaN</td>\n",
       "      <td>0</td>\n",
       "      <td>NaN</td>\n",
       "      <td>0,</td>\n",
       "    </tr>\n",
       "    <tr>\n",
       "      <th>3</th>\n",
       "      <td>26/01/2020</td>\n",
       "      <td>AF</td>\n",
       "      <td>Afghanistan</td>\n",
       "      <td>EMRO</td>\n",
       "      <td>NaN</td>\n",
       "      <td>0</td>\n",
       "      <td>NaN</td>\n",
       "      <td>0,</td>\n",
       "    </tr>\n",
       "    <tr>\n",
       "      <th>4</th>\n",
       "      <td>02/02/2020</td>\n",
       "      <td>AF</td>\n",
       "      <td>Afghanistan</td>\n",
       "      <td>EMRO</td>\n",
       "      <td>NaN</td>\n",
       "      <td>0</td>\n",
       "      <td>NaN</td>\n",
       "      <td>0,</td>\n",
       "    </tr>\n",
       "    <tr>\n",
       "      <th>...</th>\n",
       "      <td>...</td>\n",
       "      <td>...</td>\n",
       "      <td>...</td>\n",
       "      <td>...</td>\n",
       "      <td>...</td>\n",
       "      <td>...</td>\n",
       "      <td>...</td>\n",
       "      <td>...</td>\n",
       "    </tr>\n",
       "    <tr>\n",
       "      <th>57835</th>\n",
       "      <td>14/07/2024</td>\n",
       "      <td>ZW</td>\n",
       "      <td>Zimbabwe</td>\n",
       "      <td>AFRO</td>\n",
       "      <td>NaN</td>\n",
       "      <td>266385</td>\n",
       "      <td>NaN</td>\n",
       "      <td>5740,</td>\n",
       "    </tr>\n",
       "    <tr>\n",
       "      <th>57836</th>\n",
       "      <td>21/07/2024</td>\n",
       "      <td>ZW</td>\n",
       "      <td>Zimbabwe</td>\n",
       "      <td>AFRO</td>\n",
       "      <td>1.0</td>\n",
       "      <td>266386</td>\n",
       "      <td>NaN</td>\n",
       "      <td>5740,</td>\n",
       "    </tr>\n",
       "    <tr>\n",
       "      <th>57837</th>\n",
       "      <td>28/07/2024</td>\n",
       "      <td>ZW</td>\n",
       "      <td>Zimbabwe</td>\n",
       "      <td>AFRO</td>\n",
       "      <td>NaN</td>\n",
       "      <td>266386</td>\n",
       "      <td>NaN</td>\n",
       "      <td>5740,</td>\n",
       "    </tr>\n",
       "    <tr>\n",
       "      <th>57838</th>\n",
       "      <td>04/08/2024</td>\n",
       "      <td>ZW</td>\n",
       "      <td>Zimbabwe</td>\n",
       "      <td>AFRO</td>\n",
       "      <td>NaN</td>\n",
       "      <td>266386</td>\n",
       "      <td>NaN</td>\n",
       "      <td>5740,</td>\n",
       "    </tr>\n",
       "    <tr>\n",
       "      <th>57839</th>\n",
       "      <td>11/08/2024</td>\n",
       "      <td>ZW</td>\n",
       "      <td>Zimbabwe</td>\n",
       "      <td>AFRO</td>\n",
       "      <td>NaN</td>\n",
       "      <td>266386</td>\n",
       "      <td>NaN</td>\n",
       "      <td>5740,</td>\n",
       "    </tr>\n",
       "  </tbody>\n",
       "</table>\n",
       "<p>57840 rows × 8 columns</p>\n",
       "</div>"
      ],
      "text/plain": [
       "      Date_reported Country_code      Country WHO_region  New_cases  \\\n",
       "0        05/01/2020           AF  Afghanistan       EMRO        NaN   \n",
       "1        12/01/2020           AF  Afghanistan       EMRO        NaN   \n",
       "2        19/01/2020           AF  Afghanistan       EMRO        NaN   \n",
       "3        26/01/2020           AF  Afghanistan       EMRO        NaN   \n",
       "4        02/02/2020           AF  Afghanistan       EMRO        NaN   \n",
       "...             ...          ...          ...        ...        ...   \n",
       "57835    14/07/2024           ZW     Zimbabwe       AFRO        NaN   \n",
       "57836    21/07/2024           ZW     Zimbabwe       AFRO        1.0   \n",
       "57837    28/07/2024           ZW     Zimbabwe       AFRO        NaN   \n",
       "57838    04/08/2024           ZW     Zimbabwe       AFRO        NaN   \n",
       "57839    11/08/2024           ZW     Zimbabwe       AFRO        NaN   \n",
       "\n",
       "       Cumulative_cases  New_deaths Cumulative_deaths,  \n",
       "0                     0         NaN                 0,  \n",
       "1                     0         NaN                 0,  \n",
       "2                     0         NaN                 0,  \n",
       "3                     0         NaN                 0,  \n",
       "4                     0         NaN                 0,  \n",
       "...                 ...         ...                ...  \n",
       "57835            266385         NaN              5740,  \n",
       "57836            266386         NaN              5740,  \n",
       "57837            266386         NaN              5740,  \n",
       "57838            266386         NaN              5740,  \n",
       "57839            266386         NaN              5740,  \n",
       "\n",
       "[57840 rows x 8 columns]"
      ]
     },
     "metadata": {},
     "output_type": "display_data"
    },
    {
     "data": {
      "text/html": [
       "<div>\n",
       "<style scoped>\n",
       "    .dataframe tbody tr th:only-of-type {\n",
       "        vertical-align: middle;\n",
       "    }\n",
       "\n",
       "    .dataframe tbody tr th {\n",
       "        vertical-align: top;\n",
       "    }\n",
       "\n",
       "    .dataframe thead th {\n",
       "        text-align: right;\n",
       "    }\n",
       "</style>\n",
       "<table border=\"1\" class=\"dataframe\">\n",
       "  <thead>\n",
       "    <tr style=\"text-align: right;\">\n",
       "      <th></th>\n",
       "      <th>Date_reported</th>\n",
       "      <th>Country_code</th>\n",
       "      <th>Country</th>\n",
       "      <th>WHO_region</th>\n",
       "      <th>New_cases</th>\n",
       "      <th>Cumulative_cases</th>\n",
       "      <th>New_deaths</th>\n",
       "      <th>Cumulative_deaths,</th>\n",
       "    </tr>\n",
       "  </thead>\n",
       "  <tbody>\n",
       "    <tr>\n",
       "      <th>0</th>\n",
       "      <td>05/01/2020</td>\n",
       "      <td>AF</td>\n",
       "      <td>Afghanistan</td>\n",
       "      <td>EMRO</td>\n",
       "      <td>NaN</td>\n",
       "      <td>0</td>\n",
       "      <td>NaN</td>\n",
       "      <td>0,</td>\n",
       "    </tr>\n",
       "    <tr>\n",
       "      <th>1</th>\n",
       "      <td>12/01/2020</td>\n",
       "      <td>AF</td>\n",
       "      <td>Afghanistan</td>\n",
       "      <td>EMRO</td>\n",
       "      <td>NaN</td>\n",
       "      <td>0</td>\n",
       "      <td>NaN</td>\n",
       "      <td>0,</td>\n",
       "    </tr>\n",
       "    <tr>\n",
       "      <th>2</th>\n",
       "      <td>19/01/2020</td>\n",
       "      <td>AF</td>\n",
       "      <td>Afghanistan</td>\n",
       "      <td>EMRO</td>\n",
       "      <td>NaN</td>\n",
       "      <td>0</td>\n",
       "      <td>NaN</td>\n",
       "      <td>0,</td>\n",
       "    </tr>\n",
       "    <tr>\n",
       "      <th>3</th>\n",
       "      <td>26/01/2020</td>\n",
       "      <td>AF</td>\n",
       "      <td>Afghanistan</td>\n",
       "      <td>EMRO</td>\n",
       "      <td>NaN</td>\n",
       "      <td>0</td>\n",
       "      <td>NaN</td>\n",
       "      <td>0,</td>\n",
       "    </tr>\n",
       "    <tr>\n",
       "      <th>4</th>\n",
       "      <td>02/02/2020</td>\n",
       "      <td>AF</td>\n",
       "      <td>Afghanistan</td>\n",
       "      <td>EMRO</td>\n",
       "      <td>NaN</td>\n",
       "      <td>0</td>\n",
       "      <td>NaN</td>\n",
       "      <td>0,</td>\n",
       "    </tr>\n",
       "    <tr>\n",
       "      <th>...</th>\n",
       "      <td>...</td>\n",
       "      <td>...</td>\n",
       "      <td>...</td>\n",
       "      <td>...</td>\n",
       "      <td>...</td>\n",
       "      <td>...</td>\n",
       "      <td>...</td>\n",
       "      <td>...</td>\n",
       "    </tr>\n",
       "    <tr>\n",
       "      <th>57835</th>\n",
       "      <td>14/07/2024</td>\n",
       "      <td>ZW</td>\n",
       "      <td>Zimbabwe</td>\n",
       "      <td>AFRO</td>\n",
       "      <td>NaN</td>\n",
       "      <td>266385</td>\n",
       "      <td>NaN</td>\n",
       "      <td>5740,</td>\n",
       "    </tr>\n",
       "    <tr>\n",
       "      <th>57836</th>\n",
       "      <td>21/07/2024</td>\n",
       "      <td>ZW</td>\n",
       "      <td>Zimbabwe</td>\n",
       "      <td>AFRO</td>\n",
       "      <td>1.0</td>\n",
       "      <td>266386</td>\n",
       "      <td>NaN</td>\n",
       "      <td>5740,</td>\n",
       "    </tr>\n",
       "    <tr>\n",
       "      <th>57837</th>\n",
       "      <td>28/07/2024</td>\n",
       "      <td>ZW</td>\n",
       "      <td>Zimbabwe</td>\n",
       "      <td>AFRO</td>\n",
       "      <td>NaN</td>\n",
       "      <td>266386</td>\n",
       "      <td>NaN</td>\n",
       "      <td>5740,</td>\n",
       "    </tr>\n",
       "    <tr>\n",
       "      <th>57838</th>\n",
       "      <td>04/08/2024</td>\n",
       "      <td>ZW</td>\n",
       "      <td>Zimbabwe</td>\n",
       "      <td>AFRO</td>\n",
       "      <td>NaN</td>\n",
       "      <td>266386</td>\n",
       "      <td>NaN</td>\n",
       "      <td>5740,</td>\n",
       "    </tr>\n",
       "    <tr>\n",
       "      <th>57839</th>\n",
       "      <td>11/08/2024</td>\n",
       "      <td>ZW</td>\n",
       "      <td>Zimbabwe</td>\n",
       "      <td>AFRO</td>\n",
       "      <td>NaN</td>\n",
       "      <td>266386</td>\n",
       "      <td>NaN</td>\n",
       "      <td>5740,</td>\n",
       "    </tr>\n",
       "  </tbody>\n",
       "</table>\n",
       "<p>57840 rows × 8 columns</p>\n",
       "</div>"
      ],
      "text/plain": [
       "      Date_reported Country_code      Country WHO_region  New_cases  \\\n",
       "0        05/01/2020           AF  Afghanistan       EMRO        NaN   \n",
       "1        12/01/2020           AF  Afghanistan       EMRO        NaN   \n",
       "2        19/01/2020           AF  Afghanistan       EMRO        NaN   \n",
       "3        26/01/2020           AF  Afghanistan       EMRO        NaN   \n",
       "4        02/02/2020           AF  Afghanistan       EMRO        NaN   \n",
       "...             ...          ...          ...        ...        ...   \n",
       "57835    14/07/2024           ZW     Zimbabwe       AFRO        NaN   \n",
       "57836    21/07/2024           ZW     Zimbabwe       AFRO        1.0   \n",
       "57837    28/07/2024           ZW     Zimbabwe       AFRO        NaN   \n",
       "57838    04/08/2024           ZW     Zimbabwe       AFRO        NaN   \n",
       "57839    11/08/2024           ZW     Zimbabwe       AFRO        NaN   \n",
       "\n",
       "       Cumulative_cases  New_deaths Cumulative_deaths,  \n",
       "0                     0         NaN                 0,  \n",
       "1                     0         NaN                 0,  \n",
       "2                     0         NaN                 0,  \n",
       "3                     0         NaN                 0,  \n",
       "4                     0         NaN                 0,  \n",
       "...                 ...         ...                ...  \n",
       "57835            266385         NaN              5740,  \n",
       "57836            266386         NaN              5740,  \n",
       "57837            266386         NaN              5740,  \n",
       "57838            266386         NaN              5740,  \n",
       "57839            266386         NaN              5740,  \n",
       "\n",
       "[57840 rows x 8 columns]"
      ]
     },
     "execution_count": 134,
     "metadata": {},
     "output_type": "execute_result"
    }
   ],
   "source": [
    "# display(covid_data)\n",
    "covid_data"
   ]
  },
  {
   "cell_type": "code",
   "execution_count": 137,
   "metadata": {},
   "outputs": [
    {
     "name": "stdout",
     "output_type": "stream",
     "text": [
      "  Date_reported Country_code      Country WHO_region  New_cases  Cumulative_cases  New_deaths Cumulative_deaths,\n",
      "0    05/01/2020           AF  Afghanistan       EMRO        NaN                 0         NaN                 0,\n",
      "1    12/01/2020           AF  Afghanistan       EMRO        NaN                 0         NaN                 0,\n",
      "2    19/01/2020           AF  Afghanistan       EMRO        NaN                 0         NaN                 0,\n",
      "3    26/01/2020           AF  Afghanistan       EMRO        NaN                 0         NaN                 0,\n",
      "4    02/02/2020           AF  Afghanistan       EMRO        NaN                 0         NaN                 0,\n"
     ]
    }
   ],
   "source": [
    "# .head() will print  first 5 rows of the data\n",
    "print(covid_data.head().to_string())\n",
    "# display(covid_data.head())"
   ]
  },
  {
   "cell_type": "code",
   "execution_count": 138,
   "metadata": {},
   "outputs": [
    {
     "name": "stdout",
     "output_type": "stream",
     "text": [
      "  Date_reported Country_code      Country WHO_region  New_cases  Cumulative_cases  New_deaths Cumulative_deaths,\n",
      "0    05/01/2020           AF  Afghanistan       EMRO        NaN                 0         NaN                 0,\n",
      "----------------------------------------------------------------------------------------------------\n",
      "      Date_reported Country_code   Country WHO_region  New_cases  Cumulative_cases  New_deaths Cumulative_deaths,\n",
      "57839    11/08/2024           ZW  Zimbabwe       AFRO        NaN            266386         NaN              5740,\n",
      "----------------------------------------------------------------------------------------------------\n"
     ]
    }
   ],
   "source": [
    "# .head(1)  this wll print the first row of index 1 from the data\n",
    "\n",
    "print(covid_data.head(1).to_string())\n",
    "print('-'*100)\n",
    "\n",
    "# .head(1)  this wll print the last row of index 1 from the data\n",
    "print(covid_data.tail(1).to_string())\n",
    "print('-'*100)"
   ]
  },
  {
   "cell_type": "code",
   "execution_count": 139,
   "metadata": {},
   "outputs": [
    {
     "name": "stdout",
     "output_type": "stream",
     "text": [
      "(57840, 8)\n"
     ]
    }
   ],
   "source": [
    "print(covid_data.shape)  #--> print number of rows and columns"
   ]
  },
  {
   "cell_type": "code",
   "execution_count": null,
   "metadata": {},
   "outputs": [
    {
     "name": "stdout",
     "output_type": "stream",
     "text": [
      "10\n",
      "  Date_reported Country_code      Country WHO_region  New_cases  \\\n",
      "0    05/01/2020           AF  Afghanistan       EMRO        NaN   \n",
      "1    12/01/2020           AF  Afghanistan       EMRO        NaN   \n",
      "2    19/01/2020           AF  Afghanistan       EMRO        NaN   \n",
      "3    26/01/2020           AF  Afghanistan       EMRO        NaN   \n",
      "4    02/02/2020           AF  Afghanistan       EMRO        NaN   \n",
      "5    09/02/2020           AF  Afghanistan       EMRO        NaN   \n",
      "6    16/02/2020           AF  Afghanistan       EMRO        NaN   \n",
      "7    23/02/2020           AF  Afghanistan       EMRO        NaN   \n",
      "8    01/03/2020           AF  Afghanistan       EMRO        1.0   \n",
      "9    08/03/2020           AF  Afghanistan       EMRO        NaN   \n",
      "\n",
      "   Cumulative_cases  New_deaths Cumulative_deaths,  \n",
      "0                 0         NaN                 0,  \n",
      "1                 0         NaN                 0,  \n",
      "2                 0         NaN                 0,  \n",
      "3                 0         NaN                 0,  \n",
      "4                 0         NaN                 0,  \n",
      "5                 0         NaN                 0,  \n",
      "6                 0         NaN                 0,  \n",
      "7                 0         NaN                 0,  \n",
      "8                 1         NaN                 0,  \n",
      "9                 1         NaN                 0,  \n"
     ]
    }
   ],
   "source": [
    "x=pd.options.display.max_rows=10\n",
    "print(x)  \n",
    "# print(covid_data.to_string())\n",
    "# print(covid_data.head(x))"
   ]
  },
  {
   "cell_type": "code",
   "execution_count": null,
   "metadata": {},
   "outputs": [
    {
     "name": "stdout",
     "output_type": "stream",
     "text": [
      "  Date_reported Country_code      Country WHO_region  New_cases  Cumulative_cases  New_deaths Cumulative_deaths,\n",
      "0    05/01/2020           AF  Afghanistan       EMRO        NaN                 0         NaN                 0,\n",
      "1    12/01/2020           AF  Afghanistan       EMRO        NaN                 0         NaN                 0,\n",
      "2    19/01/2020           AF  Afghanistan       EMRO        NaN                 0         NaN                 0,\n",
      "3    26/01/2020           AF  Afghanistan       EMRO        NaN                 0         NaN                 0,\n",
      "4    02/02/2020           AF  Afghanistan       EMRO        NaN                 0         NaN                 0,\n"
     ]
    }
   ],
   "source": [
    "print(covid_data.head().to_string())"
   ]
  },
  {
   "cell_type": "code",
   "execution_count": null,
   "metadata": {},
   "outputs": [
    {
     "name": "stdout",
     "output_type": "stream",
     "text": [
      "Index(['Date_reported', 'Country_code', 'Country', 'WHO_region', 'New_cases',\n",
      "       'Cumulative_cases', 'New_deaths', 'Cumulative_deaths,'],\n",
      "      dtype='object')\n"
     ]
    }
   ],
   "source": [
    "print(covid_data.columns)"
   ]
  },
  {
   "cell_type": "code",
   "execution_count": 142,
   "metadata": {},
   "outputs": [
    {
     "name": "stdout",
     "output_type": "stream",
     "text": [
      "     Country Date_reported  Cumulative_cases Cumulative_deaths,\n",
      "500  Algeria    10/05/2020              5558               491,\n",
      "501  Algeria    17/05/2020              6821               539,\n",
      "502  Algeria    24/05/2020              8113               589,\n",
      "503  Algeria    31/05/2020              9267               643,\n",
      "504  Algeria    07/06/2020             10050               695,\n"
     ]
    }
   ],
   "source": [
    "columns=covid_data.loc[500:1000, ['Country','Date_reported','Cumulative_cases', 'Cumulative_deaths,']]\n",
    "\n",
    "print(columns.head())\n",
    "# print(columns.head().to_string())"
   ]
  },
  {
   "cell_type": "code",
   "execution_count": 145,
   "metadata": {},
   "outputs": [
    {
     "name": "stdout",
     "output_type": "stream",
     "text": [
      "   Date_reported Country_code      Country WHO_region  New_cases  Cumulative_cases  New_deaths Cumulative_deaths,\n",
      "21    31/05/2020           AF  Afghanistan       EMRO     4577.0             14443        37.0               248,\n",
      "22    07/06/2020           AF  Afghanistan       EMRO     5108.0             19551        79.0               327,\n",
      "23    14/06/2020           AF  Afghanistan       EMRO     4551.0             24102       124.0               451,\n",
      "24    21/06/2020           AF  Afghanistan       EMRO     4195.0             28297        97.0               548,\n",
      "25    28/06/2020           AF  Afghanistan       EMRO     2319.0             30616       155.0               703,\n"
     ]
    }
   ],
   "source": [
    "filtered=covid_data[covid_data['Cumulative_cases']>10000]\n",
    "print(filtered.head().to_string())"
   ]
  },
  {
   "cell_type": "code",
   "execution_count": null,
   "metadata": {},
   "outputs": [
    {
     "name": "stdout",
     "output_type": "stream",
     "text": [
      "                               Country  Cumulative_cases Cumulative_deaths,\n",
      "1021                           Andorra             10206               105,\n",
      "2065                         Argentina           9658391            129646,\n",
      "2682                         Australia             20698               375,\n",
      "3220                        Azerbaijan            439562              5800,\n",
      "3809                           Bahrain            696614              1536,\n",
      "4436                           Belarus            638402              4932,\n",
      "4999                            Belize             70838               688,\n",
      "5825  Bolivia (Plurinational State of)            139562              8439,\n",
      "6478            Bosnia and Herzegovina            403565             16382,\n",
      "7373                 Brunei Darussalam            229665               133,\n",
      "8041                           Burundi             15377                12,\n",
      "8655                          Cambodia            139100              3056,\n",
      "9297                    Cayman Islands             30214                29,\n"
     ]
    }
   ],
   "source": [
    "columns=filtered.loc[1000:10000:500, ['Country','Cumulative_cases', 'Cumulative_deaths,']]\n",
    "print(columns.head(100).to_string())"
   ]
  },
  {
   "cell_type": "code",
   "execution_count": null,
   "metadata": {},
   "outputs": [
    {
     "name": "stdout",
     "output_type": "stream",
     "text": [
      "Albania\n",
      "Comoros\n",
      "Panama\n"
     ]
    }
   ],
   "source": [
    "# at / iat \n",
    "\n",
    "country_at_index=covid_data.at[333,'Country']\n",
    "print(country_at_index)\n",
    "country_at_index=covid_data.at[10640,'Country']\n",
    "print(country_at_index)\n",
    "country_at_index=covid_data.at[40040,'Country']\n",
    "print(country_at_index)"
   ]
  },
  {
   "cell_type": "markdown",
   "metadata": {},
   "source": [
    "New lecture Tuesday 10/2/25"
   ]
  },
  {
   "cell_type": "code",
   "execution_count": 146,
   "metadata": {},
   "outputs": [],
   "source": [
    "data1 = pd.DataFrame([['1993', 'Avi', 5, 41, 70, 'Bob'],  \n",
    "                   ['1994', 'Cathy', 10, 1, 22, 'Cathy'],  \n",
    "                   ['1995', 'Cathy', 24, 11, 44, 'Bob'],  \n",
    "                   ['1996', 'Bob', 2, 11, 10, 'Avi'],  \n",
    "                   ['1998', 'Avi', 20, 10, 40, 'Avi'], \n",
    "                   ['1999', 'Avi', 50, 8, 11, 'Cathy']], \n",
    "                  columns=('Patients', 'Name', 'Avi', 'Bob', 'Cathy', 'Aname'),index=[1,2,3,4,5,6]) "
   ]
  },
  {
   "cell_type": "code",
   "execution_count": null,
   "metadata": {},
   "outputs": [
    {
     "name": "stdout",
     "output_type": "stream",
     "text": [
      "  Patients   Name  Avi  Bob  Cathy  Aname\n",
      "1     1993    Avi    5   41     70    Bob\n",
      "2     1994  Cathy   10    1     22  Cathy\n",
      "3     1995  Cathy   24   11     44    Bob\n",
      "4     1996    Bob    2   11     10    Avi\n",
      "5     1998    Avi   20   10     40    Avi\n",
      "6     1999    Avi   50    8     11  Cathy\n"
     ]
    }
   ],
   "source": [
    "print(data1)"
   ]
  },
  {
   "cell_type": "code",
   "execution_count": 147,
   "metadata": {},
   "outputs": [],
   "source": [
    "  #----> the poped dta is stored in the variable\n",
    "  #----> pop only remove column from the original data\n",
    "  #----> the changes will be reflected in the orriginal data\n",
    "\n",
    "poped_item=data1.pop('Avi') "
   ]
  },
  {
   "cell_type": "code",
   "execution_count": 148,
   "metadata": {},
   "outputs": [
    {
     "name": "stdout",
     "output_type": "stream",
     "text": [
      "1     5\n",
      "2    10\n",
      "3    24\n",
      "4     2\n",
      "5    20\n",
      "6    50\n",
      "Name: Avi, dtype: int64\n"
     ]
    }
   ],
   "source": [
    "print(poped_item)\n"
   ]
  },
  {
   "cell_type": "code",
   "execution_count": 149,
   "metadata": {},
   "outputs": [
    {
     "name": "stdout",
     "output_type": "stream",
     "text": [
      "  Patients   Name  Bob  Cathy  Aname\n",
      "1     1993    Avi   41     70    Bob\n",
      "2     1994  Cathy    1     22  Cathy\n",
      "3     1995  Cathy   11     44    Bob\n",
      "4     1996    Bob   11     10    Avi\n",
      "5     1998    Avi   10     40    Avi\n",
      "6     1999    Avi    8     11  Cathy\n"
     ]
    }
   ],
   "source": [
    "print(data1)   #---dataframe after poped of column 'Avi"
   ]
  },
  {
   "cell_type": "code",
   "execution_count": 150,
   "metadata": {},
   "outputs": [],
   "source": [
    "data2 = pd.DataFrame([['1993', 'Avi', 5, 41, 70, 'Bob'],  \n",
    "                   ['1994', 'Cathy', 10, 1, 22, 'Cathy'],  \n",
    "                   ['1995', 'Cathy', 24, 11, 44, 'Bob'],  \n",
    "                   ['1996', 'Bob', 2, 11, 10, 'Avi'],  \n",
    "                   ['1998', 'Avi', 20, 10, 40, 'Avi'], \n",
    "                   ['1999', 'Avi', 50, 8, 11, 'Cathy']], \n",
    "                  columns=('Patients', 'Name', 'Avi', 'Bob', 'Cathy', 'Aname'),index=[1,2,3,4,5,6]) "
   ]
  },
  {
   "cell_type": "code",
   "execution_count": 151,
   "metadata": {},
   "outputs": [],
   "source": [
    "# .drop()  ---> this is used to drop row or column from the data\n",
    "# .drop() will not reflect the changes in original data untill  we use \" inplace=True \"\n",
    "# this will create a new dataframe in variable dropped item but will not effect the original data\n",
    "\n",
    "droped_item=data2.drop(columns=['Aname'])\n"
   ]
  },
  {
   "cell_type": "code",
   "execution_count": 152,
   "metadata": {},
   "outputs": [
    {
     "name": "stdout",
     "output_type": "stream",
     "text": [
      "Popped Data\n",
      "----------------------------------------\n",
      "  Patients   Name  Avi  Bob  Cathy\n",
      "1     1993    Avi    5   41     70\n",
      "2     1994  Cathy   10    1     22\n",
      "3     1995  Cathy   24   11     44\n",
      "4     1996    Bob    2   11     10\n",
      "5     1998    Avi   20   10     40\n",
      "6     1999    Avi   50    8     11\n",
      "----------------------------------------\n",
      "Original Data\n",
      "----------------------------------------\n",
      "  Patients   Name  Avi  Bob  Cathy  Aname\n",
      "1     1993    Avi    5   41     70    Bob\n",
      "2     1994  Cathy   10    1     22  Cathy\n",
      "3     1995  Cathy   24   11     44    Bob\n",
      "4     1996    Bob    2   11     10    Avi\n",
      "5     1998    Avi   20   10     40    Avi\n",
      "6     1999    Avi   50    8     11  Cathy\n"
     ]
    }
   ],
   "source": [
    "print(\"Popped Data\")\n",
    "print(\"-\"*40)\n",
    "print(droped_item)\n",
    "print(\"-\"*40)\n",
    "print(\"Original Data\")\n",
    "print(\"-\"*40)\n",
    "print(data2)"
   ]
  },
  {
   "cell_type": "code",
   "execution_count": null,
   "metadata": {},
   "outputs": [
    {
     "name": "stdout",
     "output_type": "stream",
     "text": [
      "  Patients   Name  Avi  Bob  Cathy  Aname\n",
      "2     1994  Cathy   10    1     22  Cathy\n",
      "3     1995  Cathy   24   11     44    Bob\n",
      "5     1998    Avi   20   10     40    Avi\n",
      "6     1999    Avi   50    8     11  Cathy\n",
      "----------------------------------------\n",
      "  Patients   Name  Avi  Bob  Cathy  Aname\n",
      "1     1993    Avi    5   41     70    Bob\n",
      "2     1994  Cathy   10    1     22  Cathy\n",
      "3     1995  Cathy   24   11     44    Bob\n",
      "4     1996    Bob    2   11     10    Avi\n",
      "5     1998    Avi   20   10     40    Avi\n",
      "6     1999    Avi   50    8     11  Cathy\n"
     ]
    }
   ],
   "source": [
    "dropped_data=data2.drop(index=[1,4])\n",
    "print(dropped_data)\n",
    "print(\"-\"*40)\n",
    "print(data2)"
   ]
  },
  {
   "cell_type": "code",
   "execution_count": 153,
   "metadata": {},
   "outputs": [
    {
     "name": "stdout",
     "output_type": "stream",
     "text": [
      "None\n"
     ]
    }
   ],
   "source": [
    "print(data2.drop(index=[1,5], inplace=True)) #----> it will not return\n",
    "# print(dropped_data)\n",
    "# print(\"-\"*40)\n"
   ]
  },
  {
   "cell_type": "code",
   "execution_count": 154,
   "metadata": {},
   "outputs": [
    {
     "name": "stdout",
     "output_type": "stream",
     "text": [
      "  Patients   Name  Avi  Bob  Cathy  Aname\n",
      "2     1994  Cathy   10    1     22  Cathy\n",
      "3     1995  Cathy   24   11     44    Bob\n",
      "4     1996    Bob    2   11     10    Avi\n",
      "6     1999    Avi   50    8     11  Cathy\n"
     ]
    }
   ],
   "source": [
    "print(data2)"
   ]
  },
  {
   "cell_type": "code",
   "execution_count": 155,
   "metadata": {},
   "outputs": [
    {
     "name": "stdout",
     "output_type": "stream",
     "text": [
      "2     1\n",
      "3    11\n",
      "4    11\n",
      "6     8\n",
      "Name: Bob, dtype: int64\n"
     ]
    }
   ],
   "source": [
    "print(data2.get('Bob'))"
   ]
  },
  {
   "cell_type": "code",
   "execution_count": 156,
   "metadata": {},
   "outputs": [
    {
     "name": "stdout",
     "output_type": "stream",
     "text": [
      "2    Cathy\n",
      "3    Cathy\n",
      "4      Bob\n",
      "6      Avi\n",
      "Name: Name, dtype: object\n"
     ]
    }
   ],
   "source": [
    "series=(data2['Name'])\n",
    "print(series)"
   ]
  },
  {
   "cell_type": "code",
   "execution_count": 157,
   "metadata": {},
   "outputs": [
    {
     "name": "stdout",
     "output_type": "stream",
     "text": [
      "a    Cathy\n",
      "b    Cathy\n",
      "c      Bob\n",
      "d      Avi\n",
      "dtype: object\n"
     ]
    }
   ],
   "source": [
    "x=pd.Series(data2['Name'].values, index=['a','b','c','d'])\n",
    "print(x)"
   ]
  },
  {
   "cell_type": "code",
   "execution_count": null,
   "metadata": {},
   "outputs": [
    {
     "name": "stdout",
     "output_type": "stream",
     "text": [
      "a    Cathy\n",
      "b    Cathy\n",
      "c      Bob\n",
      "d      Avi\n",
      "dtype: object\n",
      "--------------------------------------------------\n",
      "  Patients   Name  Avi  Bob  Cathy  Aname\n",
      "2     1994  Cathy   10    1     22  Cathy\n",
      "3     1995  Cathy   24   11     44    Bob\n",
      "4     1996    Bob    2   11     10    Avi\n",
      "6     1999    Avi   50    8     11  Cathy\n"
     ]
    }
   ],
   "source": [
    "x=pd.Series(data2['Name'].values, index=['a','b','c','d'])\n",
    "print(x)\n",
    "print(\"-\"*50)\n",
    "print(data2)"
   ]
  },
  {
   "cell_type": "code",
   "execution_count": 158,
   "metadata": {},
   "outputs": [
    {
     "name": "stdout",
     "output_type": "stream",
     "text": [
      "  Patients   Name  Avi  Bob  Cathy  Aname\n",
      "A     1994  Cathy   10    1     22  Cathy\n",
      "B     1995  Cathy   24   11     44    Bob\n",
      "C     1996    Bob    2   11     10    Avi\n",
      "D     1999    Avi   50    8     11  Cathy\n"
     ]
    }
   ],
   "source": [
    "new_data=pd.DataFrame(data2)\n",
    "new_data.index= ['A','B','C','D']\n",
    "print(new_data)"
   ]
  },
  {
   "cell_type": "code",
   "execution_count": 159,
   "metadata": {},
   "outputs": [
    {
     "name": "stdout",
     "output_type": "stream",
     "text": [
      "2    Cathy\n",
      "3      Bob\n",
      "4      Avi\n",
      "6    Cathy\n",
      "Name: Aname, dtype: object\n",
      "--------------------------------------------------\n",
      "A    False\n",
      "B    False\n",
      "C    False\n",
      "D    False\n",
      "Name: Bob, dtype: bool\n"
     ]
    }
   ],
   "source": [
    "print(data2.get('Aname'))\n",
    "print(\"-\"*50)\n",
    "print(new_data.get('Bob')>20)"
   ]
  },
  {
   "cell_type": "code",
   "execution_count": 162,
   "metadata": {},
   "outputs": [
    {
     "name": "stdout",
     "output_type": "stream",
     "text": [
      "--------------------------------------------------\n",
      "  Patients Name  Avi  Bob  Cathy  Aname\n",
      "D     1999  Avi   50    8     11  Cathy\n"
     ]
    }
   ],
   "source": [
    "print(\"-\"*50)\n",
    "print(new_data[new_data.get('Bob')%2==0])"
   ]
  },
  {
   "cell_type": "code",
   "execution_count": 163,
   "metadata": {},
   "outputs": [
    {
     "name": "stdout",
     "output_type": "stream",
     "text": [
      "    Name Patients  Aname\n",
      "A  Cathy     1994  Cathy\n",
      "B  Cathy     1995    Bob\n",
      "C    Bob     1996    Avi\n",
      "D    Avi     1999  Cathy\n",
      "--------------------------------------------------\n",
      "    Name Patients  Aname\n",
      "A  Cathy     1994  Cathy\n",
      "B  Cathy     1995    Bob\n",
      "C    Bob     1996    Avi\n"
     ]
    }
   ],
   "source": [
    "print(new_data.get(['Name','Patients','Aname']))\n",
    "print('-'*50)\n",
    "print(new_data.get(['Name','Patients','Aname']).head(3))"
   ]
  },
  {
   "cell_type": "code",
   "execution_count": 164,
   "metadata": {},
   "outputs": [
    {
     "name": "stdout",
     "output_type": "stream",
     "text": [
      "A    False\n",
      "B    False\n",
      "C    False\n",
      "D    False\n",
      "Name: Patients, dtype: bool\n",
      "--------------------------------------------------\n",
      "A     True\n",
      "B    False\n",
      "C    False\n",
      "D    False\n",
      "Name: Patients, dtype: bool\n",
      "--------------------------------------------------\n",
      "A     True\n",
      "B    False\n",
      "C    False\n",
      "D    False\n",
      "Name: Patients, dtype: bool\n",
      "--------------------------------------------------\n",
      "  Patients   Name  Avi  Bob  Cathy  Aname\n",
      "A     1994  Cathy   10    1     22  Cathy\n",
      "B     1995  Cathy   24   11     44    Bob\n",
      "C     1996    Bob    2   11     10    Avi\n",
      "D     1999    Avi   50    8     11  Cathy\n"
     ]
    }
   ],
   "source": [
    "print(new_data['Patients'].isin([1950]))\n",
    "print(\"-\"*50)\n",
    "print(new_data['Patients'].isin(['1994']))\n",
    "print(\"-\"*50)\n",
    "print(new_data['Patients'].astype(int).isin([1994]))\n",
    "print(\"-\"*50)\n",
    "print(new_data)"
   ]
  },
  {
   "cell_type": "code",
   "execution_count": 165,
   "metadata": {},
   "outputs": [
    {
     "name": "stdout",
     "output_type": "stream",
     "text": [
      "  Patients   Name  Avi  Bob  Cathy  Aname\n",
      "A     1994  Cathy   10    1     22  Cathy\n",
      "B     1995  Cathy   24   11     44    Bob\n",
      "C     1996    Bob    2   11     10    Avi\n",
      "D     1999    Avi   50    8     11  Cathy\n"
     ]
    }
   ],
   "source": [
    "f1=new_data [\"Name\"].isin ([\"Avi\", \"Bob\"])\n",
    "f3= new_data['Aname'].isin ([\"Cathy\", \"Bob\"])\n",
    "f2=new_data [\"Patients\"].isin ([\"1993\", \"1996\"])\n",
    "# f1 & f2\n",
    "data=new_data[f1 & f2 | f3]\n",
    "print(data)"
   ]
  },
  {
   "cell_type": "code",
   "execution_count": 166,
   "metadata": {},
   "outputs": [
    {
     "data": {
      "text/html": [
       "<div>\n",
       "<style scoped>\n",
       "    .dataframe tbody tr th:only-of-type {\n",
       "        vertical-align: middle;\n",
       "    }\n",
       "\n",
       "    .dataframe tbody tr th {\n",
       "        vertical-align: top;\n",
       "    }\n",
       "\n",
       "    .dataframe thead th {\n",
       "        text-align: right;\n",
       "    }\n",
       "</style>\n",
       "<table border=\"1\" class=\"dataframe\">\n",
       "  <thead>\n",
       "    <tr style=\"text-align: right;\">\n",
       "      <th></th>\n",
       "      <th>Patients</th>\n",
       "      <th>Name</th>\n",
       "      <th>Avi</th>\n",
       "      <th>Bob</th>\n",
       "      <th>Cathy</th>\n",
       "      <th>Aname</th>\n",
       "    </tr>\n",
       "  </thead>\n",
       "  <tbody>\n",
       "    <tr>\n",
       "      <th>4</th>\n",
       "      <td>1996</td>\n",
       "      <td>Bob</td>\n",
       "      <td>2</td>\n",
       "      <td>11</td>\n",
       "      <td>10</td>\n",
       "      <td>Avi</td>\n",
       "    </tr>\n",
       "    <tr>\n",
       "      <th>2</th>\n",
       "      <td>1994</td>\n",
       "      <td>Cathy</td>\n",
       "      <td>10</td>\n",
       "      <td>1</td>\n",
       "      <td>22</td>\n",
       "      <td>Cathy</td>\n",
       "    </tr>\n",
       "    <tr>\n",
       "      <th>3</th>\n",
       "      <td>1995</td>\n",
       "      <td>Cathy</td>\n",
       "      <td>24</td>\n",
       "      <td>11</td>\n",
       "      <td>44</td>\n",
       "      <td>Bob</td>\n",
       "    </tr>\n",
       "    <tr>\n",
       "      <th>6</th>\n",
       "      <td>1999</td>\n",
       "      <td>Avi</td>\n",
       "      <td>50</td>\n",
       "      <td>8</td>\n",
       "      <td>11</td>\n",
       "      <td>Cathy</td>\n",
       "    </tr>\n",
       "  </tbody>\n",
       "</table>\n",
       "</div>"
      ],
      "text/plain": [
       "  Patients   Name  Avi  Bob  Cathy  Aname\n",
       "4     1996    Bob    2   11     10    Avi\n",
       "2     1994  Cathy   10    1     22  Cathy\n",
       "3     1995  Cathy   24   11     44    Bob\n",
       "6     1999    Avi   50    8     11  Cathy"
      ]
     },
     "execution_count": 166,
     "metadata": {},
     "output_type": "execute_result"
    }
   ],
   "source": [
    "data2.sort_values('Avi')"
   ]
  },
  {
   "cell_type": "markdown",
   "metadata": {},
   "source": [
    "New Lecture Wednesday 12/2/25"
   ]
  },
  {
   "cell_type": "code",
   "execution_count": 170,
   "metadata": {},
   "outputs": [],
   "source": [
    "\n",
    "import pandas as pd\n",
    "data={\n",
    "    \"names\":[\"Sara\",\"Muhammad\",\"Rida\",\"sobia\",\"Saleem\",\"Ali\"],\n",
    "    \"Roll_no\":[1202,1203,1204,1205,1206,1207],\n",
    "    \"Age\":[23,24,22,26,20,28],\n",
    "    \"Domain\":[\"CS\",\"SE\",\"IT\",\"Phy\",\"AI\",\"CS\"]\n",
    "}"
   ]
  },
  {
   "cell_type": "code",
   "execution_count": 171,
   "metadata": {},
   "outputs": [
    {
     "name": "stdout",
     "output_type": "stream",
     "text": [
      "      names  Roll_no  Age Domain\n",
      "0      Sara     1202   23     CS\n",
      "1  Muhammad     1203   24     SE\n",
      "2      Rida     1204   22     IT\n",
      "3     sobia     1205   26    Phy\n",
      "4    Saleem     1206   20     AI\n",
      "5       Ali     1207   28     CS\n"
     ]
    }
   ],
   "source": [
    "df=pd.DataFrame(data)\n",
    "print(df)"
   ]
  },
  {
   "cell_type": "code",
   "execution_count": 172,
   "metadata": {},
   "outputs": [
    {
     "data": {
      "text/plain": [
       "Index(['names', 'Roll_no', 'Age', 'Domain'], dtype='object')"
      ]
     },
     "execution_count": 172,
     "metadata": {},
     "output_type": "execute_result"
    }
   ],
   "source": [
    "# columns \n",
    "\n",
    "df.columns"
   ]
  },
  {
   "cell_type": "code",
   "execution_count": 173,
   "metadata": {},
   "outputs": [
    {
     "name": "stdout",
     "output_type": "stream",
     "text": [
      "      names  Roll_no  Age Domain Result\n",
      "0      Sara     1202   23     CS   pass\n",
      "1  Muhammad     1203   24     SE   pass\n",
      "2      Rida     1204   22     IT   pass\n",
      "3     sobia     1205   26    Phy   pass\n",
      "4    Saleem     1206   20     AI   pass\n",
      "5       Ali     1207   28     CS   pass\n"
     ]
    }
   ],
   "source": [
    "# insert new column \n",
    "Result_value=\"pass\"\n",
    "df[\"Result\"]=Result_value\n",
    "print(df)"
   ]
  },
  {
   "cell_type": "code",
   "execution_count": 174,
   "metadata": {},
   "outputs": [
    {
     "data": {
      "text/html": [
       "<div>\n",
       "<style scoped>\n",
       "    .dataframe tbody tr th:only-of-type {\n",
       "        vertical-align: middle;\n",
       "    }\n",
       "\n",
       "    .dataframe tbody tr th {\n",
       "        vertical-align: top;\n",
       "    }\n",
       "\n",
       "    .dataframe thead th {\n",
       "        text-align: right;\n",
       "    }\n",
       "</style>\n",
       "<table border=\"1\" class=\"dataframe\">\n",
       "  <thead>\n",
       "    <tr style=\"text-align: right;\">\n",
       "      <th></th>\n",
       "      <th>height</th>\n",
       "      <th>weight</th>\n",
       "    </tr>\n",
       "  </thead>\n",
       "  <tbody>\n",
       "    <tr>\n",
       "      <th>0</th>\n",
       "      <td>160</td>\n",
       "      <td>55</td>\n",
       "    </tr>\n",
       "    <tr>\n",
       "      <th>1</th>\n",
       "      <td>175</td>\n",
       "      <td>70</td>\n",
       "    </tr>\n",
       "    <tr>\n",
       "      <th>2</th>\n",
       "      <td>168</td>\n",
       "      <td>65</td>\n",
       "    </tr>\n",
       "    <tr>\n",
       "      <th>3</th>\n",
       "      <td>0</td>\n",
       "      <td>0</td>\n",
       "    </tr>\n",
       "  </tbody>\n",
       "</table>\n",
       "</div>"
      ],
      "text/plain": [
       "   height  weight\n",
       "0     160      55\n",
       "1     175      70\n",
       "2     168      65\n",
       "3       0       0"
      ]
     },
     "execution_count": 174,
     "metadata": {},
     "output_type": "execute_result"
    }
   ],
   "source": [
    "new_data={\n",
    "    'height': [160, 175, 168, 0], \n",
    "    'weight': [55, 70, 65, 0]\n",
    "    }\n",
    "new_df=pd.DataFrame(new_data)\n",
    "new_df"
   ]
  },
  {
   "cell_type": "code",
   "execution_count": 175,
   "metadata": {},
   "outputs": [],
   "source": [
    "result_df=pd.concat([df,new_df], axis=1)"
   ]
  },
  {
   "cell_type": "code",
   "execution_count": 26,
   "metadata": {},
   "outputs": [
    {
     "name": "stdout",
     "output_type": "stream",
     "text": [
      "      names  Roll_no  Age Domain Result  height  weight\n",
      "0      Sara     1202   23     CS   pass   160.0    55.0\n",
      "1  Muhammad     1203   24     SE   pass   175.0    70.0\n",
      "2      Rida     1204   22     IT   pass   168.0    65.0\n",
      "3     sobia     1205   26    Phy   pass     0.0     0.0\n",
      "4    Saleem     1206   20     AI   pass     NaN     NaN\n",
      "5       Ali     1207   28     CS   pass     NaN     NaN\n"
     ]
    }
   ],
   "source": [
    "print(result_df)"
   ]
  },
  {
   "cell_type": "code",
   "execution_count": 176,
   "metadata": {},
   "outputs": [
    {
     "name": "stdout",
     "output_type": "stream",
     "text": [
      "      names  Roll_no  Age Domain Result\n",
      "0      Sara     1202   23     CS   pass\n",
      "1  Muhammad     1203   24     SE   pass\n",
      "2      Rida     1204   22     IT   pass\n",
      "3     sobia     1205   26    Phy   pass\n",
      "4    Saleem     1206   20     AI   pass\n",
      "5       Ali     1207   28     CS   pass\n",
      "   height  weight\n",
      "0     160      55\n",
      "1     175      70\n",
      "2     168      65\n",
      "3       0       0\n"
     ]
    }
   ],
   "source": [
    "print(df)\n",
    "print(new_df)"
   ]
  },
  {
   "cell_type": "code",
   "execution_count": 177,
   "metadata": {},
   "outputs": [
    {
     "name": "stdout",
     "output_type": "stream",
     "text": [
      "      names  Roll_no  Age  height Domain\n",
      "0      Sara     1202   23   160.0     CS\n",
      "1  Muhammad     1203   24   175.0     SE\n",
      "2      Rida     1204   22   168.0     IT\n",
      "3     sobia     1205   26     0.0    Phy\n",
      "4    Saleem     1206   20     NaN     AI\n",
      "5       Ali     1207   28     NaN     CS\n"
     ]
    }
   ],
   "source": [
    "df=pd.DataFrame(data)\n",
    "df.insert(3,'height',new_df[\"height\"] )\n",
    "print(df)"
   ]
  },
  {
   "cell_type": "code",
   "execution_count": 178,
   "metadata": {},
   "outputs": [],
   "source": [
    "df.insert(4,\"Weight\",pd.Series(new_df['weight']))"
   ]
  },
  {
   "cell_type": "code",
   "execution_count": 179,
   "metadata": {},
   "outputs": [
    {
     "name": "stdout",
     "output_type": "stream",
     "text": [
      "      names  Roll_no  Age  height  Weight Domain\n",
      "0      Sara     1202   23   160.0    55.0     CS\n",
      "1  Muhammad     1203   24   175.0    70.0     SE\n",
      "2      Rida     1204   22   168.0    65.0     IT\n",
      "3     sobia     1205   26     0.0     0.0    Phy\n",
      "4    Saleem     1206   20     NaN     NaN     AI\n",
      "5       Ali     1207   28     NaN     NaN     CS\n"
     ]
    }
   ],
   "source": [
    "print(df)"
   ]
  },
  {
   "cell_type": "code",
   "execution_count": 180,
   "metadata": {},
   "outputs": [
    {
     "data": {
      "text/html": [
       "<div>\n",
       "<style scoped>\n",
       "    .dataframe tbody tr th:only-of-type {\n",
       "        vertical-align: middle;\n",
       "    }\n",
       "\n",
       "    .dataframe tbody tr th {\n",
       "        vertical-align: top;\n",
       "    }\n",
       "\n",
       "    .dataframe thead th {\n",
       "        text-align: right;\n",
       "    }\n",
       "</style>\n",
       "<table border=\"1\" class=\"dataframe\">\n",
       "  <thead>\n",
       "    <tr style=\"text-align: right;\">\n",
       "      <th></th>\n",
       "      <th>names</th>\n",
       "      <th>Roll_no</th>\n",
       "      <th>Age</th>\n",
       "      <th>height</th>\n",
       "      <th>Weight</th>\n",
       "      <th>Domain</th>\n",
       "      <th>Birth year</th>\n",
       "    </tr>\n",
       "  </thead>\n",
       "  <tbody>\n",
       "    <tr>\n",
       "      <th>0</th>\n",
       "      <td>Sara</td>\n",
       "      <td>1202</td>\n",
       "      <td>23</td>\n",
       "      <td>160.0</td>\n",
       "      <td>55.0</td>\n",
       "      <td>CS</td>\n",
       "      <td>1</td>\n",
       "    </tr>\n",
       "    <tr>\n",
       "      <th>1</th>\n",
       "      <td>Muhammad</td>\n",
       "      <td>1203</td>\n",
       "      <td>24</td>\n",
       "      <td>175.0</td>\n",
       "      <td>70.0</td>\n",
       "      <td>SE</td>\n",
       "      <td>2</td>\n",
       "    </tr>\n",
       "    <tr>\n",
       "      <th>2</th>\n",
       "      <td>Rida</td>\n",
       "      <td>1204</td>\n",
       "      <td>22</td>\n",
       "      <td>168.0</td>\n",
       "      <td>65.0</td>\n",
       "      <td>IT</td>\n",
       "      <td>3</td>\n",
       "    </tr>\n",
       "    <tr>\n",
       "      <th>3</th>\n",
       "      <td>sobia</td>\n",
       "      <td>1205</td>\n",
       "      <td>26</td>\n",
       "      <td>0.0</td>\n",
       "      <td>0.0</td>\n",
       "      <td>Phy</td>\n",
       "      <td>4</td>\n",
       "    </tr>\n",
       "    <tr>\n",
       "      <th>4</th>\n",
       "      <td>Saleem</td>\n",
       "      <td>1206</td>\n",
       "      <td>20</td>\n",
       "      <td>NaN</td>\n",
       "      <td>NaN</td>\n",
       "      <td>AI</td>\n",
       "      <td>5</td>\n",
       "    </tr>\n",
       "    <tr>\n",
       "      <th>5</th>\n",
       "      <td>Ali</td>\n",
       "      <td>1207</td>\n",
       "      <td>28</td>\n",
       "      <td>NaN</td>\n",
       "      <td>NaN</td>\n",
       "      <td>CS</td>\n",
       "      <td>6</td>\n",
       "    </tr>\n",
       "  </tbody>\n",
       "</table>\n",
       "</div>"
      ],
      "text/plain": [
       "      names  Roll_no  Age  height  Weight Domain  Birth year\n",
       "0      Sara     1202   23   160.0    55.0     CS           1\n",
       "1  Muhammad     1203   24   175.0    70.0     SE           2\n",
       "2      Rida     1204   22   168.0    65.0     IT           3\n",
       "3     sobia     1205   26     0.0     0.0    Phy           4\n",
       "4    Saleem     1206   20     NaN     NaN     AI           5\n",
       "5       Ali     1207   28     NaN     NaN     CS           6"
      ]
     },
     "execution_count": 180,
     "metadata": {},
     "output_type": "execute_result"
    }
   ],
   "source": [
    "df[\"Birth year\"]=[1,2,3,4,5,6]\n",
    "df"
   ]
  },
  {
   "cell_type": "code",
   "execution_count": 181,
   "metadata": {},
   "outputs": [
    {
     "name": "stdout",
     "output_type": "stream",
     "text": [
      "      names  Roll_no  Age  height  Weight Domain  Birth year\n",
      "0      Sara     1202   23   160.0    55.0     CS           1\n",
      "1  Muhammad     1203   24   175.0    70.0     SE           2\n",
      "2      Rida     1204   22   168.0    65.0     IT           3\n",
      "3     sobia     1205   26     0.0     0.0    Phy           4\n",
      "4    Saleem     1206   20     NaN     NaN     AI           5\n",
      "5       Ali     1207   28     NaN     NaN     CS           6\n"
     ]
    }
   ],
   "source": [
    "if \"Birth Yr\" in df.columns:\n",
    "    # df.drop(columns=[\"Birth month\"], inplace=True)\n",
    "    # df.drop(columns=[\"Birth Year\"], inplace=True)\n",
    "    df.drop(columns=[\"Birth Yr\"], inplace=True)\n",
    "    \n",
    "# df.insert(5,\"Birth year\",2025 - df[\"Age\"])\n",
    "\n",
    "print(df)"
   ]
  },
  {
   "cell_type": "code",
   "execution_count": 182,
   "metadata": {},
   "outputs": [],
   "source": [
    "if 'status' in df.columns:\n",
    "    df.drop(columns=['status'], inplace=True)\n",
    "df.insert(3, 'status', ['Adult' if Age > 18 else 'Minor' for Age in df['Age']])\n"
   ]
  },
  {
   "cell_type": "code",
   "execution_count": 183,
   "metadata": {},
   "outputs": [
    {
     "name": "stdout",
     "output_type": "stream",
     "text": [
      "      names  Roll_no  Age status  height  Weight Domain  Birth year\n",
      "0      Sara     1202   23  Adult   160.0    55.0     CS           1\n",
      "1  Muhammad     1203   24  Adult   175.0    70.0     SE           2\n",
      "2      Rida     1204   22  Adult   168.0    65.0     IT           3\n",
      "3     sobia     1205   26  Adult     0.0     0.0    Phy           4\n",
      "4    Saleem     1206   20  Adult     NaN     NaN     AI           5\n",
      "5       Ali     1207   28  Adult     NaN     NaN     CS           6\n"
     ]
    }
   ],
   "source": [
    "print(df)"
   ]
  },
  {
   "cell_type": "code",
   "execution_count": 35,
   "metadata": {},
   "outputs": [
    {
     "name": "stdout",
     "output_type": "stream",
     "text": [
      "      names  Roll_no  Age status  height  Random_values  Weight Domain  \\\n",
      "0      Sara     1202   23  Adult   160.0       0.602436    55.0     CS   \n",
      "1  Muhammad     1203   24  Adult   175.0       0.437278    70.0     SE   \n",
      "2      Rida     1204   22  Adult   168.0       0.998498    65.0     IT   \n",
      "3     sobia     1205   26  Adult     0.0       0.490385     0.0    Phy   \n",
      "4    Saleem     1206   20  Adult     NaN       0.145876     NaN     AI   \n",
      "5       Ali     1207   28  Adult     NaN       0.552189     NaN     CS   \n",
      "\n",
      "   Birth year  \n",
      "0           1  \n",
      "1           2  \n",
      "2           3  \n",
      "3           4  \n",
      "4           5  \n",
      "5           6  \n"
     ]
    }
   ],
   "source": [
    "import numpy as np\n",
    "df.insert(5,\"Random_values\", np.random.rand(len(df)))\n",
    "print(df)"
   ]
  },
  {
   "cell_type": "code",
   "execution_count": 184,
   "metadata": {},
   "outputs": [
    {
     "name": "stdout",
     "output_type": "stream",
     "text": [
      "      names  Roll_no  Age status  height\n",
      "0      Sara     1202   23  Adult   160.0\n",
      "1  Muhammad     1203   24  Adult   175.0\n",
      "2      Rida     1204   22  Adult   168.0\n"
     ]
    }
   ],
   "source": [
    "df1 = df.iloc[0:3,:5]\n",
    "print(df1)"
   ]
  },
  {
   "cell_type": "code",
   "execution_count": 185,
   "metadata": {},
   "outputs": [
    {
     "name": "stdout",
     "output_type": "stream",
     "text": [
      "      names Domain\n",
      "0      Sara     CS\n",
      "1  Muhammad     SE\n",
      "2      Rida     IT\n"
     ]
    }
   ],
   "source": [
    "df1 = df.iloc[0:3,[0,6]]\n",
    "print(df1)"
   ]
  },
  {
   "cell_type": "code",
   "execution_count": 186,
   "metadata": {},
   "outputs": [
    {
     "name": "stdout",
     "output_type": "stream",
     "text": [
      "Sara\n"
     ]
    }
   ],
   "source": [
    "print(df.iloc[0,0])"
   ]
  },
  {
   "cell_type": "code",
   "execution_count": 187,
   "metadata": {},
   "outputs": [
    {
     "name": "stdout",
     "output_type": "stream",
     "text": [
      "      names  Roll_no  Age status  height  Weight Domain  Birth year\n",
      "0      Sara     1202   23  Adult   160.0    55.0     CS           1\n",
      "1  Muhammad     1203   24  Adult   175.0    70.0     SE           2\n",
      "2      Rida     1204   22  Adult   168.0    65.0     IT           3\n",
      "3     sobia     1205   26  Adult     0.0     0.0    Phy           4\n",
      "5       Ali     1207   28  Adult     NaN     NaN     CS           6\n"
     ]
    }
   ],
   "source": [
    "filter=df[df['Age']>20].iloc[:,:]\n",
    "print(filter)"
   ]
  },
  {
   "cell_type": "code",
   "execution_count": 188,
   "metadata": {},
   "outputs": [
    {
     "name": "stdout",
     "output_type": "stream",
     "text": [
      "          Roll_no  Age status  height  Weight Domain  Birth year\n",
      "names                                                           \n",
      "Sara         1202   23  Adult   160.0    55.0     CS           1\n",
      "Muhammad     1203   24  Adult   175.0    70.0     SE           2\n",
      "Rida         1204   22  Adult   168.0    65.0     IT           3\n",
      "sobia        1205   26  Adult     0.0     0.0    Phy           4\n",
      "Saleem       1206   20  Adult     NaN     NaN     AI           5\n",
      "Ali          1207   28  Adult     NaN     NaN     CS           6\n"
     ]
    }
   ],
   "source": [
    "d1=df.set_index('names')\n",
    "print(d1)\n"
   ]
  },
  {
   "cell_type": "code",
   "execution_count": 74,
   "metadata": {},
   "outputs": [
    {
     "name": "stdout",
     "output_type": "stream",
     "text": [
      "          Roll_no  Age status  height  Random_values  Weight Domain  \\\n",
      "names                                                                 \n",
      "Sara         1202   23  Adult   160.0       0.602436    55.0     CS   \n",
      "Muhammad     1203   24  Adult   175.0       0.437278    70.0     SE   \n",
      "Rida         1204   22  Adult   168.0       0.998498    65.0     IT   \n",
      "\n",
      "          Birth year  \n",
      "names                 \n",
      "Sara               1  \n",
      "Muhammad           2  \n",
      "Rida               3  \n"
     ]
    }
   ],
   "source": [
    "custom_row=d1.loc['Sara':'Rida']\n",
    "print(custom_row)"
   ]
  },
  {
   "cell_type": "code",
   "execution_count": 189,
   "metadata": {},
   "outputs": [
    {
     "name": "stdout",
     "output_type": "stream",
     "text": [
      "SE\n"
     ]
    }
   ],
   "source": [
    "custom_row=d1.loc['Muhammad','Domain']\n",
    "print(custom_row)"
   ]
  },
  {
   "cell_type": "markdown",
   "metadata": {},
   "source": [
    "New Lecture Thursday 13/2/25\n"
   ]
  },
  {
   "cell_type": "code",
   "execution_count": null,
   "metadata": {},
   "outputs": [],
   "source": [
    "# Display function  more organized and pretified output\n",
    "\n",
    "import pandas as pd\n",
    "data={\n",
    "    \"names\":[\"Sara\",\"Muhammad\",\"Rida\",\"sobia\",\"Saleem\",\"Ali\"],\n",
    "    \"Roll_no\":[1202,1203,1204,1205,1206,1207],\n",
    "    \"Age\":[23,24,22,26,20,28],\n",
    "    \"Domain\":[\"CS\",\"SE\",\"IT\",\"Phy\",\"AI\",\"CS\"]\n",
    "}"
   ]
  },
  {
   "cell_type": "code",
   "execution_count": 192,
   "metadata": {},
   "outputs": [
    {
     "data": {
      "text/html": [
       "<div>\n",
       "<style scoped>\n",
       "    .dataframe tbody tr th:only-of-type {\n",
       "        vertical-align: middle;\n",
       "    }\n",
       "\n",
       "    .dataframe tbody tr th {\n",
       "        vertical-align: top;\n",
       "    }\n",
       "\n",
       "    .dataframe thead th {\n",
       "        text-align: right;\n",
       "    }\n",
       "</style>\n",
       "<table border=\"1\" class=\"dataframe\">\n",
       "  <thead>\n",
       "    <tr style=\"text-align: right;\">\n",
       "      <th></th>\n",
       "      <th>names</th>\n",
       "      <th>Roll_no</th>\n",
       "      <th>Age</th>\n",
       "      <th>Domain</th>\n",
       "    </tr>\n",
       "  </thead>\n",
       "  <tbody>\n",
       "    <tr>\n",
       "      <th>0</th>\n",
       "      <td>Sara</td>\n",
       "      <td>1202</td>\n",
       "      <td>23</td>\n",
       "      <td>CS</td>\n",
       "    </tr>\n",
       "    <tr>\n",
       "      <th>1</th>\n",
       "      <td>Muhammad</td>\n",
       "      <td>1203</td>\n",
       "      <td>24</td>\n",
       "      <td>SE</td>\n",
       "    </tr>\n",
       "    <tr>\n",
       "      <th>2</th>\n",
       "      <td>Rida</td>\n",
       "      <td>1204</td>\n",
       "      <td>22</td>\n",
       "      <td>IT</td>\n",
       "    </tr>\n",
       "    <tr>\n",
       "      <th>3</th>\n",
       "      <td>sobia</td>\n",
       "      <td>1205</td>\n",
       "      <td>26</td>\n",
       "      <td>Phy</td>\n",
       "    </tr>\n",
       "    <tr>\n",
       "      <th>4</th>\n",
       "      <td>Saleem</td>\n",
       "      <td>1206</td>\n",
       "      <td>20</td>\n",
       "      <td>AI</td>\n",
       "    </tr>\n",
       "    <tr>\n",
       "      <th>5</th>\n",
       "      <td>Ali</td>\n",
       "      <td>1207</td>\n",
       "      <td>28</td>\n",
       "      <td>CS</td>\n",
       "    </tr>\n",
       "  </tbody>\n",
       "</table>\n",
       "</div>"
      ],
      "text/plain": [
       "      names  Roll_no  Age Domain\n",
       "0      Sara     1202   23     CS\n",
       "1  Muhammad     1203   24     SE\n",
       "2      Rida     1204   22     IT\n",
       "3     sobia     1205   26    Phy\n",
       "4    Saleem     1206   20     AI\n",
       "5       Ali     1207   28     CS"
      ]
     },
     "metadata": {},
     "output_type": "display_data"
    }
   ],
   "source": [
    "stu_df=pd.DataFrame(data)\n",
    "display(stu_df)"
   ]
  },
  {
   "cell_type": "markdown",
   "metadata": {},
   "source": [
    "Filters with Multiple conditions"
   ]
  },
  {
   "cell_type": "code",
   "execution_count": 204,
   "metadata": {},
   "outputs": [
    {
     "name": "stdout",
     "output_type": "stream",
     "text": [
      "    names  Roll_no  Age Domain\n",
      "4  Saleem     1206   20     AI\n"
     ]
    },
    {
     "data": {
      "text/html": [
       "<div>\n",
       "<style scoped>\n",
       "    .dataframe tbody tr th:only-of-type {\n",
       "        vertical-align: middle;\n",
       "    }\n",
       "\n",
       "    .dataframe tbody tr th {\n",
       "        vertical-align: top;\n",
       "    }\n",
       "\n",
       "    .dataframe thead th {\n",
       "        text-align: right;\n",
       "    }\n",
       "</style>\n",
       "<table border=\"1\" class=\"dataframe\">\n",
       "  <thead>\n",
       "    <tr style=\"text-align: right;\">\n",
       "      <th></th>\n",
       "      <th>names</th>\n",
       "      <th>Roll_no</th>\n",
       "      <th>Age</th>\n",
       "      <th>Domain</th>\n",
       "    </tr>\n",
       "  </thead>\n",
       "  <tbody>\n",
       "    <tr>\n",
       "      <th>4</th>\n",
       "      <td>Saleem</td>\n",
       "      <td>1206</td>\n",
       "      <td>20</td>\n",
       "      <td>AI</td>\n",
       "    </tr>\n",
       "  </tbody>\n",
       "</table>\n",
       "</div>"
      ],
      "text/plain": [
       "    names  Roll_no  Age Domain\n",
       "4  Saleem     1206   20     AI"
      ]
     },
     "metadata": {},
     "output_type": "display_data"
    }
   ],
   "source": [
    "filter=stu_df.loc[(stu_df['Domain'].str.startswith('A'))]\n",
    "print(filter)\n",
    "display(filter)\n"
   ]
  },
  {
   "cell_type": "code",
   "execution_count": 212,
   "metadata": {},
   "outputs": [
    {
     "name": "stdout",
     "output_type": "stream",
     "text": [
      "   names  Roll_no  Age Domain\n",
      "0   Sara     1202   23     CS\n",
      "2   Rida     1204   22     IT\n",
      "3  sobia     1205   26    Phy\n"
     ]
    }
   ],
   "source": [
    "filter=stu_df.loc[(stu_df['Roll_no'] == 1200)  & (stu_df['Age']==20) | (stu_df['names'].str.endswith('a'))]\n",
    "print(filter)\n"
   ]
  },
  {
   "cell_type": "code",
   "execution_count": null,
   "metadata": {},
   "outputs": [
    {
     "name": "stdout",
     "output_type": "stream",
     "text": [
      "Empty DataFrame\n",
      "Columns: [names, Roll_no, Age, Domain]\n",
      "Index: []\n"
     ]
    }
   ],
   "source": [
    "filter=stu_df.loc[(stu_df['Roll_no'] == 1200)  & ((stu_df['Age']==20) | (stu_df['names'].str.endswith('a')))]\n",
    "print(filter)"
   ]
  },
  {
   "cell_type": "code",
   "execution_count": 216,
   "metadata": {},
   "outputs": [
    {
     "name": "stdout",
     "output_type": "stream",
     "text": [
      "      names  Roll_no  Age Domain\n",
      "0      Sara     1202   23     CS\n",
      "1  Muhammad     1203   24     SE\n",
      "2      Rida     1204   22     IT\n",
      "3     sobia     1205   26    Phy\n",
      "4    Saleem     1206   20     AI\n",
      "5       Ali     1207   28     CS\n"
     ]
    }
   ],
   "source": [
    "import numpy as np\n",
    "print(stu_df)"
   ]
  },
  {
   "cell_type": "code",
   "execution_count": 220,
   "metadata": {},
   "outputs": [
    {
     "name": "stdout",
     "output_type": "stream",
     "text": [
      "    names  Roll_no  Age Domain\n",
      "4  Saleem     1206   20     AI\n"
     ]
    }
   ],
   "source": [
    "filter=np.where((stu_df['Domain']==\"AI\") & (stu_df['Age']>=20) )\n",
    "# print(filter)  --->  where ondition meet that index will be stored \n",
    "print(stu_df.loc[filter])"
   ]
  },
  {
   "cell_type": "code",
   "execution_count": 1,
   "metadata": {},
   "outputs": [],
   "source": [
    "# using .query\n",
    "# display(stu_df.query('Roll_no  > 1203 & (Age >23 | names.str.startswith(\"R\").values)'))\n"
   ]
  },
  {
   "cell_type": "code",
   "execution_count": 246,
   "metadata": {},
   "outputs": [
    {
     "data": {
      "text/html": [
       "<div>\n",
       "<style scoped>\n",
       "    .dataframe tbody tr th:only-of-type {\n",
       "        vertical-align: middle;\n",
       "    }\n",
       "\n",
       "    .dataframe tbody tr th {\n",
       "        vertical-align: top;\n",
       "    }\n",
       "\n",
       "    .dataframe thead th {\n",
       "        text-align: right;\n",
       "    }\n",
       "</style>\n",
       "<table border=\"1\" class=\"dataframe\">\n",
       "  <thead>\n",
       "    <tr style=\"text-align: right;\">\n",
       "      <th></th>\n",
       "      <th>names</th>\n",
       "      <th>Roll_no</th>\n",
       "      <th>Age</th>\n",
       "      <th>Domain</th>\n",
       "    </tr>\n",
       "  </thead>\n",
       "  <tbody>\n",
       "    <tr>\n",
       "      <th>2</th>\n",
       "      <td>Rida</td>\n",
       "      <td>1204</td>\n",
       "      <td>22</td>\n",
       "      <td>IT</td>\n",
       "    </tr>\n",
       "    <tr>\n",
       "      <th>5</th>\n",
       "      <td>Ali</td>\n",
       "      <td>1207</td>\n",
       "      <td>28</td>\n",
       "      <td>CS</td>\n",
       "    </tr>\n",
       "  </tbody>\n",
       "</table>\n",
       "</div>"
      ],
      "text/plain": [
       "  names  Roll_no  Age Domain\n",
       "2  Rida     1204   22     IT\n",
       "5   Ali     1207   28     CS"
      ]
     },
     "metadata": {},
     "output_type": "display_data"
    }
   ],
   "source": [
    "display(stu_df.query(' (names == \"Ali\") | ( Domain==\"IT\" )'))\n"
   ]
  },
  {
   "cell_type": "code",
   "execution_count": null,
   "metadata": {},
   "outputs": [],
   "source": []
  }
 ],
 "metadata": {
  "kernelspec": {
   "display_name": "base",
   "language": "python",
   "name": "python3"
  },
  "language_info": {
   "codemirror_mode": {
    "name": "ipython",
    "version": 3
   },
   "file_extension": ".py",
   "mimetype": "text/x-python",
   "name": "python",
   "nbconvert_exporter": "python",
   "pygments_lexer": "ipython3",
   "version": "3.11.7"
  }
 },
 "nbformat": 4,
 "nbformat_minor": 2
}
