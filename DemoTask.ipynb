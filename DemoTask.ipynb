{
 "cells": [
  {
   "cell_type": "markdown",
   "id": "80864694-f640-4bf6-994f-04529c84030a",
   "metadata": {},
   "source": [
    "# Demo Task"
   ]
  },
  {
   "cell_type": "markdown",
   "id": "c7d20e8f-9a2b-4b2e-ae16-b2a1f9a50611",
   "metadata": {},
   "source": [
    "Submit Your Demo Submission to Submission Repo"
   ]
  },
  {
   "cell_type": "code",
   "execution_count": null,
   "id": "c72659a7-4f04-4c3f-b9ab-c6b182219a01",
   "metadata": {},
   "outputs": [],
   "source": [
    "name: Atiqa"
   ]
  },
  {
   "cell_type": "code",
   "execution_count": null,
   "id": "aa38d83b",
   "metadata": {},
   "outputs": [],
   "source": []
  }
 ],
 "metadata": {
  "kernelspec": {
   "display_name": "Python 3 (ipykernel)",
   "language": "python",
   "name": "python3"
  },
  "language_info": {
   "codemirror_mode": {
    "name": "ipython",
    "version": 3
   },
   "file_extension": ".py",
   "mimetype": "text/x-python",
   "name": "python",
   "nbconvert_exporter": "python",
   "pygments_lexer": "ipython3",
   "version": "3.12.7"
  }
 },
 "nbformat": 4,
 "nbformat_minor": 5
}
