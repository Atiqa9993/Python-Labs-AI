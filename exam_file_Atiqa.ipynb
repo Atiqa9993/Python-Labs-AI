{
 "cells": [
  {
   "cell_type": "markdown",
   "metadata": {},
   "source": [
    "# **Exam**"
   ]
  },
  {
   "cell_type": "markdown",
   "metadata": {},
   "source": [
    "## Name Of Student: __Atiqa__"
   ]
  },
  {
   "cell_type": "markdown",
   "metadata": {},
   "source": [
    "## **Section A: Short Answer & Coding Questions**                                                    "
   ]
  },
  {
   "cell_type": "markdown",
   "metadata": {},
   "source": [
    "### **Modules in Python:**"
   ]
  },
  {
   "cell_type": "markdown",
   "metadata": {},
   "source": [
    "**a) What is a module in Python? How does it improve code reusability?**"
   ]
  },
  {
   "cell_type": "code",
   "execution_count": null,
   "metadata": {},
   "outputs": [],
   "source": [
    "## Answer Here\n",
    "module in python is a technique in which we write a code once in .py file and use it accourding to our need in program.\n",
    "to use module we have import file to access variables, functiona,classes that are pre-defined in the file\n"
   ]
  },
  {
   "cell_type": "markdown",
   "metadata": {},
   "source": [
    "**b) Explain the difference between built-in modules and user-defined modules.**"
   ]
  },
  {
   "cell_type": "code",
   "execution_count": null,
   "metadata": {},
   "outputs": [],
   "source": [
    "## Answer Here\n",
    "\n",
    "built_in modules are predefined module.We use built-in modules directly using import keyword\n",
    "In Builtin module we donot have to define any function,class or variable before usng it\n",
    "eg maths module, time module, shutill module\n",
    "\n",
    "user define modules are defined by user according to our own needs or desire .\n",
    "before using user define module first we have to define function,classes variables in .py file \n",
    "and import the specific file in our program to access the defined function variable in it."
   ]
  },
  {
   "cell_type": "markdown",
   "metadata": {},
   "source": [
    "### **NumPy Universal Functions:**"
   ]
  },
  {
   "cell_type": "markdown",
   "metadata": {},
   "source": [
    "**a) What are universal functions in NumPy? Provide two examples.**"
   ]
  },
  {
   "cell_type": "code",
   "execution_count": null,
   "metadata": {},
   "outputs": [
    {
     "name": "stdout",
     "output_type": "stream",
     "text": [
      "[ 4  6 10]\n",
      "[-2 -2 -2]\n"
     ]
    }
   ],
   "source": [
    "## Answer Here\n",
    "\n",
    "\n",
    "# universal function are used to perform element wise operation in arrays\n",
    "import numpy as np\n",
    "arr1=np.array([1,2,4])s\n",
    "arr2=np.array([3,4,6])\n",
    "\n",
    "print(np.add(arr1,arr2))\n",
    "print(np.subtract(arr1,arr2))"
   ]
  },
  {
   "cell_type": "markdown",
   "metadata": {},
   "source": [
    "**b) Write a Python program that creates a NumPy array and applies \"np.exp()\", \"np.sin()\", and \"np.sqrt()\" on it.**"
   ]
  },
  {
   "cell_type": "code",
   "execution_count": 9,
   "metadata": {},
   "outputs": [
    {
     "name": "stdout",
     "output_type": "stream",
     "text": [
      "Exponent:      [1.48938420e+78 1.22040329e+39 3.49342711e+19]\n",
      "sin:           [-0.80115264  0.89399666  0.85090352]\n",
      "square root:  [13.41640786  9.48683298  6.70820393]\n"
     ]
    }
   ],
   "source": [
    "## Answer Here\n",
    "import numpy as np\n",
    "arr=np.array([180,90,45])\n",
    "\n",
    "# new_arr=np.radians(arr)\n",
    "# print(new_arr)\n",
    "\n",
    "print(\"Exponent:     \",np.exp(arr))\n",
    "print(\"sin:          \",np.sin(arr))\n",
    "print(\"square root: \",np.sqrt(arr))"
   ]
  },
  {
   "cell_type": "markdown",
   "metadata": {},
   "source": [
    "### **Pandas Operations:**"
   ]
  },
  {
   "cell_type": "markdown",
   "metadata": {},
   "source": [
    "**a) What is the difference between a Pandas Series and DataFrame?**"
   ]
  },
  {
   "cell_type": "code",
   "execution_count": null,
   "metadata": {},
   "outputs": [],
   "source": [
    "## Answer Here\n",
    "pandas series is created using sngle column or list \n",
    "\n",
    "while pandas dataframe is combination of multiple rows and columns and can be created using multi dimensional arrays,list dictionaries\n"
   ]
  },
  {
   "cell_type": "markdown",
   "metadata": {},
   "source": [
    "**b) Write a Python program to create two Pandas Series and concatenate them.**"
   ]
  },
  {
   "cell_type": "code",
   "execution_count": 78,
   "metadata": {},
   "outputs": [
    {
     "name": "stdout",
     "output_type": "stream",
     "text": [
      "    0   1\n",
      "0  45  78\n",
      "1  56  45\n",
      "2  67  76\n"
     ]
    }
   ],
   "source": [
    "## Answer Here\n",
    "import pandas as pd\n",
    "marks1=[45,56,67]\n",
    "ser1=pd.Series(marks1)\n",
    "marks2=[78,45,76]\n",
    "ser2=pd.Series(marks2)\n",
    "\n",
    "print(pd.concat([ser1,ser2] ,axis=1))\n"
   ]
  },
  {
   "cell_type": "markdown",
   "metadata": {},
   "source": [
    "### **File Handling in Python:**"
   ]
  },
  {
   "cell_type": "markdown",
   "metadata": {},
   "source": [
    "**a) What are the different modes available for opening a file in Python? Explain with examples.**"
   ]
  },
  {
   "cell_type": "code",
   "execution_count": null,
   "metadata": {},
   "outputs": [
    {
     "name": "stdout",
     "output_type": "stream",
     "text": [
      "Hello there\n"
     ]
    }
   ],
   "source": [
    "## Answer Here\n",
    "# there are multiplpe modes available for opening file that are:\n",
    "# \"w\": it is used to write text in a file \n",
    "# if the file is not exist \"write\" mode automatically create a file and than write the text \n",
    "\n",
    "with open(\"text\",\"w\") as f:\n",
    "    text=\"Hello there\"\n",
    "    f.write(text)\n",
    "    # remove the previously existing text and write the new one \n",
    "\n",
    "# read mode\n",
    "\n",
    "with open(\"text\",\"r\") as f:\n",
    "    text=f.read()\n",
    "    print(text)\n",
    "    # read mode is used to read the text in file\n",
    "\n",
    "# append mode \n",
    "with open(\"text\",\"a\") as f:\n",
    "    text=\"welcome to python class\"\n",
    "    f.write(text)\n",
    "    # print(text)\n",
    "\n",
    "    # this will add the text with the previously existing text \n",
    "\n",
    "\n"
   ]
  },
  {
   "cell_type": "markdown",
   "metadata": {},
   "source": [
    "**b) Write a Python program that reads a text file and counts the number of words in it.**"
   ]
  },
  {
   "cell_type": "code",
   "execution_count": null,
   "metadata": {},
   "outputs": [
    {
     "name": "stdout",
     "output_type": "stream",
     "text": [
      "5\n"
     ]
    }
   ],
   "source": [
    "## Answer Here\n",
    "\n",
    "with open(\"text\",\"r\") as f:\n",
    "    text=f.read()\n",
    "    words=text.split(\" \")\n",
    "    print(len(words))\n",
    "    "
   ]
  },
  {
   "cell_type": "markdown",
   "metadata": {},
   "source": [
    "### **Random Module:**"
   ]
  },
  {
   "cell_type": "markdown",
   "metadata": {},
   "source": [
    "**a) What is the use of the random module in Python?**"
   ]
  },
  {
   "cell_type": "code",
   "execution_count": null,
   "metadata": {},
   "outputs": [],
   "source": [
    "## Answer Here\n",
    "random module is  most commonly used to genegate random numbers with in a given range in array,list \n"
   ]
  },
  {
   "cell_type": "markdown",
   "metadata": {},
   "source": [
    "**b) Write a Python program to generate a 6-digit OTP using the random module.**"
   ]
  },
  {
   "cell_type": "code",
   "execution_count": 10,
   "metadata": {},
   "outputs": [
    {
     "name": "stdout",
     "output_type": "stream",
     "text": [
      "[1 1 8 9 2 1]\n"
     ]
    }
   ],
   "source": [
    "## Answer Here\n",
    "import numpy as np\n",
    "import random\n",
    "print(np.random.randint(10, size=6))\n",
    "\n"
   ]
  },
  {
   "cell_type": "markdown",
   "metadata": {},
   "source": [
    "### **Time and DateTime Module:**"
   ]
  },
  {
   "cell_type": "markdown",
   "metadata": {},
   "source": [
    "**a) Explain the difference between the time and datetime modules in Python.**"
   ]
  },
  {
   "cell_type": "code",
   "execution_count": 21,
   "metadata": {},
   "outputs": [
    {
     "name": "stdout",
     "output_type": "stream",
     "text": [
      "0.00106048583984375\n",
      "2025-02-17 16:30:10.211492\n"
     ]
    }
   ],
   "source": [
    "## Answer Here\n",
    "import time\n",
    "# time module is specifically used to perform time related operations like cpu execution time , current time\n",
    "\n",
    "t1=time.time()\n",
    "for i in range(5000):\n",
    "    # time.sleep(3)\n",
    "    i*20\n",
    "t2=time.time()\n",
    "\n",
    "print(t2-t1)\n",
    "\n",
    "from datetime import datetime\n",
    "# while in datetime module we can perform both time and date related operation\n",
    "# date=2025-2-\n",
    "print(datetime.today())\n"
   ]
  },
  {
   "cell_type": "markdown",
   "metadata": {},
   "source": [
    "**b) Write a Python program to print the current date and time in \"YYYY-MM-DD HH:MM:SS\" format.**"
   ]
  },
  {
   "cell_type": "code",
   "execution_count": 22,
   "metadata": {},
   "outputs": [
    {
     "name": "stdout",
     "output_type": "stream",
     "text": [
      "2025-02-17 16:30:44.803355\n"
     ]
    }
   ],
   "source": [
    "## Answer Here\n",
    "print(datetime.today())\n",
    "\n"
   ]
  },
  {
   "cell_type": "markdown",
   "metadata": {},
   "source": [
    "### **Exception Handling:**"
   ]
  },
  {
   "cell_type": "markdown",
   "metadata": {},
   "source": [
    "**a) What is an exception in Python? How does exception handling improve program stability?**"
   ]
  },
  {
   "cell_type": "code",
   "execution_count": null,
   "metadata": {},
   "outputs": [],
   "source": [
    "## Answer Here\n",
    "\n",
    "exception handlig is useful because it help the program from been chrashed when an error occured"
   ]
  },
  {
   "cell_type": "markdown",
   "metadata": {},
   "source": [
    "**b) Write a Python program that handles c exceptions using \"try-except\".**"
   ]
  },
  {
   "cell_type": "code",
   "execution_count": 23,
   "metadata": {},
   "outputs": [
    {
     "name": "stdout",
     "output_type": "stream",
     "text": [
      "zero denomenator is not valid\n"
     ]
    }
   ],
   "source": [
    "## Answer Here\n",
    "\n",
    "try:\n",
    "    num1=10\n",
    "    num2=int(input(\"Enter a number:\"))\n",
    "    x=num1/num2\n",
    "    print(\"Division is :\",x)\n",
    "\n",
    "except ZeroDivisionError:\n",
    "    print(\"zero denomenator is not valid\")\n",
    "\n"
   ]
  },
  {
   "cell_type": "markdown",
   "metadata": {},
   "source": [
    "### **Object-Oriented Programming (OOP) in Python:**"
   ]
  },
  {
   "cell_type": "markdown",
   "metadata": {},
   "source": [
    "**a) What is a class in Python? How does it differ from an object?**"
   ]
  },
  {
   "cell_type": "code",
   "execution_count": null,
   "metadata": {},
   "outputs": [],
   "source": [
    "## Answer Here\n",
    "\n",
    "class s a blue print that is used to create real world objects, it is consist of methods and attributes \n",
    "while object are the instance of class that are used to access class attributes and methods "
   ]
  },
  {
   "cell_type": "markdown",
   "metadata": {},
   "source": [
    "**b) Write a Python class BankAccount with attributes \"account_number\", \"balance\", and methods \"deposit()\" and \"withdraw()\".**\n",
    "\n",
    " **Create an object and perform transactions.**"
   ]
  },
  {
   "cell_type": "code",
   "execution_count": 29,
   "metadata": {},
   "outputs": [
    {
     "name": "stdout",
     "output_type": "stream",
     "text": [
      "current balance is 12000\n",
      "current balance is 9000\n"
     ]
    }
   ],
   "source": [
    "## Answer Here\n",
    "\n",
    "class BankAccount:\n",
    "    def __init__(self,account_number):\n",
    "        self.account_number=account_number\n",
    "        self.balance=10000\n",
    "\n",
    "    def deposit(self,amount):\n",
    "        self.balance=self.balance+amount\n",
    "\n",
    "    def withdrawl(self,amount):\n",
    "        if self.balance > amount:\n",
    "           self.balance=self.balance-amount\n",
    "\n",
    "        else:\n",
    "            print(\"Insufficient balance\")\n",
    "\n",
    "    def info(self):\n",
    "        print(f\"current balance is {self.balance}\")\n",
    "\n",
    "a1=BankAccount(\"2334435\")\n",
    "a1.deposit(2000)\n",
    "a1.info()\n",
    "a1.withdrawl(3000)\n",
    "a1.info()\n",
    "\n",
    "\n"
   ]
  },
  {
   "cell_type": "markdown",
   "metadata": {},
   "source": [
    "### **Inheritance in Python:**"
   ]
  },
  {
   "cell_type": "markdown",
   "metadata": {},
   "source": [
    "**a) Explain inheritance in Python. What is the purpose of the \"super()\" function?**"
   ]
  },
  {
   "cell_type": "code",
   "execution_count": null,
   "metadata": {},
   "outputs": [],
   "source": [
    "## Answer Here\n",
    "inheritance is a python technique in which chld class inherit properties of parent class \n",
    "we can access attributes and mrthods of parent class using child class object\n",
    "\n",
    "super keyword is used to access parent class attribute and methods in child class \n",
    "\n",
    "\n",
    "class Vechical:\n",
    "    def __init__(self,brand):\n",
    "        self.brand=brand\n",
    "\n",
    "class Car(Vechical):\n",
    "    def __init__(self, brand,model):\n",
    "        super().__init__(brand)\n",
    "        self.model=model\n"
   ]
  },
  {
   "cell_type": "markdown",
   "metadata": {},
   "source": [
    "**b) Write a Python program where \"ElectricCar\" inherits from \"Car\" and has an additional attribute \"battery_capacity\".**"
   ]
  },
  {
   "cell_type": "code",
   "execution_count": null,
   "metadata": {},
   "outputs": [],
   "source": [
    "## Answer Here\n",
    "\n",
    "class Car:\n",
    "    def __init__(self,brand):\n",
    "        self.brand=brand\n",
    "\n",
    "\n",
    "class ElectricCar(Car):\n",
    "    def __init__(self, brand,battery_capacity):\n",
    "        super().__init__(brand)\n",
    "        self.battery_capacity=battery_capacity\n"
   ]
  },
  {
   "cell_type": "markdown",
   "metadata": {},
   "source": [
    "### **Magic Methods in Python:**"
   ]
  },
  {
   "cell_type": "markdown",
   "metadata": {},
   "source": [
    "**a) What is the purpose of \"\"__ init __()\"\" in Python classes?**"
   ]
  },
  {
   "cell_type": "code",
   "execution_count": null,
   "metadata": {},
   "outputs": [],
   "source": [
    "## Answer Here\n",
    "\n",
    "\n",
    "__init()__ is known as  constructor of class that is automatically called when an object of class is created .\n",
    "it iis also called dunder method \n"
   ]
  },
  {
   "cell_type": "markdown",
   "metadata": {},
   "source": [
    "**b) Write a class Student with attributes \"name\" and \"marks\". Define a method \"display()\" to show student details.**\n",
    "\n",
    " **Create an object of this class.**"
   ]
  },
  {
   "cell_type": "code",
   "execution_count": null,
   "metadata": {},
   "outputs": [],
   "source": [
    "## Answer Here\n",
    "\n",
    "class Student:\n",
    "    def __init__(self, name,marks):\n",
    "        self.name=name\n",
    "        self.marks=marks\n",
    "\n",
    "\n",
    "    def display(self):\n",
    "        print(f\"Name: {self.name} Marks:{self.marks}\")"
   ]
  },
  {
   "cell_type": "markdown",
   "metadata": {},
   "source": [
    "### **NumPy Arrays vs. Python Lists:**"
   ]
  },
  {
   "cell_type": "markdown",
   "metadata": {},
   "source": [
    "**a) Why is a NumPy \"array\" more efficient than a Python \"list\" for numerical operations? Also Prove the efficiency.**"
   ]
  },
  {
   "cell_type": "code",
   "execution_count": 39,
   "metadata": {},
   "outputs": [
    {
     "name": "stdout",
     "output_type": "stream",
     "text": [
      "0.01793360710144043\n",
      "0.0051953792572021484\n"
     ]
    }
   ],
   "source": [
    "## Answer Here\n",
    "\n",
    "# numpy arrays are efficient because numpy is wrtten in c++ language that faster that python also numpy use contigous memeory location due to which they are faster as compared to lists \n",
    "import random\n",
    "\n",
    "\n",
    "\n",
    "t1=time.time()\n",
    "list=[]\n",
    "# print(arr)\n",
    "for i in range(5000):\n",
    "    x=i**2\n",
    "    list.append(x)\n",
    "\n",
    "t2=time.time()\n",
    "\n",
    "print(t2-t1)\n",
    "\n",
    "\n",
    "\n",
    "t1=time.time()\n",
    "arr=np.arange(5000)\n",
    "# print(arr)\n",
    "for i in range(len(arr)):\n",
    "    arr[i]+5\n",
    "\n",
    "t2=time.time()\n",
    "\n",
    "print(t2-t1)\n",
    "\n"
   ]
  },
  {
   "cell_type": "markdown",
   "metadata": {},
   "source": [
    "### **Pandas DataFrame Operations:**"
   ]
  },
  {
   "cell_type": "markdown",
   "metadata": {},
   "source": [
    "**a) Write a Python program to create a Pandas DataFrame with columns \"Name\" and \"Age\". Add a new column \"Grade\" to it.**"
   ]
  },
  {
   "cell_type": "code",
   "execution_count": 44,
   "metadata": {},
   "outputs": [
    {
     "name": "stdout",
     "output_type": "stream",
     "text": [
      "  Names  Age\n",
      "0  anam   12\n",
      "1  sana   14\n",
      "2  saba   16\n",
      "  Names  Age Grade\n",
      "0  anam   12     A\n",
      "1  sana   14     B\n",
      "2  saba   16     A\n"
     ]
    }
   ],
   "source": [
    "## Answer Here\n",
    "import pandas as pd\n",
    "data={\n",
    "    \"Names\":[\"anam\",\"sana\",\"saba\"],\n",
    "    \"Age\":[12,14,16]\n",
    "}\n",
    "df=pd.DataFrame(data)\n",
    "print(df)\n",
    "df[\"Grade\"]=[\"A\",\"B\",\"A\"]\n",
    "print(df)"
   ]
  },
  {
   "cell_type": "markdown",
   "metadata": {},
   "source": [
    "### **Conditional Checking in Pandas:**"
   ]
  },
  {
   "cell_type": "markdown",
   "metadata": {},
   "source": [
    "**a) Write a Pandas program to filter a DataFrame where the \"Age\" column has values \"greater than 18\".**"
   ]
  },
  {
   "cell_type": "code",
   "execution_count": null,
   "metadata": {},
   "outputs": [
    {
     "name": "stdout",
     "output_type": "stream",
     "text": [
      "   Names  Age\n",
      "3  Ahmed   30\n",
      "4   Anna   23\n"
     ]
    }
   ],
   "source": [
    "## Answer Here\n",
    "\n",
    "import pandas as pd\n",
    "data={ '\n",
    "    \"Names\":[\"anam\",\"sana\",\"saba\",\"Ahmed\",\"Anna\"],\n",
    "    \"Age\":[12,14,16,30,23]\n",
    "}\n",
    "df=pd.DataFrame(data)\n",
    "filter=df[df[\"Age\"]>18]\n",
    "print(filter)"
   ]
  },
  {
   "cell_type": "markdown",
   "metadata": {},
   "source": [
    "### **Concatenating DataFrames in Pandas:**"
   ]
  },
  {
   "cell_type": "markdown",
   "metadata": {},
   "source": [
    "**a) Write a Python script to concatenate two Pandas DataFrames.**"
   ]
  },
  {
   "cell_type": "code",
   "execution_count": 61,
   "metadata": {},
   "outputs": [
    {
     "name": "stdout",
     "output_type": "stream",
     "text": [
      "   Names  Age  score Domain\n",
      "0   anam   12     10     AI\n",
      "1   sana   14      2     CS\n",
      "2   saba   16      5     SE\n",
      "3  Ahmed   30      7     AI\n",
      "4   Anna   23      8     SE\n"
     ]
    }
   ],
   "source": [
    "## Answer Here\n",
    "\n",
    "data={\n",
    "    \"Names\":[\"anam\",\"sana\",\"saba\",\"Ahmed\",\"Anna\"],\n",
    "    \"Age\":[12,14,16,30,23]\n",
    "}\n",
    "df1=pd.DataFrame(data)\n",
    "\n",
    "data2={\n",
    "    \"score\":[10,2,5,7,8],\n",
    "    \"Domain\":[\"AI\",\"CS\",\"SE\",\"AI\",\"SE\"]\n",
    "}\n",
    "df2=pd.DataFrame(data2)\n",
    "\n",
    "\n",
    "\n",
    "new=pd.concat([df1,df2[\"score\"]],axis=1)\n",
    "new_df=pd.concat([new,df2[\"Domain\"]],axis=1)\n",
    "print(new_df)"
   ]
  },
  {
   "cell_type": "markdown",
   "metadata": {},
   "source": [
    "### **Custom Exception Handling:**"
   ]
  },
  {
   "cell_type": "markdown",
   "metadata": {},
   "source": [
    "**a) Write a custom exception class \"InvalidAgeError\". Raise this exception if a user inputs an \"age less than 18\".**"
   ]
  },
  {
   "cell_type": "code",
   "execution_count": null,
   "metadata": {},
   "outputs": [
    {
     "ename": "ValueError",
     "evalue": "InvaldAgeError",
     "output_type": "error",
     "traceback": [
      "\u001b[1;31m---------------------------------------------------------------------------\u001b[0m",
      "\u001b[1;31mValueError\u001b[0m                                Traceback (most recent call last)",
      "Cell \u001b[1;32mIn[67], line 5\u001b[0m\n\u001b[0;32m      3\u001b[0m age\u001b[38;5;241m=\u001b[39m\u001b[38;5;28mint\u001b[39m(\u001b[38;5;28minput\u001b[39m(\u001b[38;5;124m\"\u001b[39m\u001b[38;5;124mEnter age greate than 18:  \u001b[39m\u001b[38;5;124m\"\u001b[39m))\n\u001b[0;32m      4\u001b[0m \u001b[38;5;28;01mif\u001b[39;00m age\u001b[38;5;241m<\u001b[39m \u001b[38;5;241m16\u001b[39m:\n\u001b[1;32m----> 5\u001b[0m     \u001b[38;5;28;01mraise\u001b[39;00m \u001b[38;5;167;01mValueError\u001b[39;00m(\u001b[38;5;124m\"\u001b[39m\u001b[38;5;124mInvaldAgeError\u001b[39m\u001b[38;5;124m\"\u001b[39m)\n",
      "\u001b[1;31mValueError\u001b[0m: InvaldAgeError"
     ]
    }
   ],
   "source": [
    "## Answer Here\n",
    "\n",
    "age=int(input(\"Enter age greate than 18:  \"))\n",
    "if age< 18:\n",
    "    raise ValueError(\"InvaldAgeError\")"
   ]
  },
  {
   "cell_type": "markdown",
   "metadata": {},
   "source": [
    "## **Section B: Multiple Choice Questions**"
   ]
  },
  {
   "cell_type": "markdown",
   "metadata": {},
   "source": [
    "**What is the correct way to import all functions from a module?**\n",
    "\n",
    "a) import module\n",
    "\n",
    "b) from module import *\n",
    "\n",
    "c) import module as m\n",
    "\n",
    "d) include module\n"
   ]
  },
  {
   "cell_type": "markdown",
   "metadata": {},
   "source": [
    "**Answer**: b"
   ]
  },
  {
   "cell_type": "markdown",
   "metadata": {},
   "source": [
    "**What will np.array([2,3,4]) + np.array([5,6,7]) return?**\n",
    "\n",
    "a) [10,18,28]\n",
    "\n",
    "b) [7,9,11]\n",
    "\n",
    "c) [2,3,4,5,6,7]\n",
    "\n",
    "d) Error"
   ]
  },
  {
   "cell_type": "markdown",
   "metadata": {},
   "source": [
    "**Answer**: b"
   ]
  },
  {
   "cell_type": "markdown",
   "metadata": {},
   "source": [
    "**What will random.rand(1,5) return?**\n",
    "\n",
    "a) A random integer between 1 and 5\n",
    "\n",
    "b) A random float between 1 and 5\n",
    "\n",
    "c) A random float between 0 and 1\n",
    "\n",
    "d) A random float array of shape (1,5)"
   ]
  },
  {
   "cell_type": "markdown",
   "metadata": {},
   "source": [
    "**Answer**: c"
   ]
  },
  {
   "cell_type": "markdown",
   "metadata": {},
   "source": [
    "**Which of the following is NOT an exception in Python?**\n",
    "\n",
    "a) IndexError\n",
    "\n",
    "b) TypeError\n",
    "\n",
    "c) KeyError\n",
    "\n",
    "d) PrintError"
   ]
  },
  {
   "cell_type": "markdown",
   "metadata": {},
   "source": [
    "**Answer**: d"
   ]
  },
  {
   "cell_type": "markdown",
   "metadata": {},
   "source": [
    "**What does time.sleep(2) do in Python?**\n",
    "\n",
    "a) Pauses execution for 2 minutes\n",
    "\n",
    "b) Pauses execution for 2 seconds\n",
    "\n",
    "c) Terminates the program\n",
    "\n",
    "d) Converts time into seconds"
   ]
  },
  {
   "cell_type": "markdown",
   "metadata": {},
   "source": [
    "**Answer**:  b"
   ]
  },
  {
   "cell_type": "markdown",
   "metadata": {},
   "source": [
    "**Which method is used to get the current system time?**\n",
    "\n",
    "a) time.current()\n",
    "\n",
    "b) time.today()\n",
    "\n",
    "c) time.time()\n",
    "\n",
    "d) time.now()"
   ]
  },
  {
   "cell_type": "markdown",
   "metadata": {},
   "source": [
    "**Answer**: b"
   ]
  },
  {
   "cell_type": "markdown",
   "metadata": {},
   "source": [
    "**How do you create an instance of a class named Dog?**\n",
    "\n",
    "a) dog = Dog()\n",
    "\n",
    "b) Dog(dog)\n",
    "\n",
    "c) new Dog()\n",
    "\n",
    "d) dog = Dog.create()"
   ]
  },
  {
   "cell_type": "markdown",
   "metadata": {},
   "source": [
    "**Answer**: a"
   ]
  },
  {
   "cell_type": "markdown",
   "metadata": {},
   "source": [
    "**What will happen if a file does not exist when using open('data.txt', 'r')?**\n",
    "\n",
    "a) It will create a new file\n",
    "\n",
    "b) It will raise a FileNotFoundError\n",
    "\n",
    "c) It will return an empty file\n",
    "\n",
    "d) It will append data to an existing file"
   ]
  },
  {
   "cell_type": "markdown",
   "metadata": {},
   "source": [
    "**Answer**: b"
   ]
  },
  {
   "cell_type": "markdown",
   "metadata": {},
   "source": [
    "**Which of the following is TRUE about Python classes?**\n",
    "\n",
    "\n",
    "a) A class can contain both variables and methods\n",
    "\n",
    "b) An object cannot be created from a class\n",
    "\n",
    "c) Classes do not support inheritance\n",
    "\n",
    "d) Magic methods like __ init __() are optional but recommended"
   ]
  },
  {
   "cell_type": "markdown",
   "metadata": {},
   "source": [
    "**Answer**: a"
   ]
  },
  {
   "cell_type": "markdown",
   "metadata": {},
   "source": [
    "## **Additional Coding Questions**"
   ]
  },
  {
   "cell_type": "markdown",
   "metadata": {},
   "source": [
    "**Write a Python program to generate a random OTP of 6 digits using the random module.**"
   ]
  },
  {
   "cell_type": "code",
   "execution_count": 69,
   "metadata": {},
   "outputs": [
    {
     "name": "stdout",
     "output_type": "stream",
     "text": [
      "[8 3 1 0 3 9]\n"
     ]
    }
   ],
   "source": [
    "## Answer Here\n",
    "print(np.random.randint(10, size=6))\n"
   ]
  },
  {
   "cell_type": "markdown",
   "metadata": {},
   "source": [
    "**Write a Pandas script to create a DataFrame with \"Name, Marks, and Grade\", then filter out students who \"scored above 80 marks\".**"
   ]
  },
  {
   "cell_type": "code",
   "execution_count": 72,
   "metadata": {},
   "outputs": [
    {
     "name": "stdout",
     "output_type": "stream",
     "text": [
      "   name  Marks garde\n",
      "0   Ali     89     A\n",
      "2  raza     89     A\n"
     ]
    }
   ],
   "source": [
    "## Answer Here\n",
    "data={\n",
    "    \"name\":[\"Ali\",\"Saba\",\"raza\"],\n",
    "    \"Marks\":[89,79,89],\n",
    "    \"garde\":[\"A\",\"B\",\"A\"]\n",
    "}\n",
    "\n",
    "df=pd.DataFrame(data)\n",
    "filter=df['Marks']>80\n",
    "\n",
    "print(df[filter])"
   ]
  },
  {
   "cell_type": "markdown",
   "metadata": {},
   "source": [
    "**Write a class Employee with attributes \"name and salary\". Implement a method \"increase_salary()\" that increases \"salary by 10%\".**"
   ]
  },
  {
   "cell_type": "code",
   "execution_count": 73,
   "metadata": {},
   "outputs": [],
   "source": [
    "## Answer Here\n",
    "class Employee:\n",
    "    def __init__(self,name,salary):\n",
    "        self.name=name\n",
    "        self.salary=salary\n",
    "    def increase_salary(self):\n",
    "        salary=salary+((salary*10/100))\n"
   ]
  },
  {
   "cell_type": "markdown",
   "metadata": {},
   "source": [
    "**Write a Pandas program that reads a CSV file, Check NaN values, also create a pivot table with \"sum,mean and min aggfuncs\".**"
   ]
  },
  {
   "cell_type": "code",
   "execution_count": 19,
   "metadata": {},
   "outputs": [
    {
     "name": "stdout",
     "output_type": "stream",
     "text": [
      "   Brand  Model   Year  Engine_Size  Fuel_Type  Transmission  Mileage  Doors  \\\n",
      "0  False  False  False        False      False         False    False  False   \n",
      "1  False  False  False        False      False         False    False  False   \n",
      "2  False  False  False        False      False         False    False  False   \n",
      "3  False  False  False        False      False         False    False  False   \n",
      "4  False  False  False        False      False         False    False  False   \n",
      "\n",
      "   Owner_Count  Price  \n",
      "0        False  False  \n",
      "1        False  False  \n",
      "2        False  False  \n",
      "3        False  False  \n",
      "4        False  False  \n"
     ]
    },
    {
     "data": {
      "text/html": [
       "<div>\n",
       "<style scoped>\n",
       "    .dataframe tbody tr th:only-of-type {\n",
       "        vertical-align: middle;\n",
       "    }\n",
       "\n",
       "    .dataframe tbody tr th {\n",
       "        vertical-align: top;\n",
       "    }\n",
       "\n",
       "    .dataframe thead tr th {\n",
       "        text-align: left;\n",
       "    }\n",
       "\n",
       "    .dataframe thead tr:last-of-type th {\n",
       "        text-align: right;\n",
       "    }\n",
       "</style>\n",
       "<table border=\"1\" class=\"dataframe\">\n",
       "  <thead>\n",
       "    <tr>\n",
       "      <th></th>\n",
       "      <th colspan=\"3\" halign=\"left\">Price</th>\n",
       "    </tr>\n",
       "    <tr>\n",
       "      <th></th>\n",
       "      <th>mean</th>\n",
       "      <th>min</th>\n",
       "      <th>sum</th>\n",
       "    </tr>\n",
       "    <tr>\n",
       "      <th>Brand</th>\n",
       "      <th></th>\n",
       "      <th></th>\n",
       "      <th></th>\n",
       "    </tr>\n",
       "  </thead>\n",
       "  <tbody>\n",
       "    <tr>\n",
       "      <th>Audi</th>\n",
       "      <td>8929.373796</td>\n",
       "      <td>2000</td>\n",
       "      <td>9268690</td>\n",
       "    </tr>\n",
       "    <tr>\n",
       "      <th>BMW</th>\n",
       "      <td>8704.068068</td>\n",
       "      <td>2000</td>\n",
       "      <td>8695364</td>\n",
       "    </tr>\n",
       "    <tr>\n",
       "      <th>Chevrolet</th>\n",
       "      <td>9015.683948</td>\n",
       "      <td>2000</td>\n",
       "      <td>9042731</td>\n",
       "    </tr>\n",
       "    <tr>\n",
       "      <th>Ford</th>\n",
       "      <td>8852.570611</td>\n",
       "      <td>2000</td>\n",
       "      <td>9277494</td>\n",
       "    </tr>\n",
       "    <tr>\n",
       "      <th>Honda</th>\n",
       "      <td>8665.596630</td>\n",
       "      <td>2000</td>\n",
       "      <td>8743587</td>\n",
       "    </tr>\n",
       "    <tr>\n",
       "      <th>Hyundai</th>\n",
       "      <td>8778.279397</td>\n",
       "      <td>2000</td>\n",
       "      <td>8734388</td>\n",
       "    </tr>\n",
       "    <tr>\n",
       "      <th>Kia</th>\n",
       "      <td>8880.086066</td>\n",
       "      <td>2000</td>\n",
       "      <td>8666964</td>\n",
       "    </tr>\n",
       "    <tr>\n",
       "      <th>Mercedes</th>\n",
       "      <td>8980.087049</td>\n",
       "      <td>2000</td>\n",
       "      <td>8459242</td>\n",
       "    </tr>\n",
       "    <tr>\n",
       "      <th>Toyota</th>\n",
       "      <td>8798.184536</td>\n",
       "      <td>2000</td>\n",
       "      <td>8534239</td>\n",
       "    </tr>\n",
       "    <tr>\n",
       "      <th>Volkswagen</th>\n",
       "      <td>8928.377451</td>\n",
       "      <td>2000</td>\n",
       "      <td>9106945</td>\n",
       "    </tr>\n",
       "  </tbody>\n",
       "</table>\n",
       "</div>"
      ],
      "text/plain": [
       "                  Price               \n",
       "                   mean   min      sum\n",
       "Brand                                 \n",
       "Audi        8929.373796  2000  9268690\n",
       "BMW         8704.068068  2000  8695364\n",
       "Chevrolet   9015.683948  2000  9042731\n",
       "Ford        8852.570611  2000  9277494\n",
       "Honda       8665.596630  2000  8743587\n",
       "Hyundai     8778.279397  2000  8734388\n",
       "Kia         8880.086066  2000  8666964\n",
       "Mercedes    8980.087049  2000  8459242\n",
       "Toyota      8798.184536  2000  8534239\n",
       "Volkswagen  8928.377451  2000  9106945"
      ]
     },
     "execution_count": 19,
     "metadata": {},
     "output_type": "execute_result"
    }
   ],
   "source": [
    "## Answer Here\n",
    "import pandas as pd\n",
    "car_data=pd.read_csv(\"car_price_dataset.csv\")\n",
    "# car_data\n",
    "print(pd.isna(car_data).head())\n",
    "\n",
    "table=car_data.pivot_table(index=['Brand'], values=['Price'], aggfunc={'sum', 'mean', 'min'})\n",
    "table\n",
    "\n"
   ]
  },
  {
   "cell_type": "markdown",
   "metadata": {},
   "source": [
    "### **Best Of Luck....**"
   ]
  }
 ],
 "metadata": {
  "kernelspec": {
   "display_name": "base",
   "language": "python",
   "name": "python3"
  },
  "language_info": {
   "codemirror_mode": {
    "name": "ipython",
    "version": 3
   },
   "file_extension": ".py",
   "mimetype": "text/x-python",
   "name": "python",
   "nbconvert_exporter": "python",
   "pygments_lexer": "ipython3",
   "version": "3.11.7"
  }
 },
 "nbformat": 4,
 "nbformat_minor": 2
}
