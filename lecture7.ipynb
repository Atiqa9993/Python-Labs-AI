{
 "cells": [
  {
   "cell_type": "code",
   "execution_count": 3,
   "id": "9937fe51-2e19-49d8-8fb4-1f051f516095",
   "metadata": {},
   "outputs": [],
   "source": [
    "#---->  time module\n",
    "\n",
    "import time"
   ]
  },
  {
   "cell_type": "markdown",
   "id": "3b497576",
   "metadata": {},
   "source": []
  },
  {
   "cell_type": "code",
   "execution_count": null,
   "id": "d005b25a-e698-408d-b162-2c23bd7475f3",
   "metadata": {},
   "outputs": [
    {
     "data": {
      "text/plain": [
       "current time in seconds:  1737371467.7109125\n"
      ]
     },
     "metadata": {},
     "output_type": "display_data"
    }
   ],
   "source": [
    "print(\"current time in seconds: \",time.time()) "
   ]
  },
  {
   "cell_type": "code",
   "execution_count": null,
   "id": "7761d262-f7fa-456a-a76e-0c056768b8ac",
   "metadata": {},
   "outputs": [
    {
     "data": {
      "text/plain": [
       "2025-01-20 \n",
       "01/20/25 \n",
       "16:11:07 \n"
      ]
     },
     "metadata": {},
     "output_type": "display_data"
    }
   ],
   "source": [
    "# strftime() connvert time n readable ormat  \n",
    "formatted_date_num=time.strftime(\"%Y-%m-%d \") #---->Year- Month - Day\n",
    "print(formatted_date_num)\n",
    "\n",
    "formatted_date=time.strftime(\"%D \")   #-----> formatted date 01/17/25\n",
    "print(formatted_date)\n",
    "\n",
    "formatted_time=time.strftime(\"%H:%M:%S \") #----> Hour - Minute - Second\n",
    "print(formatted_time)\n",
    "# formatted_time=time.strftime(\"%h:%m:%s \")"
   ]
  },
  {
   "cell_type": "code",
   "execution_count": null,
   "id": "a76a8fce-d5c3-4bd8-b35f-258f6f1f5117",
   "metadata": {},
   "outputs": [
    {
     "data": {
      "text/plain": [
       "hello\n",
       "after 3 second print Charles\n"
      ]
     },
     "metadata": {},
     "output_type": "display_data"
    }
   ],
   "source": [
    "print(\"hello\")\n",
    "time.sleep(3)   #---->this will print charles after pause of 3 sec\n",
    "print(\"after 3 second print Charles\")"
   ]
  },
  {
   "cell_type": "code",
   "execution_count": null,
   "id": "931b9a61-f7c0-4672-8312-e32c158ef70e",
   "metadata": {},
   "outputs": [
    {
     "data": {
      "text/plain": [
       "time.struct_time(tm_year=2025, tm_mon=1, tm_mday=20, tm_hour=16, tm_min=11, tm_sec=10, tm_wday=0, tm_yday=20, tm_isdst=0)\n"
      ]
     },
     "metadata": {},
     "output_type": "display_data"
    }
   ],
   "source": [
    "t=time.localtime()\n",
    "print(t)"
   ]
  },
  {
   "cell_type": "code",
   "execution_count": 8,
   "id": "911d07b0-5940-4cdf-8c31-4d30b73a8f46",
   "metadata": {},
   "outputs": [],
   "source": [
    "start=time.perf_counter()"
   ]
  },
  {
   "cell_type": "code",
   "execution_count": null,
   "id": "3d456037-6b80-469e-8f7e-7d076fedab3a",
   "metadata": {},
   "outputs": [
    {
     "data": {
      "text/plain": [
       "0\n",
       "1\n",
       "2\n",
       "3\n",
       "4\n"
      ]
     },
     "metadata": {},
     "output_type": "display_data"
    }
   ],
   "source": [
    "for i in range(5):\n",
    "    print(i)"
   ]
  },
  {
   "cell_type": "code",
   "execution_count": 10,
   "id": "90dd66ba-8771-43f1-9f24-6e9b93df9ab9",
   "metadata": {},
   "outputs": [],
   "source": [
    "end=time.perf_counter()"
   ]
  },
  {
   "cell_type": "code",
   "execution_count": null,
   "id": "b79e264d-b59c-40b1-8751-96c7f8a45051",
   "metadata": {},
   "outputs": [
    {
     "data": {
      "text/plain": [
       "0.010954200000924175\n"
      ]
     },
     "metadata": {},
     "output_type": "display_data"
    }
   ],
   "source": [
    "print(end-start)"
   ]
  },
  {
   "cell_type": "code",
   "execution_count": 1,
   "id": "0a7e820a-8567-4670-8782-590df76e4cb1",
   "metadata": {},
   "outputs": [],
   "source": [
    "import datetime"
   ]
  },
  {
   "cell_type": "code",
   "execution_count": null,
   "id": "137f119e-9f03-4c88-bcc4-1d0edb80c814",
   "metadata": {},
   "outputs": [
    {
     "data": {
      "text/plain": [
       "2025-01-20 16:11:10.772607\n"
      ]
     },
     "metadata": {},
     "output_type": "display_data"
    }
   ],
   "source": [
    "x=datetime.datetime.now()  #---> return currtent time nad date\n",
    "print(x)"
   ]
  },
  {
   "cell_type": "code",
   "execution_count": null,
   "id": "9c413e21-03a6-4043-8726-fc7e701fbd88",
   "metadata": {},
   "outputs": [
    {
     "data": {
      "text/plain": [
       "2025-01-20 00:00:00\n"
      ]
     },
     "metadata": {},
     "output_type": "display_data"
    }
   ],
   "source": [
    "print(datetime.datetime(2025,1,20))  #---> return date in a proper for"
   ]
  },
  {
   "cell_type": "code",
   "execution_count": 4,
   "id": "99d03d26-14db-4296-91ca-62a8926ce80f",
   "metadata": {},
   "outputs": [],
   "source": [
    "t=datetime.datetime.now()"
   ]
  },
  {
   "cell_type": "code",
   "execution_count": null,
   "id": "9302cc2b-0c12-43db-9e7a-f7bd7e5277a9",
   "metadata": {},
   "outputs": [
    {
     "data": {
      "text/plain": [
       "2025-01-20\n"
      ]
     },
     "metadata": {},
     "output_type": "display_data"
    }
   ],
   "source": [
    "print(t.strftime(\"%Y-%m-%d\"))"
   ]
  },
  {
   "cell_type": "code",
   "execution_count": null,
   "id": "2ff0b361-3896-4067-b1b8-a25a9a6a61bb",
   "metadata": {},
   "outputs": [
    {
     "data": {
      "text/plain": [
       "25-01-20 PM\n",
       "25-Jan-20\n",
       "25-January-20\n",
       "25-January-20\n"
      ]
     },
     "metadata": {},
     "output_type": "display_data"
    }
   ],
   "source": [
    "print(t.strftime(\"%y-%m-%d %p\"))\n",
    "print(t.strftime(\"%y-%b-%d\"))\n",
    "print(t.strftime(\"%y-%B-%d\"))\n",
    "print(t.strftime(\"%y-%B-%d\"))"
   ]
  },
  {
   "cell_type": "code",
   "execution_count": null,
   "id": "87fc7a0b-c50f-46fa-88cd-b94fd3f8de46",
   "metadata": {},
   "outputs": [
    {
     "data": {
      "text/plain": [
       "16:11:10 PM\n",
       "04\n",
       "16\n",
       "11\n",
       "10\n",
       "03\n"
      ]
     },
     "metadata": {},
     "output_type": "display_data"
    }
   ],
   "source": [
    "print(t.strftime(\"%H:%M:%S %p\"))\n",
    "print(t.strftime(\"%I\"))\n",
    "print(t.strftime(\"%H\"))\n",
    "print(t.strftime(\"%M\"))\n",
    "print(t.strftime(\"%S\"))\n",
    "print(t.strftime(\"%W\"))"
   ]
  },
  {
   "cell_type": "code",
   "execution_count": null,
   "id": "35c5cdd4-ad70-4a05-9257-d345103eddad",
   "metadata": {},
   "outputs": [
    {
     "data": {
      "text/plain": [
       "2025-01-20\n"
      ]
     },
     "metadata": {},
     "output_type": "display_data"
    }
   ],
   "source": [
    "print(datetime.date.today())"
   ]
  },
  {
   "cell_type": "code",
   "execution_count": null,
   "id": "8916e3e9-e5f8-4ead-9923-c58e47368871",
   "metadata": {},
   "outputs": [
    {
     "data": {
      "text/plain": [
       "2025-02-23 04:05:23\n"
      ]
     },
     "metadata": {},
     "output_type": "display_data"
    }
   ],
   "source": [
    "print(t1 := datetime.datetime(2025,2,23,4,5,23))   #----> custom date "
   ]
  },
  {
   "cell_type": "code",
   "execution_count": null,
   "id": "28e501d8-1cd4-4432-9c96-b0746e0792bc",
   "metadata": {},
   "outputs": [
    {
     "data": {
      "text/plain": [
       "2025-05-03\n"
      ]
     },
     "metadata": {},
     "output_type": "display_data"
    }
   ],
   "source": [
    "print(datetime.date(2025,5,3))\n"
   ]
  },
  {
   "cell_type": "code",
   "execution_count": null,
   "id": "8d76e110-b9f8-4d46-9d1f-2b69b28f0893",
   "metadata": {},
   "outputs": [
    {
     "data": {
      "text/plain": [
       "11:45:35\n"
      ]
     },
     "metadata": {},
     "output_type": "display_data"
    }
   ],
   "source": [
    "print(datetime.time(11,45,35)) #--->custom time"
   ]
  },
  {
   "cell_type": "code",
   "execution_count": null,
   "id": "95706d5c-332c-427c-862d-4e73a1790768",
   "metadata": {},
   "outputs": [
    {
     "data": {
      "text/plain": [
       "0:00:00\n"
      ]
     },
     "metadata": {},
     "output_type": "display_data"
    }
   ],
   "source": [
    "print(t :=datetime.timedelta())"
   ]
  },
  {
   "cell_type": "code",
   "execution_count": null,
   "id": "2cfb2396-9b84-481d-9e43-50bfe242ffae",
   "metadata": {},
   "outputs": [
    {
     "data": {
      "text/plain": [
       "<datetime.tzinfo object at 0x0000019761988690>\n"
      ]
     },
     "metadata": {},
     "output_type": "display_data"
    }
   ],
   "source": [
    "print(datetime.tzinfo(t1))"
   ]
  },
  {
   "cell_type": "code",
   "execution_count": null,
   "id": "7cceff26-94a9-40c6-8334-16bd73169dfa",
   "metadata": {},
   "outputs": [],
   "source": [
    "# import op"
   ]
  },
  {
   "cell_type": "code",
   "execution_count": null,
   "id": "bfaee4c3",
   "metadata": {},
   "outputs": [],
   "source": []
  }
 ],
 "metadata": {
  "kernelspec": {
   "display_name": "Python 3 (ipykernel)",
   "language": "python",
   "name": "python3"
  },
  "language_info": {
   "codemirror_mode": {
    "name": "ipython",
    "version": 3
   },
   "file_extension": ".py",
   "mimetype": "text/x-python",
   "name": "python",
   "nbconvert_exporter": "python",
   "pygments_lexer": "ipython3",
   "version": "3.11.7"
  },
  "widgets": {
   "application/vnd.jupyter.widget-state+json": {
    "state": {},
    "version_major": 2,
    "version_minor": 0
   }
  }
 },
 "nbformat": 4,
 "nbformat_minor": 5
}
