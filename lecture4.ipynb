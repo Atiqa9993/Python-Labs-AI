{
 "cells": [
  {
   "cell_type": "code",
   "execution_count": 10,
   "id": "1c47dbd5-62a1-456f-a50a-df913e2ae57b",
   "metadata": {},
   "outputs": [],
   "source": [
    "# functions\n",
    "def factorial(x):\n",
    "    if x == 1:\n",
    "        return 1\n",
    "    else:\n",
    "        return x * factorial(x-1)\n"
   ]
  },
  {
   "cell_type": "code",
   "execution_count": 11,
   "id": "223630cc-ea8a-46be-890f-b5c12d57d4dd",
   "metadata": {},
   "outputs": [
    {
     "name": "stdin",
     "output_type": "stream",
     "text": [
      "Enter a number:  5\n"
     ]
    },
    {
     "name": "stdout",
     "output_type": "stream",
     "text": [
      "Factorial is:  120\n"
     ]
    }
   ],
   "source": [
    "x = int(input(\"Enter a number: \"))\n",
    "print(\"Factorial is: \",factorial(x))"
   ]
  },
  {
   "cell_type": "code",
   "execution_count": 10,
   "id": "47720610-a679-4620-9bc6-071e6f90ccce",
   "metadata": {},
   "outputs": [],
   "source": [
    "def result_calculate():\n",
    "    \n",
    "    total_marks = 0\n",
    "    \n",
    "    no_subjects = int(input(\"Enter the number of subjects: \"))\n",
    "    subjects = []\n",
    "    for i in range(no_subjects):\n",
    "        sub = input(f\"Enter the name of subject {i+1}: \")\n",
    "        subjects.append(sub)\n",
    "    \n",
    "    print(\"Subjects are :\", subjects)\n",
    "    marks_format = int(input(\"Enter your marks format (25, 50, 100): \"))\n",
    "        \n",
    "    if marks_format not in [25, 50, 100]:\n",
    "        print(\"Invalid marks format entered!\")\n",
    "    else:\n",
    "        obtain_marks = 0\n",
    "        total_marks = marks_format * len(subjects) \n",
    "    \n",
    "        for sub in subjects:\n",
    "            while True:\n",
    "                try:\n",
    "                    marks = float(input(f\"Enter your marks in {sub}: \"))\n",
    "                    if 0 <= marks <= marks_format:\n",
    "                        obtain_marks += marks\n",
    "                        break\n",
    "                    else:\n",
    "                        print(f\"Marks must be between 0 and {marks_format}. Try again.\")\n",
    "                except ValueError:\n",
    "                    print(\"Invalid input! Please enter numeric marks.\")\n",
    "        percent=(obtain_marks / total_marks) * 100\n",
    "        \n",
    "        print(\"\\nMarks:\")\n",
    "        print(f\"Obtained Marks: {obtain_marks}\")\n",
    "        print(f\"Total Marks: {total_marks}\")\n",
    "        print(f\"Percentage: {percent:.2f} %\")\n",
    "        \n",
    "    "
   ]
  },
  {
   "cell_type": "code",
   "execution_count": 11,
   "id": "4d7c4c97-7913-4a8d-ad5f-72d633325f7f",
   "metadata": {},
   "outputs": [
    {
     "name": "stdin",
     "output_type": "stream",
     "text": [
      "Enter the number of subjects:  3\n",
      "Enter the name of subject 1:  english\n",
      "Enter the name of subject 2:  urdu\n",
      "Enter the name of subject 3:  maths\n"
     ]
    },
    {
     "name": "stdout",
     "output_type": "stream",
     "text": [
      "Subjects are : ['english', 'urdu', 'maths']\n"
     ]
    },
    {
     "name": "stdin",
     "output_type": "stream",
     "text": [
      "Enter your marks format (25, 50, 100):  100\n",
      "Enter your marks in english:  78\n",
      "Enter your marks in urdu:  89\n",
      "Enter your marks in maths:  98\n"
     ]
    },
    {
     "name": "stdout",
     "output_type": "stream",
     "text": [
      "\n",
      "Marks:\n",
      "Obtained Marks: 265.0\n",
      "Total Marks: 300\n",
      "Percentage: 88.33 %\n"
     ]
    }
   ],
   "source": [
    "result_calculate()"
   ]
  },
  {
   "cell_type": "code",
   "execution_count": 23,
   "id": "5d43f975-f389-433f-8a9d-3ceb41a076f2",
   "metadata": {},
   "outputs": [],
   "source": [
    "\n",
    "class Calculator:\n",
    "    def __init__(self, num1, num2):\n",
    "        self.num1=num1\n",
    "        self.num2=num2\n",
    "    def add(self):\n",
    "        return self.num1 + self.num2\n",
    "    def sub(self):\n",
    "        return self.num1 - self.num2\n",
    "    def mul(self):\n",
    "        return self.num1 * self.num2\n",
    "    def mod(self):\n",
    "        if(self.num2==0):\n",
    "            print(\"Invalid denominator\")\n",
    "        else:\n",
    "            return self.num1 % self.num2\n",
    "    def div(self):\n",
    "        if(self.num2==0):\n",
    "            print(\"Invalid denominator\")\n",
    "        else:\n",
    "            return self.num1/self.num2    "
   ]
  },
  {
   "cell_type": "code",
   "execution_count": 24,
   "id": "be3acc54-162e-41b7-ba82-c25590778f17",
   "metadata": {},
   "outputs": [
    {
     "name": "stdin",
     "output_type": "stream",
     "text": [
      "Enter first number:  2\n",
      "Enter second number:  0\n"
     ]
    },
    {
     "name": "stdout",
     "output_type": "stream",
     "text": [
      "2 + 0 = 2\n",
      "2 - 0 = 2\n",
      "2 + 0 = 0\n",
      "Invalid denominator\n",
      "2 / 0 = None\n",
      "Invalid denominator\n",
      "2 % 0 = None\n"
     ]
    }
   ],
   "source": [
    "num1=int(input(\"Enter first number: \"))\n",
    "num2=int(input(\"Enter second number: \"))\n",
    "c1=Calculator(num1,num2)\n",
    "print(f\"{num1} + { num2 } =\",c1.add())\n",
    "print(f\"{num1} - { num2 } =\",c1.sub())\n",
    "print(f\"{num1} + { num2 } =\",c1.mul())\n",
    "print(f\"{num1} / { num2 } =\",c1.div())\n",
    "print(f\"{num1} % { num2 } =\",c1.mod())\n",
    "# print(c1.mul())\n",
    "# print(c1.sub())\n",
    "# print(c1.div())"
   ]
  },
  {
   "cell_type": "code",
   "execution_count": null,
   "id": "827d08b1-8d2a-48e1-b146-01ce99f72a48",
   "metadata": {},
   "outputs": [],
   "source": []
  },
  {
   "cell_type": "code",
   "execution_count": null,
   "id": "37e5dc29-cf6f-405f-a52a-d2d16235d1ce",
   "metadata": {},
   "outputs": [],
   "source": []
  }
 ],
 "metadata": {
  "kernelspec": {
   "display_name": "Python 3 (ipykernel)",
   "language": "python",
   "name": "python3"
  },
  "language_info": {
   "codemirror_mode": {
    "name": "ipython",
    "version": 3
   },
   "file_extension": ".py",
   "mimetype": "text/x-python",
   "name": "python",
   "nbconvert_exporter": "python",
   "pygments_lexer": "ipython3",
   "version": "3.11.7"
  }
 },
 "nbformat": 4,
 "nbformat_minor": 5
}
