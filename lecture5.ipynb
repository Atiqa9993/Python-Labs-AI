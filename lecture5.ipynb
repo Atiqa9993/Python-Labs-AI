{
 "cells": [
  {
   "cell_type": "code",
   "execution_count": 18,
   "id": "2fdcf663-88ae-47fc-8de3-f79e50feaf32",
   "metadata": {},
   "outputs": [],
   "source": [
    "# polymorphism\n",
    "# same function used in different calsses\n",
    "\n",
    "class Vechical:\n",
    "    def __init__(self, name, model, color):\n",
    "        self.name=name\n",
    "        self.model=model\n",
    "        self.color=color\n",
    "\n",
    "    def move(self):\n",
    "        print(\"Vechical is moving\")\n",
    "\n",
    "\n",
    "    def show(self):\n",
    "        print(f\"Vechical: {self.name} Model: {self.model} Color: {self.color}\" )\n",
    "\n",
    "\n",
    "\n",
    "class Car(Vechical):\n",
    "    def move(self):\n",
    "        print(\"car get started\")\n",
    "\n",
    "class Plane(Car):\n",
    "    def move(self):\n",
    "        print(\"Plane fly\")\n",
    "    "
   ]
  },
  {
   "cell_type": "code",
   "execution_count": 19,
   "id": "da6283cd-b837-483a-9635-38f1b25b4d7a",
   "metadata": {},
   "outputs": [],
   "source": [
    "c1=Car(\"Suziki\",\"DFDG43\",\"White\")"
   ]
  },
  {
   "cell_type": "code",
   "execution_count": 20,
   "id": "e179f366-b0b0-42ff-b8cb-4da764cee541",
   "metadata": {},
   "outputs": [
    {
     "name": "stdout",
     "output_type": "stream",
     "text": [
      "Vechical: Suziki Model: DFDG43 Color: White\n",
      "car get started\n"
     ]
    }
   ],
   "source": [
    "c1.show()\n",
    "c1.move()"
   ]
  },
  {
   "cell_type": "code",
   "execution_count": 21,
   "id": "34191791-5117-4fc8-9aa2-98ea9212d3c2",
   "metadata": {},
   "outputs": [],
   "source": [
    "p1=Plane(\"Qatar Airlines\",\"FG56\",\"White\")"
   ]
  },
  {
   "cell_type": "code",
   "execution_count": 22,
   "id": "4a8efd34-1100-49f2-852c-37525378bb9b",
   "metadata": {},
   "outputs": [
    {
     "name": "stdout",
     "output_type": "stream",
     "text": [
      "Plane fly\n"
     ]
    }
   ],
   "source": [
    "p1.move()"
   ]
  },
  {
   "cell_type": "code",
   "execution_count": 33,
   "id": "73e0027a-0816-47f1-8d01-14926ffa720d",
   "metadata": {},
   "outputs": [],
   "source": [
    "# Abstraction\n",
    "\n",
    "from abc import ABC,abstractmethod"
   ]
  },
  {
   "cell_type": "code",
   "execution_count": 97,
   "id": "ed88ad56-1c05-44d0-844c-328fd2ee53bd",
   "metadata": {},
   "outputs": [],
   "source": [
    "class Person(ABC):\n",
    "    def __init__(self, name, id, profession):\n",
    "        self.name=name\n",
    "        self.id=id\n",
    "        self._profession=profession\n",
    "        \n",
    "    @abstractmethod\n",
    "    def profession(self):\n",
    "        pass\n",
    "    "
   ]
  },
  {
   "cell_type": "code",
   "execution_count": 100,
   "id": "dcd833f6-d1fe-4bb4-957c-de56f26fe188",
   "metadata": {},
   "outputs": [],
   "source": [
    "class Student(Person):\n",
    "    def p1(self):\n",
    "        print(\"Base\")\n",
    "    def profession(self):\n",
    "        print(f\"Profession is {self._profession}\")\n",
    "    \n",
    "# class Employee(Person):\n",
    "#     def profession(self):\n",
    "#         print(f\"Profession is {self.profession}\")"
   ]
  },
  {
   "cell_type": "code",
   "execution_count": 104,
   "id": "5cbf1446-43ce-422a-805c-00ad9271c0c8",
   "metadata": {},
   "outputs": [],
   "source": [
    "s1=Student(\"Ahmed\",\"2300\",\"student\")\n",
    "s2=Student(\"Raza \",\"3000\",\"Programmer\")\n"
   ]
  },
  {
   "cell_type": "code",
   "execution_count": 105,
   "id": "2b05e05d-dff9-4f69-89d0-04db6c969491",
   "metadata": {},
   "outputs": [
    {
     "name": "stdout",
     "output_type": "stream",
     "text": [
      "Profession is student\n",
      "Profession is Programmer\n"
     ]
    }
   ],
   "source": [
    "s1.profession()\n",
    "s2.profession()"
   ]
  },
  {
   "cell_type": "code",
   "execution_count": 222,
   "id": "af858eb8-9f8b-4e39-ba07-0006e8dd2ed6",
   "metadata": {},
   "outputs": [],
   "source": [
    "# Encapsulation\n",
    "\n",
    "#----------> public accessed by all classes and sub classes\n",
    "#----------> __private restricted to the class only\n",
    "#---------->_protected accessible by the base class or sub classes\n",
    "\n",
    "class Employee:\n",
    "    def __init__(self,name,id,password):\n",
    "        self.name=name\n",
    "        self.id=id\n",
    "        self.__password=password\n",
    "        \n",
    "    def showinfo(self):\n",
    "        print(f\"Name: {self.name} ID: {self.id} Password: {self.__password}\")\n",
    "        \n"
   ]
  },
  {
   "cell_type": "code",
   "execution_count": 230,
   "id": "8e45c8c6-3f21-4a97-a77d-54fe97e1ee4e",
   "metadata": {},
   "outputs": [],
   "source": [
    "class Manager(Employee):\n",
    "    def __init__(self,prof):\n",
    "        self.prof=prof    \n",
    "        "
   ]
  },
  {
   "cell_type": "code",
   "execution_count": 231,
   "id": "c7030cb0-c0c9-4ab1-a08e-9287a90f6430",
   "metadata": {},
   "outputs": [],
   "source": [
    "e1=Employee(\"Ahmed\",2300,\"abc@123\")"
   ]
  },
  {
   "cell_type": "code",
   "execution_count": 232,
   "id": "73adf0e1-6286-4ddc-ace1-bbc90a5f44f0",
   "metadata": {},
   "outputs": [
    {
     "name": "stdout",
     "output_type": "stream",
     "text": [
      "Name: Ahmed ID: 2300 Password: abc@123\n"
     ]
    }
   ],
   "source": [
    "e1.showinfo()"
   ]
  },
  {
   "cell_type": "code",
   "execution_count": 233,
   "id": "1cbad8e2-062a-466b-8c30-13a29e7fe8a4",
   "metadata": {},
   "outputs": [],
   "source": [
    "e1.name=\"Faraz\""
   ]
  },
  {
   "cell_type": "code",
   "execution_count": 234,
   "id": "d6de7bf5-933d-45df-8271-1be854704b25",
   "metadata": {},
   "outputs": [
    {
     "name": "stdout",
     "output_type": "stream",
     "text": [
      "Name: Faraz ID: 2300 Password: abc@123\n"
     ]
    }
   ],
   "source": [
    "e1.showinfo()"
   ]
  },
  {
   "cell_type": "code",
   "execution_count": 238,
   "id": "ca1a8c45-4d11-4f73-b685-c6a8012edb43",
   "metadata": {},
   "outputs": [
    {
     "data": {
      "text/plain": [
       "'developer'"
      ]
     },
     "execution_count": 238,
     "metadata": {},
     "output_type": "execute_result"
    }
   ],
   "source": [
    "m1=Manager(\"developer\")\n",
    "m1.prof\n"
   ]
  },
  {
   "cell_type": "code",
   "execution_count": 5,
   "id": "a4fa682b-34a3-4c1f-a692-fac458bd8295",
   "metadata": {},
   "outputs": [],
   "source": [
    "class BankAccount:\n",
    "    def __init__(self, name, balance ,password):\n",
    "        self.name=name          #----> public\n",
    "        self\n",
    "        self._password=password #----> _protected\n",
    "        self.__pin=\"5050\"       #----> __private    \n",
    "               # Public method\n",
    "    def show_balance(self):\n",
    "        print(f\"Account holder: {self.name}, Balance: ${self.balance}\")\n",
    "        \n",
    "        # Protected method\n",
    "    def _change_password(self, new_password):\n",
    "        self._password = new_password\n",
    "        print(\"Password updated successfully.\")\n",
    "        \n",
    "        # Private method\n",
    "    def __access_secret_pin(self):\n",
    "        return self.__secret_pin\n"
   ]
  },
  {
   "cell_type": "code",
   "execution_count": 6,
   "id": "c174d1df-69a2-4eb2-aecf-e2ad39d12e44",
   "metadata": {},
   "outputs": [],
   "source": [
    "b1=BankAccount(\"Atiqa\",30000,\"1234\")"
   ]
  },
  {
   "cell_type": "code",
   "execution_count": 7,
   "id": "e116bc82-1537-4bde-ba00-b2d2e826d573",
   "metadata": {},
   "outputs": [
    {
     "ename": "AttributeError",
     "evalue": "'BankAccount' object has no attribute 'balance'",
     "output_type": "error",
     "traceback": [
      "\u001b[1;31m---------------------------------------------------------------------------\u001b[0m",
      "\u001b[1;31mAttributeError\u001b[0m                            Traceback (most recent call last)",
      "Cell \u001b[1;32mIn[7], line 1\u001b[0m\n\u001b[1;32m----> 1\u001b[0m b1\u001b[38;5;241m.\u001b[39mshow_balance()\n",
      "Cell \u001b[1;32mIn[5], line 8\u001b[0m, in \u001b[0;36mBankAccount.show_balance\u001b[1;34m(self)\u001b[0m\n\u001b[0;32m      7\u001b[0m \u001b[38;5;28;01mdef\u001b[39;00m \u001b[38;5;21mshow_balance\u001b[39m(\u001b[38;5;28mself\u001b[39m):\n\u001b[1;32m----> 8\u001b[0m     \u001b[38;5;28mprint\u001b[39m(\u001b[38;5;124mf\u001b[39m\u001b[38;5;124m\"\u001b[39m\u001b[38;5;124mAccount holder: \u001b[39m\u001b[38;5;132;01m{\u001b[39;00m\u001b[38;5;28mself\u001b[39m\u001b[38;5;241m.\u001b[39mname\u001b[38;5;132;01m}\u001b[39;00m\u001b[38;5;124m, Balance: $\u001b[39m\u001b[38;5;132;01m{\u001b[39;00m\u001b[38;5;28mself\u001b[39m\u001b[38;5;241m.\u001b[39mbalance\u001b[38;5;132;01m}\u001b[39;00m\u001b[38;5;124m\"\u001b[39m)\n",
      "\u001b[1;31mAttributeError\u001b[0m: 'BankAccount' object has no attribute 'balance'"
     ]
    }
   ],
   "source": [
    "b1.show_balance()"
   ]
  },
  {
   "cell_type": "code",
   "execution_count": 4,
   "id": "e85388dc-d200-42d3-8698-2550e18147c2",
   "metadata": {},
   "outputs": [
    {
     "name": "stdout",
     "output_type": "stream",
     "text": [
      "Ali\n",
      "mypassword123\n",
      "1234\n"
     ]
    }
   ],
   "source": [
    "class BankAccount:\n",
    "    def __init__(self, name, balance, password):\n",
    "        self.name = name                # Public attribute\n",
    "        self._password = password       # Protected attribute\n",
    "        self.__secret_pin = \"1234\"      # Private attribute\n",
    "    \n",
    "    # Public method\n",
    "    def show_balance(self):\n",
    "        print(f\"Account holder: {self.name}, Balance: ${self.balance}\")\n",
    "    \n",
    "    # Protected method\n",
    "    def _change_password(self, new_password):\n",
    "        self._password = new_password\n",
    "        print(\"Password updated successfully.\")\n",
    "    \n",
    "    # Private method\n",
    "    def __access_secret_pin(self):\n",
    "        return self.__secret_pin\n",
    "\n",
    "# Object create karte hain\n",
    "account = BankAccount(\"Ali\", 5000, \"mypassword123\")\n",
    "\n",
    "# Public: Directly accessible\n",
    "print(account.name)  # Output: Ali\n",
    "\n",
    "# Protected: Technically accessible, but not recommended\n",
    "print(account._password)  # Output: mypassword123\n",
    "\n",
    "# Private: Direct access not allowed\n",
    "# print(account.__secret_pin)  # Error: 'BankAccount' object has no attribute '__secret_pin'\n",
    "\n",
    "# Access private using name mangling (not recommended)\n",
    "print(account._BankAccount__secret_pin)  # Output: 1234\n"
   ]
  },
  {
   "cell_type": "code",
   "execution_count": null,
   "id": "17727b01-7888-49ad-acdf-f8b3e5d2cb6d",
   "metadata": {},
   "outputs": [],
   "source": []
  }
 ],
 "metadata": {
  "kernelspec": {
   "display_name": "Python 3 (ipykernel)",
   "language": "python",
   "name": "python3"
  },
  "language_info": {
   "codemirror_mode": {
    "name": "ipython",
    "version": 3
   },
   "file_extension": ".py",
   "mimetype": "text/x-python",
   "name": "python",
   "nbconvert_exporter": "python",
   "pygments_lexer": "ipython3",
   "version": "3.11.7"
  }
 },
 "nbformat": 4,
 "nbformat_minor": 5
}
