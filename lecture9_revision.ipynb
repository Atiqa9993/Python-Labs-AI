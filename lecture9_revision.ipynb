{
 "cells": [
  {
   "cell_type": "code",
   "execution_count": 1,
   "metadata": {},
   "outputs": [
    {
     "name": "stdout",
     "output_type": "stream",
     "text": [
      "<class 'int'>\n",
      "<class 'float'>\n",
      "<class 'str'>\n",
      "<class 'bool'>\n"
     ]
    }
   ],
   "source": [
    "# datatype and variables\n",
    "x=34\n",
    "y=23.3\n",
    "z=\"Sonia\"\n",
    "r=True\n",
    "\n",
    "print(type(x))\n",
    "print(type(y))\n",
    "print(type(z))\n",
    "print(type(r))\n"
   ]
  },
  {
   "cell_type": "code",
   "execution_count": 3,
   "metadata": {},
   "outputs": [],
   "source": [
    "# string operations\n",
    "\n",
    "string=\"Hello codding World \"\n"
   ]
  },
  {
   "cell_type": "code",
   "execution_count": 4,
   "metadata": {},
   "outputs": [
    {
     "name": "stdout",
     "output_type": "stream",
     "text": [
      "20\n",
      "hello codding world \n",
      "HELLO CODDING WORLD \n",
      "Hello codding world \n",
      "Hi codding World \n"
     ]
    }
   ],
   "source": [
    "print(len(string))\n",
    "print(string.lower())\n",
    "print(string.upper())\n",
    "print(string.capitalize())\n",
    "print(string.replace(\"Hello\",\"Hi\"))"
   ]
  },
  {
   "cell_type": "code",
   "execution_count": 5,
   "metadata": {},
   "outputs": [
    {
     "name": "stdout",
     "output_type": "stream",
     "text": [
      "Hello\n",
      "d\n",
      "Hello cod\n",
      "lo codding World \n",
      "Hello codding World \n",
      "lo codding Worl\n",
      "Hello codd\n"
     ]
    }
   ],
   "source": [
    "# slicing\n",
    "print(string[0:5])\n",
    "print(string[8])\n",
    "print(string[:9])\n",
    "print(string[3:])\n",
    "print(string[:])\n",
    "print(string[3:-2])\n",
    "print(string[:-10])"
   ]
  },
  {
   "cell_type": "code",
   "execution_count": 6,
   "metadata": {},
   "outputs": [
    {
     "name": "stdout",
     "output_type": "stream",
     "text": [
      "We are practicing different python topics.\n"
     ]
    }
   ],
   "source": [
    "# string special methods\n",
    "string2= \"We are practicing different python topics.\"\n",
    "print(string2)\n"
   ]
  },
  {
   "cell_type": "code",
   "execution_count": 7,
   "metadata": {},
   "outputs": [
    {
     "name": "stdout",
     "output_type": "stream",
     "text": [
      "We are practicing different python topics.\n",
      "False\n",
      "True\n",
      "False\n",
      "True\n",
      "['We', 'are', 'practicing', 'different', 'python', 'topics.']\n",
      "6\n",
      "We,are,practicing,different,python,topics.\n"
     ]
    }
   ],
   "source": [
    "print(string2.strip())  #--> remove all the leading spaces\n",
    "print(string2.startswith(\"h\"))\n",
    "print(string2.startswith(\"W\"))\n",
    "print(string2.startswith(\"w\"))\n",
    "print(string2.endswith(\".\"))\n",
    "string3=string2.split(\" \")\n",
    "print(string3)\n",
    "print(len(string3))\n",
    "print(string2.replace(\" \",\",\"))"
   ]
  },
  {
   "cell_type": "code",
   "execution_count": 8,
   "metadata": {},
   "outputs": [
    {
     "name": "stdout",
     "output_type": "stream",
     "text": [
      "Yes it is greater\n"
     ]
    }
   ],
   "source": [
    "# conditions \n",
    "\n",
    "if 34 > 23:\n",
    "    print(\"Yes it is greater\")"
   ]
  },
  {
   "cell_type": "code",
   "execution_count": 9,
   "metadata": {},
   "outputs": [
    {
     "name": "stdout",
     "output_type": "stream",
     "text": [
      "length of string2 is greater\n"
     ]
    }
   ],
   "source": [
    "if len(string2) > len(string):\n",
    "    print(\"length of string2 is greater\")\n",
    "else:\n",
    "    print(\"len of string is greater\")"
   ]
  },
  {
   "cell_type": "code",
   "execution_count": 13,
   "metadata": {},
   "outputs": [
    {
     "name": "stdout",
     "output_type": "stream",
     "text": [
      "you are enough young\n"
     ]
    }
   ],
   "source": [
    "age=45\n",
    "\n",
    "if age > 0 and age < 12 :\n",
    "    print(\"You are child\")\n",
    "elif age >= 12 and age <20:\n",
    "    print(\"You are adult\")\n",
    "elif age<30 and age>20:\n",
    "    print(\"You are in your early 20s\")\n",
    "elif age<40 and age>00:\n",
    "    print(\"You are in your early 30s\")\n",
    "elif age > 40 :\n",
    "    print(\"you are enough young\")"
   ]
  },
  {
   "cell_type": "code",
   "execution_count": 17,
   "metadata": {},
   "outputs": [
    {
     "name": "stdout",
     "output_type": "stream",
     "text": [
      "number is 0\n"
     ]
    }
   ],
   "source": [
    "# nested if else \n",
    "num=0\n",
    "if num > 0:\n",
    "    print(\"positive number: \")\n",
    "    if (num%2==0):\n",
    "        print(\"Even num\")\n",
    "    else:\n",
    "        print(\"Odd num\")\n",
    "elif num<0:\n",
    "    print(\"Negative number\")\n",
    "\n",
    "else:\n",
    "    print(\"number is 0\")\n"
   ]
  },
  {
   "cell_type": "code",
   "execution_count": 8,
   "metadata": {},
   "outputs": [
    {
     "name": "stdout",
     "output_type": "stream",
     "text": [
      "anam\n",
      "45\n",
      "HKHJ\n",
      "213.45\n",
      "True\n",
      "Rehmat\n"
     ]
    }
   ],
   "source": [
    "# loops\n",
    "list=[\"anam\",45,\"HKHJ\",213.45,True,\"Rehmat\"]\n",
    "\n",
    "# for i in range(0,len(list)):  #---> range is used to access individual items of list\n",
    "#     print(list[i])\n",
    "\n",
    "\n",
    "for i in list:  #---> range is used to access individual items of list\n",
    "    print(i)"
   ]
  },
  {
   "cell_type": "code",
   "execution_count": 27,
   "metadata": {},
   "outputs": [
    {
     "name": "stdout",
     "output_type": "stream",
     "text": [
      "anam\n",
      "45\n",
      "HKHJ\n",
      "213.45\n",
      "True\n",
      "Rehmat\n"
     ]
    }
   ],
   "source": [
    "i=0\n",
    "while(i<len(list)):\n",
    "    print(list[i])\n",
    "    i=i+1"
   ]
  },
  {
   "cell_type": "code",
   "execution_count": 5,
   "metadata": {},
   "outputs": [
    {
     "name": "stdout",
     "output_type": "stream",
     "text": [
      "1 X 3 =  3\n",
      "2 X 3 =  6\n",
      "3 X 3 =  9\n",
      "4 X 3 =  12\n",
      "5 X 3 =  15\n",
      "Out of whle loop\n"
     ]
    }
   ],
   "source": [
    "i=1\n",
    "num=3\n",
    "while i < 11:\n",
    "    print(f\"{i} X {num} = \",i*num)\n",
    "    if i==5:\n",
    "        break\n",
    "    i=i+1\n",
    "\n",
    "print(\"Out of whle loop\")"
   ]
  },
  {
   "cell_type": "code",
   "execution_count": 2,
   "metadata": {},
   "outputs": [
    {
     "name": "stdout",
     "output_type": "stream",
     "text": [
      "1\n",
      "3\n",
      "5\n",
      "7\n",
      "9\n"
     ]
    }
   ],
   "source": [
    "for i in range(1, 10):\n",
    "    if i % 2 == 0:\n",
    "        continue  # Skip even numbers\n",
    "    print(i)"
   ]
  },
  {
   "cell_type": "code",
   "execution_count": 3,
   "metadata": {},
   "outputs": [
    {
     "name": "stdout",
     "output_type": "stream",
     "text": [
      "2\n",
      "4\n",
      "6\n",
      "8\n"
     ]
    }
   ],
   "source": [
    "for  i in  range(1,10):\n",
    "    if i%2!=0:\n",
    "        continue\n",
    "    print(i)"
   ]
  },
  {
   "cell_type": "code",
   "execution_count": 4,
   "metadata": {},
   "outputs": [
    {
     "name": "stdout",
     "output_type": "stream",
     "text": [
      "0\n",
      "1\n",
      "2\n",
      "3\n",
      "4\n"
     ]
    }
   ],
   "source": [
    "for i in range(5):\n",
    "    if i == 3:\n",
    "        pass  # Placeholder\n",
    "    print(i)\n"
   ]
  },
  {
   "cell_type": "code",
   "execution_count": 7,
   "metadata": {},
   "outputs": [
    {
     "name": "stdout",
     "output_type": "stream",
     "text": [
      "1\n",
      "2\n",
      "4\n",
      "5\n",
      "7\n",
      "8\n",
      "10\n",
      "11\n",
      "13\n",
      "14\n"
     ]
    }
   ],
   "source": [
    "for i in range(1,21):\n",
    "    if i%3 == 0:\n",
    "        if i==15:\n",
    "            break\n",
    "        continue\n",
    "    print(i)\n"
   ]
  },
  {
   "cell_type": "code",
   "execution_count": 9,
   "metadata": {},
   "outputs": [
    {
     "name": "stdout",
     "output_type": "stream",
     "text": [
      "1 X 3 = 3\n",
      "2 X 3 = 6\n",
      "3 X 3 = 9\n",
      "4 X 3 = 12\n",
      "5 X 3 = 15\n",
      "6 X 3 = 18\n",
      "7 X 3 = 21\n",
      "8 X 3 = 24\n",
      "9 X 3 = 27\n",
      "10 X 3 = 30\n"
     ]
    }
   ],
   "source": [
    "num=3\n",
    "for i in range(1,11):\n",
    "    print(f\"{i} X {num} =\",i*num)"
   ]
  },
  {
   "cell_type": "code",
   "execution_count": 12,
   "metadata": {},
   "outputs": [
    {
     "name": "stdout",
     "output_type": "stream",
     "text": [
      "Good morning Minal\n"
     ]
    }
   ],
   "source": [
    "name=\"Minal\"\n",
    "def greet():\n",
    "    print(f\"Good morning {name}\")\n",
    "greet()"
   ]
  },
  {
   "cell_type": "code",
   "execution_count": 14,
   "metadata": {},
   "outputs": [
    {
     "name": "stdout",
     "output_type": "stream",
     "text": [
      "Welcome samra\n"
     ]
    }
   ],
   "source": [
    "def greet(name):\n",
    "    print(f\"Welcome {name}\")\n",
    "\n",
    "greet(\"Samra\")"
   ]
  },
  {
   "cell_type": "code",
   "execution_count": 16,
   "metadata": {},
   "outputs": [
    {
     "name": "stdout",
     "output_type": "stream",
     "text": [
      "Square is : 9\n",
      "Square is : 16\n",
      "Square is : 25\n",
      "Square is : 36\n"
     ]
    }
   ],
   "source": [
    "def square(n):\n",
    "    return n*n\n",
    "\n",
    "print(\"Square is :\",square(3))\n",
    "print(\"Square is :\",square(4))\n",
    "print(\"Square is :\",square(5))\n",
    "print(\"Square is :\",square(6))"
   ]
  },
  {
   "cell_type": "code",
   "execution_count": 19,
   "metadata": {},
   "outputs": [
    {
     "name": "stdout",
     "output_type": "stream",
     "text": [
      "Rumi: Good Evening\n"
     ]
    }
   ],
   "source": [
    "def greet(name,message=\"Good Evening\"):  #--> Default arguments\n",
    "    print(f\"{name}: {message}\")\n",
    "\n",
    "greet(\"Rumi\")\n"
   ]
  },
  {
   "cell_type": "code",
   "execution_count": 20,
   "metadata": {},
   "outputs": [
    {
     "name": "stdout",
     "output_type": "stream",
     "text": [
      "Simran You are always welcome\n"
     ]
    }
   ],
   "source": [
    "def Greet(name,message):\n",
    "    print(f\"{name} {message}\")\n",
    "\n",
    "\n",
    "name=\"Simran\"\n",
    "message=\"You are always welcome\"\n",
    "Greet(name,message)"
   ]
  },
  {
   "cell_type": "code",
   "execution_count": 24,
   "metadata": {},
   "outputs": [
    {
     "name": "stdout",
     "output_type": "stream",
     "text": [
      "Name: Ali, Age: 20\n"
     ]
    }
   ],
   "source": [
    "def student_info(name, age):\n",
    "    print(f\"Name: {name}, Age: {age}\")\n",
    "\n",
    "student_info(name=\"Ali\",age=20)"
   ]
  },
  {
   "cell_type": "code",
   "execution_count": 25,
   "metadata": {},
   "outputs": [],
   "source": [
    "x=9\n",
    "def globall():\n",
    "    global x\n",
    "    x=3\n",
    "    print(f\"value of x is {x}\")"
   ]
  },
  {
   "cell_type": "code",
   "execution_count": 26,
   "metadata": {},
   "outputs": [
    {
     "name": "stdout",
     "output_type": "stream",
     "text": [
      "value of x is 3\n"
     ]
    }
   ],
   "source": [
    "globall()"
   ]
  },
  {
   "cell_type": "code",
   "execution_count": 36,
   "metadata": {},
   "outputs": [],
   "source": [
    "# lambda functions\n",
    "add=lambda a:a+a\n",
    "# print(add(3,4))"
   ]
  },
  {
   "cell_type": "code",
   "execution_count": 37,
   "metadata": {},
   "outputs": [
    {
     "data": {
      "text/plain": [
       "9"
      ]
     },
     "execution_count": 37,
     "metadata": {},
     "output_type": "execute_result"
    }
   ],
   "source": [
    "def apply(fx,value):\n",
    "    return 5+fx(value)\n",
    "apply(add,2)"
   ]
  },
  {
   "cell_type": "code",
   "execution_count": 38,
   "metadata": {},
   "outputs": [],
   "source": [
    "cube=lambda x: x*x*x"
   ]
  },
  {
   "cell_type": "code",
   "execution_count": 39,
   "metadata": {},
   "outputs": [
    {
     "name": "stdout",
     "output_type": "stream",
     "text": [
      "125\n"
     ]
    }
   ],
   "source": [
    "print(cube(5))"
   ]
  },
  {
   "cell_type": "code",
   "execution_count": 40,
   "metadata": {},
   "outputs": [
    {
     "name": "stdout",
     "output_type": "stream",
     "text": [
      "29\n"
     ]
    }
   ],
   "source": [
    "def cal(cube,num):\n",
    "    return 2 + cube(num)\n",
    "\n",
    "print(cal(cube,3))"
   ]
  },
  {
   "cell_type": "code",
   "execution_count": 45,
   "metadata": {},
   "outputs": [
    {
     "name": "stdout",
     "output_type": "stream",
     "text": [
      "120\n",
      "720\n",
      "5040\n"
     ]
    }
   ],
   "source": [
    "def fact(n):\n",
    "    if n == 1:\n",
    "        return 1\n",
    "    else:\n",
    "        return n * fact(n-1)\n",
    "    \n",
    "print(fact(5))\n",
    "print(fact(6))\n",
    "print(fact(7))\n",
    "    "
   ]
  },
  {
   "cell_type": "code",
   "execution_count": 51,
   "metadata": {},
   "outputs": [
    {
     "name": "stdout",
     "output_type": "stream",
     "text": [
      "minmum is  1\n"
     ]
    }
   ],
   "source": [
    "def mininum(list):\n",
    "    return min(list)\n",
    "\n",
    "print(\"minmum is \",mininum(list := [3,2,5,7,30,34,32,1,]))"
   ]
  },
  {
   "cell_type": "code",
   "execution_count": 58,
   "metadata": {},
   "outputs": [],
   "source": [
    "e=lambda x: x % 2 == 0\n",
    "\n"
   ]
  },
  {
   "cell_type": "code",
   "execution_count": 59,
   "metadata": {},
   "outputs": [
    {
     "name": "stdout",
     "output_type": "stream",
     "text": [
      "True\n"
     ]
    }
   ],
   "source": [
    "print(e(4))"
   ]
  },
  {
   "cell_type": "code",
   "execution_count": 1,
   "metadata": {},
   "outputs": [],
   "source": [
    "list=[3,5,21,\"Ahmed\",\"orange\",True,34.43]"
   ]
  },
  {
   "cell_type": "code",
   "execution_count": 2,
   "metadata": {},
   "outputs": [
    {
     "name": "stdout",
     "output_type": "stream",
     "text": [
      "[3, 5, 21, 'Ahmed', 'orange', 'Ali', True, 34.43, 'onion']\n",
      "Ahmed\n",
      "True\n",
      "9\n"
     ]
    }
   ],
   "source": [
    "list.append(\"onion\") #--> add value at the end\n",
    "list.insert(5,\"Ali\") #--> Add value in specific index\n",
    "print(list)\n",
    "print(list[3])\n",
    "print(list[-3])\n",
    "print(len(list))\n"
   ]
  },
  {
   "cell_type": "code",
   "execution_count": 3,
   "metadata": {},
   "outputs": [
    {
     "name": "stdout",
     "output_type": "stream",
     "text": [
      "[3, 5, 21, 'orange', 'Ali', True, 34.43, 'onion']\n"
     ]
    }
   ],
   "source": [
    "list.remove(\"Ahmed\")\n",
    "print(list)"
   ]
  },
  {
   "cell_type": "code",
   "execution_count": 4,
   "metadata": {},
   "outputs": [
    {
     "name": "stdout",
     "output_type": "stream",
     "text": [
      "[3, 5, 21, 'orange', 'Ali', True, 34.43]\n"
     ]
    }
   ],
   "source": [
    "list.pop()\n",
    "print(list)"
   ]
  },
  {
   "cell_type": "code",
   "execution_count": null,
   "metadata": {},
   "outputs": [
    {
     "name": "stdout",
     "output_type": "stream",
     "text": [
      "3\n",
      "5\n",
      "21\n",
      "orange\n",
      "Ali\n",
      "True\n",
      "34.43\n"
     ]
    }
   ],
   "source": [
    "for item in list:\n",
    "    print(item)"
   ]
  },
  {
   "cell_type": "code",
   "execution_count": 9,
   "metadata": {},
   "outputs": [],
   "source": [
    "tup=(6.99,\"nomi\",45,87,1,True)"
   ]
  },
  {
   "cell_type": "code",
   "execution_count": 10,
   "metadata": {},
   "outputs": [
    {
     "name": "stdout",
     "output_type": "stream",
     "text": [
      "(6.99, 'nomi', 45, 87, 1, True)\n"
     ]
    }
   ],
   "source": [
    "print(tup)"
   ]
  },
  {
   "cell_type": "code",
   "execution_count": 24,
   "metadata": {},
   "outputs": [],
   "source": [
    "dict={\n",
    "    \"name\":\"Raza\",\n",
    "    \"Age\":34,\n",
    "    \"profession\":\"doctor\"\n",
    "\n",
    "}"
   ]
  },
  {
   "cell_type": "code",
   "execution_count": 25,
   "metadata": {},
   "outputs": [
    {
     "name": "stdout",
     "output_type": "stream",
     "text": [
      "Raza\n"
     ]
    }
   ],
   "source": [
    "print(dict[\"name\"])\n"
   ]
  },
  {
   "cell_type": "code",
   "execution_count": 26,
   "metadata": {},
   "outputs": [],
   "source": [
    "dict[\"profession\"]=\"Ceveloper\""
   ]
  },
  {
   "cell_type": "code",
   "execution_count": 27,
   "metadata": {},
   "outputs": [
    {
     "name": "stdout",
     "output_type": "stream",
     "text": [
      "{'name': 'Raza', 'Age': 34, 'profession': 'Ceveloper'}\n"
     ]
    }
   ],
   "source": [
    "print(dict)"
   ]
  },
  {
   "cell_type": "code",
   "execution_count": 28,
   "metadata": {},
   "outputs": [
    {
     "name": "stdout",
     "output_type": "stream",
     "text": [
      "{'name': 'Raza', 'profession': 'Ceveloper'}\n"
     ]
    }
   ],
   "source": [
    "del dict[\"Age\"]\n",
    "print(dict)"
   ]
  },
  {
   "cell_type": "code",
   "execution_count": 31,
   "metadata": {},
   "outputs": [
    {
     "name": "stdout",
     "output_type": "stream",
     "text": [
      "name: Raza\n",
      "profession: Ceveloper\n"
     ]
    }
   ],
   "source": [
    "for key, value in dict.items():\n",
    "    print(f\"{key}: {value}\")\n"
   ]
  },
  {
   "cell_type": "code",
   "execution_count": 36,
   "metadata": {},
   "outputs": [
    {
     "name": "stdout",
     "output_type": "stream",
     "text": [
      "\n",
      "hello\n",
      "We have learnt\n",
      "1. Read\n",
      "2. Write\n",
      "3. append\n",
      "4. readlines\n",
      "5. write lines\n"
     ]
    }
   ],
   "source": [
    "file=open(\"test\",\"r\")\n",
    "print(file.read())"
   ]
  },
  {
   "cell_type": "code",
   "execution_count": 34,
   "metadata": {},
   "outputs": [],
   "source": [
    "with open(\"test\",\"r\") as f:\n",
    "    text=f.read()"
   ]
  },
  {
   "cell_type": "code",
   "execution_count": 35,
   "metadata": {},
   "outputs": [
    {
     "name": "stdout",
     "output_type": "stream",
     "text": [
      "\n",
      "hello\n",
      "We have learnt\n",
      "1. Read\n",
      "2. Write\n",
      "3. append\n",
      "4. readlines\n",
      "5. write lines\n"
     ]
    }
   ],
   "source": [
    "print(text)"
   ]
  },
  {
   "cell_type": "code",
   "execution_count": 2,
   "metadata": {},
   "outputs": [],
   "source": [
    "with open(\"test\",\"w\") as f:\n",
    "    f.write(\"we are learning python\")\n",
    "    f.close()\n"
   ]
  },
  {
   "cell_type": "code",
   "execution_count": 4,
   "metadata": {},
   "outputs": [
    {
     "name": "stdout",
     "output_type": "stream",
     "text": [
      "we are learning python\n"
     ]
    }
   ],
   "source": [
    "with open(\"test\",\"r\") as f:\n",
    "    print(f.read())"
   ]
  },
  {
   "cell_type": "code",
   "execution_count": 8,
   "metadata": {},
   "outputs": [],
   "source": [
    "with open(\"test\",\"a\") as f:\n",
    "    f.write(\"This is the intro to python series\")\n",
    "    f.close()"
   ]
  },
  {
   "cell_type": "code",
   "execution_count": 2,
   "metadata": {},
   "outputs": [
    {
     "name": "stdout",
     "output_type": "stream",
     "text": [
      "we are learning pythonThis is the intro to python seriesThis is the intro to python series\n"
     ]
    }
   ],
   "source": [
    "with open(\"test\",\"r\") as f:\n",
    "    print(f.read())\n"
   ]
  },
  {
   "cell_type": "code",
   "execution_count": 14,
   "metadata": {},
   "outputs": [],
   "source": [
    "list=[\"\\nhello\",\"\\n1 Ahmed\",\"\\n2 Alice\",\"\\n3 Raza\"]\n",
    "\n",
    "with open(\"test\",\"w\") as f:\n",
    "    f.writelines(list)\n",
    "    f.close()"
   ]
  },
  {
   "cell_type": "code",
   "execution_count": 15,
   "metadata": {},
   "outputs": [
    {
     "name": "stdout",
     "output_type": "stream",
     "text": [
      "\n",
      "hello\n",
      "1 Ahmed\n",
      "2 Alice\n",
      "3 Raza\n"
     ]
    }
   ],
   "source": [
    "with open(\"test\",\"r\") as f:\n",
    "    print(f.read())"
   ]
  },
  {
   "cell_type": "code",
   "execution_count": null,
   "metadata": {},
   "outputs": [],
   "source": []
  }
 ],
 "metadata": {
  "kernelspec": {
   "display_name": "base",
   "language": "python",
   "name": "python3"
  },
  "language_info": {
   "codemirror_mode": {
    "name": "ipython",
    "version": 3
   },
   "file_extension": ".py",
   "mimetype": "text/x-python",
   "name": "python",
   "nbconvert_exporter": "python",
   "pygments_lexer": "ipython3",
   "version": "3.11.7"
  }
 },
 "nbformat": 4,
 "nbformat_minor": 2
}
