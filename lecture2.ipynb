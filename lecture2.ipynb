{
 "cells": [
  {
   "cell_type": "code",
   "execution_count": 3,
   "id": "e6e4acc4-2c77-40b4-9509-44e99115f71c",
   "metadata": {},
   "outputs": [],
   "source": [
    "# conditional statements\n",
    "\n",
    "num1=23\n",
    "num2=3\n"
   ]
  },
  {
   "cell_type": "code",
   "execution_count": 12,
   "id": "1842b16b-2330-4608-9ec1-c5ce4a31a31a",
   "metadata": {},
   "outputs": [
    {
     "name": "stdout",
     "output_type": "stream",
     "text": [
      "23 > 3 : True\n",
      "23 < 3 : False\n",
      "23 == 3 : False\n",
      "23 != 3 : True\n",
      "23 <= 3 : False\n",
      "23 >= 3 : True\n"
     ]
    }
   ],
   "source": [
    "# conditional operators\n",
    "\n",
    "num1==num2\n",
    "print(num1,\">\",num2,\":\",num1>num2)\n",
    "print(num1,\"<\",num2,\":\",num1<num2)\n",
    "print(num1,\"==\",num2,\":\",num1==num2)\n",
    "print(num1,\"!=\",num2,\":\",num1!=num2)\n",
    "print(num1,\"<=\",num2,\":\",num1<=num2)\n",
    "print(num1,\">=\",num2,\":\",num1>=num2)"
   ]
  },
  {
   "cell_type": "code",
   "execution_count": 24,
   "id": "8e52e57a-33d0-4f31-900a-30b156db4f50",
   "metadata": {},
   "outputs": [
    {
     "name": "stdout",
     "output_type": "stream",
     "text": [
      "True and False : False\n",
      "True & False : False\n",
      "True OR False : True\n",
      "True | False : True\n"
     ]
    }
   ],
   "source": [
    "# logical operators\n",
    "a=True\n",
    "b=False\n",
    "c=False\n",
    "\n",
    "print(a,\"and\",b,\":\",a and b)\n",
    "print(a,\"&\",b,\":\",a & b)\n",
    "print(a,\"OR\",b,\":\",a or b)\n",
    "print(a,\"|\",b,\":\",a | b)\n",
    "\n",
    "\n"
   ]
  },
  {
   "cell_type": "code",
   "execution_count": 25,
   "id": "a77401d6-5cfa-4520-b871-8a182f3b01af",
   "metadata": {},
   "outputs": [
    {
     "name": "stdout",
     "output_type": "stream",
     "text": [
      "True  and  False  and  False\n"
     ]
    }
   ],
   "source": [
    "print(a,\" and \",b,\" and \",a&b&c)"
   ]
  },
  {
   "cell_type": "code",
   "execution_count": 34,
   "id": "f920d1d6-1479-400d-a8b9-731231971649",
   "metadata": {},
   "outputs": [],
   "source": [
    "# Tuples\n",
    "\n",
    "tup1=(23,\"Ahmed\",34.5,'W',998,12.90)"
   ]
  },
  {
   "cell_type": "code",
   "execution_count": 35,
   "id": "8fe5fdac-7306-4c14-b3e1-922fcf735b63",
   "metadata": {},
   "outputs": [
    {
     "data": {
      "text/plain": [
       "tuple"
      ]
     },
     "execution_count": 35,
     "metadata": {},
     "output_type": "execute_result"
    }
   ],
   "source": [
    "type(tup1)"
   ]
  },
  {
   "cell_type": "code",
   "execution_count": 37,
   "id": "4aeeb3d9-26bd-40fe-af99-89b9028ab8ff",
   "metadata": {},
   "outputs": [
    {
     "name": "stdout",
     "output_type": "stream",
     "text": [
      "23\n",
      "Ahmed\n",
      "34.5\n",
      "W\n",
      "(23, 'Ahmed', 34.5)\n",
      "('W', 998, 12.9)\n",
      "(23, 'Ahmed', 34.5, 'W', 998, 12.9)\n"
     ]
    }
   ],
   "source": [
    "# index to access tuples elements\n",
    "print(tup1[0])\n",
    "print(tup1[1])\n",
    "print(tup1[2])\n",
    "print(tup1[3])\n",
    "\n",
    "print(tup1[:3])\n",
    "print(tup1[3:])\n",
    "print(tup1[:])\n"
   ]
  },
  {
   "cell_type": "code",
   "execution_count": 38,
   "id": "c2d003ef-1ea9-4c3f-80db-2287e4d543b9",
   "metadata": {},
   "outputs": [
    {
     "name": "stdout",
     "output_type": "stream",
     "text": [
      "6\n"
     ]
    }
   ],
   "source": [
    "# length of tuple\n",
    "\n",
    "print(len(tup1))"
   ]
  },
  {
   "cell_type": "code",
   "execution_count": 48,
   "id": "5747fb37-fb68-4d56-8445-a70c38c146d8",
   "metadata": {},
   "outputs": [],
   "source": [
    "# dictionaries\n",
    "\n",
    "stu1={\n",
    "    \"name\":\"Ahmed\",\n",
    "    \"Age\":23,\n",
    "    \"ID\":1002,\n",
    "    \"course\":\"AI\"\n",
    "}\n",
    "stu2={\n",
    "    \"name\":\"Amna\",\n",
    "    \"Age\":21,\n",
    "    \"ID\":1003,\n",
    "    \"course\":\"SE\"\n",
    "}\n",
    "stu3={\n",
    "    \"name\":\"Noreen\",\n",
    "    \"Age\":23,\n",
    "    \"ID\":1004,\n",
    "    \"course\":\"AI\"\n",
    "}\n",
    "stu4={\n",
    "    \"name\":\"Noman\",\n",
    "    \"Age\":20,\n",
    "    \"ID\":1005,\n",
    "    \"course\":\"AI\"\n",
    "}\n",
    "stu5={\n",
    "    \"name\":\"Jhon\",\n",
    "    \"Age\":22,\n",
    "    \"ID\":1006,\n",
    "    \"course\":\"CS\"\n",
    "}"
   ]
  },
  {
   "cell_type": "code",
   "execution_count": 49,
   "id": "11d6db8e-478e-4c12-adcd-9e8b306a400e",
   "metadata": {},
   "outputs": [
    {
     "data": {
      "text/plain": [
       "dict"
      ]
     },
     "execution_count": 49,
     "metadata": {},
     "output_type": "execute_result"
    }
   ],
   "source": [
    "type(stu1)"
   ]
  },
  {
   "cell_type": "code",
   "execution_count": 54,
   "id": "9d927f12-2a7c-4881-8b6d-48274761fe2b",
   "metadata": {},
   "outputs": [],
   "source": [
    "s1=stu1[\"ID\"]\n",
    "s3=stu3[\"ID\"]\n",
    "s4=stu4[\"ID\"]\n",
    "\n"
   ]
  },
  {
   "cell_type": "code",
   "execution_count": 55,
   "id": "15dd2c2f-10fb-4e6e-a01d-82425b51f087",
   "metadata": {},
   "outputs": [],
   "source": [
    "id_list=[s1,s3,s4]"
   ]
  },
  {
   "cell_type": "code",
   "execution_count": 56,
   "id": "1609fc4d-4a3c-45c2-b8d1-57229eb46b1a",
   "metadata": {},
   "outputs": [
    {
     "name": "stdout",
     "output_type": "stream",
     "text": [
      "[1002, 1004, 1005]\n"
     ]
    }
   ],
   "source": [
    "print(id_list)"
   ]
  },
  {
   "cell_type": "code",
   "execution_count": null,
   "id": "e90d8299-7538-467f-8ad2-51b078f03229",
   "metadata": {},
   "outputs": [],
   "source": [
    "# sets datatype"
   ]
  }
 ],
 "metadata": {
  "kernelspec": {
   "display_name": "Python 3 (ipykernel)",
   "language": "python",
   "name": "python3"
  },
  "language_info": {
   "codemirror_mode": {
    "name": "ipython",
    "version": 3
   },
   "file_extension": ".py",
   "mimetype": "text/x-python",
   "name": "python",
   "nbconvert_exporter": "python",
   "pygments_lexer": "ipython3",
   "version": "3.11.7"
  }
 },
 "nbformat": 4,
 "nbformat_minor": 5
}
