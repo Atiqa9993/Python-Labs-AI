{
 "cells": [
  {
   "cell_type": "code",
   "execution_count": 17,
   "id": "f7f78d01-518b-486a-9d64-ff010efd469f",
   "metadata": {},
   "outputs": [
    {
     "name": "stdin",
     "output_type": "stream",
     "text": [
      "Enter your marks in English 34\n",
      "Enter your Computer 34\n",
      "Enter your Maths 34\n",
      "Enter your SST 34\n",
      "Enter your GSc 34\n",
      "Enter your Isl 34\n",
      "Enter your Urdu 34\n"
     ]
    },
    {
     "name": "stdout",
     "output_type": "stream",
     "text": [
      "\n",
      "Your obtain marks are:  238.0  out of  700\n",
      "Your percentage is:  34 %\n"
     ]
    }
   ],
   "source": [
    "# if statement\n",
    "\n",
    "sub1=int(input(\"Enter your marks in English\"))\n",
    "sub2=int(input(\"Enter your Computer\"))\n",
    "sub3=int(input(\"Enter your Maths\"))\n",
    "sub4=int(input(\"Enter your SST\"))\n",
    "sub5=int(input(\"Enter your GSc\"))\n",
    "sub6=int(input(\"Enter your Isl\"))\n",
    "sub7=int(input(\"Enter your Urdu\"))\n",
    "\n",
    "totalMarks=700\n",
    "sum=float(sub3+sub2+sub3+sub4+sub5+sub6+sub7)\n",
    "\n",
    "percent=(sum*100)/totalMarks\n",
    "print(\"\\nYour obtain marks are: \",sum,\" out of \",totalMarks)\n",
    "print(\"Your percentage is: \",int(percent),\"%\")"
   ]
  },
  {
   "cell_type": "code",
   "execution_count": 18,
   "id": "8c79f93a-08e0-4f55-983b-28a966c67fca",
   "metadata": {},
   "outputs": [
    {
     "name": "stdout",
     "output_type": "stream",
     "text": [
      "Grade F\n"
     ]
    }
   ],
   "source": [
    "if percent > 90 and percent <= 100:\n",
    "    print(\"Grade A1\")\n",
    "elif percent > 80 and percent <= 90:\n",
    "    print(\"Grade A\")\n",
    "elif percent > 70 and percent <= 80:\n",
    "    print(\"Grade B\")\n",
    "elif percent > 60 and percent <= 70:\n",
    "    print(\"Grade C\")\n",
    "elif percent > 40 and percent <= 60:\n",
    "    print(\"Grade D\")\n",
    "elif percent <40:\n",
    "    print(\"Grade F\")\n",
    "else:\n",
    "    print(\"Invalid values are entered:\")"
   ]
  },
  {
   "cell_type": "code",
   "execution_count": 19,
   "id": "c9a3e2d0-283f-4904-86f7-0a7931aed5cb",
   "metadata": {},
   "outputs": [
    {
     "name": "stdin",
     "output_type": "stream",
     "text": [
      "Enter a number:  5\n"
     ]
    },
    {
     "name": "stdout",
     "output_type": "stream",
     "text": [
      "factorial of 5  is  120\n"
     ]
    }
   ],
   "source": [
    "# for loop\n",
    "\n",
    "# factorial\n",
    "# N(N-1)\n",
    "num1=int(input(\"Enter a number: \"))\n",
    "fact=1\n",
    "for i in range(1,num1+1):\n",
    "    fact=fact*i\n",
    "print(\"factorial of\",num1,\" is \",fact)\n",
    "\n"
   ]
  },
  {
   "cell_type": "code",
   "execution_count": 20,
   "id": "aefb23d9-c4ae-4887-9ac9-362ddf5f243d",
   "metadata": {},
   "outputs": [
    {
     "name": "stdin",
     "output_type": "stream",
     "text": [
      "Enter a number:  5\n"
     ]
    },
    {
     "name": "stdout",
     "output_type": "stream",
     "text": [
      "factorial of 5  is  120\n"
     ]
    }
   ],
   "source": [
    "# while loop\n",
    "num2=int(input(\"Enter a number: \"))\n",
    "fact=1\n",
    "i=1\n",
    "while(i<=num2):\n",
    "    fact=fact*i\n",
    "    i=i+1\n",
    "print(\"factorial of\",num2,\" is \",fact)\n",
    "    "
   ]
  },
  {
   "cell_type": "code",
   "execution_count": null,
   "id": "d9c2b7c5-9d65-41a7-92a6-877bb07ed2a2",
   "metadata": {},
   "outputs": [],
   "source": []
  },
  {
   "cell_type": "code",
   "execution_count": null,
   "id": "3020a98f-e90e-440a-b3c1-6339463d0838",
   "metadata": {},
   "outputs": [],
   "source": [
    "\n"
   ]
  },
  {
   "cell_type": "code",
   "execution_count": 1,
   "id": "abf889b6-059d-4b96-9430-c5e693cfa139",
   "metadata": {},
   "outputs": [
    {
     "name": "stdin",
     "output_type": "stream",
     "text": [
      "Enter your marks format: 25/50/100 46\n"
     ]
    },
    {
     "name": "stdout",
     "output_type": "stream",
     "text": [
      " Enter your marks in  English  : \n"
     ]
    },
    {
     "name": "stdin",
     "output_type": "stream",
     "text": [
      " 78\n"
     ]
    },
    {
     "name": "stdout",
     "output_type": "stream",
     "text": [
      " You Entered invalid marks\n",
      " Enter your marks in  Urdu  : \n"
     ]
    },
    {
     "name": "stdin",
     "output_type": "stream",
     "text": [
      " 65\n"
     ]
    },
    {
     "name": "stdout",
     "output_type": "stream",
     "text": [
      " You Entered invalid marks\n",
      " Enter your marks in  Maths  : \n"
     ]
    },
    {
     "name": "stdin",
     "output_type": "stream",
     "text": [
      " 46\n"
     ]
    },
    {
     "name": "stdout",
     "output_type": "stream",
     "text": [
      " You Entered invalid marks\n",
      " Enter your marks in  GSc  : \n"
     ]
    },
    {
     "name": "stdin",
     "output_type": "stream",
     "text": [
      " 4\n"
     ]
    },
    {
     "name": "stdout",
     "output_type": "stream",
     "text": [
      " You Entered invalid marks\n",
      " Enter your marks in  SST  : \n"
     ]
    },
    {
     "name": "stdin",
     "output_type": "stream",
     "text": [
      " 564\n"
     ]
    },
    {
     "name": "stdout",
     "output_type": "stream",
     "text": [
      " You Entered invalid marks\n",
      " Enter your marks in  Computer  : \n"
     ]
    },
    {
     "name": "stdin",
     "output_type": "stream",
     "text": [
      " 46\n"
     ]
    },
    {
     "name": "stdout",
     "output_type": "stream",
     "text": [
      " You Entered invalid marks\n",
      " Enter your marks in  Isl  : \n"
     ]
    },
    {
     "name": "stdin",
     "output_type": "stream",
     "text": [
      " 54\n"
     ]
    },
    {
     "name": "stdout",
     "output_type": "stream",
     "text": [
      " You Entered invalid marks\n"
     ]
    }
   ],
   "source": []
  },
  {
   "cell_type": "code",
   "execution_count": null,
   "id": "4ea770dc-3b73-428f-9973-b3b3f5fc1bfc",
   "metadata": {},
   "outputs": [
    {
     "name": "stdin",
     "output_type": "stream",
     "text": [
      "Enter the number of subjects:  3\n"
     ]
    }
   ],
   "source": [
    "\n",
    "total_marks = 0\n",
    "\n",
    "no_subjects = int(input(\"Enter the number of subjects: \"))\n",
    "subjects = []\n",
    "for i in range(no_subjects):\n",
    "    sub = input(f\"Enter the name of subject {i+1}: \")\n",
    "    subjects.append(sub)\n",
    "\n",
    "print(\"Subjects are :\", subjects)\n"
   ]
  },
  {
   "cell_type": "code",
   "execution_count": 1,
   "id": "55e68176-2112-411c-99b5-f721edafdac0",
   "metadata": {},
   "outputs": [
    {
     "name": "stdin",
     "output_type": "stream",
     "text": [
      "Enter your marks format (25, 50, 100):  25\n"
     ]
    },
    {
     "ename": "NameError",
     "evalue": "name 'subjects' is not defined",
     "output_type": "error",
     "traceback": [
      "\u001b[1;31m---------------------------------------------------------------------------\u001b[0m",
      "\u001b[1;31mNameError\u001b[0m                                 Traceback (most recent call last)",
      "Cell \u001b[1;32mIn[1], line 7\u001b[0m\n\u001b[0;32m      5\u001b[0m \u001b[38;5;28;01melse\u001b[39;00m:\n\u001b[0;32m      6\u001b[0m     obtain_marks \u001b[38;5;241m=\u001b[39m \u001b[38;5;241m0\u001b[39m\n\u001b[1;32m----> 7\u001b[0m     total_marks \u001b[38;5;241m=\u001b[39m marks_format \u001b[38;5;241m*\u001b[39m \u001b[38;5;28mlen\u001b[39m(subjects) \n\u001b[0;32m      9\u001b[0m     \u001b[38;5;28;01mfor\u001b[39;00m sub \u001b[38;5;129;01min\u001b[39;00m subjects:\n\u001b[0;32m     10\u001b[0m         \u001b[38;5;28;01mwhile\u001b[39;00m \u001b[38;5;28;01mTrue\u001b[39;00m:\n",
      "\u001b[1;31mNameError\u001b[0m: name 'subjects' is not defined"
     ]
    }
   ],
   "source": [
    "marks_format = int(input(\"Enter your marks format (25, 50, 100): \"))\n",
    "\n",
    "if marks_format not in [25, 50, 100]:\n",
    "    print(\"Invalid marks format entered!\")\n",
    "else:\n",
    "    obtain_marks = 0\n",
    "    total_marks = marks_format * len(subjects) \n",
    "\n",
    "    for sub in subjects:\n",
    "        while True:\n",
    "            try:\n",
    "                marks = float(input(f\"Enter your marks in {sub}: \"))\n",
    "                if 0 <= marks <= marks_format:\n",
    "                    obtain_marks += marks\n",
    "                    break\n",
    "                else:\n",
    "                    print(f\"Marks must be between 0 and {marks_format}. Try again.\")\n",
    "            except ValueError:\n",
    "                print(\"Invalid input! Please enter numeric marks.\")\n",
    "    percent=(obtain_marks / total_marks) * 100\n",
    "    \n",
    "    print(\"\\nMarks:\")\n",
    "    print(f\"Obtained Marks: {obtain_marks}\")\n",
    "    print(f\"Total Marks: {total_marks}\")\n",
    "    print(f\"Percentage: {percent:.2f} %\")\n"
   ]
  },
  {
   "cell_type": "code",
   "execution_count": 6,
   "id": "73277187-f922-4fff-bf0a-9a21e891cb25",
   "metadata": {},
   "outputs": [
    {
     "name": "stdout",
     "output_type": "stream",
     "text": [
      "Grade C\n"
     ]
    }
   ],
   "source": [
    "if percent > 90 and percent <= 100:\n",
    "    print(\"Grade A1\")\n",
    "elif percent > 80 and percent <= 90:\n",
    "    print(\"Grade A\")\n",
    "elif percent > 70 and percent <= 80:\n",
    "    print(\"Grade B\")\n",
    "elif percent > 60 and percent <= 70:\n",
    "    print(\"Grade C\")\n",
    "elif percent > 40 and percent <= 60:\n",
    "    print(\"Grade D\")\n",
    "elif percent <40:\n",
    "    print(\"Grade F / You are Fail\")\n",
    "else:\n",
    "    print(\"Invalid values are entered:\")"
   ]
  },
  {
   "cell_type": "code",
   "execution_count": null,
   "id": "421e91ad-030d-4548-bf56-f52a336ac048",
   "metadata": {},
   "outputs": [],
   "source": [
    "def get_valid_integer(prompt, min_value=1):\n",
    "    while True:\n",
    "        try:\n",
    "            value = int(input(prompt))\n",
    "            if value >= min_value:\n",
    "                return value\n",
    "            print(f\"Please enter a number greater than or equal to {min_value}\")\n",
    "        except ValueError:\n",
    "            print(\"Invalid input! Please enter a valid number.\")\n",
    "\n",
    "def get_valid_marks(prompt, max_marks):\n",
    "    while True:\n",
    "        try:\n",
    "            marks = float(input(prompt))\n",
    "            if 0 <= marks <= max_marks:\n",
    "                return marks\n",
    "            print(f\"Marks must be between 0 and {max_marks}. Try again.\")\n",
    "        except ValueError:\n",
    "            print(\"Invalid input! Please enter valid marks.\")\n",
    "\n",
    "def calculate_grade(percentage):\n",
    "    if percentage > 90:\n",
    "        return \"A1\"\n",
    "    elif percentage > 80:\n",
    "        return \"A\"\n",
    "    elif percentage > 70:\n",
    "        return \"B\"\n",
    "    elif percentage > 60:\n",
    "        return \"C\"\n",
    "    elif percentage > 40:\n",
    "        return \"D\"\n",
    "    else:\n",
    "        return \"F (Fail)\"\n",
    "\n",
    "def grading_system():\n",
    "    while True:\n",
    "        print(\"\\n\" + \"=\"*50)\n",
    "        print(\"Welcome to Student Grading System\")\n",
    "        print(\"=\"*50)\n",
    "        \n",
    "        # Get marks format\n",
    "        marks_format = int(input(\"Enter your marks format (25, 50, 100): \"))\n",
    "        if marks_format not in [25, 50, 100]:\n",
    "            print(\"Invalid marks format entered!\")\n",
    "            continue\n",
    "            \n",
    "        # Get number of subjects\n",
    "        num_subjects = get_valid_integer(\"Enter Number of Subjects: \")\n",
    "        \n",
    "        # Initialize variables\n",
    "        obtain_marks = 0\n",
    "        total_marks = marks_format * num_subjects\n",
    "        \n",
    "        # Get marks for each subject\n",
    "        print(\"\\nEnter marks for each subject:\")\n",
    "        for i in range(num_subjects):\n",
    "            marks = get_valid_marks(f\"Enter Marks of Subject {i+1}: \", marks_format)\n",
    "            obtain_marks += marks\n",
    "            \n",
    "        # Calculate percentage\n",
    "        percentage = (obtain_marks / total_marks) * 100\n",
    "        \n",
    "        # Get grade\n",
    "        grade = calculate_grade(percentage)\n",
    "        \n",
    "        # Print results\n",
    "        print(\"\\n\" + \"=\"*50)\n",
    "        print(f\"Total Marks Obtained in {num_subjects} Subjects is: {obtain_marks}\")\n",
    "        print(f\"Total Marks: {total_marks}\")\n",
    "        print(f\"Obtained Percentage: {percentage:.2f}\")\n",
    "        print(f\"Grade Of Student is: {grade}\")\n",
    "        print(\"=\"*50)\n",
    "        \n",
    "        # Ask to continue\n",
    "        choice = input(\"\\nDo You Want To Continue Yes or No (Y/N): \").lower()\n",
    "        if choice != 'y':\n",
    "            print(\"\\nThanks for Using The System......\")\n",
    "            break\n",
    "\n",
    "if __name__ == \"__main__\":\n",
    "    grading_system()"
   ]
  },
  {
   "cell_type": "code",
   "execution_count": null,
   "id": "43ca0425-8fbb-48e9-ba9d-8f0e14c55c07",
   "metadata": {},
   "outputs": [
    {
     "name": "stdin",
     "output_type": "stream",
     "text": [
      "Do you want to continue Y for (yes) N for (no):  y\n"
     ]
    },
    {
     "name": "stdout",
     "output_type": "stream",
     "text": [
      "Grading System..\n"
     ]
    },
    {
     "name": "stdin",
     "output_type": "stream",
     "text": [
      "Enter your marks format (25,50,100):  25\n",
      "Enter the number of subjects:  3\n",
      "Enter the name of subject 1:  maths\n",
      "Enter the name of subject 2:  eng\n",
      "Enter the name of subject 3:  sst\n",
      "Enter your marks in maths:  23\n",
      "Enter your marks in eng:  21\n",
      "Enter your marks in sst:  23\n"
     ]
    },
    {
     "name": "stdout",
     "output_type": "stream",
     "text": [
      "\n",
      "Marks:\n",
      "Obtained Marks: 67.0\n",
      "Total Marks: 75\n",
      "Percentage: 89.33 %\n",
      "Grade: A\n"
     ]
    }
   ],
   "source": [
    "def subject_list():\n",
    "    no_subjects = int(input(\"Enter the number of subjects: \"))\n",
    "    subjects = []\n",
    "    for i in range(no_subjects):\n",
    "        sub = input(f\"Enter the name of subject {i+1}: \")\n",
    "        subjects.append(sub)\n",
    "    return subjects  # Return statement should be outside the loop\n",
    "\n",
    "while True:  # Main loop should start here\n",
    "    choice = input(\"Do you want to continue Y for (yes) N for (no): \")\n",
    "    \n",
    "    if choice.lower() == \"y\":\n",
    "        print(\"Grading System..\")\n",
    "        marks_format = int(input(\"Enter your marks format (25,50,100): \"))\n",
    "        \n",
    "        if marks_format not in [25,50,100]:\n",
    "            print(\"Your marks format is invalid: \")\n",
    "            continue\n",
    "        \n",
    "        obtain_marks = 0\n",
    "        total_marks = 0\n",
    "        \n",
    "        try:\n",
    "            num_sub = subject_list()\n",
    "            total_marks = marks_format * len(num_sub)\n",
    "            \n",
    "            for sub in num_sub:\n",
    "                while True:\n",
    "                    try:\n",
    "                        marks = float(input(f\"Enter your marks in {sub}: \"))\n",
    "                        if 0 <= marks <= marks_format:\n",
    "                            obtain_marks += marks\n",
    "                            break\n",
    "                        else:\n",
    "                            print(f\"Marks must be between 0 and {marks_format}. Try again.\")\n",
    "                    except ValueError:\n",
    "                        print(\"Invalid input! Please enter numeric marks.\")\n",
    "            \n",
    "            percent = (obtain_marks / total_marks) * 100\n",
    "            \n",
    "            print(\"\\nMarks:\")\n",
    "            print(f\"Obtained Marks: {obtain_marks}\")\n",
    "            print(f\"Total Marks: {total_marks}\")\n",
    "            print(f\"Percentage: {percent:.2f} %\")\n",
    "            \n",
    "            # Optional: Add grade calculation here\n",
    "            if percent > 90:\n",
    "                print(\"Grade: A1\")\n",
    "            elif percent > 80:\n",
    "                print(\"Grade: A\")\n",
    "            elif percent > 70:\n",
    "                print(\"Grade: B\")\n",
    "            elif percent > 60:\n",
    "                print(\"Grade: C\")\n",
    "            elif percent > 40:\n",
    "                print(\"Grade: D\")\n",
    "            else:\n",
    "                print(\"Grade: F (Fail)\")\n",
    "                \n",
    "        except ValueError:\n",
    "            print(\"Invalid input! Please enter valid numbers.\")\n",
    "            \n",
    "    elif choice.lower() == \"n\":\n",
    "        print(\"Thanks for using the system!\")\n",
    "        break  # Exit the program\n",
    "    else:\n",
    "        print(\"You entered invalid character!\")"
   ]
  },
  {
   "cell_type": "code",
   "execution_count": null,
   "id": "10ce9bea-fa30-4319-bce7-af0caad5ca3f",
   "metadata": {},
   "outputs": [],
   "source": []
  }
 ],
 "metadata": {
  "kernelspec": {
   "display_name": "Python 3 (ipykernel)",
   "language": "python",
   "name": "python3"
  },
  "language_info": {
   "codemirror_mode": {
    "name": "ipython",
    "version": 3
   },
   "file_extension": ".py",
   "mimetype": "text/x-python",
   "name": "python",
   "nbconvert_exporter": "python",
   "pygments_lexer": "ipython3",
   "version": "3.11.7"
  },
  "widgets": {
   "application/vnd.jupyter.widget-state+json": {
    "state": {},
    "version_major": 2,
    "version_minor": 0
   }
  }
 },
 "nbformat": 4,
 "nbformat_minor": 5
}
