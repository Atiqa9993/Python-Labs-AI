{
 "cells": [
  {
   "cell_type": "code",
   "execution_count": 1,
   "metadata": {},
   "outputs": [],
   "source": [
    "import numpy as np\n",
    "# import random"
   ]
  },
  {
   "cell_type": "code",
   "execution_count": 2,
   "metadata": {},
   "outputs": [],
   "source": [
    "arr = np.array([3,45,67,34,2]) #----> this will create an array of one dimensional"
   ]
  },
  {
   "cell_type": "code",
   "execution_count": 3,
   "metadata": {},
   "outputs": [
    {
     "name": "stdout",
     "output_type": "stream",
     "text": [
      "[ 3 45 67 34  2]\n"
     ]
    }
   ],
   "source": [
    "print(arr)"
   ]
  },
  {
   "cell_type": "code",
   "execution_count": 4,
   "metadata": {},
   "outputs": [],
   "source": [
    "array_zero=np.zeros(5)\n",
    "array_one=np.ones(5)"
   ]
  },
  {
   "cell_type": "code",
   "execution_count": 5,
   "metadata": {},
   "outputs": [
    {
     "name": "stdout",
     "output_type": "stream",
     "text": [
      "[0. 0. 0. 0. 0.]\n",
      "[1. 1. 1. 1. 1.]\n"
     ]
    }
   ],
   "source": [
    "print(array_zero)\n",
    "print(array_one)"
   ]
  },
  {
   "cell_type": "code",
   "execution_count": 6,
   "metadata": {},
   "outputs": [],
   "source": [
    "# Mathematical operations \n",
    "\n",
    "arr1=np.array([3,5,8,2,1,9])\n",
    "arr2=np.array([1,2,3,4,5,6])"
   ]
  },
  {
   "cell_type": "code",
   "execution_count": 7,
   "metadata": {},
   "outputs": [
    {
     "name": "stdout",
     "output_type": "stream",
     "text": [
      "[ 4  7 11  6  6 15]\n"
     ]
    }
   ],
   "source": [
    "arr3= arr1+arr2\n",
    "print(arr3)"
   ]
  },
  {
   "cell_type": "code",
   "execution_count": 8,
   "metadata": {},
   "outputs": [
    {
     "name": "stdout",
     "output_type": "stream",
     "text": [
      "[ 3 10 24  8  5 54]\n"
     ]
    }
   ],
   "source": [
    "mul= arr1*arr2\n",
    "print(mul)"
   ]
  },
  {
   "cell_type": "code",
   "execution_count": 9,
   "metadata": {},
   "outputs": [
    {
     "name": "stdout",
     "output_type": "stream",
     "text": [
      "[ 6 10 16  4  2 18]\n",
      "[ 3  6  9 12 15 18]\n"
     ]
    }
   ],
   "source": [
    "print(arr1*2)\n",
    "print(arr2*3)"
   ]
  },
  {
   "cell_type": "code",
   "execution_count": 10,
   "metadata": {},
   "outputs": [],
   "source": [
    "arr3=np.array([34,2,4,67,21,87])"
   ]
  },
  {
   "cell_type": "code",
   "execution_count": 11,
   "metadata": {},
   "outputs": [
    {
     "name": "stdout",
     "output_type": "stream",
     "text": [
      "Minimum of all elements:  2\n",
      "Maximum of all elements:  87\n",
      "Sum of all elements:  215\n"
     ]
    }
   ],
   "source": [
    "print(\"Minimum of all elements: \",min(arr3))\n",
    "print(\"Maximum of all elements: \",max(arr3))\n",
    "print(\"Sum of all elements: \",sum(arr3))"
   ]
  },
  {
   "cell_type": "code",
   "execution_count": 12,
   "metadata": {},
   "outputs": [
    {
     "name": "stdout",
     "output_type": "stream",
     "text": [
      "[0.59985027 0.11973397 0.98538216 0.46862678 0.17674972]\n"
     ]
    }
   ],
   "source": [
    "random_numbers=np.random.rand(5)\n",
    "print(random_numbers)"
   ]
  },
  {
   "cell_type": "code",
   "execution_count": 13,
   "metadata": {},
   "outputs": [],
   "source": [
    "arr=np.array([2,34,8,5,6],)"
   ]
  },
  {
   "cell_type": "code",
   "execution_count": 14,
   "metadata": {},
   "outputs": [],
   "source": [
    "arr=[1,2,3,4,5,32,45,56]\n",
    "new_list=[x + 10 for x in arr ]"
   ]
  },
  {
   "cell_type": "code",
   "execution_count": 15,
   "metadata": {},
   "outputs": [
    {
     "name": "stdout",
     "output_type": "stream",
     "text": [
      "[11, 12, 13, 14, 15, 42, 55, 66]\n"
     ]
    }
   ],
   "source": [
    "print(new_list)"
   ]
  },
  {
   "cell_type": "code",
   "execution_count": 16,
   "metadata": {},
   "outputs": [
    {
     "name": "stdout",
     "output_type": "stream",
     "text": [
      "[1, 0, 1, 0, 1, 0, 1, 0]\n"
     ]
    }
   ],
   "source": [
    "list1=[x % 2 for x in arr]\n",
    "print(list1)"
   ]
  },
  {
   "cell_type": "code",
   "execution_count": 17,
   "metadata": {},
   "outputs": [],
   "source": [
    "even=[\"even\" for x in arr if x%2==0]"
   ]
  },
  {
   "cell_type": "code",
   "execution_count": 18,
   "metadata": {},
   "outputs": [
    {
     "name": "stdout",
     "output_type": "stream",
     "text": [
      "['even', 'even', 'even', 'even']\n"
     ]
    }
   ],
   "source": [
    "print(even)"
   ]
  },
  {
   "cell_type": "code",
   "execution_count": 19,
   "metadata": {},
   "outputs": [
    {
     "name": "stdout",
     "output_type": "stream",
     "text": [
      "[2 3 4 5 6 7 8]\n",
      "[ 7  8  9 10 11 12 13]\n"
     ]
    }
   ],
   "source": [
    "arr=np.array([2,3,4,5,6,7,8])\n",
    "n_arr=arr+5\n",
    "print(arr)\n",
    "print(n_arr)\n"
   ]
  },
  {
   "cell_type": "code",
   "execution_count": 20,
   "metadata": {},
   "outputs": [
    {
     "name": "stdout",
     "output_type": "stream",
     "text": [
      "(3, 5)\n"
     ]
    }
   ],
   "source": [
    "# multi dimensonal array \n",
    "arr=np.array([[1,2,3,4,5],[3,2,4,6,8],[4,6,7,9,5]])\n",
    "print(arr.shape) #3 rows and 5 columns"
   ]
  },
  {
   "cell_type": "code",
   "execution_count": 21,
   "metadata": {},
   "outputs": [
    {
     "name": "stdout",
     "output_type": "stream",
     "text": [
      "[[0. 0.]\n",
      " [0. 0.]\n",
      " [0. 0.]]\n"
     ]
    }
   ],
   "source": [
    "arr=np.zeros((3,2))\n",
    "print(arr)"
   ]
  },
  {
   "cell_type": "code",
   "execution_count": 22,
   "metadata": {},
   "outputs": [
    {
     "name": "stdout",
     "output_type": "stream",
     "text": [
      "[[[1. 1. 1. 1. 1.]\n",
      "  [1. 1. 1. 1. 1.]]\n",
      "\n",
      " [[1. 1. 1. 1. 1.]\n",
      "  [1. 1. 1. 1. 1.]]\n",
      "\n",
      " [[1. 1. 1. 1. 1.]\n",
      "  [1. 1. 1. 1. 1.]]]\n"
     ]
    }
   ],
   "source": [
    "arr=np.ones((3,2,5))\n",
    "# 3 arrays 2 rows 5 columns\n",
    "print(arr)"
   ]
  },
  {
   "cell_type": "code",
   "execution_count": 23,
   "metadata": {},
   "outputs": [
    {
     "name": "stdout",
     "output_type": "stream",
     "text": [
      "[0.13293822 0.60043562 0.11868031]\n",
      "[[8 8 3 6]\n",
      " [1 9 2 3]\n",
      " [6 2 4 1]]\n"
     ]
    }
   ],
   "source": [
    "print(np.random.rand(3)) #----> generate random 3 numbers between 1 and 0\n",
    "print(np.random.randint(1, 10, (3,4)))  #----> generate random numbers between 1 to 10 and dimension of array wll be 3x4"
   ]
  },
  {
   "cell_type": "code",
   "execution_count": 24,
   "metadata": {},
   "outputs": [
    {
     "name": "stdout",
     "output_type": "stream",
     "text": [
      "[[1 2]\n",
      " [3 4]\n",
      " [5 5]\n",
      " [6 7]\n",
      " [8 9]]\n",
      "\n",
      "[[1 2 3 4 5]\n",
      " [5 6 7 8 9]]\n"
     ]
    }
   ],
   "source": [
    "arr=np.array([1,2,3,4,5,5,6,7,8,9])\n",
    "print(arr.reshape(5,2))\n",
    "print()\n",
    "print(arr.reshape(2,5))"
   ]
  },
  {
   "cell_type": "code",
   "execution_count": 25,
   "metadata": {},
   "outputs": [
    {
     "name": "stdout",
     "output_type": "stream",
     "text": [
      "Sum:  50\n",
      "Avg:  5.0\n",
      "MAx:  9\n",
      "Min:  1\n",
      "Sqrt: [1.         1.41421356 1.73205081 2.         2.23606798 2.23606798\n",
      " 2.44948974 2.64575131 2.82842712 3.        ]\n"
     ]
    }
   ],
   "source": [
    "print(\"Sum: \",np.sum(arr))    # Sum of all elements\n",
    "print(\"Avg: \",np.mean(arr))   # Average\n",
    "print(\"MAx: \",np.max(arr))    # Maximum value\n",
    "print(\"Min: \",np.min(arr))    # Minimum value\n",
    "print(\"Sqrt:\",np.sqrt(arr))"
   ]
  },
  {
   "cell_type": "code",
   "execution_count": 26,
   "metadata": {},
   "outputs": [
    {
     "name": "stdout",
     "output_type": "stream",
     "text": [
      "[1 2 3 4 5 5 6 7 8 9]\n"
     ]
    }
   ],
   "source": [
    "# indexing\n",
    "print(arr[:])"
   ]
  },
  {
   "cell_type": "code",
   "execution_count": 27,
   "metadata": {},
   "outputs": [
    {
     "name": "stdout",
     "output_type": "stream",
     "text": [
      "[4 5 5 6]\n",
      "[1 2 3 4 5 5]\n",
      "[9]\n",
      "[4 5 5 6]\n"
     ]
    }
   ],
   "source": [
    "print(arr[3:7])\n",
    "print(arr[:6])\n",
    "print(arr[-1:])\n",
    "print(arr[3:-3])"
   ]
  },
  {
   "cell_type": "code",
   "execution_count": 28,
   "metadata": {},
   "outputs": [
    {
     "name": "stdout",
     "output_type": "stream",
     "text": [
      "6\n",
      "\n",
      "[3 6]\n"
     ]
    }
   ],
   "source": [
    "matrix = np.array([[1, 2, 3], [4, 5, 6]])\n",
    "print(matrix[1,2])#1 is array index and 2 is arra element index\n",
    "print() \n",
    "print(matrix[:,2]) #include all arrays index and 2 is array element index"
   ]
  },
  {
   "cell_type": "code",
   "execution_count": 29,
   "metadata": {},
   "outputs": [],
   "source": [
    "n_arr=(arr[arr>4])"
   ]
  },
  {
   "cell_type": "code",
   "execution_count": 30,
   "metadata": {},
   "outputs": [
    {
     "name": "stdout",
     "output_type": "stream",
     "text": [
      "[5 5 6 7 8 9]\n",
      "[1 2 3 4 5 5 6 7 8 9]\n"
     ]
    }
   ],
   "source": [
    "print(n_arr)\n",
    "print(arr)"
   ]
  },
  {
   "cell_type": "code",
   "execution_count": 31,
   "metadata": {},
   "outputs": [
    {
     "name": "stdout",
     "output_type": "stream",
     "text": [
      "[1 2 3 4 5 6]\n"
     ]
    }
   ],
   "source": [
    "arr1 = np.array([1, 2, 3])\n",
    "arr2 = np.array([4, 5, 6])\n",
    "print(np.concatenate((arr1,arr2)))"
   ]
  },
  {
   "cell_type": "code",
   "execution_count": 32,
   "metadata": {},
   "outputs": [
    {
     "name": "stdout",
     "output_type": "stream",
     "text": [
      "['Minal' 'Python' 'NumPy']\n"
     ]
    }
   ],
   "source": [
    "arr = np.array(['Minal', 'Python', 'NumPy'], dtype='U')  # 'U' matlab Unicode string\n",
    "print(arr)"
   ]
  },
  {
   "cell_type": "code",
   "execution_count": 33,
   "metadata": {},
   "outputs": [],
   "source": [
    "l=np.char.str_len(arr)"
   ]
  },
  {
   "cell_type": "code",
   "execution_count": 34,
   "metadata": {},
   "outputs": [
    {
     "name": "stdout",
     "output_type": "stream",
     "text": [
      "[5 6 5]\n"
     ]
    }
   ],
   "source": [
    "print(l)"
   ]
  },
  {
   "cell_type": "code",
   "execution_count": 35,
   "metadata": {},
   "outputs": [
    {
     "name": "stdout",
     "output_type": "stream",
     "text": [
      "['helloMinal' 'hipython']\n"
     ]
    }
   ],
   "source": [
    "arr1=np.array([\"hello\",\"hi\"])\n",
    "arr2=np.array([\"Minal\",\"python\"])\n",
    "arr3=np.char.add(arr1,arr2)\n",
    "print(arr3)"
   ]
  },
  {
   "cell_type": "code",
   "execution_count": 36,
   "metadata": {},
   "outputs": [],
   "source": [
    "import numpy as np\n",
    "\n",
    "\n",
    "# -----------> view and copy in numpy\n",
    "# view-------> refrence of original array\n",
    "# if any change is made in the view it will be reflected in the original array "
   ]
  },
  {
   "cell_type": "code",
   "execution_count": 93,
   "metadata": {},
   "outputs": [
    {
     "name": "stdout",
     "output_type": "stream",
     "text": [
      "[2 3 5 6 7]\n",
      "[ 4  6 10 12 14]\n",
      "[ 4  6 10 12 14]\n",
      "Orginal array:  <class 'numpy.ndarray'>\n",
      "new_arr <class 'numpy.ndarray'>\n"
     ]
    }
   ],
   "source": [
    "arr=np.array([2,3,5,6,7])\n",
    "print(arr)\n",
    "new_arr=arr.view()\n",
    "new_arr*=2\n",
    "print(new_arr)\n",
    "\n",
    "print(arr)\n",
    "print(\"Orginal array: \",type(arr))\n",
    "print(\"new_arr\",type(new_arr))"
   ]
  },
  {
   "cell_type": "code",
   "execution_count": 38,
   "metadata": {},
   "outputs": [
    {
     "name": "stdout",
     "output_type": "stream",
     "text": [
      "[ 3  2  6 13  8  9]\n",
      "[3 2 6 6 8 9]\n",
      "Orginal array:  <class 'numpy.ndarray'>\n",
      "new_arr <class 'numpy.ndarray'>\n"
     ]
    }
   ],
   "source": [
    "arr=np.array([3,2,6,6,8,9])\n",
    "\n",
    "new_arr=arr.copy()\n",
    "new_arr[3]=13\n",
    "print(new_arr)\n",
    "print(arr)\n",
    "print(\"Orginal array: \",type(arr))\n",
    "print(\"new_arr\",type(new_arr))"
   ]
  },
  {
   "cell_type": "code",
   "execution_count": 39,
   "metadata": {},
   "outputs": [
    {
     "name": "stdout",
     "output_type": "stream",
     "text": [
      "[ 6  5  9 10 11 12]\n",
      "[3 2 6 7 8 9]\n",
      "Orginal array:  <class 'numpy.ndarray'>\n",
      "new_arr <class 'numpy.ndarray'>\n"
     ]
    }
   ],
   "source": [
    "arr=np.array([3,2,6,7,8,9])\n",
    "new_arr=arr.copy()\n",
    "new_arr+=3\n",
    "print(new_arr)\n",
    "print(arr)\n",
    "print(\"Orginal array: \",type(arr))\n",
    "print(\"new_arr\",type(new_arr))\n"
   ]
  },
  {
   "cell_type": "code",
   "execution_count": 40,
   "metadata": {},
   "outputs": [
    {
     "name": "stdout",
     "output_type": "stream",
     "text": [
      "[[2 3 4]\n",
      " [5 6 1]]\n",
      "[[2 3]\n",
      " [4 5]\n",
      " [6 1]]\n",
      "[2 3 4 5 6 1]\n"
     ]
    }
   ],
   "source": [
    "arr=np.array([2,3,4,5,6,1])\n",
    "\n",
    "new_arr=arr.reshape(2,-1)\n",
    "print(new_arr)\n",
    "new_arr=arr.reshape(3,-1)\n",
    "print(new_arr)\n",
    "new_arr=arr.reshape(-1)\n",
    "print(new_arr)"
   ]
  },
  {
   "cell_type": "code",
   "execution_count": 41,
   "metadata": {},
   "outputs": [
    {
     "name": "stdout",
     "output_type": "stream",
     "text": [
      "[2 4 6 1 3 5]\n"
     ]
    }
   ],
   "source": [
    "arr=np.array([[2,4,6],[1,3,5]])\n",
    "print(arr.reshape(-1))   #-1 will convert array to 1D"
   ]
  },
  {
   "cell_type": "code",
   "execution_count": 42,
   "metadata": {},
   "outputs": [],
   "source": [
    "arr=np.array([[[3,4,5],[8,9,0]],[[1,2,3],[3,8,5]]])"
   ]
  },
  {
   "cell_type": "code",
   "execution_count": 43,
   "metadata": {},
   "outputs": [
    {
     "name": "stdout",
     "output_type": "stream",
     "text": [
      "[[[3 4 5]\n",
      "  [8 9 0]]\n",
      "\n",
      " [[1 2 3]\n",
      "  [3 8 5]]]\n",
      "3\n",
      "---------------\n",
      "reshaped\n",
      "[[3 4 5 8 9 0]\n",
      " [1 2 3 3 8 5]]\n",
      "---------------\n",
      "reshaped\n",
      "[[3 4 5 8]\n",
      " [9 0 1 2]\n",
      " [3 3 8 5]]\n",
      "---------------\n",
      "reshaped\n",
      "[[3 4 5]\n",
      " [8 9 0]\n",
      " [1 2 3]\n",
      " [3 8 5]]\n",
      "---------------\n",
      "reshaped\n",
      "[[3 4]\n",
      " [5 8]\n",
      " [9 0]\n",
      " [1 2]\n",
      " [3 3]\n",
      " [8 5]]\n"
     ]
    }
   ],
   "source": [
    "print(arr)\n",
    "print(arr.ndim)\n",
    "print(\"---------------\")\n",
    "print(\"reshaped\")\n",
    "print(arr.reshape(2,6))\n",
    "print(\"---------------\")\n",
    "print(\"reshaped\")\n",
    "print(arr.reshape(3,4))\n",
    "print(\"---------------\")\n",
    "print(\"reshaped\")\n",
    "print(arr.reshape(4,-1)) #in this -1 iis used as we dont know the columns number\n",
    "print(\"---------------\")\n",
    "print(\"reshaped\")\n",
    "print(arr.reshape(6,-1))\n"
   ]
  },
  {
   "cell_type": "code",
   "execution_count": 44,
   "metadata": {},
   "outputs": [
    {
     "name": "stdout",
     "output_type": "stream",
     "text": [
      "[[ 1  2  3  4  5]\n",
      " [ 6  7  8  9 10]]\n",
      "[[ 1  2]\n",
      " [ 3  4]\n",
      " [ 5  6]\n",
      " [ 7  8]\n",
      " [ 9 10]]\n"
     ]
    }
   ],
   "source": [
    "import numpy as np\n",
    "arr=np.array([1, 2, 3, 4, 5, 6, 7, 8, 9, 10])\n",
    "newarr=arr.reshape(2,-1)\n",
    "print(newarr)\n",
    "newarr=arr.reshape(5,-1)\n",
    "print(newarr)"
   ]
  },
  {
   "cell_type": "code",
   "execution_count": 45,
   "metadata": {},
   "outputs": [
    {
     "name": "stdout",
     "output_type": "stream",
     "text": [
      "[1 2 3 4 5 6 7 8 9]\n",
      "[[1 2 3 4 5 6 7 8 9]]\n",
      "[1 2 3 4 5 6 7 8 9]\n"
     ]
    }
   ],
   "source": [
    "arr=np.array([[1, 2, 3], [4, 5, 6], [7, 8, 9]])\n",
    "print(arr.reshape(-1))\n",
    "print(arr.reshape(1,-1))\n",
    "print(arr.reshape(9))"
   ]
  },
  {
   "cell_type": "code",
   "execution_count": 46,
   "metadata": {},
   "outputs": [
    {
     "name": "stdout",
     "output_type": "stream",
     "text": [
      "Original array:\n",
      " [[[1 2]\n",
      "  [3 4]]\n",
      "\n",
      " [[5 6]\n",
      "  [7 8]]]\n",
      "Reshaped array:\n",
      " [[1 2 3 4]\n",
      " [5 6 7 8]]\n",
      "Reshaped array:\n",
      " [[1 2]\n",
      " [3 4]\n",
      " [5 6]\n",
      " [7 8]]\n"
     ]
    }
   ],
   "source": [
    "arr=np.array([[[1, 2], [3, 4]], [[5, 6], [7, 8]]])\n",
    "print(\"Original array:\\n\",arr)\n",
    "print(\"Reshaped array:\\n\",arr.reshape(2,-1))\n",
    "print(\"Reshaped array:\\n\",arr.reshape(-1,2))"
   ]
  },
  {
   "cell_type": "code",
   "execution_count": 47,
   "metadata": {},
   "outputs": [
    {
     "name": "stdout",
     "output_type": "stream",
     "text": [
      "Original Array\n",
      " [ 1  2  3  4  5  6  7  8  9 10 11 12]\n",
      "Reshaped array: \n",
      " [[[ 1  2  3]\n",
      "  [ 4  5  6]]\n",
      "\n",
      " [[ 7  8  9]\n",
      "  [10 11 12]]]\n"
     ]
    }
   ],
   "source": [
    "\n",
    "arr=np.array([1, 2, 3, 4, 5, 6, 7, 8, 9, 10, 11, 12])\n",
    "print(\"Original Array\\n\",arr)\n",
    "newarr=arr.reshape(2,2,-1)\n",
    "print(\"Reshaped array: \\n\",newarr)"
   ]
  },
  {
   "cell_type": "code",
   "execution_count": 95,
   "metadata": {},
   "outputs": [
    {
     "name": "stdout",
     "output_type": "stream",
     "text": [
      "[[1]\n",
      " [2]\n",
      " [3]\n",
      " [4]\n",
      " [5]\n",
      " [6]\n",
      " [7]]\n"
     ]
    }
   ],
   "source": [
    "arr=np.array([1, 2, 3, 4, 5, 6, 7])\n",
    "newarr=arr.reshape(7,-1)\n",
    "print(newarr)"
   ]
  },
  {
   "cell_type": "code",
   "execution_count": 97,
   "metadata": {},
   "outputs": [
    {
     "name": "stdout",
     "output_type": "stream",
     "text": [
      "1\n",
      "3\n",
      "5\n",
      "6\n",
      "7\n"
     ]
    }
   ],
   "source": [
    "# itreation\n",
    "\n",
    "arr=np.array([1,3,5,6,7])\n",
    "for i in range(len(arr)):\n",
    "    print(arr[i])"
   ]
  },
  {
   "cell_type": "code",
   "execution_count": 50,
   "metadata": {},
   "outputs": [
    {
     "name": "stdout",
     "output_type": "stream",
     "text": [
      "[1 2 3]\n",
      "[4 5 6]\n"
     ]
    }
   ],
   "source": [
    "arr=np.array([[1,2,3],[4,5,6]])\n",
    "# for i in range (len(arr)):\n",
    "#     print(arr[i]) #-----> iterating each row\n",
    "\n",
    "for i in arr:\n",
    "    print(i)\n"
   ]
  },
  {
   "cell_type": "code",
   "execution_count": 51,
   "metadata": {},
   "outputs": [
    {
     "name": "stdout",
     "output_type": "stream",
     "text": [
      "1\n",
      "2\n",
      "3\n",
      "4\n",
      "5\n",
      "6\n"
     ]
    }
   ],
   "source": [
    "arr = np.array([[1, 2, 3], [4, 5, 6]])\n",
    "\n",
    "for row in arr:\n",
    "  for element in row:\n",
    "    print(element)"
   ]
  },
  {
   "cell_type": "code",
   "execution_count": 52,
   "metadata": {},
   "outputs": [],
   "source": [
    "arr=np.array([[[1,2,5],[2,5,6]],[[0,8,9],[6,7,8]]])"
   ]
  },
  {
   "cell_type": "code",
   "execution_count": 53,
   "metadata": {},
   "outputs": [
    {
     "name": "stdout",
     "output_type": "stream",
     "text": [
      "[[[1 2 5]\n",
      "  [2 5 6]]\n",
      "\n",
      " [[0 8 9]\n",
      "  [6 7 8]]]\n",
      "Dimension:  3\n",
      "1\n",
      "2\n",
      "5\n",
      "2\n",
      "5\n",
      "6\n",
      "0\n",
      "8\n",
      "9\n",
      "6\n",
      "7\n",
      "8\n"
     ]
    }
   ],
   "source": [
    "print(arr)\n",
    "print(\"Dimension: \",arr.ndim)\n",
    "for element in np.nditer(arr):\n",
    "    print(element)"
   ]
  },
  {
   "cell_type": "code",
   "execution_count": 54,
   "metadata": {},
   "outputs": [
    {
     "name": "stdout",
     "output_type": "stream",
     "text": [
      "1\n",
      "2\n",
      "5\n",
      "2\n",
      "5\n",
      "6\n",
      "0\n",
      "8\n",
      "9\n",
      "6\n",
      "7\n",
      "8\n"
     ]
    }
   ],
   "source": [
    "for layer in arr:       #---->traditionl method\n",
    "    for row in layer:\n",
    "        for element in row:\n",
    "            print(element)"
   ]
  },
  {
   "cell_type": "code",
   "execution_count": 55,
   "metadata": {},
   "outputs": [
    {
     "name": "stdout",
     "output_type": "stream",
     "text": [
      "Index: (0, 0, 0) Value: 1\n",
      "Index: (0, 0, 1) Value: 2\n",
      "Index: (0, 0, 2) Value: 5\n",
      "Index: (0, 1, 0) Value: 2\n",
      "Index: (0, 1, 1) Value: 5\n",
      "Index: (0, 1, 2) Value: 6\n",
      "Index: (1, 0, 0) Value: 0\n",
      "Index: (1, 0, 1) Value: 8\n",
      "Index: (1, 0, 2) Value: 9\n",
      "Index: (1, 1, 0) Value: 6\n",
      "Index: (1, 1, 1) Value: 7\n",
      "Index: (1, 1, 2) Value: 8\n"
     ]
    }
   ],
   "source": [
    "# ---> ndenumerate\n",
    "for index, value in np.ndenumerate(arr):\n",
    "    print(f\"Index: {index} Value: {value}\")"
   ]
  },
  {
   "cell_type": "code",
   "execution_count": 56,
   "metadata": {},
   "outputs": [
    {
     "name": "stdout",
     "output_type": "stream",
     "text": [
      "2\n",
      "4\n",
      "0\n",
      "1\n",
      "8\n",
      "6\n",
      "9\n",
      "4\n",
      "7\n",
      "\n",
      "2\n",
      "1\n",
      "9\n",
      "4\n",
      "8\n",
      "4\n",
      "0\n",
      "6\n",
      "7\n"
     ]
    }
   ],
   "source": [
    "# -----> order='C' (row-wise) / order='F' (column-wise) \n",
    "import numpy as np\n",
    "arr=np.array([[2,4,0],[1,8,6],[9,4,7]])\n",
    "for element in np.nditer(arr,order='C'):\n",
    "    print(element)\n",
    "print()\n",
    "for element in np.nditer(arr,order='F'):\n",
    "    print(element)"
   ]
  },
  {
   "cell_type": "code",
   "execution_count": 57,
   "metadata": {},
   "outputs": [
    {
     "name": "stdout",
     "output_type": "stream",
     "text": [
      "10\n",
      "20\n",
      "30\n",
      "40\n"
     ]
    }
   ],
   "source": [
    "# que1\n",
    "arr=np.array([[5, 10], [15, 20]])\n",
    "for element in np.nditer(arr):\n",
    "    print(element*2)"
   ]
  },
  {
   "cell_type": "code",
   "execution_count": 58,
   "metadata": {},
   "outputs": [
    {
     "name": "stdout",
     "output_type": "stream",
     "text": [
      "Index:(0, 0, 0) value: 1\n",
      "Index:(0, 1, 0) value: 2\n",
      "Index:(1, 0, 0) value: 3\n",
      "Index:(1, 1, 0) value: 4\n"
     ]
    }
   ],
   "source": [
    "arr=np.array([[[1], [2]], [[3], [4]]])\n",
    "for index,value in np.ndenumerate(arr):\n",
    "    print(f\"Index:{index} value: {value}\")"
   ]
  },
  {
   "cell_type": "code",
   "execution_count": 59,
   "metadata": {},
   "outputs": [
    {
     "name": "stdout",
     "output_type": "stream",
     "text": [
      "Row iteration\n",
      "10\n",
      "30\n",
      "20\n",
      "40\n",
      "Column Iteration\n",
      "10\n",
      "20\n",
      "30\n",
      "40\n"
     ]
    }
   ],
   "source": [
    "arr=np.array([[10, 20], [30, 40]])\n",
    "print(\"Row iteration\")\n",
    "for element in np.nditer(arr,order='F'):  #----> column wise iteration\n",
    "    print(element)\n",
    "print(\"Column Iteration\")\n",
    "for element in np.nditer(arr,order='c'):  #----> row wise iteration\n",
    "    print(element)"
   ]
  },
  {
   "cell_type": "code",
   "execution_count": 60,
   "metadata": {},
   "outputs": [
    {
     "name": "stdout",
     "output_type": "stream",
     "text": [
      "b'1'\n",
      "b'5'\n",
      "b'2'\n"
     ]
    }
   ],
   "source": [
    "\n",
    "arr=np.array([1,5,2])\n",
    "\n",
    "for x in np.nditer(arr, flags=['buffered'], op_dtypes=['S']):\n",
    "\n",
    "    print(x)\n",
    "\n",
    "#----->  output\n",
    "# b'1'   --->b= byte string\n",
    "# b'5'\n",
    "# b'2'"
   ]
  },
  {
   "cell_type": "code",
   "execution_count": 61,
   "metadata": {},
   "outputs": [
    {
     "name": "stdout",
     "output_type": "stream",
     "text": [
      "b'1'\n",
      "|S11\n",
      "b'2'\n",
      "|S11\n",
      "b'3'\n",
      "|S11\n"
     ]
    }
   ],
   "source": [
    "arr = np.array([1, 2, 3])\n",
    "\n",
    "for x in np.nditer(arr, flags=['buffered'], op_dtypes='S'):\n",
    "  print(x)\n",
    "  print(x.dtype)\n",
    "        "
   ]
  },
  {
   "cell_type": "code",
   "execution_count": 62,
   "metadata": {},
   "outputs": [
    {
     "name": "stdout",
     "output_type": "stream",
     "text": [
      "dimension:  2\n",
      "Shape:  (2, 5)\n",
      "Size:  10\n",
      "Type:  <class 'numpy.ndarray'>\n",
      "Datatype: 6\n",
      "Datatype: 8\n",
      "Datatype: 0\n"
     ]
    }
   ],
   "source": [
    "# Step size \n",
    "import numpy as np\n",
    "arr1=np.array([[6,7,8,9,0],[1,2,3,4,5]])\n",
    "print(\"dimension: \",arr1.ndim)\n",
    "print(\"Shape: \",arr1.shape)\n",
    "print(\"Size: \",arr1.size)\n",
    "print(\"Type: \",type(arr1))\n",
    "\n",
    "\n",
    "for x in np.nditer(arr1[0:1,::2]):\n",
    "    print(f\"Datatype: {x}\")"
   ]
  },
  {
   "cell_type": "code",
   "execution_count": 63,
   "metadata": {},
   "outputs": [
    {
     "name": "stdout",
     "output_type": "stream",
     "text": [
      "[[1 2 4 5 6 1 9 0 2 4]\n",
      " [3 4 5 6 7 7 1 0 2 1]]\n",
      "\n",
      "[[1 2 4 5 6]\n",
      " [3 4 5 6 7]\n",
      " [1 9 0 2 4]\n",
      " [7 1 0 2 1]]\n"
     ]
    }
   ],
   "source": [
    "# joining two arrays\n",
    "\n",
    "arr1=np.array([[1,2,4,5,6],[3,4,5,6,7]])\n",
    "arr2=np.array([[1,9,0,2,4],[7,1,0,2,1]])\n",
    "\n",
    "arr3=np.concatenate((arr1,arr2), axis=1)  # this will concatenate multiple arrays in horizontal (axis=0)\n",
    "# combine first array of first dimension and second array of second dimension\n",
    "print(arr3)\n",
    "print()\n",
    "arr3=np.concatenate((arr1,arr2), axis=0) # this will concatenate multiple arrays in vertical (axis=1)\n",
    "# this will stack arrays dimension one after other\n",
    "print(arr3)\n"
   ]
  },
  {
   "cell_type": "code",
   "execution_count": 64,
   "metadata": {},
   "outputs": [
    {
     "name": "stdout",
     "output_type": "stream",
     "text": [
      "[[ 2 11  4  7 10]\n",
      " [10  5  5  8  8]]\n"
     ]
    }
   ],
   "source": [
    "arr4=arr1+arr2  # ths will add elements of first dimension array to the corresponding\n",
    "# element of second dimension\n",
    "print(arr4)"
   ]
  },
  {
   "cell_type": "code",
   "execution_count": 65,
   "metadata": {},
   "outputs": [
    {
     "name": "stdout",
     "output_type": "stream",
     "text": [
      "[[4 6 7]\n",
      " [1 3 0]]\n",
      "\n",
      "[[1 3 0]\n",
      " [4 6 7]]\n",
      "\n",
      "[[4 1]\n",
      " [6 3]\n",
      " [7 0]]\n"
     ]
    }
   ],
   "source": [
    "# Stack function \n",
    "\n",
    "arr1=np.array([4,6,7])\n",
    "arr2=np.array([1,3,0])\n",
    "\n",
    "arr=np.stack((arr1, arr2),axis=0)\n",
    "print(arr)\n",
    "print()\n",
    "arr=np.stack((arr2, arr1))\n",
    "print(arr)\n",
    "print()\n",
    "arr=np.stack((arr1, arr2), axis=1) #this will convert rows in to columns or stacked vertically\n",
    "print(arr)"
   ]
  },
  {
   "cell_type": "code",
   "execution_count": 100,
   "metadata": {},
   "outputs": [
    {
     "name": "stdout",
     "output_type": "stream",
     "text": [
      "[[[1 3]\n",
      "  [7 4]]\n",
      "\n",
      " [[9 0]\n",
      "  [8 2]]]\n",
      "===================\n",
      "[[1 3 9 0]\n",
      " [7 4 8 2]]\n",
      "===================\n",
      "[[1 3]\n",
      " [7 4]\n",
      " [9 0]\n",
      " [8 2]]\n",
      "--------------------\n",
      "[[[1 9]\n",
      "  [3 0]]\n",
      "\n",
      " [[7 8]\n",
      "  [4 2]]]\n"
     ]
    }
   ],
   "source": [
    "arr1=np.array([[1,3],[7,4]])\n",
    "arr2=np.array([[9,0],[8,2]])\n",
    "arr=np.stack((arr1,arr2)) # stack dimension of both arrays to horizontal direction\n",
    "print(arr)\n",
    "print(\"===================\")\n",
    "#  [1,3] [9,0] and [7,4] [8,2] both the arrays get combined and output wil be [[1 3 9 0][7 4 8 2]]\n",
    "arr=np.hstack((arr1,arr2)) # stack dimension of both arrays to horizontal direction\n",
    "print(arr)\n",
    "print(\"===================\")\n",
    "arr=np.vstack((arr1,arr2)) # atack all elements in vertical direction first elemeny of all dimension is stacked to first column\n",
    "print(arr)\n",
    "print(\"--------------------\")\n",
    "arr=np.dstack((arr1,arr2)) # stack all elements in that are in  corresponding column of both arrays to row\n",
    "print(arr)\n"
   ]
  },
  {
   "cell_type": "code",
   "execution_count": 67,
   "metadata": {},
   "outputs": [
    {
     "name": "stdout",
     "output_type": "stream",
     "text": [
      "[array([2, 4, 6, 8, 7]), array([9, 0, 3, 5]), array([6, 7, 8, 2])]\n"
     ]
    }
   ],
   "source": [
    "# Split numpy array \n",
    "\n",
    "arr=np.array([2,4,6,8,7,9,0,3,5,6,7,8,2])\n",
    "print(np.array_split(arr, 3,axis=0))   #split array to unequal elements in each splited array\n",
    "# print(np.split(arr,3))  split array to equal elements in each splited array"
   ]
  },
  {
   "cell_type": "code",
   "execution_count": 102,
   "metadata": {},
   "outputs": [
    {
     "name": "stdout",
     "output_type": "stream",
     "text": [
      "[array([[1, 2, 3, 4, 5, 7]]), array([], shape=(0, 6), dtype=int32), array([], shape=(0, 6), dtype=int32)]\n",
      "[[1 2 3 4 5 7]]\n",
      "[]\n",
      "[]\n"
     ]
    }
   ],
   "source": [
    "import numpy as np\n",
    "arr = np.array([[1, 2,3, 4, 5,7]])\n",
    "\n",
    "# Split into 3 sub-arrays along rows\n",
    "result = np.array_split(arr, 3)\n",
    "print(result)\n",
    "print(result[0])\n",
    "print(result[1])\n",
    "print(result[2])\n",
    "# print(result[3])"
   ]
  },
  {
   "cell_type": "code",
   "execution_count": 69,
   "metadata": {},
   "outputs": [
    {
     "name": "stdout",
     "output_type": "stream",
     "text": [
      "[1 2]\n",
      "[3 4]\n",
      "[5 6]\n"
     ]
    }
   ],
   "source": [
    "arr = np.array([1, 2, 3, 4, 5, 6])\n",
    "\n",
    "newarr = np.array_split(arr, 3)\n",
    "\n",
    "print(newarr[0])\n",
    "print(newarr[1])\n",
    "print(newarr[2])"
   ]
  },
  {
   "cell_type": "code",
   "execution_count": 70,
   "metadata": {},
   "outputs": [
    {
     "name": "stdout",
     "output_type": "stream",
     "text": [
      "(array([ 3, 11], dtype=int64),)\n"
     ]
    }
   ],
   "source": [
    "# Serach in array \n",
    "\n",
    "# where keyword is used to search a specific element in array \n",
    "arr=np.array([2,4,6,8,7,9,0,3,5,6,7,8,2])\n",
    "x= np.where(arr==8)\n",
    "print(x)\n"
   ]
  },
  {
   "cell_type": "code",
   "execution_count": 71,
   "metadata": {},
   "outputs": [
    {
     "name": "stdout",
     "output_type": "stream",
     "text": [
      "4\n",
      "6\n",
      "7\n",
      "9\n",
      "10\n",
      "Time taken by python list:  0.001001119613647461\n",
      "-----------------------------------\n",
      "[ 4  6  7  9 10]\n",
      "Time taken by numpy arrais:  0.0\n"
     ]
    }
   ],
   "source": [
    "# arr=np.array([2,4,6,8,7,9,0,3,5,6,7,8,2])\n",
    "# x= np.where(arr>5)\n",
    "# print(x)\n",
    "# Question 3\n",
    "# Why is NumPy Faster Than Lists? Experiment with lists vs. NumPy arrays in performance\n",
    "# Measure time for list\n",
    "# Measure time for NumPy array\n",
    "\n",
    "# 1. NumPy’s code is written in C and C++, which is faster than Python’s interpreted code.\n",
    "# 2. Numpy array perform operationsonentire array at once (vectorization)\n",
    "# 3. it also store data in continuous memory block\n",
    "\n",
    "import numpy as np\n",
    "import time\n",
    "\n",
    "py_list=[2,4,5,7,8]\n",
    "t1=time.time()\n",
    "for i in py_list:\n",
    "    print(i+2)\n",
    "t2=time.time()\n",
    "print(\"Time taken by python list: \", t2 - t1)\n",
    "print(\"-----------------------------------\")\n",
    "\n",
    "np_arr=np.array([2,4,5,7,8])\n",
    "t3=time.time()\n",
    "print(np_arr+2)\n",
    "t4=time.time()\n",
    "print(\"Time taken by numpy arrais: \",t4-t3)\n",
    "\n"
   ]
  },
  {
   "cell_type": "code",
   "execution_count": 72,
   "metadata": {},
   "outputs": [
    {
     "name": "stdout",
     "output_type": "stream",
     "text": [
      "(array([ 0,  1,  2,  3,  6,  9, 11, 12], dtype=int64),)\n"
     ]
    }
   ],
   "source": [
    "arr=np.array([2,4,6,8,7,9,0,3,5,6,7,8,2])\n",
    "x= np.where(arr%2==0)\n",
    "print(x)"
   ]
  },
  {
   "cell_type": "code",
   "execution_count": 73,
   "metadata": {},
   "outputs": [],
   "source": [
    "import numpy as np"
   ]
  },
  {
   "cell_type": "code",
   "execution_count": 74,
   "metadata": {},
   "outputs": [
    {
     "data": {
      "text/plain": [
       "3"
      ]
     },
     "execution_count": 74,
     "metadata": {},
     "output_type": "execute_result"
    }
   ],
   "source": [
    "arr=np.array([[8,3,4,6]])\n",
    "arr[0,1] "
   ]
  },
  {
   "cell_type": "code",
   "execution_count": 75,
   "metadata": {},
   "outputs": [
    {
     "name": "stdout",
     "output_type": "stream",
     "text": [
      "[1 2 4 5 7 8]\n"
     ]
    }
   ],
   "source": [
    "import numpy as np\n",
    "arr=np.array([2,4,1,5,7,8])\n",
    "new_arr=np.sort(arr)\n",
    "print(new_arr)"
   ]
  },
  {
   "cell_type": "code",
   "execution_count": 76,
   "metadata": {},
   "outputs": [
    {
     "name": "stdout",
     "output_type": "stream",
     "text": [
      "['Green' 'Maroon' 'Red' 'blue' 'red' 'yellow']\n"
     ]
    }
   ],
   "source": [
    "arr=np.array([\"red\",\"Green\",\"Red\",\"blue\",\"yellow\",\"Maroon\"])\n",
    "print(np.sort(arr))\n",
    "# print(type(arr))"
   ]
  },
  {
   "cell_type": "code",
   "execution_count": 77,
   "metadata": {},
   "outputs": [
    {
     "name": "stdout",
     "output_type": "stream",
     "text": [
      "[[2 3 4]\n",
      " [0 5 9]\n",
      " [3 7 7]]\n"
     ]
    }
   ],
   "source": [
    "arr=np.array([[2,3,4],[9,0,5],[7,3,7]])\n",
    "print(np.sort(arr))"
   ]
  },
  {
   "cell_type": "code",
   "execution_count": 78,
   "metadata": {},
   "outputs": [
    {
     "name": "stdout",
     "output_type": "stream",
     "text": [
      "[False False  True  True  True  True]\n"
     ]
    }
   ],
   "source": [
    "# boolen sorting\n",
    "arr=np.array([True,True,False,True,True,False])\n",
    "print(np.sort(arr))"
   ]
  },
  {
   "cell_type": "code",
   "execution_count": 79,
   "metadata": {},
   "outputs": [
    {
     "name": "stdout",
     "output_type": "stream",
     "text": [
      "Sorted by second column (NumPy):\n",
      " [[4 1]\n",
      " [1 3]\n",
      " [0 3]\n",
      " [2 5]]\n"
     ]
    }
   ],
   "source": [
    "arr = np.array([[1, 3], [4, 1], [2, 5],[0,3]])\n",
    "sorted_arr = arr[arr[:,1].argsort()]  # Sort by the second column\n",
    "print(\"Sorted by second column (NumPy):\\n\", sorted_arr)"
   ]
  },
  {
   "cell_type": "code",
   "execution_count": 80,
   "metadata": {},
   "outputs": [
    {
     "name": "stdout",
     "output_type": "stream",
     "text": [
      "[6 7 8 8 9]\n"
     ]
    }
   ],
   "source": [
    "\n",
    "arr=np.array([2,5,3,7,4,8,9,6,8,3,2])\n",
    "mask=arr>5\n",
    "filtered_array=arr[mask]\n",
    "print(np.sort(filtered_array))"
   ]
  },
  {
   "cell_type": "code",
   "execution_count": 81,
   "metadata": {},
   "outputs": [
    {
     "name": "stdout",
     "output_type": "stream",
     "text": [
      "[24 34 78]\n"
     ]
    }
   ],
   "source": [
    "# multiple condition for filter\n",
    "\n",
    "arr=np.array([3,23,24,1,57,2,5,34,33,7,78])\n",
    "mask=(arr > 10) & (arr % 2 == 0)\n",
    "filtered_array = arr[mask]\n",
    "print(np.sort(filtered_array))"
   ]
  },
  {
   "cell_type": "code",
   "execution_count": 82,
   "metadata": {},
   "outputs": [
    {
     "name": "stdout",
     "output_type": "stream",
     "text": [
      "[False, False, True, False, True, True]\n",
      "[ 8  9 14]\n"
     ]
    }
   ],
   "source": [
    "\n",
    "arr = np.array([1,2,14,6,8,9])\n",
    "\n",
    "filter_arr = []\n",
    "\n",
    "for element in arr:\n",
    "    if element>6:\n",
    "        filter_arr.append(True)\n",
    "    else:\n",
    "        filter_arr.append(False)\n",
    "\n",
    "print(filter_arr)\n",
    "print(np.sort(arr[filter_arr]))\n"
   ]
  },
  {
   "cell_type": "code",
   "execution_count": 83,
   "metadata": {},
   "outputs": [
    {
     "name": "stdout",
     "output_type": "stream",
     "text": [
      "['Apple' 'Avocado' 'Apricot']\n",
      "['Guavava']\n",
      "['Avocado']\n",
      "['Guavava' 'Avocado' 'Apricot']\n",
      "['Orange' 'Mango']\n"
     ]
    }
   ],
   "source": [
    "arr = np.array([\"Apple\", \"Cherry\",\"Orange\",\"Banana\",\"Guavava\", \"Avocado\", \"Mango\", \"Apricot\", \"Berry\"])\n",
    "\n",
    "filter=np.char.startswith(arr,\"A\")\n",
    "print(arr[filter])\n",
    "\n",
    "filter=np.char.startswith(arr,\"G\")\n",
    "print(arr[filter])\n",
    "\n",
    "filter=np.char.endswith(arr,\"do\")\n",
    "print(arr[filter])\n",
    "\n",
    "filter=np.char.str_len(arr) > 6\n",
    "print(arr[filter])\n",
    "\n",
    "filter=np.char.find(arr,\"ang\")>0\n",
    "print(arr[filter])\n"
   ]
  },
  {
   "cell_type": "code",
   "execution_count": 84,
   "metadata": {},
   "outputs": [
    {
     "name": "stdout",
     "output_type": "stream",
     "text": [
      "[6 9 6]\n"
     ]
    }
   ],
   "source": [
    "arr=np.array([3,6,4,2,9,6])\n",
    "filter=arr>4\n",
    "print(arr[filter])"
   ]
  },
  {
   "cell_type": "code",
   "execution_count": 85,
   "metadata": {},
   "outputs": [
    {
     "name": "stdout",
     "output_type": "stream",
     "text": [
      "[[[0.03976662 0.64162274 0.7134313 ]\n",
      "  [0.3261439  0.95135892 0.47102707]]]\n"
     ]
    }
   ],
   "source": [
    "#this will return array of 10 values range from 0 to 1\n",
    "\n",
    "arr=np.random.rand(1,2,3) # one layer 2 rows and 3 columns \n",
    "print(arr)"
   ]
  },
  {
   "cell_type": "code",
   "execution_count": 86,
   "metadata": {},
   "outputs": [],
   "source": [
    "# arr=np.array.random.randint(10) # one layer 2 rows and 3 columns \n",
    "# print(arr)"
   ]
  },
  {
   "cell_type": "code",
   "execution_count": 87,
   "metadata": {},
   "outputs": [
    {
     "name": "stdout",
     "output_type": "stream",
     "text": [
      "17\n",
      "[0.181134   0.08093481 0.67723758 0.71603824 0.34169405 0.63970665\n",
      " 0.28421856 0.91116712 0.75107788 0.1489056 ]\n",
      "floating:  1.9639035746873148\n"
     ]
    }
   ],
   "source": [
    "print(np.random.randint(20))\n",
    "print(np.random.random_sample(10))\n",
    "\n",
    "print(\"floating: \",np.random.uniform(10))"
   ]
  },
  {
   "cell_type": "code",
   "execution_count": 88,
   "metadata": {},
   "outputs": [
    {
     "name": "stdout",
     "output_type": "stream",
     "text": [
      "[3 1 3 2 2 1 1 7 8 7 8 5 7 9 6 8 8 8 3 2]\n"
     ]
    },
    {
     "data": {
      "text/plain": [
       "numpy.ndarray"
      ]
     },
     "execution_count": 88,
     "metadata": {},
     "output_type": "execute_result"
    }
   ],
   "source": [
    "from numpy import random\n",
    "arr=random.randint(10,size=20) #this will create an array of size 20 in which numbers from 1 to 10 are included\n",
    "# size keyword is used to define the size of an array / no of elements in an array\n",
    "\n",
    "print(arr)\n",
    "type(arr)"
   ]
  },
  {
   "cell_type": "code",
   "execution_count": 89,
   "metadata": {},
   "outputs": [
    {
     "name": "stdout",
     "output_type": "stream",
     "text": [
      "[5 6 1 6 8 5 9 5 4 2]\n",
      "---------------------\n",
      "[[2 6 4 7 7]\n",
      " [7 9 0 0 3]\n",
      " [9 5 8 6 7]\n",
      " [2 8 4 8 1]\n",
      " [7 6 0 3 6]]\n",
      "---------------------\n",
      "[[[3 3 1 8]\n",
      "  [1 3 7 3]\n",
      "  [5 2 8 7]]]\n",
      "---------------------\n",
      "[[[[0 6 7]\n",
      "   [4 5 4]\n",
      "   [6 7 5]]\n",
      "\n",
      "  [[2 7 4]\n",
      "   [3 8 4]\n",
      "   [2 6 2]]]\n",
      "\n",
      "\n",
      " [[[3 8 0]\n",
      "   [5 5 2]\n",
      "   [1 9 7]]\n",
      "\n",
      "  [[8 1 0]\n",
      "   [5 0 0]\n",
      "   [0 7 3]]]]\n",
      "---------------------\n"
     ]
    }
   ],
   "source": [
    "arr=random.randint(10, size=(10))\n",
    "print(arr)\n",
    "print(\"---------------------\")\n",
    "arr=random.randint(10, size=(5,5))\n",
    "print(arr)\n",
    "print(\"---------------------\")\n",
    "arr=random.randint(10, size=(1,3,4))\n",
    "print(arr)\n",
    "print(\"---------------------\")\n",
    "arr=random.randint(10, size=(2,2,3,3))\n",
    "print(arr)\n",
    "print(\"---------------------\")"
   ]
  },
  {
   "cell_type": "code",
   "execution_count": 90,
   "metadata": {},
   "outputs": [
    {
     "name": "stdout",
     "output_type": "stream",
     "text": [
      "[30  6  4  2 21 48 34 99 94 50]\n",
      "--------------------------------\n",
      "99\n"
     ]
    }
   ],
   "source": [
    "x=random.randint(100,size=10)\n",
    "print(x)\n",
    "print(\"--------------------------------\")\n",
    "y=random.choice(x)\n",
    "print(y)"
   ]
  },
  {
   "cell_type": "code",
   "execution_count": 91,
   "metadata": {},
   "outputs": [
    {
     "name": "stdout",
     "output_type": "stream",
     "text": [
      "Avocado\n"
     ]
    }
   ],
   "source": [
    "arr = np.array([\"Apple\", \"Cherry\",\"Orange\",\"Banana\",\"Guavava\", \"Avocado\", \"Mango\", \"Apricot\", \"Berry\"])\n",
    "x=random.choice(arr)\n",
    "print(x)\n"
   ]
  },
  {
   "cell_type": "code",
   "execution_count": 109,
   "metadata": {},
   "outputs": [
    {
     "name": "stdout",
     "output_type": "stream",
     "text": [
      "8\n",
      "[8 4 6 7 9 3 3 4 9 7]\n"
     ]
    }
   ],
   "source": [
    "from numpy import random \n",
    "arr=random.randint(10,size=10)\n",
    "\n",
    "print(random.choice(arr))\n",
    "print(arr)"
   ]
  },
  {
   "cell_type": "code",
   "execution_count": 104,
   "metadata": {},
   "outputs": [
    {
     "name": "stdout",
     "output_type": "stream",
     "text": [
      "[7, 7, 1]\n"
     ]
    }
   ],
   "source": [
    "import random\n",
    "numbers = [1, 2, 3, 4, 5, 6, 7, 8, 9]\n",
    "print(random.choices(numbers, k=3))  # Picks 3 random elements\n"
   ]
  },
  {
   "cell_type": "code",
   "execution_count": 18,
   "metadata": {},
   "outputs": [
    {
     "name": "stdout",
     "output_type": "stream",
     "text": [
      "1.279281193883781\n",
      "----------------------------------------\n",
      "[9.19820107 9.59557199 4.14206451]\n",
      "----------------------------------------\n",
      "[[5.2153425  2.71009956 8.70642086 6.47729862]\n",
      " [6.80740506 6.13072713 9.11284668 3.26579413]\n",
      " [4.94128481 3.22501211 1.33680101 9.24747069]]\n",
      "------------------------------\n",
      "[[[3.71859726 7.41970973 5.79933191 9.93566401 7.97860119 2.99231024]\n",
      "  [9.7053845  6.73804368 7.48444206 2.07782124 8.3465218  9.37129335]]\n",
      "\n",
      " [[5.66800485 6.81853423 5.83539447 6.66071491 5.46675543 6.72630535]\n",
      "  [4.50292879 8.75302445 1.52420776 9.86656922 7.51336682 7.81435657]]\n",
      "\n",
      " [[9.59604592 4.44688601 9.54099208 9.01554926 5.93001611 5.1391289 ]\n",
      "  [5.39763783 8.96714036 4.39693503 3.10447816 5.23745262 3.43997501]]]\n",
      "------------------------------\n"
     ]
    }
   ],
   "source": [
    "# floating point random values\n",
    "\n",
    "import numpy as np\n",
    "from numpy import random\n",
    "\n",
    "arr=np.random.uniform(1,10)  #print single floating point in between 1 to 10\n",
    "print(arr)\n",
    "print(\"-\"*40)\n",
    "\n",
    "arr=np.random.uniform(1,10,size=(3))  #generate 3 floating point numbers in between 1 to 10\n",
    "print(arr)\n",
    "print(\"-\"*40)\n",
    "\n",
    "arr=np.random.uniform(1,10,size=(3,4))  #generate floating point numbers in between 1 to 10 3 rows 4 columns\n",
    "print(arr)\n",
    "print(\"-\"*30)\n",
    "\n",
    "arr=np.random.uniform(1,10,size=(3,2,6))  # generate floating point numbers in between 1 to 10, 3 layer 2 rows 6 columns\n",
    "print(arr)\n",
    "print(\"-\"*30)"
   ]
  },
  {
   "cell_type": "code",
   "execution_count": 22,
   "metadata": {},
   "outputs": [
    {
     "name": "stdout",
     "output_type": "stream",
     "text": [
      "[-1.8594979  -0.996699    0.23334011  0.16955575  0.61118298]\n",
      "--------------------------------------------------------------------------------\n",
      "[[ 0.88611989  0.17060373  0.55979693  0.16770378]\n",
      " [ 0.92721878  1.04921036 -1.42999625 -0.16818373]\n",
      " [-0.52856042 -0.08603903 -1.64939944  1.16519372]]\n",
      "--------------------------------------------------------------------------------\n"
     ]
    }
   ],
   "source": [
    "# normal distribution of numbers in an array of 5 elements\n",
    "print(np.random.randn(5))\n",
    "print(\"-\"*80)\n",
    "\n",
    "# normal distribution of numbers in 2D array having 3 rows 4 columns\n",
    "print(np.random.randn(3,4))\n",
    "print(\"-\"*80)"
   ]
  },
  {
   "cell_type": "code",
   "execution_count": 110,
   "metadata": {},
   "outputs": [
    {
     "name": "stdout",
     "output_type": "stream",
     "text": [
      "3\n",
      "[ 3  6 14]\n"
     ]
    }
   ],
   "source": [
    "arr=np.array([3,4,2,60,7,13,6,10,14])\n",
    "print(np.random.choice(arr))\n",
    "arr=np.array([3,4,2,60,7,13,6,10,14])\n",
    "print(np.random.choice(arr, size=3))"
   ]
  },
  {
   "cell_type": "code",
   "execution_count": 111,
   "metadata": {},
   "outputs": [
    {
     "name": "stdout",
     "output_type": "stream",
     "text": [
      "Kiran\n"
     ]
    }
   ],
   "source": [
    "arr=np.array([\"Ahmed\",\"Sanam\",\"Kiran\",\"Abid\"])\n",
    "print(np.random.choice(arr))\n"
   ]
  },
  {
   "cell_type": "code",
   "execution_count": 112,
   "metadata": {},
   "outputs": [
    {
     "name": "stdout",
     "output_type": "stream",
     "text": [
      "['Rabia' 'Kiran' 'Sanam' 'Abid' 'Ali' 'Ahmed']\n"
     ]
    }
   ],
   "source": [
    "arr=np.array([\"Ahmed\",\"Sanam\",\"Kiran\",\"Abid\",\"Ali\",\"Rabia\"])\n",
    "np.random.shuffle(arr)\n",
    "print(arr) #Shuffle values/elements of original array"
   ]
  },
  {
   "cell_type": "code",
   "execution_count": 113,
   "metadata": {},
   "outputs": [
    {
     "name": "stdout",
     "output_type": "stream",
     "text": [
      "[False False  True False False  True False False  True  True]\n"
     ]
    }
   ],
   "source": [
    "x=np.random.choice([True,False], size=10)\n",
    "print(x)"
   ]
  },
  {
   "cell_type": "code",
   "execution_count": 77,
   "metadata": {},
   "outputs": [
    {
     "name": "stdout",
     "output_type": "stream",
     "text": [
      "[6 9 6 1 1 2 8 7 3 5]\n"
     ]
    }
   ],
   "source": [
    "\n",
    "np.random.seed(1)\n",
    "print(np.random.randint(1, 10, size=10))\n"
   ]
  },
  {
   "cell_type": "code",
   "execution_count": 100,
   "metadata": {},
   "outputs": [
    {
     "name": "stdout",
     "output_type": "stream",
     "text": [
      "[[3 0 2 1 3]\n",
      " [2 0 1 4 1]\n",
      " [3 3 1 2 0]\n",
      " [2 4 0 2 4]\n",
      " [3 4 3 0 4]]\n"
     ]
    },
    {
     "data": {
      "text/plain": [
       "7"
      ]
     },
     "execution_count": 100,
     "metadata": {},
     "output_type": "execute_result"
    }
   ],
   "source": [
    "arr=np.random.randint(5, size=(5,5))\n",
    "print(arr)\n",
    "np.random.choice(10)"
   ]
  },
  {
   "cell_type": "code",
   "execution_count": 114,
   "metadata": {},
   "outputs": [
    {
     "name": "stdout",
     "output_type": "stream",
     "text": [
      "You lose\n",
      "User Enter:  4\n",
      "System Enter:  5\n"
     ]
    }
   ],
   "source": [
    "arr=random.randint(10, size=10)\n",
    "user=int(input(\"Enter a number: \"))\n",
    "\n",
    "system=random.choice(10)\n",
    "if user==system:\n",
    "    print(\"You Won\")   \n",
    "else:\n",
    "     print(\"You lose\")\n",
    "\n",
    "print(\"User Enter: \",user)\n",
    "print(\"System Enter: \",system)\n"
   ]
  },
  {
   "cell_type": "code",
   "execution_count": 114,
   "metadata": {},
   "outputs": [
    {
     "name": "stdout",
     "output_type": "stream",
     "text": [
      "[[1 1 0 1 1]\n",
      " [1 1 0 1 0]\n",
      " [1 1 1 1 0]]\n"
     ]
    }
   ],
   "source": [
    "x=random.choice([0,1],size=(3,5))\n",
    "print(x)"
   ]
  },
  {
   "cell_type": "code",
   "execution_count": 128,
   "metadata": {},
   "outputs": [
    {
     "name": "stdout",
     "output_type": "stream",
     "text": [
      "[[6 6 3 3 6]\n",
      " [6 2 6 6 9]\n",
      " [8 3 3 6 6]\n",
      " [3 2 6 3 2]\n",
      " [6 6 2 6 6]]\n"
     ]
    }
   ],
   "source": [
    "arr=np.array([3,6,2,9,8])\n",
    "x=random.choice(arr, p=(0.2,0.4,0.2,0.1,0.1), size=(5,5))\n",
    "print(x)"
   ]
  },
  {
   "cell_type": "code",
   "execution_count": 134,
   "metadata": {},
   "outputs": [
    {
     "name": "stdout",
     "output_type": "stream",
     "text": [
      "[5 3 7 5 7 5 5 7 7 7 7 9 5 7 5 9 5 3 5 3 5 7 7 5 7 5 5 9 7 5 5 9 7 3 3 7 5\n",
      " 5 7 5 5 7 7 5 5 9 9 7 5 9 7 7 9 9 5 5 7 7 3 7 5 5 9 9 9 3 7 3 5 7 3 7 5 7\n",
      " 7 7 5 9 5 3 5 5 7 5 5 9 9 5 7 5 3 5 7 3 7 7 5 7 7 7]\n",
      "Total Elements: 100\n",
      "Total Elements of 3: 12\n",
      "Total Elements of 5: 37\n",
      "Total Elements of 7: 36\n",
      "Total Elements of 9: 15\n",
      "Total Elements After: 100\n"
     ]
    }
   ],
   "source": [
    "x = random.choice([3, 5, 7, 9], p=[0.1, 0.3, 0.4, 0.2], size=(100))\n",
    "\n",
    "print(x)\n",
    "\n",
    "\n",
    "count=0\n",
    "count_3=0\n",
    "count_5=0\n",
    "count_7=0\n",
    "count_9=0\n",
    "for i in x:\n",
    "    if ((i==5) |(i==3))|((i==7)|(i==9)):\n",
    "        count+=1\n",
    "    if i==3:\n",
    "        count_3+=1\n",
    "    if i==5:\n",
    "        count_5+=1\n",
    "    if i==7:\n",
    "        count_7+=1\n",
    "    if i==9:\n",
    "        count_9+=1\n",
    "        \n",
    "\n",
    "print(\"Total Elements:\",count)\n",
    "print(\"Total Elements of 3:\",count_3)\n",
    "print(\"Total Elements of 5:\",count_5)\n",
    "print(\"Total Elements of 7:\",count_7)\n",
    "print(\"Total Elements of 9:\",count_9)\n",
    "\n",
    "total_count=count_3+count_5+count_7+count_9\n",
    "print(\"Total Elements After:\",total_count)"
   ]
  },
  {
   "cell_type": "code",
   "execution_count": null,
   "metadata": {},
   "outputs": [],
   "source": [
    "from numpy import random \n",
    "import numpy as np"
   ]
  },
  {
   "cell_type": "code",
   "execution_count": 115,
   "metadata": {},
   "outputs": [
    {
     "name": "stdout",
     "output_type": "stream",
     "text": [
      "Oh, You lose :(\n",
      "Your choice:  3\n",
      "System Choice choice:  2\n",
      "******************************\n",
      "Oh, You lose :(\n",
      "Your choice:  2\n",
      "System Choice choice:  0\n",
      "******************************\n",
      "Oh, You lose :(\n",
      "Your choice:  5\n",
      "System Choice choice:  2\n",
      "******************************\n"
     ]
    }
   ],
   "source": [
    "# num=np.random.randint(1,25)\n",
    "guess=0\n",
    "while guess < 3:\n",
    "    choice=int(input(\"Choose a number\"))\n",
    "    system=random.choice(3)\n",
    "    if choice==system:\n",
    "        print(\"You Won :)\")\n",
    "        print(\"Your choice: \",choice)\n",
    "        print(\"System Choice choice: \",system)\n",
    "        print(\"*\"*30)\n",
    "    else:\n",
    "        print(\"Oh, You lose :(\")\n",
    "\n",
    "        print(\"Your choice: \",choice)\n",
    "        print(\"System Choice choice: \",system)\n",
    "        print(\"*\"*30)\n",
    "    guess+=1\n"
   ]
  },
  {
   "cell_type": "code",
   "execution_count": 43,
   "metadata": {},
   "outputs": [
    {
     "name": "stdout",
     "output_type": "stream",
     "text": [
      "Addition:     [12  6 45 27 23]\n",
      "Subtraction:  [ 8 -2 39 23 13]\n",
      "Multiplction: [ 20   8 126  50  90]\n",
      "Division:     [ 5.   0.5 14.  12.5  3.6]\n",
      "Modulous:     [0 2 0 1 3]\n",
      "Power:        [    100      16   74088     625 1889568]\n",
      "Reminder:     [0 2 0 1 3]\n",
      "Quot /Rem:    (array([ 5,  0, 14, 12,  3]), array([0, 2, 0, 1, 3]))\n",
      "Absolute:     [2 7 8 1]\n",
      "Square root:  [1.41421356 2.         1.73205081 1.41421356 2.23606798]\n",
      "Exponent:     [  7.3890561   54.59815003  20.08553692   7.3890561  148.4131591 ]\n",
      "Truncate decimal: [  7.  54.  20.   7. 148.]\n"
     ]
    }
   ],
   "source": [
    "# numpy mathematical operation\n",
    "# universal operation\n",
    "# these are the element wise univeersal operations \n",
    "# if we donot use universal functions we have to use loops to perform operation on each elements\n",
    "\n",
    "arr1=np.array([10,2,42,25,18])\n",
    "arr2=np.array([2,4,3,2,5])\n",
    "arr3=[-2,-7,-8,-1]\n",
    "\n",
    "print(\"Addition:    \",np.add(arr1,arr2))   #add corresponding elements of arr1 and arr2\n",
    "print(\"Subtraction: \",np.subtract(arr1,arr2)) #subtract corresponding elements of arr1 and arr2\n",
    "print(\"Multiplction:\",np.multiply(arr1,arr2)) #Multipy corresponding elements of arr1 and arr2\n",
    "print(\"Division:    \",np.divide(arr1,arr2)) #Divide corresponding elements of arr1 and arr2\n",
    "print(\"Modulous:    \",np.mod(arr1,arr2)) #mod corresponding elements of arr1 and arr2\n",
    "print(\"Power:       \",np.power(arr1,arr2)) #power corresponding elements of arr1 and arr2\n",
    "print(\"Reminder:    \",np.remainder(arr1,arr2)) #Reminder corresponding elements of arr1 and arr2\n",
    "print(\"Quot /Rem:   \",np.divmod(arr1,arr2)) #this will return 2 arrays first array of quotients and second for reminder of corresponding elements of arr1 and arr2\n",
    "print(\"Absolute:    \",np.abs(arr3))\n",
    "print(\"Square root: \",np.sqrt(arr2))\n",
    "print(\"Exponent:    \",np.exp(arr2))\n",
    "print(\"Truncate decimal:\",np.trunc(np.exp(arr2))) #truncate will remove the decimal part only\n",
    "\n",
    "\n",
    "# type(np.add)  this will return that add is a universal function"
   ]
  },
  {
   "cell_type": "code",
   "execution_count": 51,
   "metadata": {},
   "outputs": [
    {
     "name": "stdout",
     "output_type": "stream",
     "text": [
      "Original  Array:                     [3.6775  5.87998 9.05471 2.1233 ]\n",
      "Roundoff the whole Array:            [4. 6. 9. 2.]\n",
      "Roundoff Array to 2 decimal numbers  [3.68 5.88 9.05 2.12]\n",
      "Roundoff Array to 3 decimal numbers  [3.678 5.88  9.055 2.123]\n"
     ]
    }
   ],
   "source": [
    "arr=np.array([3.6775,5.87998,9.05471,2.1233])\n",
    "print(\"Original  Array:                    \",arr)\n",
    "print(\"Roundoff the whole Array:           \",np.around(arr))\n",
    "print(\"Roundoff Array to 2 decimal numbers \",np.around(arr,2))\n",
    "print(\"Roundoff Array to 3 decimal numbers \",np.around(arr,3))\n"
   ]
  },
  {
   "cell_type": "code",
   "execution_count": 61,
   "metadata": {},
   "outputs": [
    {
     "name": "stdout",
     "output_type": "stream",
     "text": [
      "[ 2. -4.  0. -3.]\n",
      "[3. 3. 8. 5.]\n"
     ]
    }
   ],
   "source": [
    "# floor function--> this function will round down the number to its nearest value\n",
    "arr = np.array([2.342,-3.45,0.897,-2.411])\n",
    "print(np.floor(arr))\n",
    "\n",
    "arr=np.array([3.234,3.25,8.365,5.896])\n",
    "print(np.floor(arr))"
   ]
  },
  {
   "cell_type": "code",
   "execution_count": 62,
   "metadata": {},
   "outputs": [
    {
     "name": "stdout",
     "output_type": "stream",
     "text": [
      "[ 3. -3.  1. -2.]\n",
      "[4. 4. 9. 6.]\n"
     ]
    }
   ],
   "source": [
    "# Ceil function--> this function will round up the number to its nearest value\n",
    "arr = np.array([2.342,-3.45,0.897,-2.411])\n",
    "print(np.ceil(arr))\n",
    "\n",
    "arr=np.array([3.234,3.25,8.365,5.896])\n",
    "print(np.ceil(arr))"
   ]
  },
  {
   "cell_type": "code",
   "execution_count": 93,
   "metadata": {},
   "outputs": [
    {
     "name": "stdout",
     "output_type": "stream",
     "text": [
      "Add.reduce:  [ 4  7 10  6  6]\n",
      "Add.reduce:  [15 18]\n",
      "Add: [ 4  7 10  6  6]\n",
      "Summation:  [ 4  7 10  6  6]\n",
      "Summation:  [15 18]\n"
     ]
    }
   ],
   "source": [
    "arr1=np.array([1,2,3,4,5])\n",
    "arr2=np.array([3,5,7,2,1])\n",
    "# np.add.reduce is used only with the scalar values means it only accept one argument\n",
    "print(\"Add.reduce: \",np.add.reduce([arr1,arr2],axis=0)) #same as summation sum all elements wthin an array\n",
    "print(\"Add.reduce: \",np.add.reduce([arr1,arr2],axis=1)) #same as summation sum all elements wthin an array\n",
    "print(\"Add:\",np.add(arr1,arr2)) # add corresponding elements of 2 arrays\n",
    "print(\"Summation: \",np.sum([arr1,arr2], axis=0)) #add all the elements of both array \n",
    "print(\"Summation: \",np.sum([arr1,arr2], axis=1)) #add all the elements of individual array "
   ]
  },
  {
   "cell_type": "code",
   "execution_count": 97,
   "metadata": {},
   "outputs": [
    {
     "name": "stdout",
     "output_type": "stream",
     "text": [
      "Comulative sum:  [[ 1  4  9 15 22 31]\n",
      " [ 2  5 10 16 19 20]]\n",
      "Sum:  [31 20]\n"
     ]
    }
   ],
   "source": [
    "# comulative Sum \n",
    "\n",
    "arr1=np.array([1,3,5,6,7,9])\n",
    "arr2=np.array([2,3,5,6,3,1])\n",
    "print(\"Comulative sum: \",(np.cumsum([arr1,arr2],axis=1)))\n",
    "print(\"Sum: \",(np.sum([arr1,arr2],axis=1)))"
   ]
  },
  {
   "cell_type": "code",
   "execution_count": 98,
   "metadata": {},
   "outputs": [
    {
     "name": "stdout",
     "output_type": "stream",
     "text": [
      "Comulative product:  [[   1    3   15   90  630 5670]\n",
      " [   2    6   30  180  540  540]]\n",
      "Product:  [5670  540]\n"
     ]
    }
   ],
   "source": [
    "# cumulative product\n",
    "print(\"Comulative product: \",(np.cumprod([arr1,arr2],axis=1)))\n",
    "print(\"Product: \",(np.prod([arr1,arr2],axis=1)))"
   ]
  },
  {
   "cell_type": "code",
   "execution_count": 105,
   "metadata": {},
   "outputs": [
    {
     "name": "stdout",
     "output_type": "stream",
     "text": [
      "lcm is  900\n"
     ]
    }
   ],
   "source": [
    "x=36\n",
    "y=25\n",
    "print(\"lcm is \",np.lcm(x,y))"
   ]
  },
  {
   "cell_type": "code",
   "execution_count": 109,
   "metadata": {},
   "outputs": [
    {
     "name": "stdout",
     "output_type": "stream",
     "text": [
      "360\n"
     ]
    }
   ],
   "source": [
    "arr=np.array([30,4,15,6,72])\n",
    "print(np.lcm.reduce(arr))"
   ]
  },
  {
   "cell_type": "code",
   "execution_count": 129,
   "metadata": {},
   "outputs": [
    {
     "name": "stdout",
     "output_type": "stream",
     "text": [
      "[1 1 1 2 2 3 3 2 3 8]\n",
      "24\n"
     ]
    }
   ],
   "source": [
    "arr=np.random.randint(1,10,size=10)\n",
    "print(arr)\n",
    "print(np.lcm.reduce(arr))\n",
    "\n"
   ]
  },
  {
   "cell_type": "code",
   "execution_count": 132,
   "metadata": {},
   "outputs": [
    {
     "name": "stdout",
     "output_type": "stream",
     "text": [
      "[36 60 75]\n"
     ]
    }
   ],
   "source": [
    "arr1 = np.array([12, 20, 15])\n",
    "arr2 = np.array([18, 30, 25])\n",
    "\n",
    "print(np.lcm(arr1,arr2))"
   ]
  },
  {
   "cell_type": "code",
   "execution_count": 142,
   "metadata": {},
   "outputs": [
    {
     "name": "stdout",
     "output_type": "stream",
     "text": [
      "Element wise:  [ 5  6 10]\n",
      "Array wise:  3\n",
      "Array wise:  1\n"
     ]
    }
   ],
   "source": [
    "\n",
    "arr1=np.array([15,12,30])\n",
    "arr2=np.array([25,18,20])\n",
    "print(\"Element wise: \",np.gcd(arr1,arr2))\n",
    "print(\"Array wise: \",np.gcd.reduce(arr1))\n",
    "print(\"Array wise: \",np.gcd.reduce(arr2))"
   ]
  },
  {
   "cell_type": "code",
   "execution_count": 148,
   "metadata": {},
   "outputs": [
    {
     "name": "stdout",
     "output_type": "stream",
     "text": [
      "1.5707963267948966\n",
      "0.8939966636005579\n"
     ]
    }
   ],
   "source": [
    "print(np.pi/2)\n",
    "print(np.sin(90))"
   ]
  },
  {
   "cell_type": "code",
   "execution_count": 149,
   "metadata": {},
   "outputs": [
    {
     "name": "stdout",
     "output_type": "stream",
     "text": [
      "[3.14159265 1.57079633 1.04719755 0.78539816 0.52359878]\n"
     ]
    }
   ],
   "source": [
    "arr=np.array([180,90,60,45,30])\n",
    "print(np.radians(arr))"
   ]
  },
  {
   "cell_type": "code",
   "execution_count": 97,
   "metadata": {},
   "outputs": [
    {
     "name": "stdout",
     "output_type": "stream",
     "text": [
      "[180.  90.  60.  45.  30.]\n"
     ]
    }
   ],
   "source": [
    "arr=np.array([3.14159265, 1.57079633, 1.04719755, 0.78539816, 0.52359878])\n",
    "x=np.degrees(arr)\n",
    "print(np.round(x))"
   ]
  },
  {
   "cell_type": "code",
   "execution_count": 102,
   "metadata": {},
   "outputs": [
    {
     "name": "stdout",
     "output_type": "stream",
     "text": [
      "0.0\n",
      "-1.0\n",
      "-0.0\n"
     ]
    }
   ],
   "source": [
    "x=180\n",
    "x=np.radians(x)\n",
    "print(np.round(np.sin(x)))\n",
    "print(np.round(np.cos(x)))\n",
    "print(np.round(np.tan(x)))"
   ]
  },
  {
   "cell_type": "code",
   "execution_count": 115,
   "metadata": {},
   "outputs": [
    {
     "name": "stdout",
     "output_type": "stream",
     "text": [
      "False\n",
      "True\n",
      "False\n"
     ]
    }
   ],
   "source": [
    "x=90\n",
    "x=np.radians(x)\n",
    "print(np.isclose(np.sin(x),0))\n",
    "print(np.isclose(np.cos(x),0))\n",
    "print(np.isclose(np.tan(x),0))"
   ]
  },
  {
   "cell_type": "code",
   "execution_count": 117,
   "metadata": {},
   "outputs": [
    {
     "name": "stdout",
     "output_type": "stream",
     "text": [
      "0.7071067811865476 0\n",
      "0.7071067811865476 0\n",
      "0.9999999999999999 0\n"
     ]
    }
   ],
   "source": [
    "x=45\n",
    "x=np.radians(x)\n",
    "print(np.sin(x),0)\n",
    "print(np.cos(x),0)\n",
    "print(np.tan(x),0)"
   ]
  },
  {
   "cell_type": "code",
   "execution_count": 126,
   "metadata": {},
   "outputs": [
    {
     "name": "stdout",
     "output_type": "stream",
     "text": [
      "[1.22464680e-16 1.00000000e+00 8.66025404e-01 7.07106781e-01\n",
      " 5.00000000e-01]\n",
      "[-1.00000000e+00  6.12323400e-17  5.00000000e-01  7.07106781e-01\n",
      "  8.66025404e-01]\n",
      "[-1.22464680e-16  1.63312394e+16  1.73205081e+00  1.00000000e+00\n",
      "  5.77350269e-01]\n"
     ]
    }
   ],
   "source": [
    "arr=np.array([np.pi, np.pi/2, np.pi/3, np.pi/4, np.pi/6])\n",
    "print(np.sin(arr))\n",
    "print(np.cos(arr))\n",
    "print(np.tan(arr))\n",
    "\n"
   ]
  },
  {
   "cell_type": "code",
   "execution_count": 125,
   "metadata": {},
   "outputs": [
    {
     "name": "stdout",
     "output_type": "stream",
     "text": [
      "Inverse--------------------------\n",
      "[  0.  30.  90. -30. -90.]\n",
      "[ 90.  60.   0. 120. 180.]\n",
      "[  0.          26.56505118  45.         -26.56505118 -45.        ]\n"
     ]
    }
   ],
   "source": [
    "arr=np.array([0, 0.5, 1, -0.5, -1])\n",
    "print(\"Inverse--------------------------\")\n",
    "print(np.degrees(np.arcsin(arr)))\n",
    "print(np.degrees(np.arccos(arr)))\n",
    "print(np.degrees(np.arctan(arr)))"
   ]
  },
  {
   "cell_type": "code",
   "execution_count": 127,
   "metadata": {},
   "outputs": [
    {
     "name": "stdout",
     "output_type": "stream",
     "text": [
      "8.94427190999916\n"
     ]
    }
   ],
   "source": [
    "base=4\n",
    "perp=8\n",
    "print(np.hypot(base,perp))"
   ]
  },
  {
   "cell_type": "code",
   "execution_count": null,
   "metadata": {},
   "outputs": [],
   "source": []
  }
 ],
 "metadata": {
  "kernelspec": {
   "display_name": "base",
   "language": "python",
   "name": "python3"
  },
  "language_info": {
   "codemirror_mode": {
    "name": "ipython",
    "version": 3
   },
   "file_extension": ".py",
   "mimetype": "text/x-python",
   "name": "python",
   "nbconvert_exporter": "python",
   "pygments_lexer": "ipython3",
   "version": "3.11.7"
  }
 },
 "nbformat": 4,
 "nbformat_minor": 2
}
