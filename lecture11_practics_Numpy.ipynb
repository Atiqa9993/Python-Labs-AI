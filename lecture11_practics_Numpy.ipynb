{
 "cells": [
  {
   "cell_type": "code",
   "execution_count": 1,
   "metadata": {},
   "outputs": [],
   "source": [
    "import numpy as np"
   ]
  },
  {
   "cell_type": "code",
   "execution_count": 2,
   "metadata": {},
   "outputs": [
    {
     "name": "stdout",
     "output_type": "stream",
     "text": [
      "[2 4 6 7]\n"
     ]
    }
   ],
   "source": [
    "arr=np.array([2,4,6,7])\n",
    "print(arr)"
   ]
  },
  {
   "cell_type": "code",
   "execution_count": 3,
   "metadata": {},
   "outputs": [
    {
     "name": "stdout",
     "output_type": "stream",
     "text": [
      "0\n",
      "<class 'numpy.ndarray'>\n"
     ]
    }
   ],
   "source": [
    "# dimension\n",
    "arr=np.array(34)\n",
    "print(np.ndim(arr))\n",
    "arr=np.array([2,4,6,7])\n",
    "\n",
    "print(type(arr))"
   ]
  },
  {
   "cell_type": "code",
   "execution_count": 4,
   "metadata": {},
   "outputs": [
    {
     "name": "stdout",
     "output_type": "stream",
     "text": [
      "1\n"
     ]
    }
   ],
   "source": [
    "# dimension of an array\n",
    "# ndim is used to fnd dimension of an array\n",
    "print(arr.ndim)"
   ]
  },
  {
   "cell_type": "code",
   "execution_count": null,
   "metadata": {},
   "outputs": [
    {
     "name": "stdout",
     "output_type": "stream",
     "text": [
      "1\n",
      "2\n",
      "3\n",
      "5\n"
     ]
    }
   ],
   "source": [
    "arr1=np.array([2,3,5])\n",
    "arr2=np.array([[2,3,5],[9,4,5]])\n",
    "arr3=np.array([[[2,8,3],[1,0,0]],[[4,3,9],[7,3,5]]])\n",
    "arr4=np.array([[[[[2,3,5],[2,3,5]],[[2,3,5],[2,3,5]]]]])\n",
    "print(arr1.ndim)\n",
    "print(arr2.ndim)\n",
    "print(arr3.ndim)\n",
    "print(arr4.ndim)"
   ]
  },
  {
   "cell_type": "code",
   "execution_count": 6,
   "metadata": {},
   "outputs": [
    {
     "name": "stdout",
     "output_type": "stream",
     "text": [
      "[[[2 8 3]\n",
      "  [1 0 0]]\n",
      "\n",
      " [[4 3 9]\n",
      "  [7 3 5]]]\n",
      "(2, 2, 3)\n",
      "12\n",
      "int32\n",
      "48\n"
     ]
    }
   ],
   "source": [
    "print(arr3)\n",
    "print(arr3.shape)\n",
    "print(arr3.size)\n",
    "print(arr3.dtype)\n",
    "print(arr3.nbytes)"
   ]
  },
  {
   "cell_type": "code",
   "execution_count": 7,
   "metadata": {},
   "outputs": [
    {
     "name": "stdout",
     "output_type": "stream",
     "text": [
      "5\n",
      "7\n"
     ]
    }
   ],
   "source": [
    "# slicing\n",
    "arr=np.array([4 ,3 ,9,7 ,3 ,5])\n",
    "print(arr[-1])\n",
    "print(arr[3])"
   ]
  },
  {
   "cell_type": "code",
   "execution_count": 8,
   "metadata": {},
   "outputs": [
    {
     "name": "stdout",
     "output_type": "stream",
     "text": [
      "[[4 5 2 1 6]]\n",
      "--------------\n",
      "[6 1 2 5 4]\n",
      "------------\n",
      "[[3 7 9 2 1]\n",
      " [6 1 2 5 4]]\n",
      "------------\n",
      "[[2 5 4]\n",
      " [9 2 1]]\n",
      "-------------\n",
      "[[6 1 2 5 4]\n",
      " [3 7 9 2 1]]\n"
     ]
    }
   ],
   "source": [
    "arr=np.array([[1,2,9,7,3],[4,5,2,1,6]])\n",
    "print(arr[-1::])\n",
    "print(\"--------------\")\n",
    "print(arr[1,::-1])\n",
    "print(\"------------\")\n",
    "print(arr[:,::-1])\n",
    "print(\"------------\")\n",
    "print(arr[::-1,2::-1])\n",
    "print(\"-------------\")\n",
    "print(arr[::-1,::-1])"
   ]
  },
  {
   "cell_type": "code",
   "execution_count": 9,
   "metadata": {},
   "outputs": [
    {
     "name": "stdout",
     "output_type": "stream",
     "text": [
      "[[[6 1 2 5 4]\n",
      "  [2 8 5 2 9]]\n",
      "\n",
      " [[0 1 2 1 4]\n",
      "  [3 0 0 2 1]]]\n"
     ]
    }
   ],
   "source": [
    "arr=np.array([[[1,2,0,0,3],[4,1,2,1,0]],[[9,2,5,8,2],[4,5,2,1,6]]])\n",
    "print(arr[::-1,::-1,::-1])"
   ]
  },
  {
   "cell_type": "code",
   "execution_count": 10,
   "metadata": {},
   "outputs": [
    {
     "name": "stdout",
     "output_type": "stream",
     "text": [
      "8\n",
      "20\n"
     ]
    }
   ],
   "source": [
    "arr=np.array([[1,2,3,4,5],[6,7,8,9,0]])\n",
    "\n",
    "print(arr[1,2])\n",
    "arr=np.array([[[1,2,3,4,5],[6,7,8,9,0]],[[11,12,13,14,15],[16,17,18,19,20]]])\n",
    "print(arr[1,1,4])"
   ]
  },
  {
   "cell_type": "code",
   "execution_count": 11,
   "metadata": {},
   "outputs": [
    {
     "name": "stdout",
     "output_type": "stream",
     "text": [
      "[[6 5 4]\n",
      " [3 2 1]]\n",
      "--------------------\n",
      "[[3 2 1]\n",
      " [6 5 4]]\n",
      "--------------------\n"
     ]
    }
   ],
   "source": [
    "arr=np.array([[1, 2, 3], [4, 5, 6]])\n",
    "print(arr[::-1,::-1])\n",
    "print(\"-\"*20)\n",
    "print(arr[:,::-1])\n",
    "print(\"-\"*20)\n"
   ]
  },
  {
   "cell_type": "code",
   "execution_count": 12,
   "metadata": {},
   "outputs": [
    {
     "name": "stdout",
     "output_type": "stream",
     "text": [
      "[ 0  2  4  6  8 10 12 14 16 18]\n",
      "[ 1  3  5  7  9 11 13 15 17 19]\n"
     ]
    }
   ],
   "source": [
    "arr=np.arange(0,20,2)   #make an array of all even numbers\n",
    "print(arr)\n",
    "arr=np.arange(1,20,2)   #make an array of all odd numbers\n",
    "print(arr)"
   ]
  },
  {
   "cell_type": "code",
   "execution_count": 13,
   "metadata": {},
   "outputs": [
    {
     "name": "stdout",
     "output_type": "stream",
     "text": [
      "[ 1.   4.5  8.  11.5 15. ]\n"
     ]
    }
   ],
   "source": [
    "arr=np.linspace(1,15,5)   #make an array of all odd numbers\n",
    "print(arr)"
   ]
  },
  {
   "cell_type": "code",
   "execution_count": 14,
   "metadata": {},
   "outputs": [
    {
     "name": "stdout",
     "output_type": "stream",
     "text": [
      "[ 6  4 10 12]\n",
      "[ 5  4 24 32]\n",
      "[-4  0  2 -4]\n",
      "[0.2 1.  1.5 0.5]\n",
      "[1 0 2 4]\n"
     ]
    }
   ],
   "source": [
    "# Bit wise operation on an array\n",
    "arr1=np.array([1,2,6,4])\n",
    "arr2=np.array([5,2,4,8])\n",
    "print(arr1+arr2)\n",
    "print(arr1*arr2)\n",
    "print(arr1-arr2)\n",
    "print(arr1/arr2)\n",
    "print(arr1%arr2)"
   ]
  },
  {
   "cell_type": "code",
   "execution_count": 15,
   "metadata": {},
   "outputs": [
    {
     "name": "stdout",
     "output_type": "stream",
     "text": [
      "[[ 6 24 20 52]\n",
      " [14 23 20 12]]\n",
      "--------------------------------------------------\n",
      "[[ -4 -20  12 -44]\n",
      " [ -4 -19   8   4]]\n",
      "--------------------------------------------------\n",
      "[[  5  44  64 192]\n",
      " [ 45  42  84  32]]\n",
      "--------------------------------------------------\n",
      "[[0.2        0.09090909 4.         0.08333333]\n",
      " [0.55555556 0.0952381  2.33333333 2.        ]]\n",
      "--------------------------------------------------\n",
      "[[1 2 0 4]\n",
      " [5 2 2 0]]\n"
     ]
    }
   ],
   "source": [
    "arr1=np.array([[1,2,16,4],[5,2,14,8]])\n",
    "arr2=np.array([[5,22,4,48],[9,21,6,4]])\n",
    "print(arr1+arr2)\n",
    "print(\"-\"*50)\n",
    "print(arr1-arr2)\n",
    "print(\"-\"*50)\n",
    "print(arr1*arr2)\n",
    "print(\"-\"*50)\n",
    "print(arr1/arr2)\n",
    "print(\"-\"*50)\n",
    "print(arr1%arr2)"
   ]
  },
  {
   "cell_type": "code",
   "execution_count": 16,
   "metadata": {},
   "outputs": [
    {
     "name": "stdout",
     "output_type": "stream",
     "text": [
      "Even Sum: 12\n",
      "Odd Sum: 16\n"
     ]
    }
   ],
   "source": [
    "arr=np.array([1,9,6,4,2,1,5])\n",
    "\n",
    "even_num=0\n",
    "odd_num=0\n",
    "\n",
    "for i in range(len(arr)):\n",
    "    if arr[i]%2==0:\n",
    "        even_num+=arr[i]\n",
    "    else:\n",
    "        odd_num+=arr[i]\n",
    "\n",
    "\n",
    "print(\"Even Sum:\",even_num)\n",
    "print(\"Odd Sum:\",odd_num)"
   ]
  },
  {
   "cell_type": "code",
   "execution_count": 17,
   "metadata": {},
   "outputs": [
    {
     "name": "stdout",
     "output_type": "stream",
     "text": [
      "6\n"
     ]
    }
   ],
   "source": [
    "# retriving data \n",
    "\n",
    "arr=np.array([[[1,2,3],[4,1,0]],[[9,5,8],[5,1,6]]])\n",
    "print(arr[1,1,2])\n"
   ]
  },
  {
   "cell_type": "code",
   "execution_count": 18,
   "metadata": {},
   "outputs": [
    {
     "name": "stdout",
     "output_type": "stream",
     "text": [
      "[b'1' b'2' b'3' b'4']\n",
      "|S1\n"
     ]
    }
   ],
   "source": [
    "arr=np.array([1,2,3,4], dtype='S')\n",
    "print(arr)\n",
    "print(arr.dtype)"
   ]
  },
  {
   "cell_type": "code",
   "execution_count": 19,
   "metadata": {},
   "outputs": [
    {
     "name": "stdout",
     "output_type": "stream",
     "text": [
      "[1 2 3 4 5]\n",
      "float32\n"
     ]
    }
   ],
   "source": [
    "arr=np.array([1,2,3,4,5])\n",
    "new_arr=arr.astype('f')\n",
    "print(arr)\n",
    "print(new_arr.dtype)"
   ]
  },
  {
   "cell_type": "code",
   "execution_count": 20,
   "metadata": {},
   "outputs": [
    {
     "name": "stdout",
     "output_type": "stream",
     "text": [
      "['hel' 'wor' '😊']\n",
      "['h' 'w' '😊']\n"
     ]
    }
   ],
   "source": [
    "unicode_array = np.array(['hello', 'world', '😊'], dtype='U3')\n",
    "print(unicode_array)\n",
    "unicode_array = np.array(['hello', 'world', '😊'], dtype='U1')\n",
    "print(unicode_array)"
   ]
  },
  {
   "cell_type": "code",
   "execution_count": 21,
   "metadata": {},
   "outputs": [
    {
     "name": "stdout",
     "output_type": "stream",
     "text": [
      "[ 1  2 12  4]\n",
      "None\n",
      "[1 2 3 4]\n"
     ]
    }
   ],
   "source": [
    "# copy and view function \n",
    "arr=np.array([1,2,3,4])\n",
    "new_arr=arr.copy()\n",
    "new_arr[2]=12\n",
    "print(new_arr)\n",
    "print(new_arr.base)\n",
    "print(arr)"
   ]
  },
  {
   "cell_type": "code",
   "execution_count": 22,
   "metadata": {},
   "outputs": [
    {
     "name": "stdout",
     "output_type": "stream",
     "text": [
      "[ 1  2 32  4]\n",
      "[ 1  2 32  4]\n",
      "[ 1  2 32  4]\n"
     ]
    }
   ],
   "source": [
    "arr=np.array([1,2,3,4])# view take address\n",
    "new_arr=arr.view()\n",
    "new_arr[2]=32\n",
    "print(new_arr.base)\n",
    "print(new_arr)\n",
    "print(arr)"
   ]
  },
  {
   "cell_type": "code",
   "execution_count": 23,
   "metadata": {},
   "outputs": [
    {
     "name": "stdout",
     "output_type": "stream",
     "text": [
      "[[[[[1 3 4 5 6]]]]]\n",
      "(1, 1, 1, 1, 5)\n"
     ]
    }
   ],
   "source": [
    "arr=np.array([1,3,4,5,6], ndmin=5)\n",
    "print(arr)\n",
    "print(arr.shape)"
   ]
  },
  {
   "cell_type": "code",
   "execution_count": 24,
   "metadata": {},
   "outputs": [
    {
     "name": "stdout",
     "output_type": "stream",
     "text": [
      "[[1 2 3 4]\n",
      " [5 6 7 9]]\n",
      "---------------\n",
      "[[[1 2]\n",
      "  [3 4]]\n",
      "\n",
      " [[5 6]\n",
      "  [7 9]]]\n"
     ]
    }
   ],
   "source": [
    "arr = np.array([1, 2, 3, 4, 5, 6, 7,9])\n",
    "new_arr=arr.reshape(2,4)\n",
    "print(new_arr)\n",
    "print(\"---------------\")\n",
    "new_arr=arr.reshape(2,2,2)\n",
    "print(new_arr)"
   ]
  },
  {
   "cell_type": "code",
   "execution_count": 25,
   "metadata": {},
   "outputs": [
    {
     "name": "stdout",
     "output_type": "stream",
     "text": [
      "[[ 1  2  3]\n",
      " [ 4  5  6]\n",
      " [ 7  9 11]\n",
      " [12 13 15]]\n"
     ]
    }
   ],
   "source": [
    "arr = np.array([1, 2, 3, 4, 5, 6, 7,9,11,12,13,15])\n",
    "new_arr=arr.reshape(4,-1)\n",
    "print(new_arr)"
   ]
  },
  {
   "cell_type": "code",
   "execution_count": 26,
   "metadata": {},
   "outputs": [],
   "source": [
    "arr=np.array([[ 1 , 2 , 3],[ 4 , 5 , 6],[ 7 , 9, 11],[12 ,13 ,15]])"
   ]
  },
  {
   "cell_type": "code",
   "execution_count": 27,
   "metadata": {},
   "outputs": [
    {
     "name": "stdout",
     "output_type": "stream",
     "text": [
      "[ 1  2  3  4  5  6  7  9 11 12 13 15]\n"
     ]
    }
   ],
   "source": [
    "print(arr.reshape(-1))"
   ]
  },
  {
   "cell_type": "code",
   "execution_count": 28,
   "metadata": {},
   "outputs": [
    {
     "name": "stdout",
     "output_type": "stream",
     "text": [
      "0\n",
      "1\n",
      "2\n",
      "3\n",
      "4\n",
      "5\n",
      "6\n",
      "8\n",
      "10\n",
      "11\n",
      "12\n",
      "14\n"
     ]
    }
   ],
   "source": [
    "# iteration \n",
    "arr=np.array([[[ 1 , 2 , 3],[ 4 , 5 , 6],[ 7 , 9, 11],[12 ,13 ,15]]])\n",
    "for layer in arr:\n",
    "    for row in layer:\n",
    "        for element in row:\n",
    "            print(element-1)\n"
   ]
  },
  {
   "cell_type": "code",
   "execution_count": 29,
   "metadata": {},
   "outputs": [
    {
     "name": "stdout",
     "output_type": "stream",
     "text": [
      "2\n",
      "4\n",
      "6\n",
      "8\n",
      "10\n",
      "12\n",
      "14\n",
      "18\n",
      "22\n",
      "24\n",
      "26\n",
      "30\n"
     ]
    }
   ],
   "source": [
    "arr=np.array([[[ 1 , 2 , 3],[ 4 , 5 , 6],[ 7 , 9, 11],[12 ,13 ,15]]])\n",
    "\n",
    "for i in np.nditer(arr):\n",
    "    print(i*2)\n",
    "\n",
    "    "
   ]
  },
  {
   "cell_type": "code",
   "execution_count": 30,
   "metadata": {},
   "outputs": [
    {
     "name": "stdout",
     "output_type": "stream",
     "text": [
      "b'1'\n",
      "|S11\n",
      "b'3'\n",
      "|S11\n",
      "b'5'\n",
      "|S11\n",
      "b'6'\n",
      "|S11\n",
      "b'8'\n",
      "|S11\n",
      "[1 3 5 6 8]\n",
      "int32\n"
     ]
    }
   ],
   "source": [
    "arr=np.array([1,3,5,6,8])\n",
    "for x in np.nditer(arr,flags=[\"buffered\"], op_dtypes=\"S\"):\n",
    "    print(x)\n",
    "    print(x.dtype)\n",
    "\n",
    "print(arr)\n",
    "print(arr.dtype)"
   ]
  },
  {
   "cell_type": "code",
   "execution_count": 31,
   "metadata": {},
   "outputs": [
    {
     "name": "stdout",
     "output_type": "stream",
     "text": [
      "b'1'\n",
      "|S11\n",
      "b'3'\n",
      "|S11\n",
      "b'5'\n",
      "|S11\n",
      "b'6'\n",
      "|S11\n",
      "b'8'\n",
      "|S11\n",
      "[1 3 5 6 8]\n",
      "int32\n"
     ]
    }
   ],
   "source": [
    "arr=np.array([1,3,5,6,8])\n",
    "new=arr.astype(\"S\")\n",
    "for x in np.nditer(new):\n",
    "    print(x)\n",
    "    print(x.dtype)\n",
    "\n",
    "print(arr)\n",
    "print(arr.dtype)\n"
   ]
  },
  {
   "cell_type": "code",
   "execution_count": 32,
   "metadata": {},
   "outputs": [
    {
     "name": "stdout",
     "output_type": "stream",
     "text": [
      "[b'1.9' b'2.1' b'3.1']\n",
      "|S32\n",
      "float64\n"
     ]
    }
   ],
   "source": [
    "arr = np.array([1.9, 2.1, 3.1])\n",
    "\n",
    "newarr = arr.astype('S')\n",
    "\n",
    "print(newarr)\n",
    "print(newarr.dtype)\n",
    "print(arr.dtype)"
   ]
  },
  {
   "cell_type": "code",
   "execution_count": 51,
   "metadata": {},
   "outputs": [
    {
     "name": "stdout",
     "output_type": "stream",
     "text": [
      "1\n",
      "3\n",
      "5\n",
      "6\n",
      "8\n",
      "0\n",
      "11\n",
      "13\n",
      "15\n",
      "16\n",
      "18\n",
      "20\n"
     ]
    }
   ],
   "source": [
    "arr=np.array([[[1,2,3,4,5],[6,7,8,9,0]],[[11,12,13,14,15],[16,17,18,19,20]]])\n",
    "\n",
    "for i in np.nditer(arr[:,:,::2]):\n",
    "    print(i)\n",
    "\n"
   ]
  },
  {
   "cell_type": "code",
   "execution_count": 75,
   "metadata": {},
   "outputs": [
    {
     "name": "stdout",
     "output_type": "stream",
     "text": [
      "[[[18 17 16]\n",
      "  [ 3  2  1]]]\n"
     ]
    }
   ],
   "source": [
    "arr=np.array([[1,2,3],[16,17,18]])\n",
    "print(arr[::-1,::-1])\n"
   ]
  },
  {
   "cell_type": "code",
   "execution_count": 78,
   "metadata": {},
   "outputs": [
    {
     "name": "stdout",
     "output_type": "stream",
     "text": [
      "[[[20 19 18 17 16]\n",
      "  [15 14 13 12 11]]\n",
      "\n",
      " [[ 0  9  8  7  6]\n",
      "  [ 5  4  3  2  1]]]\n"
     ]
    }
   ],
   "source": [
    "arr=np.array([[[1,2,3,4,5],[6,7,8,9,0]],[[11,12,13,14,15],[16,17,18,19,20]]])\n",
    "print(arr[::-1,::-1,::-1])"
   ]
  },
  {
   "cell_type": "code",
   "execution_count": 84,
   "metadata": {},
   "outputs": [
    {
     "name": "stdout",
     "output_type": "stream",
     "text": [
      "6\n",
      "8\n",
      "0\n",
      "16\n",
      "18\n",
      "20\n"
     ]
    }
   ],
   "source": [
    "arr=np.array([[[1,2,3,4,5],[6,7,8,9,0]],[[11,12,13,14,15],[16,17,18,19,20]]])\n",
    "\n",
    "for i in np.nditer(arr[:,1:2,::2]):\n",
    "    print(i)"
   ]
  },
  {
   "cell_type": "code",
   "execution_count": 89,
   "metadata": {},
   "outputs": [
    {
     "name": "stdout",
     "output_type": "stream",
     "text": [
      "2\n",
      "4\n",
      "6\n",
      "8\n",
      "0\n",
      "12\n",
      "14\n",
      "16\n",
      "18\n",
      "20\n"
     ]
    }
   ],
   "source": [
    "arr=np.array([[[1,2,3,4,5],[6,7,8,9,0]],[[11,12,13,14,15],[16,17,18,19,20]]])\n",
    "new_arr=arr.reshape(-1)\n",
    "for i in np.nditer(new_arr[::-2]):\n",
    "    print(i)"
   ]
  },
  {
   "cell_type": "code",
   "execution_count": 91,
   "metadata": {},
   "outputs": [
    {
     "name": "stdout",
     "output_type": "stream",
     "text": [
      " Index (0, 0, 0) Value: 1\n",
      " Index (0, 0, 1) Value: 2\n",
      " Index (0, 0, 2) Value: 3\n",
      " Index (0, 0, 3) Value: 4\n",
      " Index (0, 0, 4) Value: 5\n",
      " Index (0, 1, 0) Value: 6\n",
      " Index (0, 1, 1) Value: 7\n",
      " Index (0, 1, 2) Value: 8\n",
      " Index (0, 1, 3) Value: 9\n",
      " Index (0, 1, 4) Value: 0\n",
      " Index (1, 0, 0) Value: 11\n",
      " Index (1, 0, 1) Value: 12\n",
      " Index (1, 0, 2) Value: 13\n",
      " Index (1, 0, 3) Value: 14\n",
      " Index (1, 0, 4) Value: 15\n",
      " Index (1, 1, 0) Value: 16\n",
      " Index (1, 1, 1) Value: 17\n",
      " Index (1, 1, 2) Value: 18\n",
      " Index (1, 1, 3) Value: 19\n",
      " Index (1, 1, 4) Value: 20\n"
     ]
    }
   ],
   "source": [
    "for indx, value in np.ndenumerate(arr):\n",
    "    print(f\" Index {indx[0],indx[1],indx[2]} Value: {value}\")"
   ]
  },
  {
   "cell_type": "code",
   "execution_count": 93,
   "metadata": {},
   "outputs": [
    {
     "name": "stdout",
     "output_type": "stream",
     "text": [
      "[1 2 3 4 5 6 7 8]\n"
     ]
    }
   ],
   "source": [
    "# joining array \n",
    "\n",
    "arr1=np.array([1,2,3,4])\n",
    "arr2=np.array([5,6,7,8])\n",
    "print(np.concatenate([arr1,arr2]))"
   ]
  },
  {
   "cell_type": "code",
   "execution_count": 97,
   "metadata": {},
   "outputs": [
    {
     "name": "stdout",
     "output_type": "stream",
     "text": [
      "[[1 2 3 4]\n",
      " [5 6 7 8]]\n",
      "--------------------------\n",
      "[1 2 3 4 5 6 7 8]\n",
      "--------------------------\n",
      "[[1 2 3 4]\n",
      " [5 6 7 8]]\n",
      "--------------------------\n",
      "[[[1 5]\n",
      "  [2 6]\n",
      "  [3 7]\n",
      "  [4 8]]]\n"
     ]
    }
   ],
   "source": [
    "arr1=np.array([1,2,3,4])\n",
    "arr2=np.array([5,6,7,8])\n",
    "print(np.stack([arr1,arr2]))\n",
    "print(\"--------------------------\")\n",
    "print(np.hstack([arr1,arr2]))\n",
    "print(\"--------------------------\")\n",
    "print(np.vstack([arr1,arr2]))\n",
    "print(\"--------------------------\")\n",
    "print(np.dstack([arr1,arr2]))\n"
   ]
  },
  {
   "cell_type": "code",
   "execution_count": 103,
   "metadata": {},
   "outputs": [
    {
     "name": "stdout",
     "output_type": "stream",
     "text": [
      "[array([1, 2]), array([3, 4]), array([5, 6]), array([7, 8]), array([9])]\n"
     ]
    }
   ],
   "source": [
    "arr=np.array([1,2,3,4,5,6,7,8,9])\n",
    "print(np.array_split(arr,5))"
   ]
  },
  {
   "cell_type": "code",
   "execution_count": null,
   "metadata": {},
   "outputs": [],
   "source": []
  }
 ],
 "metadata": {
  "kernelspec": {
   "display_name": "base",
   "language": "python",
   "name": "python3"
  },
  "language_info": {
   "codemirror_mode": {
    "name": "ipython",
    "version": 3
   },
   "file_extension": ".py",
   "mimetype": "text/x-python",
   "name": "python",
   "nbconvert_exporter": "python",
   "pygments_lexer": "ipython3",
   "version": "3.11.7"
  }
 },
 "nbformat": 4,
 "nbformat_minor": 2
}
