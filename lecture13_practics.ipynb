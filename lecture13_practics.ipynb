{
 "cells": [
  {
   "cell_type": "code",
   "execution_count": 2,
   "metadata": {},
   "outputs": [],
   "source": [
    "\n",
    "#  including python, modules, universal functions, numpy and pandas. Test will be of both objective and question\n"
   ]
  },
  {
   "cell_type": "code",
   "execution_count": 8,
   "metadata": {},
   "outputs": [
    {
     "name": "stdout",
     "output_type": "stream",
     "text": [
      "Select operation\n",
      "1. Addition\n",
      "2. Subtraction\n",
      "3. multiplication\n",
      "4. division\n",
      "5. Modulo\n",
      " You choose:  3\n",
      "5 * 2:  10\n"
     ]
    }
   ],
   "source": [
    "# basic operation\n",
    "\n",
    "\n",
    "num1=int(input(\"Enter first number: \"))\n",
    "num2=int(input(\"Enter second number: \"))\n",
    "\n",
    "print(\"Select operation\")\n",
    "print(\"1. Addition\")\n",
    "print(\"2. Subtraction\")\n",
    "print(\"3. multiplication\")\n",
    "print(\"4. division\")\n",
    "print(\"5. Modulo\")\n",
    "\n",
    "op=int(input(\"Enter operation number\"))\n",
    "print(\" You choose: \",op)\n",
    "if op == 1:\n",
    "    print(f\"{num1} + {num2}: \",num1 + num2)\n",
    "elif op==2:\n",
    "    print(f\"{num1} - {num2}: \",num1 - num2)\n",
    "elif op == 3:\n",
    "   print( f\"{num1} * {num2}: \",num1 * num2)\n",
    "elif op == 4:\n",
    "    print(f\"{num1} / {num2}: \",num1 / num2)\n",
    "elif op == 5:\n",
    "    print(f\"{num1} % {num2}: \",num1 % num2)\n",
    "else:\n",
    "    print(\"You entered invalid operator:( \")\n",
    "\n"
   ]
  },
  {
   "cell_type": "code",
   "execution_count": null,
   "metadata": {},
   "outputs": [
    {
     "name": "stdout",
     "output_type": "stream",
     "text": [
      "llo \n",
      "H\n",
      "!\n",
      "Hello there!\n",
      "Hello\n",
      "lo there!\n",
      "llo ther\n"
     ]
    }
   ],
   "source": [
    "# strings\n",
    "\n",
    "str1=\"Hello there!\"\n",
    "\n",
    "\n",
    "# indexing and Slicing\n",
    "\n",
    "print(str1[2:6])\n",
    "print(str1[0])\n",
    "print(str1[-1])\n",
    "print(str1[:])\n",
    "print(str1[:5])\n",
    "print(str1[3:])\n",
    "print(str1[2:-2])"
   ]
  },
  {
   "cell_type": "code",
   "execution_count": null,
   "metadata": {},
   "outputs": [
    {
     "name": "stdout",
     "output_type": "stream",
     "text": [
      "si@a%p\n",
      "noisses scitcarp6%$a#@si shT\n"
     ]
    }
   ],
   "source": [
    "str2=\"Ths is@#a$%6practics session\"\n",
    "\n",
    "print(str2[2:13:2]) #start : end : step\n",
    "\n",
    "print(str2[::-1]) #start : End : last index"
   ]
  },
  {
   "cell_type": "code",
   "execution_count": 52,
   "metadata": {},
   "outputs": [
    {
     "name": "stdout",
     "output_type": "stream",
     "text": [
      "   THS IS PRACTICS SESSION   \n",
      "   ths is practics session   \n",
      "   ths is practics session   \n",
      "Ths is practics session\n",
      "   Ths is practics class   \n",
      "count c:  2\n",
      "index of p:  10\n",
      "Return True if string start with (i) else false:  False\n",
      "Return True if string start with (T) else false:  True\n",
      "Return True if string ends with (Class) else false:  True\n",
      "Return True if string ends with (Class) else false:  False\n",
      "['This', 'is', 'our', 'AI', 'Class']\n",
      "5\n",
      "This-is-our-AI-Class\n",
      "This__is__our__AI__Class\n"
     ]
    }
   ],
   "source": [
    "# string functions\n",
    "str2=\"   Ths is practics session   \"\n",
    "str3=\"This is our AI Class\"\n",
    "print(str2.upper())\n",
    "print(str2.capitalize())\n",
    "print(str2.lower())\n",
    "print(str2.strip())\n",
    "print(str2.replace(\"session\",\"class\"))\n",
    "print(\"count c: \",str2.count(\"c\"))\n",
    "print(\"index of p: \",str2.find(\"p\"))\n",
    "print(\"Return True if string start with (i) else false: \",str3.startswith('i'))\n",
    "print(\"Return True if string start with (T) else false: \",str3.startswith('T'))\n",
    "print(\"Return True if string ends with (Class) else false: \",str3.endswith('Class'))\n",
    "print(\"Return True if string ends with (Class) else false: \",str3.endswith('session'))\n",
    "new_str=str3.split(\" \")\n",
    "print(new_str)\n",
    "print(len(new_str))\n",
    "print('-'.join(str3.split(\" \")))\n",
    "print('__'.join(str3.split(\" \")))"
   ]
  },
  {
   "cell_type": "code",
   "execution_count": 53,
   "metadata": {},
   "outputs": [
    {
     "name": "stdout",
     "output_type": "stream",
     "text": [
      " name: Atiqa Age is 20\n"
     ]
    }
   ],
   "source": [
    "# string formatting\n",
    "name=\"Atiqa\"\n",
    "Age=\"20\"\n",
    "\n",
    "print(f\" name: {name} Age is {Age}\")\n"
   ]
  },
  {
   "cell_type": "code",
   "execution_count": 55,
   "metadata": {},
   "outputs": [
    {
     "name": "stdout",
     "output_type": "stream",
     "text": [
      "nhy\n"
     ]
    }
   ],
   "source": [
    "s = \"Python\"\n",
    "print(s[::-2])"
   ]
  },
  {
   "cell_type": "code",
   "execution_count": null,
   "metadata": {},
   "outputs": [
    {
     "name": "stdout",
     "output_type": "stream",
     "text": [
      "Atiqa\n",
      "[2, 4, 6, 23, 'Atiqa', True, 3.45, 1]\n",
      "[23, 'Atiqa', True]\n",
      "[2, 4, 6, 23, 'Atiqa']\n",
      "[1]\n",
      "[2, 6, 'Atiqa', 3.45]\n",
      "[1, 3.45, True, 'Atiqa', 23, 6, 4, 2]\n",
      "[1, True, 23, 4]\n"
     ]
    }
   ],
   "source": [
    "list1=[2,4,6,23,\"Atiqa\",True,3.45,4-3]\n",
    "\n",
    "# list indexing and sliciing\n",
    "\n",
    "print(list1[4])\n",
    "print(list1[:])\n",
    "print(list1[3:6])\n",
    "print(list1[:5])\n",
    "print(list1[7:])\n",
    "print(list1[::2])\n",
    "print(list1[::-1])  #reverse string\n",
    "print(list1[::-2])"
   ]
  },
  {
   "cell_type": "code",
   "execution_count": 11,
   "metadata": {},
   "outputs": [
    {
     "name": "stdout",
     "output_type": "stream",
     "text": [
      "['Ahmed', 'Sara', 'Raza', 'Ali', 'Atiqa', 'Ayesha', 'Zain', 'Zara', 'zia']\n",
      "['Ahmed', 'Sara', 'Raza', 'Ali', 'Atiqa', 'Ayesha Akbar', 'Zain', 'Zara', 'zia']\n",
      "['Ahmed', 'Sara', 'Kulsoom', 'Raza', 'Ali', 'Atiqa', 'Ayesha Akbar', 'Zain', 'Zara', 'zia']\n",
      "['Ahmed', 'Kulsoom', 'Raza', 'Ali', 'Atiqa', 'Ayesha Akbar', 'Zain', 'Zara', 'zia']\n",
      "['Ahmed', 'Kulsoom', 'Raza', 'Ali', 'Atiqa', 'Ayesha Akbar', 'Zain', 'Zara']\n",
      "['Kulsoom', 'Raza', 'Ali', 'Atiqa', 'Ayesha Akbar', 'Zain', 'Zara']\n"
     ]
    }
   ],
   "source": [
    "list2=[\"Ahmed\",\"Sara\",\"Raza\",\"Ali\",\"Atiqa\",\"Ayesha\",\"Zain\",\"Zara\"]\n",
    "\n",
    "# list functions\n",
    "\n",
    "list2.append(\"zia\")\n",
    "print(list2)\n",
    "\n",
    "list2[5]=\"Ayesha Akbar\"\n",
    "print(list2)\n",
    "list2.insert(2,\"Kulsoom\")\n",
    "print(list2)\n",
    "list2.remove(\"Sara\")\n",
    "print(list2)\n",
    "list2.pop()\n",
    "print(list2)\n",
    "list2.pop(0)\n",
    "print(list2)"
   ]
  },
  {
   "cell_type": "code",
   "execution_count": 20,
   "metadata": {},
   "outputs": [
    {
     "name": "stdout",
     "output_type": "stream",
     "text": [
      "[2, 4, 6, 8, 10, 1, 3, 5, 7, 9]\n",
      "[2, 4, 6, 8, 10, 2, 4, 6, 8, 10]\n",
      "False\n",
      "True\n",
      "length of list:  7\n",
      "length of list:  5\n"
     ]
    }
   ],
   "source": [
    "# list operations\n",
    "\n",
    "list3=[2,4,6,8,10]\n",
    "list4=[1,3,5,7,9]\n",
    "\n",
    "print(list3 + list4) # join lists\n",
    "print(list3 * 2)\n",
    "\n",
    "print(12 in list3)\n",
    "print(\"Atiqa\" in list2)\n",
    "print(\"length of list: \",len(list2))\n",
    "print(\"length of list: \",len(list3))"
   ]
  },
  {
   "cell_type": "code",
   "execution_count": 35,
   "metadata": {},
   "outputs": [
    {
     "name": "stdout",
     "output_type": "stream",
     "text": [
      "[9, 7, 5, 3, 1, 0, -3]\n"
     ]
    }
   ],
   "source": [
    "list4=[3,0,7,-3,5,1,9]\n",
    "list4.sort(reverse=True)\n",
    "print(list4)\n"
   ]
  },
  {
   "cell_type": "code",
   "execution_count": 40,
   "metadata": {},
   "outputs": [
    {
     "name": "stdout",
     "output_type": "stream",
     "text": [
      "[9, 7, 5, 3, 1, 0, -3, 'Nums']\n",
      "[9, 7, 5, 3, 1, 0, -3]\n"
     ]
    }
   ],
   "source": [
    "list5=list4.copy()\n",
    "list5.append(\"Nums\")\n",
    "print(list5)\n",
    "print(list4)"
   ]
  },
  {
   "cell_type": "code",
   "execution_count": 59,
   "metadata": {},
   "outputs": [
    {
     "name": "stdout",
     "output_type": "stream",
     "text": [
      "81\n",
      "49\n",
      "25\n",
      "9\n",
      "1\n",
      "0\n",
      "9\n",
      "[1, 4, 9, 16, 25, 36, 49, 64, 81, 100]\n",
      "[5, 10, 15, 20, 25, 30, 35, 40, 45, 50]\n",
      "[2, 4, 6, 8, 10, 12, 14, 16, 18, 20, 22, 24, 26, 28]\n"
     ]
    }
   ],
   "source": [
    "for element in list4:\n",
    "    print(element**2)\n",
    "\n",
    "squares= [x**2 for x in range(1,11)]\n",
    "print(squares)\n",
    "y=5\n",
    "table=[x*y for x in range(1,11)]\n",
    "print(table)\n",
    "\n",
    "evens=[x for x in range(1,30) if x%2==0]\n",
    "print(evens)"
   ]
  },
  {
   "cell_type": "code",
   "execution_count": 60,
   "metadata": {},
   "outputs": [
    {
     "name": "stdout",
     "output_type": "stream",
     "text": [
      "Ahmed\n",
      "Sara\n",
      "Raza\n",
      "Ali\n",
      "Atiqa\n",
      "Ayesha\n",
      "Zain\n",
      "Zara\n"
     ]
    }
   ],
   "source": [
    "names=[\"Ahmed\",\"Sara\",\"Raza\",\"Ali\",\"Atiqa\",\"Ayesha\",\"Zain\",\"Zara\"]\n",
    "\n",
    "for name in names:\n",
    "    print(name)\n"
   ]
  },
  {
   "cell_type": "code",
   "execution_count": 65,
   "metadata": {},
   "outputs": [
    {
     "name": "stdout",
     "output_type": "stream",
     "text": [
      "1. Sara\n",
      "2. Raza\n",
      "3. Ali\n",
      "4. Atiqa\n",
      "5. Ayesha\n",
      "6. Zain\n",
      "7. Zara\n"
     ]
    }
   ],
   "source": [
    "\n",
    "for name in range(1, len(names)):\n",
    "    print(f\"{name}. {names[name]}\")"
   ]
  },
  {
   "cell_type": "code",
   "execution_count": 66,
   "metadata": {},
   "outputs": [
    {
     "name": "stdout",
     "output_type": "stream",
     "text": [
      "0. Ahmed\n",
      "1. Sara\n",
      "2. Raza\n",
      "3. Ali\n",
      "4. Atiqa\n",
      "5. Ayesha\n",
      "6. Zain\n",
      "7. Zara\n"
     ]
    }
   ],
   "source": [
    "for index,name in enumerate(names):\n",
    "    print(f\"{index}. {name}\")"
   ]
  },
  {
   "cell_type": "code",
   "execution_count": 70,
   "metadata": {},
   "outputs": [
    {
     "name": "stdout",
     "output_type": "stream",
     "text": [
      "0 Ahmed\n",
      "1 Sara\n",
      "2 Raza\n",
      "3 Ali\n",
      "4 Atiqa\n",
      "5 Ayesha\n",
      "6 Zain\n",
      "7 Zara\n"
     ]
    }
   ],
   "source": [
    "# # while loop\n",
    "\n",
    "i=0\n",
    "while i< len(names):\n",
    "    print(i,names[i])\n",
    "    i=i+1\n",
    "\n"
   ]
  },
  {
   "cell_type": "code",
   "execution_count": 100,
   "metadata": {},
   "outputs": [
    {
     "name": "stdout",
     "output_type": "stream",
     "text": [
      "6 Zain\n",
      "7 Zara\n"
     ]
    }
   ],
   "source": [
    "i=0\n",
    "names=[\"Ahmed\",\"Sara\",\"Raza\",\"Ali\",\"Atiqa\",\"Ayesha\",\"Zain\",\"Zara\"]\n",
    "\n",
    "\n",
    "while i< len(names):\n",
    "   \n",
    "    if names[i].startswith(\"Z\"):\n",
    "     print(i,names[i])\n",
    "    i=i+1"
   ]
  },
  {
   "cell_type": "code",
   "execution_count": 107,
   "metadata": {},
   "outputs": [
    {
     "name": "stdout",
     "output_type": "stream",
     "text": [
      "Sara\n",
      "Raza\n",
      "Zain\n",
      "Zara\n"
     ]
    }
   ],
   "source": [
    "\n",
    "names=[\"Ahmed\",\"Sara\",\"Raza\",\"Ali\",\"Atiqa\",\"Ayesha\",\"Zain\",\"Zara\"]\n",
    "i=0\n",
    "while i < len(names):\n",
    "    if not names[i].startswith(\"A\"):\n",
    "        print(names[i])\n",
    "    i=i+1\n",
    "\n"
   ]
  },
  {
   "cell_type": "code",
   "execution_count": 112,
   "metadata": {},
   "outputs": [
    {
     "name": "stdout",
     "output_type": "stream",
     "text": [
      "Ayesha\n",
      "Atiqa\n",
      "Ali\n",
      "Ahmed\n"
     ]
    }
   ],
   "source": [
    "i=len(names)-1\n",
    "while i >= 0:\n",
    "    if names[i].startswith(\"A\"):\n",
    "        print(names[i])\n",
    "\n",
    "    i=i-1"
   ]
  },
  {
   "cell_type": "code",
   "execution_count": 122,
   "metadata": {},
   "outputs": [
    {
     "name": "stdout",
     "output_type": "stream",
     "text": [
      "[1, 2, 3, 4, 5, 6]\n",
      "[4, 5, 6]\n",
      "[1, 2, 3, 4, 5, 6]\n",
      "[1, 2, 3]\n"
     ]
    }
   ],
   "source": [
    "list1=[1,2,3]\n",
    "list2=[4,5,6]\n",
    "list1.extend(list2)\n",
    "print(list1)# (List1 me List2 ke elements add karna)\n",
    "print(list2)\n",
    "\n",
    "list1=[1,2,3]\n",
    "list2=[4,5,6]\n",
    "print(list1+list2)\n",
    "print(list1)"
   ]
  },
  {
   "cell_type": "code",
   "execution_count": 143,
   "metadata": {},
   "outputs": [
    {
     "name": "stdout",
     "output_type": "stream",
     "text": [
      "3\n",
      "-----------------\n",
      "[1, 4, 7]\n"
     ]
    }
   ],
   "source": [
    "matrix = [\n",
    "    [1, 2, 3],  # Row 0\n",
    "    [4, 5, 6],  # Row 1\n",
    "    [7, 8, 9]   # Row 2\n",
    "]\n",
    "print(matrix[0][2])\n",
    "print(\"-----------------\")\n",
    "first_column = [row[0] for row in matrix]\n",
    "print(first_column) "
   ]
  },
  {
   "cell_type": "code",
   "execution_count": 145,
   "metadata": {},
   "outputs": [
    {
     "name": "stdout",
     "output_type": "stream",
     "text": [
      "3\n",
      "6\n",
      "9\n"
     ]
    }
   ],
   "source": [
    "for row in matrix:\n",
    "    print(row[2])"
   ]
  },
  {
   "cell_type": "code",
   "execution_count": 146,
   "metadata": {},
   "outputs": [
    {
     "name": "stdout",
     "output_type": "stream",
     "text": [
      "1 2 3 \n",
      "4 5 6 \n",
      "7 8 9 \n"
     ]
    }
   ],
   "source": [
    "for row in matrix:\n",
    "    for col in row:\n",
    "        print(col, end=\" \")\n",
    "    print()  "
   ]
  },
  {
   "cell_type": "code",
   "execution_count": 167,
   "metadata": {},
   "outputs": [
    {
     "name": "stdout",
     "output_type": "stream",
     "text": [
      "{'name': 'Atiqa', 'Domain': 'AI', 'Age': 21, 'maks': '100'}\n",
      "21\n",
      "AI\n",
      "Atiqa ['Age']\n"
     ]
    }
   ],
   "source": [
    "# Dictionaries\n",
    "\n",
    "dict1={\n",
    "    \"name\":\"Atiqa\",\n",
    "    \"Domain\":\"AI\",\n",
    "    \"Age\": 21,\n",
    "    \"maks\":\"100\"\n",
    "}\n",
    "\n",
    "\n",
    "print(dict1)\n",
    "print(dict1[\"Age\"])\n",
    "print(dict1[\"Domain\"])\n",
    "print(dict1[\"name\"],[\"Age\"])"
   ]
  },
  {
   "cell_type": "code",
   "execution_count": 158,
   "metadata": {},
   "outputs": [
    {
     "name": "stdout",
     "output_type": "stream",
     "text": [
      "Not found\n"
     ]
    }
   ],
   "source": [
    "print(dict1.get(\"Interest\",\"Not found\"))"
   ]
  },
  {
   "cell_type": "code",
   "execution_count": 161,
   "metadata": {},
   "outputs": [
    {
     "name": "stdout",
     "output_type": "stream",
     "text": [
      "{'name': 'Atiqa', 'Domain': 'AI', 'Age': 22, 'maks': '100', 'Qualification': 'BS'}\n",
      "{'name': 'Atiqa', 'Domain': 'AI', 'Age': 22, 'maks': '100', 'Qualification': 'BS'}\n",
      "{'name': 'Atiqa', 'Domain': 'AI', 'Age': 22, 'Qualification': 'BS'}\n"
     ]
    }
   ],
   "source": [
    "dict1[\"Age\"]=22\n",
    "print(dict1)\n",
    "\n",
    "dict1[\"Qualification\"]= \"BS\"\n",
    "print(dict1)\n",
    "\n",
    "del dict1[\"maks\"]\n",
    "print(dict1)"
   ]
  },
  {
   "cell_type": "code",
   "execution_count": null,
   "metadata": {},
   "outputs": [
    {
     "name": "stdout",
     "output_type": "stream",
     "text": [
      "21\n"
     ]
    }
   ],
   "source": [
    "\n",
    "\n",
    "dict1={\n",
    "    \"name\":\"Atiqa\",\n",
    "    \"Domain\":\"AI\",\n",
    "    \"Age\": 21,\n",
    "    \"maks\":\"100\"\n",
    "}\n",
    "\n",
    "age=dict1.pop(\"Age\")\n",
    "print(age)\n"
   ]
  },
  {
   "cell_type": "code",
   "execution_count": null,
   "metadata": {},
   "outputs": [
    {
     "name": "stdout",
     "output_type": "stream",
     "text": [
      "name: Atiqa\n",
      "Domain: AI\n",
      "Age: 21\n",
      "maks: 100\n"
     ]
    }
   ],
   "source": [
    "\n",
    "dict1={\n",
    "    \"name\":\"Atiqa\",\n",
    "    \"Domain\":\"AI\",\n",
    "    \"Age\": 21,\n",
    "    \"maks\":\"100\"\n",
    "}\n",
    "for keys,values in dict1.items():\n",
    "    print(f\"{keys}: {values}\")"
   ]
  },
  {
   "cell_type": "code",
   "execution_count": 181,
   "metadata": {},
   "outputs": [
    {
     "name": "stdout",
     "output_type": "stream",
     "text": [
      " Atiqa\n",
      " AI\n",
      " 21\n",
      " 100\n",
      "-----------------------\n",
      "name Atiqa\n",
      "Domain AI\n",
      "Age 21\n",
      "maks 100\n"
     ]
    }
   ],
   "source": [
    "for values in dict1.values():\n",
    "    print(f\" {values}\")\n",
    "\n",
    "print(\"-----------------------\")\n",
    "for keys,values in dict1.items():\n",
    "    print(f\"{keys} {values}\")"
   ]
  },
  {
   "cell_type": "code",
   "execution_count": 183,
   "metadata": {},
   "outputs": [
    {
     "name": "stdout",
     "output_type": "stream",
     "text": [
      "not exist\n",
      "-----------------------\n",
      "Your name exist\n"
     ]
    }
   ],
   "source": [
    "if \"interest\" in dict1:\n",
    "    print(\"Your interest exist\")\n",
    "else:\n",
    "    print(\"not exist\")\n",
    "\n",
    "print(\"-----------------------\")\n",
    "\n",
    "if \"name\" in dict1:\n",
    "    print(\"Your name exist\")\n",
    "else:\n",
    "    print(\"not exist\")"
   ]
  },
  {
   "cell_type": "code",
   "execution_count": 185,
   "metadata": {},
   "outputs": [],
   "source": [
    "students={\n",
    "\"Ali\":{\"Age\":20,\"marks\":90},\n",
    "\"Sana\":{\"Age\":22,\"marks\":96},\n",
    "\"Rafi\":{\"Age\":21,\"marks\":89},\n",
    "\"Sohail\":{\"Age\":21,\"marks\":86},\n",
    "}"
   ]
  },
  {
   "cell_type": "code",
   "execution_count": 187,
   "metadata": {},
   "outputs": [
    {
     "name": "stdout",
     "output_type": "stream",
     "text": [
      "96\n"
     ]
    }
   ],
   "source": [
    "print(students[\"Sana\"][\"marks\"])"
   ]
  },
  {
   "cell_type": "code",
   "execution_count": 197,
   "metadata": {},
   "outputs": [
    {
     "name": "stdout",
     "output_type": "stream",
     "text": [
      "Ali\n",
      " Details: Age:20 Marks: 90\n",
      "Sana\n",
      " Details: Age:22 Marks: 96\n",
      "Rafi\n",
      " Details: Age:21 Marks: 89\n",
      "Sohail\n",
      " Details: Age:21 Marks: 86\n"
     ]
    }
   ],
   "source": [
    "for name,details in students.items():\n",
    "        print(f\"{name}\\n Details: Age:{details[\"Age\"]} Marks: {details['marks']}\")\n"
   ]
  },
  {
   "cell_type": "code",
   "execution_count": 198,
   "metadata": {},
   "outputs": [],
   "source": [
    "# functions\n",
    "\n",
    "def func1():\n",
    "    print(\"Hello there\")"
   ]
  },
  {
   "cell_type": "code",
   "execution_count": 202,
   "metadata": {},
   "outputs": [
    {
     "name": "stdout",
     "output_type": "stream",
     "text": [
      "Hello there\n"
     ]
    }
   ],
   "source": [
    "func1()"
   ]
  },
  {
   "cell_type": "code",
   "execution_count": 204,
   "metadata": {},
   "outputs": [
    {
     "name": "stdout",
     "output_type": "stream",
     "text": [
      "Hello neha\n",
      "Hello Rahul\n"
     ]
    }
   ],
   "source": [
    "def func1(name):\n",
    "    print(f\"Hello {name}\")\n",
    "\n",
    "func1(\"neha\")\n",
    "name=\"Rahul\"\n",
    "func1(name)"
   ]
  },
  {
   "cell_type": "code",
   "execution_count": 207,
   "metadata": {},
   "outputs": [
    {
     "data": {
      "text/plain": [
       "9"
      ]
     },
     "execution_count": 207,
     "metadata": {},
     "output_type": "execute_result"
    }
   ],
   "source": [
    "def func1(a,b):\n",
    "    return a+b\n",
    "\n",
    "\n",
    "func1(3,6)"
   ]
  },
  {
   "cell_type": "code",
   "execution_count": 221,
   "metadata": {},
   "outputs": [
    {
     "name": "stdout",
     "output_type": "stream",
     "text": [
      "5\n",
      "4\n",
      "10\n"
     ]
    }
   ],
   "source": [
    "def func1(a=4,b=3):\n",
    " print(a+b)\n",
    "\n",
    "\n",
    "func1(b=1)\n",
    "func1(2,2)\n",
    "func1(7)"
   ]
  },
  {
   "cell_type": "code",
   "execution_count": 227,
   "metadata": {},
   "outputs": [],
   "source": [
    "def add(*nums):\n",
    "    return sum(nums)"
   ]
  },
  {
   "cell_type": "code",
   "execution_count": 229,
   "metadata": {},
   "outputs": [
    {
     "name": "stdout",
     "output_type": "stream",
     "text": [
      "8\n"
     ]
    }
   ],
   "source": [
    "print(add(3,5))"
   ]
  },
  {
   "cell_type": "code",
   "execution_count": 230,
   "metadata": {},
   "outputs": [
    {
     "name": "stdout",
     "output_type": "stream",
     "text": [
      "name value: Atiqa\n",
      "None\n"
     ]
    }
   ],
   "source": [
    "def details(**info):\n",
    "    for keys,values in info.items():\n",
    "        print(f\"{keys} value: {values}\")\n",
    "\n",
    "\n",
    "print(details(name=\"Atiqa\"))"
   ]
  },
  {
   "cell_type": "code",
   "execution_count": 234,
   "metadata": {},
   "outputs": [
    {
     "name": "stdout",
     "output_type": "stream",
     "text": [
      "4\n",
      "144\n",
      "27\n"
     ]
    }
   ],
   "source": [
    "# lambda function\n",
    "\n",
    "square= lambda x:x*x\n",
    "print(square(2))\n",
    "print(square(12))\n",
    "\n",
    "cube=lambda x: x*x*x\n",
    "print(cube(3))"
   ]
  },
  {
   "cell_type": "code",
   "execution_count": 237,
   "metadata": {},
   "outputs": [
    {
     "name": "stdout",
     "output_type": "stream",
     "text": [
      "35\n"
     ]
    }
   ],
   "source": [
    "def func(fx,a):\n",
    "    n=fx+3+a\n",
    "    print(n)\n",
    "\n",
    "func(cube(3),5)"
   ]
  },
  {
   "cell_type": "code",
   "execution_count": 238,
   "metadata": {},
   "outputs": [
    {
     "name": "stdout",
     "output_type": "stream",
     "text": [
      "6\n"
     ]
    }
   ],
   "source": [
    "add=lambda a,b:a+b\n",
    "\n",
    "print(add(2,4))"
   ]
  },
  {
   "cell_type": "code",
   "execution_count": 258,
   "metadata": {},
   "outputs": [
    {
     "name": "stdout",
     "output_type": "stream",
     "text": [
      "8\n"
     ]
    }
   ],
   "source": [
    "# nested function \n",
    "\n",
    "def out(x,y):\n",
    " def inner(x,y):\n",
    "    return x+y\n",
    " return inner(x,y) + 5\n",
    "\n",
    "print(out(2,1))"
   ]
  },
  {
   "cell_type": "code",
   "execution_count": 263,
   "metadata": {},
   "outputs": [
    {
     "data": {
      "text/plain": [
       "120"
      ]
     },
     "execution_count": 263,
     "metadata": {},
     "output_type": "execute_result"
    }
   ],
   "source": [
    "def fact(n):\n",
    "    if n==1:\n",
    "        return 1\n",
    "    return n* fact(n-1)\n",
    "\n",
    "fact(5)"
   ]
  },
  {
   "cell_type": "code",
   "execution_count": 273,
   "metadata": {},
   "outputs": [
    {
     "name": "stdout",
     "output_type": "stream",
     "text": [
      "division by zero\n",
      "==================\n",
      "Unable to divide number with 0\n"
     ]
    }
   ],
   "source": [
    "# Exception handling:\n",
    "\n",
    "try:\n",
    "    a=23\n",
    "    b=0\n",
    "    print(\"Division: \",a/b)\n",
    "except Exception as e:\n",
    "    print(e)\n",
    "print(\"==================\")\n",
    "try:\n",
    "    a=23\n",
    "    b=0\n",
    "    print(\"Division: \",a/b)\n",
    "except ZeroDivisionError:\n",
    "    print(\"Unable to divide number with 0\")\n",
    "\n"
   ]
  },
  {
   "cell_type": "code",
   "execution_count": 274,
   "metadata": {},
   "outputs": [
    {
     "name": "stdout",
     "output_type": "stream",
     "text": [
      "invalid literal for int() with base 10: 'gdh'\n"
     ]
    }
   ],
   "source": [
    "try:\n",
    "    num=int(input(\"Enter number: \"))\n",
    "\n",
    "except Exception as e:\n",
    "    print(e)\n"
   ]
  },
  {
   "cell_type": "code",
   "execution_count": 280,
   "metadata": {},
   "outputs": [
    {
     "name": "stdout",
     "output_type": "stream",
     "text": [
      "Invalid value entered\n"
     ]
    }
   ],
   "source": [
    "try:\n",
    "    a=10\n",
    "    num=int(input(\"Enter number: \"))\n",
    "    print(a/num)\n",
    "\n",
    "except ZeroDivisionError:\n",
    "    print(\"Denominator cant be zero\")\n",
    "except ValueError:\n",
    "    print(\"Invalid value entered\")\n",
    "except Exception as e:\n",
    "    print(e)"
   ]
  },
  {
   "cell_type": "code",
   "execution_count": null,
   "metadata": {},
   "outputs": [
    {
     "name": "stdout",
     "output_type": "stream",
     "text": [
      "225\n"
     ]
    }
   ],
   "source": [
    "num=int(input(\"Enter number from 5, 10 ,15\"))\n",
    "if num not in [5,10,15]:\n",
    "    raise ValueError(\"Please select the number as per instrctions\")\n",
    "print(num*num)\n"
   ]
  },
  {
   "cell_type": "code",
   "execution_count": 4,
   "metadata": {},
   "outputs": [
    {
     "name": "stdout",
     "output_type": "stream",
     "text": [
      "Name:Anam Age:21\n",
      "Name:Atiqa Age:20\n"
     ]
    }
   ],
   "source": [
    "# Object oriented programming \n",
    "class Student:\n",
    "    def __init__(self,name,age):\n",
    "        self.name=name\n",
    "        self.age=age\n",
    "\n",
    "    def info(self):\n",
    "        print(f\"Name:{self.name} Age:{self.age}\")\n",
    "\n",
    "s1=Student(\"Anam\",21)\n",
    "s1.info()\n",
    "s2=Student(\"Atiqa\",20)\n",
    "s2.info()"
   ]
  },
  {
   "cell_type": "code",
   "execution_count": 9,
   "metadata": {},
   "outputs": [
    {
     "name": "stdout",
     "output_type": "stream",
     "text": [
      "Rx154E\n",
      "Purple\n",
      "3225\n"
     ]
    }
   ],
   "source": [
    "class Car:\n",
    "    model=\"Rx154E\"\n",
    "    color=\"Purple\"\n",
    "    no_plate=\"1201\"\n",
    "\n",
    "\n",
    "c1=Car()\n",
    "print(c1.model)\n",
    "print(Car.color)\n",
    "c1.no_plate=\"3225\"\n",
    "print(c1.no_plate)"
   ]
  },
  {
   "cell_type": "code",
   "execution_count": 10,
   "metadata": {},
   "outputs": [],
   "source": [
    "class Person: #--> class \n",
    "    name=\"Richerd\"\n",
    "    occuption=\"Software Enginner\"\n",
    "    salary=3000"
   ]
  },
  {
   "cell_type": "code",
   "execution_count": 12,
   "metadata": {},
   "outputs": [
    {
     "name": "stdout",
     "output_type": "stream",
     "text": [
      "\n",
      " Richerd  is a  DevOps Engineer \n",
      "\n",
      "\n",
      " Neil  is a  Software Enginner \n",
      "\n"
     ]
    }
   ],
   "source": [
    "p1=Person() #--> object\n",
    "p1.occuption=\"DevOps Engineer\"\n",
    "print(\"\\n\",p1.name,\" is a \",p1.occuption,\"\\n\")\n",
    "\n",
    "p2=Person() #--> object\n",
    "p2.name=\"Neil\"\n",
    "print(\"\\n\",p2.name,\" is a \",p2.occuption,\"\\n\")\n"
   ]
  },
  {
   "cell_type": "code",
   "execution_count": null,
   "metadata": {},
   "outputs": [],
   "source": [
    "# Encapsulation\n",
    "\n",
    "class Account:\n",
    "     def __init__(self, account_holder):\n",
    "          self.account_holder=account_holder\n",
    "          self.__balance=10000  #private\n",
    "\n",
    "     def deposit(self,amount):\n",
    "          self.__balance=self.__balance+amount\n",
    "          print(\"Deposit successful\")\n",
    "\n",
    "     def withdrawl(self,amount):\n",
    "          if (self.__balance >= amount):\n",
    "               self.__balance=self.__balance-amount\n",
    "               print(\"Withdrawl Successfully\")\n",
    "          else:\n",
    "               print(\"Your current balance is Insufficient\")\n",
    "\n",
    "\n",
    "     def get_balance(self):\n",
    "          print(f\"Account Holder:{self.account_holder} Current balance: {self.__balance}\")       \n",
    "          "
   ]
  },
  {
   "cell_type": "code",
   "execution_count": 44,
   "metadata": {},
   "outputs": [
    {
     "name": "stdout",
     "output_type": "stream",
     "text": [
      "Account Holder:Atiqa Current balance: 10000\n",
      "Deposit successful\n",
      "Account Holder:Atiqa Current balance: 15000\n",
      "Withdrawl Successfully\n",
      "Account Holder:Atiqa Current balance: 3000\n",
      "Your current balance is Insufficient\n"
     ]
    }
   ],
   "source": [
    "a1=Account(\"Atiqa\")\n",
    "a1.get_balance()\n",
    "a1.deposit(5000)\n",
    "a1.get_balance()\n",
    "a1.withdrawl(12000)\n",
    "a1.get_balance()\n",
    "a1.withdrawl(5000)"
   ]
  },
  {
   "cell_type": "code",
   "execution_count": null,
   "metadata": {},
   "outputs": [
    {
     "name": "stdout",
     "output_type": "stream",
     "text": [
      "Meow\n"
     ]
    }
   ],
   "source": [
    "# Abstraction\n",
    "from abc import ABC,abstractmethod\n",
    "\n",
    "class Animal(ABC):\n",
    "    @abstractmethod\n",
    "    def sound(self):\n",
    "        pass\n",
    "\n",
    "class Dog(Animal):\n",
    "    def sound(self):\n",
    "        print(\"Barks\")\n",
    "\n",
    "\n",
    "class Cat(Animal):\n",
    "    def sound(self):\n",
    "        print(\"Meow\")\n"
   ]
  },
  {
   "cell_type": "code",
   "execution_count": 47,
   "metadata": {},
   "outputs": [
    {
     "name": "stdout",
     "output_type": "stream",
     "text": [
      "Meow\n",
      "Barks\n"
     ]
    }
   ],
   "source": [
    "c1=Cat()\n",
    "c1.sound()\n",
    "\n",
    "d1=Dog()\n",
    "d1.sound()"
   ]
  },
  {
   "cell_type": "code",
   "execution_count": 53,
   "metadata": {},
   "outputs": [
    {
     "name": "stdout",
     "output_type": "stream",
     "text": [
      "Brand: SUZUKI\n",
      "Model: RX31ZE\n"
     ]
    }
   ],
   "source": [
    "# inheritance\n",
    "\n",
    "class Vechical:\n",
    "    def __init__(self,brand):\n",
    "        self.brand=brand\n",
    "\n",
    "    def show_brand(self):\n",
    "        print(f\"Brand: {self.brand}\")\n",
    "\n",
    "class Car(Vechical):\n",
    "    def __init__(self, brand,model):\n",
    "        super().__init__(brand)\n",
    "        self.model=model\n",
    "\n",
    "    \n",
    "    def show_model(self):\n",
    "        print(f\"Model: {self.model}\")\n",
    "\n",
    "# v1=Vechical(\"SUZUKI\")\n",
    "# v1.show_brand()\n",
    "\n",
    "c1=Car(\"SUZUKI\",\"RX31ZE\")\n",
    "c1.show_brand()\n",
    "c1.show_model()\n",
    "\n",
    "\n"
   ]
  },
  {
   "cell_type": "code",
   "execution_count": null,
   "metadata": {},
   "outputs": [],
   "source": [
    "class Person:\n",
    "    def __init__(self,name,age):\n",
    "        self.name=name\n",
    "        self.age=age\n",
    "\n",
    "    def info(self):\n",
    "        print(f\"Name: {self.name} Age: {self.age}\")\n",
    "\n",
    "\n",
    "class Student(Person):\n",
    "    def __init__(self, name, age,marks):\n",
    "        super().__init__(name, age)\n",
    "        self.marks=marks\n",
    "\n",
    "    def info(self):\n",
    "        super().info()\n",
    "        print(f\"marks: {self.marks}\")\n"
   ]
  },
  {
   "cell_type": "code",
   "execution_count": 81,
   "metadata": {},
   "outputs": [
    {
     "name": "stdout",
     "output_type": "stream",
     "text": [
      "Name: Atiqa Age: 21\n",
      "90\n"
     ]
    }
   ],
   "source": [
    "\n",
    "s1=Student(\"Atiqa\",21,90)\n",
    "s1.info()"
   ]
  },
  {
   "cell_type": "code",
   "execution_count": null,
   "metadata": {},
   "outputs": [],
   "source": []
  }
 ],
 "metadata": {
  "kernelspec": {
   "display_name": "Python 3",
   "language": "python",
   "name": "python3"
  },
  "language_info": {
   "codemirror_mode": {
    "name": "ipython",
    "version": 3
   },
   "file_extension": ".py",
   "mimetype": "text/x-python",
   "name": "python",
   "nbconvert_exporter": "python",
   "pygments_lexer": "ipython3",
   "version": "3.12.3"
  }
 },
 "nbformat": 4,
 "nbformat_minor": 2
}
