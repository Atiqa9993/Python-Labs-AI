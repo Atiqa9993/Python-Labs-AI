{
 "cells": [
  {
   "cell_type": "code",
   "execution_count": 28,
   "metadata": {},
   "outputs": [],
   "source": [
    "\n",
    "#  including python, modules, universal functions, numpy and pandas. Test will be of both objective and question\n"
   ]
  },
  {
   "cell_type": "code",
   "execution_count": 29,
   "metadata": {},
   "outputs": [
    {
     "ename": "ValueError",
     "evalue": "invalid literal for int() with base 10: '66\\\\'",
     "output_type": "error",
     "traceback": [
      "\u001b[1;31m---------------------------------------------------------------------------\u001b[0m",
      "\u001b[1;31mValueError\u001b[0m                                Traceback (most recent call last)",
      "Cell \u001b[1;32mIn[29], line 5\u001b[0m\n\u001b[0;32m      1\u001b[0m \u001b[38;5;66;03m# basic operation\u001b[39;00m\n\u001b[0;32m      4\u001b[0m num1\u001b[38;5;241m=\u001b[39m\u001b[38;5;28mint\u001b[39m(\u001b[38;5;28minput\u001b[39m(\u001b[38;5;124m\"\u001b[39m\u001b[38;5;124mEnter first number: \u001b[39m\u001b[38;5;124m\"\u001b[39m))\n\u001b[1;32m----> 5\u001b[0m num2\u001b[38;5;241m=\u001b[39m\u001b[38;5;28mint\u001b[39m(\u001b[38;5;28minput\u001b[39m(\u001b[38;5;124m\"\u001b[39m\u001b[38;5;124mEnter second number: \u001b[39m\u001b[38;5;124m\"\u001b[39m))\n\u001b[0;32m      7\u001b[0m \u001b[38;5;28mprint\u001b[39m(\u001b[38;5;124m\"\u001b[39m\u001b[38;5;124mSelect operation\u001b[39m\u001b[38;5;124m\"\u001b[39m)\n\u001b[0;32m      8\u001b[0m \u001b[38;5;28mprint\u001b[39m(\u001b[38;5;124m\"\u001b[39m\u001b[38;5;124m1. Addition\u001b[39m\u001b[38;5;124m\"\u001b[39m)\n",
      "\u001b[1;31mValueError\u001b[0m: invalid literal for int() with base 10: '66\\\\'"
     ]
    }
   ],
   "source": [
    "# basic operation\n",
    "\n",
    "\n",
    "num1=int(input(\"Enter first number: \"))\n",
    "num2=int(input(\"Enter second number: \"))\n",
    "\n",
    "print(\"Select operation\")\n",
    "print(\"1. Addition\")\n",
    "print(\"2. Subtraction\")\n",
    "print(\"3. multiplication\")\n",
    "print(\"4. division\")\n",
    "print(\"5. Modulo\")\n",
    "\n",
    "op=int(input(\"Enter operation number\"))\n",
    "print(\" You choose: \",op)\n",
    "if op == 1:\n",
    "    print(f\"{num1} + {num2}: \",num1 + num2)\n",
    "elif op==2:\n",
    "    print(f\"{num1} - {num2}: \",num1 - num2)\n",
    "elif op == 3:\n",
    "   print( f\"{num1} * {num2}: \",num1 * num2)\n",
    "elif op == 4:\n",
    "    print(f\"{num1} / {num2}: \",num1 / num2)\n",
    "elif op == 5:\n",
    "    print(f\"{num1} % {num2}: \",num1 % num2)\n",
    "else:\n",
    "    print(\"You entered invalid operator:( \")\n",
    "\n"
   ]
  },
  {
   "cell_type": "code",
   "execution_count": null,
   "metadata": {},
   "outputs": [
    {
     "name": "stdout",
     "output_type": "stream",
     "text": [
      "llo \n",
      "H\n",
      "!\n",
      "Hello there!\n",
      "Hello\n",
      "lo there!\n",
      "llo ther\n"
     ]
    }
   ],
   "source": [
    "# strings\n",
    "\n",
    "str1=\"Hello there!\"\n",
    "\n",
    "\n",
    "# indexing and Slicing\n",
    "\n",
    "print(str1[2:6])\n",
    "print(str1[0])\n",
    "print(str1[-1])\n",
    "print(str1[:])\n",
    "print(str1[:5])\n",
    "print(str1[3:])\n",
    "print(str1[2:-2])"
   ]
  },
  {
   "cell_type": "code",
   "execution_count": null,
   "metadata": {},
   "outputs": [
    {
     "name": "stdout",
     "output_type": "stream",
     "text": [
      "si@a%p\n",
      "noisses scitcarp6%$a#@si shT\n"
     ]
    }
   ],
   "source": [
    "str2=\"Ths is@#a$%6practics session\"\n",
    "\n",
    "print(str2[2:13:2]) #start : end : step\n",
    "\n",
    "print(str2[::-1]) #start : End : last index"
   ]
  },
  {
   "cell_type": "code",
   "execution_count": null,
   "metadata": {},
   "outputs": [
    {
     "name": "stdout",
     "output_type": "stream",
     "text": [
      "   THS IS PRACTICS SESSION   \n",
      "   ths is practics session   \n",
      "   ths is practics session   \n",
      "Ths is practics session\n",
      "   Ths is practics class   \n",
      "count c:  2\n",
      "index of p:  10\n",
      "Return True if string start with (i) else false:  False\n",
      "Return True if string start with (T) else false:  True\n",
      "Return True if string ends with (Class) else false:  True\n",
      "Return True if string ends with (Class) else false:  False\n",
      "['This', 'is', 'our', 'AI', 'Class']\n",
      "5\n",
      "This-is-our-AI-Class\n",
      "This__is__our__AI__Class\n"
     ]
    }
   ],
   "source": [
    "# string functions\n",
    "str2=\"   Ths is practics session   \"\n",
    "str3=\"This is our AI Class\"\n",
    "print(str2.upper())\n",
    "print(str2.capitalize())\n",
    "print(str2.lower())\n",
    "print(str2.strip())\n",
    "print(str2.replace(\"session\",\"class\"))\n",
    "print(\"count c: \",str2.count(\"c\"))\n",
    "print(\"index of p: \",str2.find(\"p\"))\n",
    "print(\"Return True if string start with (i) else false: \",str3.startswith('i'))\n",
    "print(\"Return True if string start with (T) else false: \",str3.startswith('T'))\n",
    "print(\"Return True if string ends with (Class) else false: \",str3.endswith('Class'))\n",
    "print(\"Return True if string ends with (Class) else false: \",str3.endswith('session'))\n",
    "new_str=str3.split(\" \")\n",
    "print(new_str)\n",
    "print(len(new_str))\n",
    "print('-'.join(str3.split(\" \")))\n",
    "print('__'.join(str3.split(\" \")))"
   ]
  },
  {
   "cell_type": "code",
   "execution_count": null,
   "metadata": {},
   "outputs": [
    {
     "name": "stdout",
     "output_type": "stream",
     "text": [
      " name: Atiqa Age is 20\n"
     ]
    }
   ],
   "source": [
    "# string formatting\n",
    "name=\"Atiqa\"\n",
    "Age=\"20\"\n",
    "\n",
    "print(f\" name: {name} Age is {Age}\")\n"
   ]
  },
  {
   "cell_type": "code",
   "execution_count": null,
   "metadata": {},
   "outputs": [
    {
     "name": "stdout",
     "output_type": "stream",
     "text": [
      "nhy\n"
     ]
    }
   ],
   "source": [
    "s = \"Python\"\n",
    "print(s[::-2])"
   ]
  },
  {
   "cell_type": "code",
   "execution_count": null,
   "metadata": {},
   "outputs": [
    {
     "name": "stdout",
     "output_type": "stream",
     "text": [
      "Atiqa\n",
      "[2, 4, 6, 23, 'Atiqa', True, 3.45, 1]\n",
      "[23, 'Atiqa', True]\n",
      "[2, 4, 6, 23, 'Atiqa']\n",
      "[1]\n",
      "[2, 6, 'Atiqa', 3.45]\n",
      "[1, 3.45, True, 'Atiqa', 23, 6, 4, 2]\n",
      "[1, True, 23, 4]\n"
     ]
    }
   ],
   "source": [
    "list1=[2,4,6,23,\"Atiqa\",True,3.45,4-3]\n",
    "\n",
    "# list indexing and sliciing\n",
    "\n",
    "print(list1[4])\n",
    "print(list1[:])\n",
    "print(list1[3:6])\n",
    "print(list1[:5])\n",
    "print(list1[7:])\n",
    "print(list1[::2])\n",
    "print(list1[::-1])  #reverse string\n",
    "print(list1[::-2])"
   ]
  },
  {
   "cell_type": "code",
   "execution_count": null,
   "metadata": {},
   "outputs": [
    {
     "name": "stdout",
     "output_type": "stream",
     "text": [
      "['Ahmed', 'Sara', 'Raza', 'Ali', 'Atiqa', 'Ayesha', 'Zain', 'Zara', 'zia']\n",
      "['Ahmed', 'Sara', 'Raza', 'Ali', 'Atiqa', 'Ayesha Akbar', 'Zain', 'Zara', 'zia']\n",
      "['Ahmed', 'Sara', 'Kulsoom', 'Raza', 'Ali', 'Atiqa', 'Ayesha Akbar', 'Zain', 'Zara', 'zia']\n",
      "['Ahmed', 'Kulsoom', 'Raza', 'Ali', 'Atiqa', 'Ayesha Akbar', 'Zain', 'Zara', 'zia']\n",
      "['Ahmed', 'Kulsoom', 'Raza', 'Ali', 'Atiqa', 'Ayesha Akbar', 'Zain', 'Zara']\n",
      "['Kulsoom', 'Raza', 'Ali', 'Atiqa', 'Ayesha Akbar', 'Zain', 'Zara']\n"
     ]
    }
   ],
   "source": [
    "list2=[\"Ahmed\",\"Sara\",\"Raza\",\"Ali\",\"Atiqa\",\"Ayesha\",\"Zain\",\"Zara\"]\n",
    "\n",
    "# list functions\n",
    "\n",
    "list2.append(\"zia\")\n",
    "print(list2)\n",
    "\n",
    "list2[5]=\"Ayesha Akbar\"\n",
    "print(list2)\n",
    "list2.insert(2,\"Kulsoom\")\n",
    "print(list2)\n",
    "list2.remove(\"Sara\")\n",
    "print(list2)\n",
    "list2.pop()\n",
    "print(list2)\n",
    "list2.pop(0)\n",
    "print(list2)"
   ]
  },
  {
   "cell_type": "code",
   "execution_count": null,
   "metadata": {},
   "outputs": [
    {
     "name": "stdout",
     "output_type": "stream",
     "text": [
      "[2, 4, 6, 8, 10, 1, 3, 5, 7, 9]\n",
      "[2, 4, 6, 8, 10, 2, 4, 6, 8, 10]\n",
      "False\n",
      "True\n",
      "length of list:  7\n",
      "length of list:  5\n"
     ]
    }
   ],
   "source": [
    "# list operations\n",
    "\n",
    "list3=[2,4,6,8,10]\n",
    "list4=[1,3,5,7,9]\n",
    "\n",
    "print(list3 + list4) # join lists\n",
    "print(list3 * 2)\n",
    "\n",
    "print(12 in list3)\n",
    "print(\"Atiqa\" in list2)\n",
    "print(\"length of list: \",len(list2))\n",
    "print(\"length of list: \",len(list3))"
   ]
  },
  {
   "cell_type": "code",
   "execution_count": null,
   "metadata": {},
   "outputs": [
    {
     "name": "stdout",
     "output_type": "stream",
     "text": [
      "[9, 7, 5, 3, 1, 0, -3]\n"
     ]
    }
   ],
   "source": [
    "list4=[3,0,7,-3,5,1,9]\n",
    "list4.sort(reverse=True)\n",
    "print(list4)\n"
   ]
  },
  {
   "cell_type": "code",
   "execution_count": null,
   "metadata": {},
   "outputs": [
    {
     "name": "stdout",
     "output_type": "stream",
     "text": [
      "[9, 7, 5, 3, 1, 0, -3, 'Nums']\n",
      "[9, 7, 5, 3, 1, 0, -3]\n"
     ]
    }
   ],
   "source": [
    "list5=list4.copy()\n",
    "list5.append(\"Nums\")\n",
    "print(list5)\n",
    "print(list4)"
   ]
  },
  {
   "cell_type": "code",
   "execution_count": null,
   "metadata": {},
   "outputs": [
    {
     "name": "stdout",
     "output_type": "stream",
     "text": [
      "81\n",
      "49\n",
      "25\n",
      "9\n",
      "1\n",
      "0\n",
      "9\n",
      "[1, 4, 9, 16, 25, 36, 49, 64, 81, 100]\n",
      "[5, 10, 15, 20, 25, 30, 35, 40, 45, 50]\n",
      "[2, 4, 6, 8, 10, 12, 14, 16, 18, 20, 22, 24, 26, 28]\n"
     ]
    }
   ],
   "source": [
    "for element in list4:\n",
    "    print(element**2)\n",
    "\n",
    "squares= [x**2 for x in range(1,11)]\n",
    "print(squares)\n",
    "y=5\n",
    "table=[x*y for x in range(1,11)]\n",
    "print(table)\n",
    "\n",
    "evens=[x for x in range(1,30) if x%2==0]\n",
    "print(evens)"
   ]
  },
  {
   "cell_type": "code",
   "execution_count": null,
   "metadata": {},
   "outputs": [
    {
     "name": "stdout",
     "output_type": "stream",
     "text": [
      "Ahmed\n",
      "Sara\n",
      "Raza\n",
      "Ali\n",
      "Atiqa\n",
      "Ayesha\n",
      "Zain\n",
      "Zara\n"
     ]
    }
   ],
   "source": [
    "names=[\"Ahmed\",\"Sara\",\"Raza\",\"Ali\",\"Atiqa\",\"Ayesha\",\"Zain\",\"Zara\"]\n",
    "\n",
    "for name in names:\n",
    "    print(name)\n"
   ]
  },
  {
   "cell_type": "code",
   "execution_count": null,
   "metadata": {},
   "outputs": [
    {
     "name": "stdout",
     "output_type": "stream",
     "text": [
      "1. Sara\n",
      "2. Raza\n",
      "3. Ali\n",
      "4. Atiqa\n",
      "5. Ayesha\n",
      "6. Zain\n",
      "7. Zara\n"
     ]
    }
   ],
   "source": [
    "\n",
    "for name in range(1, len(names)):\n",
    "    print(f\"{name}. {names[name]}\")"
   ]
  },
  {
   "cell_type": "code",
   "execution_count": null,
   "metadata": {},
   "outputs": [
    {
     "name": "stdout",
     "output_type": "stream",
     "text": [
      "0. Ahmed\n",
      "1. Sara\n",
      "2. Raza\n",
      "3. Ali\n",
      "4. Atiqa\n",
      "5. Ayesha\n",
      "6. Zain\n",
      "7. Zara\n"
     ]
    }
   ],
   "source": [
    "for index,name in enumerate(names):\n",
    "    print(f\"{index}. {name}\")"
   ]
  },
  {
   "cell_type": "code",
   "execution_count": null,
   "metadata": {},
   "outputs": [
    {
     "name": "stdout",
     "output_type": "stream",
     "text": [
      "0 Ahmed\n",
      "1 Sara\n",
      "2 Raza\n",
      "3 Ali\n",
      "4 Atiqa\n",
      "5 Ayesha\n",
      "6 Zain\n",
      "7 Zara\n"
     ]
    }
   ],
   "source": [
    "# # while loop\n",
    "\n",
    "i=0\n",
    "while i< len(names):\n",
    "    print(i,names[i])\n",
    "    i=i+1\n",
    "\n"
   ]
  },
  {
   "cell_type": "code",
   "execution_count": null,
   "metadata": {},
   "outputs": [
    {
     "name": "stdout",
     "output_type": "stream",
     "text": [
      "6 Zain\n",
      "7 Zara\n"
     ]
    }
   ],
   "source": [
    "i=0\n",
    "names=[\"Ahmed\",\"Sara\",\"Raza\",\"Ali\",\"Atiqa\",\"Ayesha\",\"Zain\",\"Zara\"]\n",
    "\n",
    "\n",
    "while i< len(names):\n",
    "   \n",
    "    if names[i].startswith(\"Z\"):\n",
    "     print(i,names[i])\n",
    "    i=i+1"
   ]
  },
  {
   "cell_type": "code",
   "execution_count": null,
   "metadata": {},
   "outputs": [
    {
     "name": "stdout",
     "output_type": "stream",
     "text": [
      "Sara\n",
      "Raza\n",
      "Zain\n",
      "Zara\n"
     ]
    }
   ],
   "source": [
    "\n",
    "names=[\"Ahmed\",\"Sara\",\"Raza\",\"Ali\",\"Atiqa\",\"Ayesha\",\"Zain\",\"Zara\"]\n",
    "i=0\n",
    "while i < len(names):\n",
    "    if not names[i].startswith(\"A\"):\n",
    "        print(names[i])\n",
    "    i=i+1\n",
    "\n"
   ]
  },
  {
   "cell_type": "code",
   "execution_count": null,
   "metadata": {},
   "outputs": [
    {
     "name": "stdout",
     "output_type": "stream",
     "text": [
      "Ayesha\n",
      "Atiqa\n",
      "Ali\n",
      "Ahmed\n"
     ]
    }
   ],
   "source": [
    "i=len(names)-1\n",
    "while i >= 0:\n",
    "    if names[i].startswith(\"A\"):\n",
    "        print(names[i])\n",
    "\n",
    "    i=i-1"
   ]
  },
  {
   "cell_type": "code",
   "execution_count": null,
   "metadata": {},
   "outputs": [
    {
     "name": "stdout",
     "output_type": "stream",
     "text": [
      "[1, 2, 3, 4, 5, 6]\n",
      "[4, 5, 6]\n",
      "[1, 2, 3, 4, 5, 6]\n",
      "[1, 2, 3]\n"
     ]
    }
   ],
   "source": [
    "list1=[1,2,3]\n",
    "list2=[4,5,6]\n",
    "list1.extend(list2)\n",
    "print(list1)# (List1 me List2 ke elements add karna)\n",
    "print(list2)\n",
    "\n",
    "list1=[1,2,3]\n",
    "list2=[4,5,6]\n",
    "print(list1+list2)\n",
    "print(list1)"
   ]
  },
  {
   "cell_type": "code",
   "execution_count": null,
   "metadata": {},
   "outputs": [
    {
     "name": "stdout",
     "output_type": "stream",
     "text": [
      "3\n",
      "-----------------\n",
      "[1, 4, 7]\n"
     ]
    }
   ],
   "source": [
    "matrix = [\n",
    "    [1, 2, 3],  # Row 0\n",
    "    [4, 5, 6],  # Row 1\n",
    "    [7, 8, 9]   # Row 2\n",
    "]\n",
    "print(matrix[0][2])\n",
    "print(\"-----------------\")\n",
    "first_column = [row[0] for row in matrix]\n",
    "print(first_column) "
   ]
  },
  {
   "cell_type": "code",
   "execution_count": null,
   "metadata": {},
   "outputs": [
    {
     "name": "stdout",
     "output_type": "stream",
     "text": [
      "3\n",
      "6\n",
      "9\n"
     ]
    }
   ],
   "source": [
    "for row in matrix:\n",
    "    print(row[2])"
   ]
  },
  {
   "cell_type": "code",
   "execution_count": null,
   "metadata": {},
   "outputs": [
    {
     "name": "stdout",
     "output_type": "stream",
     "text": [
      "1 2 3 \n",
      "4 5 6 \n",
      "7 8 9 \n"
     ]
    }
   ],
   "source": [
    "for row in matrix:\n",
    "    for col in row:\n",
    "        print(col, end=\" \")\n",
    "    print()  "
   ]
  },
  {
   "cell_type": "code",
   "execution_count": null,
   "metadata": {},
   "outputs": [
    {
     "name": "stdout",
     "output_type": "stream",
     "text": [
      "{'name': 'Atiqa', 'Domain': 'AI', 'Age': 21, 'maks': '100'}\n",
      "21\n",
      "AI\n",
      "Atiqa ['Age']\n"
     ]
    }
   ],
   "source": [
    "# Dictionaries\n",
    "\n",
    "dict1={\n",
    "    \"name\":\"Atiqa\",\n",
    "    \"Domain\":\"AI\",\n",
    "    \"Age\": 21,\n",
    "    \"maks\":\"100\"\n",
    "}\n",
    "\n",
    "\n",
    "print(dict1)\n",
    "print(dict1[\"Age\"])\n",
    "print(dict1[\"Domain\"])\n",
    "print(dict1[\"name\"],[\"Age\"])"
   ]
  },
  {
   "cell_type": "code",
   "execution_count": null,
   "metadata": {},
   "outputs": [
    {
     "name": "stdout",
     "output_type": "stream",
     "text": [
      "Not found\n"
     ]
    }
   ],
   "source": [
    "print(dict1.get(\"Interest\",\"Not found\"))"
   ]
  },
  {
   "cell_type": "code",
   "execution_count": null,
   "metadata": {},
   "outputs": [
    {
     "name": "stdout",
     "output_type": "stream",
     "text": [
      "{'name': 'Atiqa', 'Domain': 'AI', 'Age': 22, 'maks': '100', 'Qualification': 'BS'}\n",
      "{'name': 'Atiqa', 'Domain': 'AI', 'Age': 22, 'maks': '100', 'Qualification': 'BS'}\n",
      "{'name': 'Atiqa', 'Domain': 'AI', 'Age': 22, 'Qualification': 'BS'}\n"
     ]
    }
   ],
   "source": [
    "dict1[\"Age\"]=22\n",
    "print(dict1)\n",
    "\n",
    "dict1[\"Qualification\"]= \"BS\"\n",
    "print(dict1)\n",
    "\n",
    "del dict1[\"maks\"]\n",
    "print(dict1)"
   ]
  },
  {
   "cell_type": "code",
   "execution_count": null,
   "metadata": {},
   "outputs": [
    {
     "name": "stdout",
     "output_type": "stream",
     "text": [
      "21\n"
     ]
    }
   ],
   "source": [
    "\n",
    "\n",
    "dict1={\n",
    "    \"name\":\"Atiqa\",\n",
    "    \"Domain\":\"AI\",\n",
    "    \"Age\": 21,\n",
    "    \"maks\":\"100\"\n",
    "}\n",
    "\n",
    "age=dict1.pop(\"Age\")\n",
    "print(age)\n"
   ]
  },
  {
   "cell_type": "code",
   "execution_count": null,
   "metadata": {},
   "outputs": [
    {
     "name": "stdout",
     "output_type": "stream",
     "text": [
      "name: Atiqa\n",
      "Domain: AI\n",
      "Age: 21\n",
      "maks: 100\n"
     ]
    }
   ],
   "source": [
    "\n",
    "dict1={\n",
    "    \"name\":\"Atiqa\",\n",
    "    \"Domain\":\"AI\",\n",
    "    \"Age\": 21,\n",
    "    \"maks\":\"100\"\n",
    "}\n",
    "for keys,values in dict1.items():\n",
    "    print(f\"{keys}: {values}\")"
   ]
  },
  {
   "cell_type": "code",
   "execution_count": null,
   "metadata": {},
   "outputs": [
    {
     "name": "stdout",
     "output_type": "stream",
     "text": [
      " Atiqa\n",
      " AI\n",
      " 21\n",
      " 100\n",
      "-----------------------\n",
      "name Atiqa\n",
      "Domain AI\n",
      "Age 21\n",
      "maks 100\n"
     ]
    }
   ],
   "source": [
    "for values in dict1.values():\n",
    "    print(f\" {values}\")\n",
    "\n",
    "print(\"-----------------------\")\n",
    "for keys,values in dict1.items():\n",
    "    print(f\"{keys} {values}\")"
   ]
  },
  {
   "cell_type": "code",
   "execution_count": null,
   "metadata": {},
   "outputs": [
    {
     "name": "stdout",
     "output_type": "stream",
     "text": [
      "not exist\n",
      "-----------------------\n",
      "Your name exist\n"
     ]
    }
   ],
   "source": [
    "if \"interest\" in dict1:\n",
    "    print(\"Your interest exist\")\n",
    "else:\n",
    "    print(\"not exist\")\n",
    "\n",
    "print(\"-----------------------\")\n",
    "\n",
    "if \"name\" in dict1:\n",
    "    print(\"Your name exist\")\n",
    "else:\n",
    "    print(\"not exist\")"
   ]
  },
  {
   "cell_type": "code",
   "execution_count": null,
   "metadata": {},
   "outputs": [],
   "source": [
    "students={\n",
    "\"Ali\":{\"Age\":20,\"marks\":90},\n",
    "\"Sana\":{\"Age\":22,\"marks\":96},\n",
    "\"Rafi\":{\"Age\":21,\"marks\":89},\n",
    "\"Sohail\":{\"Age\":21,\"marks\":86},\n",
    "}"
   ]
  },
  {
   "cell_type": "code",
   "execution_count": null,
   "metadata": {},
   "outputs": [
    {
     "name": "stdout",
     "output_type": "stream",
     "text": [
      "96\n"
     ]
    }
   ],
   "source": [
    "print(students[\"Sana\"][\"marks\"])"
   ]
  },
  {
   "cell_type": "code",
   "execution_count": null,
   "metadata": {},
   "outputs": [
    {
     "name": "stdout",
     "output_type": "stream",
     "text": [
      "Ali\n",
      " Details: Age:20 Marks: 90\n",
      "Sana\n",
      " Details: Age:22 Marks: 96\n",
      "Rafi\n",
      " Details: Age:21 Marks: 89\n",
      "Sohail\n",
      " Details: Age:21 Marks: 86\n"
     ]
    }
   ],
   "source": [
    "for name,details in students.items():\n",
    "        print(f\"{name}\\n Details: Age:{details[\"Age\"]} Marks: {details['marks']}\")\n"
   ]
  },
  {
   "cell_type": "code",
   "execution_count": null,
   "metadata": {},
   "outputs": [],
   "source": [
    "# functions\n",
    "\n",
    "def func1():\n",
    "    print(\"Hello there\")"
   ]
  },
  {
   "cell_type": "code",
   "execution_count": null,
   "metadata": {},
   "outputs": [
    {
     "name": "stdout",
     "output_type": "stream",
     "text": [
      "Hello there\n"
     ]
    }
   ],
   "source": [
    "func1()"
   ]
  },
  {
   "cell_type": "code",
   "execution_count": null,
   "metadata": {},
   "outputs": [
    {
     "name": "stdout",
     "output_type": "stream",
     "text": [
      "Hello neha\n",
      "Hello Rahul\n"
     ]
    }
   ],
   "source": [
    "def func1(name):\n",
    "    print(f\"Hello {name}\")\n",
    "\n",
    "func1(\"neha\")\n",
    "name=\"Rahul\"\n",
    "func1(name)"
   ]
  },
  {
   "cell_type": "code",
   "execution_count": null,
   "metadata": {},
   "outputs": [
    {
     "data": {
      "text/plain": [
       "9"
      ]
     },
     "execution_count": 207,
     "metadata": {},
     "output_type": "execute_result"
    }
   ],
   "source": [
    "def func1(a,b):\n",
    "    return a+b\n",
    "\n",
    "\n",
    "func1(3,6)"
   ]
  },
  {
   "cell_type": "code",
   "execution_count": null,
   "metadata": {},
   "outputs": [
    {
     "name": "stdout",
     "output_type": "stream",
     "text": [
      "5\n",
      "4\n",
      "10\n"
     ]
    }
   ],
   "source": [
    "def func1(a=4,b=3):\n",
    " print(a+b)\n",
    "\n",
    "\n",
    "func1(b=1)\n",
    "func1(2,2)\n",
    "func1(7)"
   ]
  },
  {
   "cell_type": "code",
   "execution_count": null,
   "metadata": {},
   "outputs": [],
   "source": [
    "def add(*nums):\n",
    "    return sum(nums)"
   ]
  },
  {
   "cell_type": "code",
   "execution_count": null,
   "metadata": {},
   "outputs": [
    {
     "name": "stdout",
     "output_type": "stream",
     "text": [
      "8\n"
     ]
    }
   ],
   "source": [
    "print(add(3,5))"
   ]
  },
  {
   "cell_type": "code",
   "execution_count": null,
   "metadata": {},
   "outputs": [
    {
     "name": "stdout",
     "output_type": "stream",
     "text": [
      "name value: Atiqa\n",
      "None\n"
     ]
    }
   ],
   "source": [
    "def details(**info):\n",
    "    for keys,values in info.items():\n",
    "        print(f\"{keys} value: {values}\")\n",
    "\n",
    "\n",
    "print(details(name=\"Atiqa\"))"
   ]
  },
  {
   "cell_type": "code",
   "execution_count": null,
   "metadata": {},
   "outputs": [
    {
     "name": "stdout",
     "output_type": "stream",
     "text": [
      "4\n",
      "144\n",
      "27\n"
     ]
    }
   ],
   "source": [
    "# lambda function\n",
    "\n",
    "square= lambda x:x*x\n",
    "print(square(2))\n",
    "print(square(12))\n",
    "\n",
    "cube=lambda x: x*x*x\n",
    "print(cube(3))"
   ]
  },
  {
   "cell_type": "code",
   "execution_count": null,
   "metadata": {},
   "outputs": [
    {
     "name": "stdout",
     "output_type": "stream",
     "text": [
      "35\n"
     ]
    }
   ],
   "source": [
    "def func(fx,a):\n",
    "    n=fx+3+a\n",
    "    print(n)\n",
    "\n",
    "func(cube(3),5)"
   ]
  },
  {
   "cell_type": "code",
   "execution_count": null,
   "metadata": {},
   "outputs": [
    {
     "name": "stdout",
     "output_type": "stream",
     "text": [
      "6\n"
     ]
    }
   ],
   "source": [
    "add=lambda a,b:a+b\n",
    "\n",
    "print(add(2,4))"
   ]
  },
  {
   "cell_type": "code",
   "execution_count": null,
   "metadata": {},
   "outputs": [
    {
     "name": "stdout",
     "output_type": "stream",
     "text": [
      "8\n"
     ]
    }
   ],
   "source": [
    "# nested function \n",
    "\n",
    "def out(x,y):\n",
    " def inner(x,y):\n",
    "    return x+y\n",
    " return inner(x,y) + 5\n",
    "\n",
    "print(out(2,1))"
   ]
  },
  {
   "cell_type": "code",
   "execution_count": null,
   "metadata": {},
   "outputs": [
    {
     "data": {
      "text/plain": [
       "120"
      ]
     },
     "execution_count": 263,
     "metadata": {},
     "output_type": "execute_result"
    }
   ],
   "source": [
    "def fact(n):\n",
    "    if n==1:\n",
    "        return 1\n",
    "    return n* fact(n-1)\n",
    "\n",
    "fact(5)"
   ]
  },
  {
   "cell_type": "code",
   "execution_count": null,
   "metadata": {},
   "outputs": [
    {
     "name": "stdout",
     "output_type": "stream",
     "text": [
      "division by zero\n",
      "==================\n",
      "Unable to divide number with 0\n"
     ]
    }
   ],
   "source": [
    "# Exception handling:\n",
    "\n",
    "try:\n",
    "    a=23\n",
    "    b=0\n",
    "    print(\"Division: \",a/b)\n",
    "except Exception as e:\n",
    "    print(e)\n",
    "print(\"==================\")\n",
    "try:\n",
    "    a=23\n",
    "    b=0\n",
    "    print(\"Division: \",a/b)\n",
    "except ZeroDivisionError:\n",
    "    print(\"Unable to divide number with 0\")\n",
    "\n"
   ]
  },
  {
   "cell_type": "code",
   "execution_count": null,
   "metadata": {},
   "outputs": [
    {
     "name": "stdout",
     "output_type": "stream",
     "text": [
      "invalid literal for int() with base 10: 'gdh'\n"
     ]
    }
   ],
   "source": [
    "try:\n",
    "    num=int(input(\"Enter number: \"))\n",
    "\n",
    "except Exception as e:\n",
    "    print(e)\n"
   ]
  },
  {
   "cell_type": "code",
   "execution_count": null,
   "metadata": {},
   "outputs": [
    {
     "name": "stdout",
     "output_type": "stream",
     "text": [
      "Invalid value entered\n"
     ]
    }
   ],
   "source": [
    "try:\n",
    "    a=10\n",
    "    num=int(input(\"Enter number: \"))\n",
    "    print(a/num)\n",
    "\n",
    "except ZeroDivisionError:\n",
    "    print(\"Denominator cant be zero\")\n",
    "except ValueError:\n",
    "    print(\"Invalid value entered\")\n",
    "except Exception as e:\n",
    "    print(e)"
   ]
  },
  {
   "cell_type": "code",
   "execution_count": null,
   "metadata": {},
   "outputs": [
    {
     "name": "stdout",
     "output_type": "stream",
     "text": [
      "225\n"
     ]
    }
   ],
   "source": [
    "num=int(input(\"Enter number from 5, 10 ,15\"))\n",
    "if num not in [5,10,15]:\n",
    "    raise ValueError(\"Please select the number as per instrctions\")\n",
    "print(num*num)\n"
   ]
  },
  {
   "cell_type": "code",
   "execution_count": null,
   "metadata": {},
   "outputs": [
    {
     "name": "stdout",
     "output_type": "stream",
     "text": [
      "Name:Anam Age:21\n",
      "Name:Atiqa Age:20\n"
     ]
    }
   ],
   "source": [
    "# Object oriented programming \n",
    "class Student:\n",
    "    def __init__(self,name,age):\n",
    "        self.name=name\n",
    "        self.age=age\n",
    "\n",
    "    def info(self):\n",
    "        print(f\"Name:{self.name} Age:{self.age}\")\n",
    "\n",
    "s1=Student(\"Anam\",21)\n",
    "s1.info()\n",
    "s2=Student(\"Atiqa\",20)\n",
    "s2.info()"
   ]
  },
  {
   "cell_type": "code",
   "execution_count": null,
   "metadata": {},
   "outputs": [
    {
     "name": "stdout",
     "output_type": "stream",
     "text": [
      "Rx154E\n",
      "Purple\n",
      "3225\n"
     ]
    }
   ],
   "source": [
    "class Car:\n",
    "    model=\"Rx154E\"\n",
    "    color=\"Purple\"\n",
    "    no_plate=\"1201\"\n",
    "\n",
    "\n",
    "c1=Car()\n",
    "print(c1.model)\n",
    "print(Car.color)\n",
    "c1.no_plate=\"3225\"\n",
    "print(c1.no_plate)"
   ]
  },
  {
   "cell_type": "code",
   "execution_count": null,
   "metadata": {},
   "outputs": [],
   "source": [
    "class Person: #--> class \n",
    "    name=\"Richerd\"\n",
    "    occuption=\"Software Enginner\"\n",
    "    salary=3000"
   ]
  },
  {
   "cell_type": "code",
   "execution_count": null,
   "metadata": {},
   "outputs": [
    {
     "name": "stdout",
     "output_type": "stream",
     "text": [
      "\n",
      " Richerd  is a  DevOps Engineer \n",
      "\n",
      "\n",
      " Neil  is a  Software Enginner \n",
      "\n"
     ]
    }
   ],
   "source": [
    "p1=Person() #--> object\n",
    "p1.occuption=\"DevOps Engineer\"\n",
    "print(\"\\n\",p1.name,\" is a \",p1.occuption,\"\\n\")\n",
    "\n",
    "p2=Person() #--> object\n",
    "p2.name=\"Neil\"\n",
    "print(\"\\n\",p2.name,\" is a \",p2.occuption,\"\\n\")\n"
   ]
  },
  {
   "cell_type": "code",
   "execution_count": null,
   "metadata": {},
   "outputs": [],
   "source": [
    "# Encapsulation\n",
    "\n",
    "class Account:\n",
    "     def __init__(self, account_holder):\n",
    "          self.account_holder=account_holder\n",
    "          self.__balance=10000  #private\n",
    "\n",
    "     def deposit(self,amount):\n",
    "          self.__balance=self.__balance+amount\n",
    "          print(\"Deposit successful\")\n",
    "\n",
    "     def withdrawl(self,amount):\n",
    "          if (self.__balance >= amount):\n",
    "               self.__balance=self.__balance-amount\n",
    "               print(\"Withdrawl Successfully\")\n",
    "          else:\n",
    "               print(\"Your current balance is Insufficient\")\n",
    "\n",
    "\n",
    "     def get_balance(self):\n",
    "          print(f\"Account Holder:{self.account_holder} Current balance: {self.__balance}\")       \n",
    "          "
   ]
  },
  {
   "cell_type": "code",
   "execution_count": null,
   "metadata": {},
   "outputs": [
    {
     "name": "stdout",
     "output_type": "stream",
     "text": [
      "Account Holder:Atiqa Current balance: 10000\n",
      "Deposit successful\n",
      "Account Holder:Atiqa Current balance: 15000\n",
      "Withdrawl Successfully\n",
      "Account Holder:Atiqa Current balance: 3000\n",
      "Your current balance is Insufficient\n"
     ]
    }
   ],
   "source": [
    "a1=Account(\"Atiqa\")\n",
    "a1.get_balance()\n",
    "a1.deposit(5000)\n",
    "a1.get_balance()\n",
    "a1.withdrawl(12000)\n",
    "a1.get_balance()\n",
    "a1.withdrawl(5000)"
   ]
  },
  {
   "cell_type": "code",
   "execution_count": null,
   "metadata": {},
   "outputs": [
    {
     "name": "stdout",
     "output_type": "stream",
     "text": [
      "Meow\n"
     ]
    }
   ],
   "source": [
    "# Abstraction\n",
    "from abc import ABC,abstractmethod\n",
    "\n",
    "class Animal(ABC):\n",
    "    @abstractmethod\n",
    "    def sound(self):\n",
    "        pass\n",
    "\n",
    "class Dog(Animal):\n",
    "    def sound(self):\n",
    "        print(\"Barks\")\n",
    "\n",
    "\n",
    "class Cat(Animal):\n",
    "    def sound(self):\n",
    "        print(\"Meow\")\n"
   ]
  },
  {
   "cell_type": "code",
   "execution_count": null,
   "metadata": {},
   "outputs": [
    {
     "name": "stdout",
     "output_type": "stream",
     "text": [
      "Meow\n",
      "Barks\n"
     ]
    }
   ],
   "source": [
    "c1=Cat()\n",
    "c1.sound()\n",
    "\n",
    "d1=Dog()\n",
    "d1.sound()"
   ]
  },
  {
   "cell_type": "code",
   "execution_count": null,
   "metadata": {},
   "outputs": [
    {
     "name": "stdout",
     "output_type": "stream",
     "text": [
      "Brand: SUZUKI\n",
      "Model: RX31ZE\n"
     ]
    }
   ],
   "source": [
    "# inheritance\n",
    "\n",
    "class Vechical:\n",
    "    def __init__(self,brand):\n",
    "        self.brand=brand\n",
    "\n",
    "    def show_brand(self):\n",
    "        print(f\"Brand: {self.brand}\")\n",
    "\n",
    "class Car(Vechical):\n",
    "    def __init__(self, brand,model):\n",
    "        super().__init__(brand)\n",
    "        self.model=model\n",
    "\n",
    "    \n",
    "    def show_model(self):\n",
    "        print(f\"Model: {self.model}\")\n",
    "\n",
    "# v1=Vechical(\"SUZUKI\")\n",
    "# v1.show_brand()\n",
    "\n",
    "c1=Car(\"SUZUKI\",\"RX31ZE\")\n",
    "c1.show_brand()\n",
    "c1.show_model()\n",
    "\n",
    "\n"
   ]
  },
  {
   "cell_type": "code",
   "execution_count": null,
   "metadata": {},
   "outputs": [],
   "source": [
    "class Person:\n",
    "    def __init__(self,name,age):\n",
    "        self.name=name\n",
    "        self.age=age\n",
    "\n",
    "    def info(self):\n",
    "        print(f\"Name: {self.name} Age: {self.age}\")\n",
    "\n",
    "\n",
    "class Student(Person):\n",
    "    def __init__(self, name, age,marks):\n",
    "        super().__init__(name, age)\n",
    "        self.marks=marks\n",
    "\n",
    "    def info(self):\n",
    "        super().info()\n",
    "        print(f\"marks: {self.marks}\")\n"
   ]
  },
  {
   "cell_type": "code",
   "execution_count": null,
   "metadata": {},
   "outputs": [
    {
     "name": "stdout",
     "output_type": "stream",
     "text": [
      "Name: Atiqa Age: 21\n",
      "marks: 90\n"
     ]
    }
   ],
   "source": [
    "\n",
    "s1=Student(\"Atiqa\",21,90)\n",
    "s1.info()"
   ]
  },
  {
   "cell_type": "code",
   "execution_count": null,
   "metadata": {},
   "outputs": [],
   "source": [
    "class Animal:\n",
    "    def sound(self):\n",
    "        print(\"Animals can make sound: \")\n",
    "\n",
    "class Dog(Animal):\n",
    "    def sound(self):\n",
    "        print(\"Barks\")\n",
    "\n",
    "class Cat(Animal):\n",
    "    def sound(self):\n",
    "        print(\"Meow\")\n"
   ]
  },
  {
   "cell_type": "code",
   "execution_count": null,
   "metadata": {},
   "outputs": [
    {
     "name": "stdout",
     "output_type": "stream",
     "text": [
      "Barks\n",
      "Meow\n"
     ]
    }
   ],
   "source": [
    "animals=[Dog(),Cat()]\n",
    "for animal in animals:\n",
    "    animal.sound()"
   ]
  },
  {
   "cell_type": "code",
   "execution_count": null,
   "metadata": {},
   "outputs": [],
   "source": [
    "# modules\n",
    "\n",
    "import math as m"
   ]
  },
  {
   "cell_type": "code",
   "execution_count": null,
   "metadata": {},
   "outputs": [
    {
     "name": "stdout",
     "output_type": "stream",
     "text": [
      "5.0\n"
     ]
    }
   ],
   "source": [
    "print(m.sqrt(25))"
   ]
  },
  {
   "cell_type": "code",
   "execution_count": null,
   "metadata": {},
   "outputs": [
    {
     "name": "stdout",
     "output_type": "stream",
     "text": [
      "5\n",
      "4\n",
      "-5\n",
      "-4\n"
     ]
    }
   ],
   "source": [
    "print(m.ceil(4.3))\n",
    "print(m.floor(4.3))\n",
    "print(m.floor(-4.3))\n",
    "print(m.ceil(-4.9))"
   ]
  },
  {
   "cell_type": "code",
   "execution_count": null,
   "metadata": {},
   "outputs": [],
   "source": [
    "import time"
   ]
  },
  {
   "cell_type": "code",
   "execution_count": null,
   "metadata": {},
   "outputs": [
    {
     "name": "stdout",
     "output_type": "stream",
     "text": [
      "0.8744847774505615\n"
     ]
    }
   ],
   "source": [
    "x1=time.time()\n",
    "for i in range(5000):\n",
    "    for j in range(i):\n",
    "        i*j\n",
    "x2=time.time()\n",
    "\n",
    "print(x2-x1)"
   ]
  },
  {
   "cell_type": "code",
   "execution_count": null,
   "metadata": {},
   "outputs": [
    {
     "name": "stdout",
     "output_type": "stream",
     "text": [
      "Hello\n",
      "ali\n",
      "Sana\n",
      "rani\n",
      "salar\n",
      "12.002906799316406\n"
     ]
    }
   ],
   "source": [
    "print(\"Hello\")\n",
    "x1=time.time()\n",
    "names=[\"ali\",\"Sana\",\"rani\",\"salar\"]\n",
    "for name in names:\n",
    "   time.sleep(3)\n",
    "   print(name)\n",
    "\n",
    "x2=time.time()\n",
    "print(x2-x1)"
   ]
  },
  {
   "cell_type": "code",
   "execution_count": null,
   "metadata": {},
   "outputs": [
    {
     "name": "stdout",
     "output_type": "stream",
     "text": [
      "Sun Feb 16 23:33:09 2025\n"
     ]
    }
   ],
   "source": [
    "print(time.ctime(time.time()))"
   ]
  },
  {
   "cell_type": "code",
   "execution_count": null,
   "metadata": {},
   "outputs": [
    {
     "name": "stdout",
     "output_type": "stream",
     "text": [
      "2025-02-16 23:43:06 PM\n",
      "Sun Feb 25\n"
     ]
    }
   ],
   "source": [
    "print(time.strftime(\"%Y-%m-%d %H:%M:%S %p\"))\n",
    "print(time.strftime(\"%a %b %y\"))\n"
   ]
  },
  {
   "cell_type": "code",
   "execution_count": null,
   "metadata": {},
   "outputs": [
    {
     "data": {
      "text/plain": [
       "time.struct_time(tm_year=2025, tm_mon=2, tm_mday=16, tm_hour=23, tm_min=46, tm_sec=48, tm_wday=6, tm_yday=47, tm_isdst=0)"
      ]
     },
     "execution_count": 115,
     "metadata": {},
     "output_type": "execute_result"
    }
   ],
   "source": [
    "time.localtime()"
   ]
  },
  {
   "cell_type": "code",
   "execution_count": null,
   "metadata": {},
   "outputs": [],
   "source": [
    "from datetime import datetime"
   ]
  },
  {
   "cell_type": "code",
   "execution_count": null,
   "metadata": {},
   "outputs": [],
   "source": [
    "date1 = \"2024-02-10\"\n",
    "date2 = \"2025-02-12\"\n",
    "\n",
    "d1=datetime.strptime(date1,\"%Y-%m-%d\")\n",
    "d2=datetime.strptime(date2,\"%Y-%m-%d\")"
   ]
  },
  {
   "cell_type": "code",
   "execution_count": null,
   "metadata": {},
   "outputs": [
    {
     "name": "stdout",
     "output_type": "stream",
     "text": [
      "368 days, 0:00:00\n"
     ]
    }
   ],
   "source": [
    "print(d2-d1)"
   ]
  },
  {
   "cell_type": "code",
   "execution_count": null,
   "metadata": {},
   "outputs": [
    {
     "name": "stdout",
     "output_type": "stream",
     "text": [
      "2025-02-17\n",
      "2025-02-17\n",
      "time.struct_time(tm_year=2025, tm_mon=2, tm_mday=17, tm_hour=7, tm_min=22, tm_sec=48, tm_wday=0, tm_yday=48, tm_isdst=0)\n"
     ]
    }
   ],
   "source": [
    "import time\n",
    "formatted=time.strftime(\"%Y-%m-%d\",time.localtime())\n",
    "print(formatted)\n",
    "\n",
    "formatted=time.strftime(\"%Y-%m-%d\")\n",
    "print(formatted)\n",
    "\n",
    "current_time=time.localtime()\n",
    "print (current_time)"
   ]
  },
  {
   "cell_type": "code",
   "execution_count": null,
   "metadata": {},
   "outputs": [
    {
     "name": "stdout",
     "output_type": "stream",
     "text": [
      "time: 2.313000\n"
     ]
    }
   ],
   "source": [
    "t1=time.monotonic()\n",
    "for i in range(5000):\n",
    "    for j in range(i):\n",
    "        i+j\n",
    "\n",
    "t2=time.monotonic()\n",
    "t=t2-t1\n",
    "print(f\"time: {t:.6f}\")"
   ]
  },
  {
   "cell_type": "code",
   "execution_count": null,
   "metadata": {},
   "outputs": [
    {
     "name": "stdout",
     "output_type": "stream",
     "text": [
      "2025-02-17\n",
      "Mon Feb 17 07:31:43 2025\n"
     ]
    }
   ],
   "source": [
    "t=time.time()\n",
    "print(time.strftime(\"%Y-%m-%d\"))\n",
    "print(time.ctime(t))\n"
   ]
  },
  {
   "cell_type": "code",
   "execution_count": null,
   "metadata": {},
   "outputs": [
    {
     "name": "stdout",
     "output_type": "stream",
     "text": [
      "Execution Time: 2.0014455000055023 seconds\n"
     ]
    }
   ],
   "source": [
    "import time\n",
    "\n",
    "start = time.perf_counter()  # Start\n",
    "time.sleep(2)  # Simulate delay\n",
    "end = time.perf_counter()  # End\n",
    "\n",
    "print(\"Execution Time:\", end - start, \"seconds\")\n"
   ]
  },
  {
   "cell_type": "code",
   "execution_count": null,
   "metadata": {},
   "outputs": [
    {
     "name": "stdout",
     "output_type": "stream",
     "text": [
      "Time Zone: ('Pakistan Standard Time', 'Pakistan Daylight Time')\n"
     ]
    }
   ],
   "source": [
    "import time\n",
    "print(\"Time Zone:\", time.tzname)"
   ]
  },
  {
   "cell_type": "code",
   "execution_count": 32,
   "metadata": {},
   "outputs": [
    {
     "name": "stdout",
     "output_type": "stream",
     "text": [
      "\n",
      "hello\n",
      "1 Ahmed\n",
      "2 Alice\n",
      "3 Raza\n"
     ]
    }
   ],
   "source": [
    "# file handlinng\n",
    "\n",
    "file=open(\"test\",\"r\")\n",
    "print(file.read())\n",
    "file.close()"
   ]
  },
  {
   "cell_type": "code",
   "execution_count": 35,
   "metadata": {},
   "outputs": [
    {
     "name": "stdout",
     "output_type": "stream",
     "text": [
      "here we ha\n"
     ]
    }
   ],
   "source": [
    "file=open(\"Test1\",'r')\n",
    "text=file.read(10)\n",
    "print(text)\n",
    "file.close()"
   ]
  },
  {
   "cell_type": "code",
   "execution_count": 67,
   "metadata": {},
   "outputs": [
    {
     "name": "stdout",
     "output_type": "stream",
     "text": [
      "line1\n",
      "\n",
      "line2\n",
      "\n",
      "line3\n",
      "\n",
      "line4\n",
      "\n",
      "line5\n",
      "\n",
      "line6\n",
      "\n",
      "line7\n",
      "\n"
     ]
    }
   ],
   "source": [
    "file=open(\"test.txt\",\"r\")\n",
    "text=file.readlines()\n",
    "file.close()\n",
    "for i in text:\n",
    "  if i==5:\n",
    "     continue\n",
    "  print(i)"
   ]
  },
  {
   "cell_type": "code",
   "execution_count": 70,
   "metadata": {},
   "outputs": [],
   "source": [
    "file=open(\"test3\",'w')\n",
    "text='''Players start on the same randomly selected article, and must navigate to another pre-selected target article, solely by clicking links within each article. The goal is to arrive at the target article in the fewest clicks (articles), or the least time.\n",
    "\n",
    "Players or an impartial overseer (i.e. referee) choose the start and end pages. If you are playing for number of clicks, a close tally must be kept of the number of clicks used by a player; all selections must be accounted for. Whoever has the fewest clicks wins. The browser history can be used to determine number of articles / clicks. A round in the Wiki Game can be played at one computer terminal, where players take turns, or at multiple computers simultaneously. In the latter option, a \"session\" begins immediately after everyone loads their randomized Starting Page and ends when the last person returns to their Homing Page. The game can also be played by seeing who can get to the designated page first, regardless of the number of clicks'''\n",
    "\n",
    "file.write(text)\n",
    "file.close()"
   ]
  },
  {
   "cell_type": "code",
   "execution_count": 81,
   "metadata": {},
   "outputs": [],
   "source": [
    "file=open('test3','r+')\n",
    "text=file.readline(100)\n",
    "file.close()"
   ]
  },
  {
   "cell_type": "code",
   "execution_count": null,
   "metadata": {},
   "outputs": [
    {
     "name": "stdout",
     "output_type": "stream",
     "text": [
      "15\n"
     ]
    }
   ],
   "source": [
    "print(len(text))\n",
    "# text1=text.__str__.split(\" \")\n",
    "file=open(\"new file.txt\",'w')\n",
    "file.writelines(text)\n",
    "file.close()"
   ]
  },
  {
   "cell_type": "code",
   "execution_count": 91,
   "metadata": {},
   "outputs": [],
   "source": [
    "file = open(\"example.txt\", \"w\")  \n",
    "lines = [\"Line 1\\n\", \"Line 2\\n\", \"Line 3\\n\"]  \n",
    "file.writelines(lines)  \n",
    "file.close()"
   ]
  },
  {
   "cell_type": "code",
   "execution_count": 95,
   "metadata": {},
   "outputs": [
    {
     "name": "stdout",
     "output_type": "stream",
     "text": [
      "File not exist\n"
     ]
    }
   ],
   "source": [
    "import os\n",
    "if os.path.exists(\"mytest\"):\n",
    "    os.remove(\"mytest\")\n",
    "    print(\"File Deleted\")\n",
    "\n",
    "else:\n",
    "    print(\"File not exist\")"
   ]
  },
  {
   "cell_type": "code",
   "execution_count": 96,
   "metadata": {},
   "outputs": [
    {
     "name": "stdout",
     "output_type": "stream",
     "text": [
      "\n",
      "hello\n",
      "1 Ahmed\n",
      "2 Alice\n",
      "3 Raza\n"
     ]
    }
   ],
   "source": [
    "with open('test','r') as f:\n",
    "    text=f.read()\n",
    "    print(text)"
   ]
  },
  {
   "cell_type": "code",
   "execution_count": 97,
   "metadata": {},
   "outputs": [],
   "source": [
    "with open(\"test\",'w') as f:\n",
    "    f.write(\"jsdkfnbc dchjkevr veliffh cmndmsfee fv udfdfv duyf fvvfhveevfeeurvf\")\n",
    "    "
   ]
  },
  {
   "cell_type": "code",
   "execution_count": 101,
   "metadata": {},
   "outputs": [
    {
     "name": "stdout",
     "output_type": "stream",
     "text": [
      "['line1\\n', 'line2\\n', 'line3\\n', 'line4\\n', 'line5\\n', 'line6\\n', 'line7\\n']\n"
     ]
    }
   ],
   "source": [
    "import os\n",
    "list=[\"line1\\n\",\"line2\\n\",\"line3\\n\",\"line4\\n\",\"line5\\n\",\"line6\\n\",\"line7\\n\",]\n",
    "with open(\"test.txt\",\"w\") as f:\n",
    "    f.writelines(list)\n",
    "    # f.close()\n",
    "    \n",
    "\n",
    "with open(\"test.txt\") as f:\n",
    "    lines=f.readlines()\n",
    "    print(lines)"
   ]
  },
  {
   "cell_type": "code",
   "execution_count": 102,
   "metadata": {},
   "outputs": [],
   "source": [
    "# with open(\"test.txt\") as f:\n",
    "#     lines=f.readlines()\n",
    "#     print(lines)\n",
    "with open(\"new_file.txt\",\"w\") as fp:\n",
    "    for i,line in enumerate(lines):\n",
    "        if i==4:\n",
    "            continue\n",
    "        fp.writelines(line)\n",
    "        "
   ]
  },
  {
   "cell_type": "code",
   "execution_count": 1,
   "metadata": {},
   "outputs": [],
   "source": [
    "import custom as c\n"
   ]
  },
  {
   "cell_type": "code",
   "execution_count": 2,
   "metadata": {},
   "outputs": [
    {
     "name": "stdout",
     "output_type": "stream",
     "text": [
      "Hello Atiqa. Welcome to our class\n"
     ]
    }
   ],
   "source": [
    "c.greet(\"Atiqa\")"
   ]
  },
  {
   "cell_type": "code",
   "execution_count": null,
   "metadata": {},
   "outputs": [
    {
     "data": {
      "text/plain": [
       "7"
      ]
     },
     "execution_count": 3,
     "metadata": {},
     "output_type": "execute_result"
    }
   ],
   "source": [
    "c.add(1,6)"
   ]
  },
  {
   "cell_type": "code",
   "execution_count": 2,
   "metadata": {},
   "outputs": [],
   "source": [
    "import custom as c"
   ]
  },
  {
   "cell_type": "code",
   "execution_count": 3,
   "metadata": {},
   "outputs": [],
   "source": [
    "s1=c.Student(\"Atiqa\",21,90)"
   ]
  },
  {
   "cell_type": "code",
   "execution_count": 4,
   "metadata": {},
   "outputs": [
    {
     "name": "stdout",
     "output_type": "stream",
     "text": [
      "Student Name: Atiqa, Age: 21, Marks: 90\n"
     ]
    }
   ],
   "source": [
    "s1.info()"
   ]
  },
  {
   "cell_type": "code",
   "execution_count": 5,
   "metadata": {},
   "outputs": [],
   "source": [
    "import shutil"
   ]
  },
  {
   "cell_type": "code",
   "execution_count": 6,
   "metadata": {},
   "outputs": [
    {
     "data": {
      "text/plain": [
       "'new1'"
      ]
     },
     "execution_count": 6,
     "metadata": {},
     "output_type": "execute_result"
    }
   ],
   "source": [
    "shutil.copy(\"test\",\"new1\")"
   ]
  },
  {
   "cell_type": "code",
   "execution_count": 7,
   "metadata": {},
   "outputs": [
    {
     "data": {
      "text/plain": [
       "'new1'"
      ]
     },
     "execution_count": 7,
     "metadata": {},
     "output_type": "execute_result"
    }
   ],
   "source": [
    "shutil.copy2(\"test\",\"new1\")"
   ]
  },
  {
   "cell_type": "code",
   "execution_count": 2,
   "metadata": {},
   "outputs": [],
   "source": [
    "# numpy\n",
    "\n",
    "import numpy as np"
   ]
  },
  {
   "cell_type": "code",
   "execution_count": null,
   "metadata": {},
   "outputs": [
    {
     "name": "stdout",
     "output_type": "stream",
     "text": [
      "[1 2 3 4]\n"
     ]
    }
   ],
   "source": [
    "arr=np.array([1,2,3,4])\n",
    "print(arr)"
   ]
  },
  {
   "cell_type": "code",
   "execution_count": 6,
   "metadata": {},
   "outputs": [
    {
     "name": "stdout",
     "output_type": "stream",
     "text": [
      "0\n"
     ]
    }
   ],
   "source": [
    "arr=np.array(4)\n",
    "print(np.ndim(arr))"
   ]
  },
  {
   "cell_type": "code",
   "execution_count": 17,
   "metadata": {},
   "outputs": [
    {
     "name": "stdout",
     "output_type": "stream",
     "text": [
      "5\n",
      "[[[[[2 6 7]]]]]\n",
      "[7 6 2]\n"
     ]
    }
   ],
   "source": [
    "arr=np.array([2,6,7], ndmin=5)\n",
    "print(np.ndim(arr))\n",
    "print(arr)\n",
    "print(arr[0][0][0][0][::-1])"
   ]
  },
  {
   "cell_type": "code",
   "execution_count": 20,
   "metadata": {},
   "outputs": [
    {
     "name": "stdout",
     "output_type": "stream",
     "text": [
      "5\n",
      "12\n",
      "3\n",
      "(1, 1, 1, 1, 3)\n"
     ]
    }
   ],
   "source": [
    "print(arr.ndim)\n",
    "print(arr.nbytes)\n",
    "print(arr.size)\n",
    "print(arr.shape)"
   ]
  },
  {
   "cell_type": "code",
   "execution_count": 31,
   "metadata": {},
   "outputs": [
    {
     "name": "stdout",
     "output_type": "stream",
     "text": [
      "[[ 1  2  9  7  3]\n",
      " [ 4  5  2 77  6]]\n"
     ]
    }
   ],
   "source": [
    "arr=np.array([[1,2,9,7,3],[4,5,2,77,6]])\n",
    "print(arr[::])\n"
   ]
  },
  {
   "cell_type": "code",
   "execution_count": 32,
   "metadata": {},
   "outputs": [
    {
     "name": "stdout",
     "output_type": "stream",
     "text": [
      "77\n"
     ]
    }
   ],
   "source": [
    "print(arr[1,3])"
   ]
  },
  {
   "cell_type": "code",
   "execution_count": 41,
   "metadata": {},
   "outputs": [
    {
     "name": "stdout",
     "output_type": "stream",
     "text": [
      "[[ 4  5  2 77  6]]\n"
     ]
    }
   ],
   "source": [
    "print(arr[-1::])"
   ]
  },
  {
   "cell_type": "code",
   "execution_count": 44,
   "metadata": {},
   "outputs": [
    {
     "name": "stdout",
     "output_type": "stream",
     "text": [
      "[ 6 77  2  5  4]\n",
      "[[ 3  7  9  2  1]\n",
      " [ 6 77  2  5  4]]\n"
     ]
    }
   ],
   "source": [
    "print(arr[1,::-1])\n",
    "print(arr[:,::-1])\n"
   ]
  },
  {
   "cell_type": "code",
   "execution_count": 47,
   "metadata": {},
   "outputs": [
    {
     "name": "stdout",
     "output_type": "stream",
     "text": [
      "[[ 4  5  2 77  6]\n",
      " [ 1  2  9  7  3]]\n"
     ]
    }
   ],
   "source": [
    "print(arr[::-1,:])\n"
   ]
  },
  {
   "cell_type": "code",
   "execution_count": 53,
   "metadata": {},
   "outputs": [
    {
     "data": {
      "text/plain": [
       "array([[[1, 2, 0, 0, 3],\n",
       "        [4, 1, 2, 1, 0]],\n",
       "\n",
       "       [[9, 2, 5, 8, 2],\n",
       "        [4, 5, 2, 1, 6]]])"
      ]
     },
     "execution_count": 53,
     "metadata": {},
     "output_type": "execute_result"
    }
   ],
   "source": [
    "arr=np.array([[[1,2,0,0,3],[4,1,2,1,0]],[[9,2,5,8,2],[4,5,2,1,6]]])\n",
    "arr"
   ]
  },
  {
   "cell_type": "code",
   "execution_count": 57,
   "metadata": {},
   "outputs": [
    {
     "name": "stdout",
     "output_type": "stream",
     "text": [
      "[[[6 1 2 5 4]\n",
      "  [2 8 5 2 9]]\n",
      "\n",
      " [[0 1 2 1 4]\n",
      "  [3 0 0 2 1]]]\n"
     ]
    }
   ],
   "source": [
    "print(arr[::-1,::-1,::-1])"
   ]
  },
  {
   "cell_type": "code",
   "execution_count": null,
   "metadata": {},
   "outputs": [
    {
     "name": "stdout",
     "output_type": "stream",
     "text": [
      "8\n"
     ]
    }
   ],
   "source": [
    "arr=np.array([[1,2,3,4,5],[6,7,8,9,0]])\n",
    "print(arr[1,2])"
   ]
  },
  {
   "cell_type": "code",
   "execution_count": 59,
   "metadata": {},
   "outputs": [
    {
     "name": "stdout",
     "output_type": "stream",
     "text": [
      "20\n"
     ]
    }
   ],
   "source": [
    "arr=np.array([[[1,2,3,4,5],[6,7,8,9,0]],[[11,12,13,14,15],[16,17,18,19,20]]])\n",
    "print(arr[1,1,4])"
   ]
  },
  {
   "cell_type": "code",
   "execution_count": 60,
   "metadata": {},
   "outputs": [
    {
     "name": "stdout",
     "output_type": "stream",
     "text": [
      "[[6 5 4]\n",
      " [3 2 1]]\n",
      "--------------------\n",
      "[[3 2 1]\n",
      " [6 5 4]]\n",
      "--------------------\n"
     ]
    }
   ],
   "source": [
    "arr=np.array([[1, 2, 3], [4, 5, 6]])\n",
    "print(arr[::-1,::-1])\n",
    "print(\"-\"*20)\n",
    "print(arr[:,::-1])\n",
    "print(\"-\"*20)"
   ]
  },
  {
   "cell_type": "code",
   "execution_count": 61,
   "metadata": {},
   "outputs": [
    {
     "name": "stdout",
     "output_type": "stream",
     "text": [
      "[ 0  2  4  6  8 10 12 14 16 18]\n",
      "[ 1  3  5  7  9 11 13 15 17 19]\n"
     ]
    }
   ],
   "source": [
    "arr=np.arange(0,20,2)   #make an array of all even numbers\n",
    "print(arr)\n",
    "arr=np.arange(1,20,2)   #make an array of all odd numbers\n",
    "print(arr)"
   ]
  },
  {
   "cell_type": "code",
   "execution_count": 62,
   "metadata": {},
   "outputs": [
    {
     "name": "stdout",
     "output_type": "stream",
     "text": [
      "[ 6  4 10 12]\n",
      "[ 5  4 24 32]\n",
      "[-4  0  2 -4]\n",
      "[0.2 1.  1.5 0.5]\n",
      "[1 0 2 4]\n"
     ]
    }
   ],
   "source": [
    "arr1=np.array([1,2,6,4])\n",
    "arr2=np.array([5,2,4,8])\n",
    "print(arr1+arr2)\n",
    "print(arr1*arr2)\n",
    "print(arr1-arr2)\n",
    "print(arr1/arr2)\n",
    "print(arr1%arr2)"
   ]
  },
  {
   "cell_type": "code",
   "execution_count": 73,
   "metadata": {},
   "outputs": [
    {
     "name": "stdout",
     "output_type": "stream",
     "text": [
      "Sum even 12\n",
      "Sum odd 23\n"
     ]
    }
   ],
   "source": [
    "arr=np.array([1,2,3,4,5,5,9,0,6])\n",
    "\n",
    "even=0\n",
    "odd=0\n",
    "for i in range(len(arr)):\n",
    "    if arr[i]%2==0:\n",
    "        even=even+arr[i]\n",
    "    else:\n",
    "        odd=odd+arr[i]\n",
    "\n",
    "print(\"Sum even\",even)\n",
    "print(\"Sum odd\",odd)\n"
   ]
  },
  {
   "cell_type": "code",
   "execution_count": 79,
   "metadata": {},
   "outputs": [
    {
     "name": "stdout",
     "output_type": "stream",
     "text": [
      "8\n"
     ]
    }
   ],
   "source": [
    "arr = np.array([\n",
    "    [1, 2, 3],\n",
    "    [4, 5, 6],\n",
    "    [7, 8, 9]\n",
    "])\n",
    "\n",
    "print(arr[2,1])"
   ]
  },
  {
   "cell_type": "code",
   "execution_count": 85,
   "metadata": {},
   "outputs": [
    {
     "name": "stdout",
     "output_type": "stream",
     "text": [
      "[30 40 50]\n",
      "[10 30 50 70]\n",
      "[70 60 50 40 30 20 10]\n",
      "[10 20]\n",
      "[30 40 50 60 70]\n",
      "70\n"
     ]
    }
   ],
   "source": [
    "arr = np.array([10, 20, 30, 40, 50, 60, 70])\n",
    "\n",
    "print(arr[2:5])\n",
    "print(arr[::2])\n",
    "print(arr[::-1])\n",
    "print(arr[:2])\n",
    "print(arr[2:])\n",
    "print(arr[-1])"
   ]
  },
  {
   "cell_type": "code",
   "execution_count": 87,
   "metadata": {},
   "outputs": [],
   "source": [
    "arr = np.array([\n",
    "    [1, 2, 3, 4],\n",
    "    [5, 6, 7, 8],\n",
    "    [9, 10, 11, 12]\n",
    "])"
   ]
  },
  {
   "cell_type": "code",
   "execution_count": 91,
   "metadata": {},
   "outputs": [
    {
     "name": "stdout",
     "output_type": "stream",
     "text": [
      "[[ 1  2  3  4]\n",
      " [ 5  6  7  8]\n",
      " [ 9 10 11 12]]\n",
      "[ 2  6 10]\n"
     ]
    }
   ],
   "source": [
    "print(arr[:])\n",
    "print(arr[:,1])"
   ]
  },
  {
   "cell_type": "code",
   "execution_count": 92,
   "metadata": {},
   "outputs": [
    {
     "name": "stdout",
     "output_type": "stream",
     "text": [
      "[[2 3]\n",
      " [6 7]]\n"
     ]
    }
   ],
   "source": [
    "print(arr[0:2, 1:3])  "
   ]
  },
  {
   "cell_type": "code",
   "execution_count": 95,
   "metadata": {},
   "outputs": [
    {
     "name": "stdout",
     "output_type": "stream",
     "text": [
      "[ 3  7 11]\n",
      "[5 6 7 8]\n"
     ]
    }
   ],
   "source": [
    "print(arr[:, 2])\n",
    "print(arr[1, :])"
   ]
  },
  {
   "cell_type": "code",
   "execution_count": 99,
   "metadata": {},
   "outputs": [
    {
     "name": "stdout",
     "output_type": "stream",
     "text": [
      "[ True  True  True False  True False]\n",
      "[  2  34  56 232]\n",
      "[False False False  True False  True]\n",
      "[87  3]\n"
     ]
    }
   ],
   "source": [
    "arr=np.array([2,34,56,87,232,3])\n",
    "\n",
    "filter=arr%2==0\n",
    "print(filter)\n",
    "print(arr[filter])\n",
    "\n",
    "arr=np.array([2,34,56,87,232,3])\n",
    "\n",
    "filter=arr%2!=0\n",
    "print(filter)\n",
    "print(arr[filter])"
   ]
  },
  {
   "cell_type": "code",
   "execution_count": 100,
   "metadata": {},
   "outputs": [
    {
     "name": "stdout",
     "output_type": "stream",
     "text": [
      "1\n",
      "2\n",
      "3\n",
      "4\n",
      "5\n",
      "6\n",
      "7\n",
      "9\n",
      "11\n",
      "12\n",
      "13\n",
      "15\n"
     ]
    }
   ],
   "source": [
    "arr=np.array([[[ 1 , 2 , 3],[ 4 , 5 , 6],[ 7 , 9, 11],[12 ,13 ,15]]])\n",
    "for layer in arr:\n",
    "    for row in layer:\n",
    "        for element in row:\n",
    "            print(element)\n"
   ]
  },
  {
   "cell_type": "code",
   "execution_count": 101,
   "metadata": {},
   "outputs": [
    {
     "name": "stdout",
     "output_type": "stream",
     "text": [
      "[1 2 3]\n",
      "[4 5 6]\n",
      "[ 7  9 11]\n",
      "[12 13 15]\n"
     ]
    }
   ],
   "source": [
    "arr=np.array([[[ 1 , 2 , 3],[ 4 , 5 , 6],[ 7 , 9, 11],[12 ,13 ,15]]])\n",
    "for layer in arr:\n",
    "    for row in layer:\n",
    "        \n",
    "            print(row)"
   ]
  },
  {
   "cell_type": "code",
   "execution_count": 102,
   "metadata": {},
   "outputs": [
    {
     "name": "stdout",
     "output_type": "stream",
     "text": [
      "2\n",
      "4\n",
      "6\n",
      "8\n",
      "10\n",
      "12\n",
      "14\n",
      "18\n",
      "22\n",
      "24\n",
      "26\n",
      "30\n"
     ]
    }
   ],
   "source": [
    "for i in np.nditer(arr):\n",
    "    print(i*2)"
   ]
  },
  {
   "cell_type": "code",
   "execution_count": 106,
   "metadata": {},
   "outputs": [
    {
     "name": "stdout",
     "output_type": "stream",
     "text": [
      "<class 'numpy.ndarray'>\n",
      "b'1'\n",
      "b'2'\n",
      "b'3'\n",
      "b'4'\n",
      "b'5'\n",
      "b'6'\n",
      "b'7'\n",
      "b'9'\n",
      "b'11'\n",
      "b'12'\n",
      "b'13'\n",
      "b'15'\n",
      "1\n",
      "2\n",
      "3\n",
      "4\n",
      "5\n",
      "6\n",
      "7\n",
      "9\n",
      "11\n",
      "12\n",
      "13\n",
      "15\n"
     ]
    }
   ],
   "source": [
    "arr=np.array([[[ 1 , 2 , 3],[ 4 , 5 , 6],[ 7 , 9, 11],[12 ,13 ,15]]])\n",
    "new=arr.astype(\"S\")\n",
    "print(type(new))\n",
    "for i in np.nditer(new):\n",
    "    print(i)\n",
    "for i in np.nditer(arr):\n",
    "    print(i)"
   ]
  },
  {
   "cell_type": "code",
   "execution_count": 109,
   "metadata": {},
   "outputs": [
    {
     "name": "stdout",
     "output_type": "stream",
     "text": [
      "    names  marks1  marks2\n",
      "0    Sara      64      76\n",
      "1   Ahmed      57      78\n",
      "2   Seema      43      85\n",
      "3  Fatima      67      97\n"
     ]
    }
   ],
   "source": [
    "# pandas\n",
    "import pandas as pd\n",
    "\n",
    "mydata={\n",
    "    \"names\":[\"Sara\",\"Ahmed\",\"Seema\",\"Fatima\"],\n",
    "    \"marks1\":[64,57,43,67],\n",
    "    \"marks2\":[76,78,85,97]\n",
    "}\n",
    "\n",
    "df=pd.DataFrame(mydata)\n",
    "print(df)"
   ]
  },
  {
   "cell_type": "code",
   "execution_count": 115,
   "metadata": {},
   "outputs": [
    {
     "name": "stdout",
     "output_type": "stream",
     "text": [
      "0      Sara\n",
      "1     Ahmed\n",
      "2     Seema\n",
      "3    Fatima\n",
      "Name: names, dtype: object\n",
      "0    64\n",
      "1    57\n",
      "2    43\n",
      "3    67\n",
      "Name: marks1, dtype: int64\n"
     ]
    }
   ],
   "source": [
    "print(df[\"names\"])\n",
    "print(df[\"marks1\"])\n"
   ]
  },
  {
   "cell_type": "code",
   "execution_count": 117,
   "metadata": {},
   "outputs": [
    {
     "name": "stdout",
     "output_type": "stream",
     "text": [
      "a    1\n",
      "b    2\n",
      "c    3\n",
      "d    4\n",
      "e    5\n",
      "dtype: int64\n",
      "4\n",
      "1\n"
     ]
    }
   ],
   "source": [
    "a=[1,2,3,4,5]\n",
    "index_lable=['a','b','c','d','e']\n",
    "anss=pd.Series(a, index=index_lable)\n",
    "print(anss)\n",
    "print(anss.loc['d'])\n",
    "print(anss.loc['a'])"
   ]
  },
  {
   "cell_type": "code",
   "execution_count": 125,
   "metadata": {},
   "outputs": [
    {
     "name": "stdout",
     "output_type": "stream",
     "text": [
      "a     apple\n",
      "b    banana\n",
      "c     mango\n",
      "dtype: object\n"
     ]
    }
   ],
   "source": [
    "a=[\"apple\",\"banana\",\"mango\"]\n",
    "ser=pd.Series(a,index=(\"a\",'b','c'))\n",
    "print(ser)\n"
   ]
  },
  {
   "cell_type": "code",
   "execution_count": 130,
   "metadata": {},
   "outputs": [
    {
     "name": "stdout",
     "output_type": "stream",
     "text": [
      "banana\n"
     ]
    }
   ],
   "source": [
    "print(ser.loc['b'])"
   ]
  },
  {
   "cell_type": "code",
   "execution_count": 134,
   "metadata": {},
   "outputs": [
    {
     "name": "stdout",
     "output_type": "stream",
     "text": [
      "1     apple\n",
      "2    banana\n",
      "3     mango\n",
      "dtype: object\n",
      "apple\n",
      "banana\n"
     ]
    }
   ],
   "source": [
    "a=[\"apple\",\"banana\",\"mango\"]\n",
    "ser=pd.Series(a,index=(1,2,3))\n",
    "print(ser)\n",
    "print(ser.loc[1])\n",
    "print(ser.iloc[1])"
   ]
  },
  {
   "cell_type": "code",
   "execution_count": null,
   "metadata": {},
   "outputs": [],
   "source": []
  }
 ],
 "metadata": {
  "kernelspec": {
   "display_name": "base",
   "language": "python",
   "name": "python3"
  },
  "language_info": {
   "codemirror_mode": {
    "name": "ipython",
    "version": 3
   },
   "file_extension": ".py",
   "mimetype": "text/x-python",
   "name": "python",
   "nbconvert_exporter": "python",
   "pygments_lexer": "ipython3",
   "version": "3.11.7"
  }
 },
 "nbformat": 4,
 "nbformat_minor": 2
}
