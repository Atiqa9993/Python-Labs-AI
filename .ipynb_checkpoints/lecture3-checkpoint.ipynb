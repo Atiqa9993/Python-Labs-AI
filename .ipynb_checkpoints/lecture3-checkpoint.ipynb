{
 "cells": [
  {
   "cell_type": "code",
   "execution_count": 89,
   "id": "f7f78d01-518b-486a-9d64-ff010efd469f",
   "metadata": {},
   "outputs": [
    {
     "name": "stdin",
     "output_type": "stream",
     "text": [
      "Enter your marks in English 25\n",
      "Enter your Computer 25\n",
      "Enter your Maths 25\n",
      "Enter your SST 25\n",
      "Enter your GSc 25\n",
      "Enter your Isl 25\n",
      "Enter your Urdu 23\n"
     ]
    },
    {
     "name": "stdout",
     "output_type": "stream",
     "text": [
      "\n",
      "Your obtain marks are:  173.0  out of  350\n",
      "Your percentage is:  49 %\n"
     ]
    }
   ],
   "source": [
    "# if statement\n",
    "\n",
    "sub1=int(input(\"Enter your marks in English\"))\n",
    "sub2=int(input(\"Enter your Computer\"))\n",
    "sub3=int(input(\"Enter your Maths\"))\n",
    "sub4=int(input(\"Enter your SST\"))\n",
    "sub5=int(input(\"Enter your GSc\"))\n",
    "sub6=int(input(\"Enter your Isl\"))\n",
    "sub7=int(input(\"Enter your Urdu\"))\n",
    "\n",
    "totalMarks=\n",
    "sum=float(sub3+sub2+sub3+sub4+sub5+sub6+sub7)\n",
    "\n",
    "percent=(sum*100)/totalMarks\n",
    "print(\"\\nYour obtain marks are: \",sum,\" out of \",totalMarks)\n",
    "print(\"Your percentage is: \",int(percent),\"%\")"
   ]
  },
  {
   "cell_type": "code",
   "execution_count": 88,
   "id": "8c79f93a-08e0-4f55-983b-28a966c67fca",
   "metadata": {},
   "outputs": [
    {
     "name": "stdout",
     "output_type": "stream",
     "text": [
      "Grade A1\n"
     ]
    }
   ],
   "source": [
    "if percent > 90 and percent <= 100:\n",
    "    print(\"Grade A1\")\n",
    "elif percent > 80 and percent <= 90:\n",
    "    print(\"Grade A\")\n",
    "elif percent > 70 and percent <= 80:\n",
    "    print(\"Grade B\")\n",
    "elif percent > 60 and percent <= 70:\n",
    "    print(\"Grade C\")\n",
    "elif percent > 40 and percent <= 60:\n",
    "    print(\"Grade D\")\n",
    "elif percent <40:\n",
    "    print(\"Grade F\")\n",
    "else:\n",
    "    print(\"Invalid values are entered:\")"
   ]
  },
  {
   "cell_type": "code",
   "execution_count": 77,
   "id": "c9a3e2d0-283f-4904-86f7-0a7931aed5cb",
   "metadata": {},
   "outputs": [
    {
     "name": "stdin",
     "output_type": "stream",
     "text": [
      "Enter a number:  5\n"
     ]
    },
    {
     "name": "stdout",
     "output_type": "stream",
     "text": [
      "factorial of 5  is  120\n"
     ]
    }
   ],
   "source": [
    "# for loop\n",
    "\n",
    "# factorial\n",
    "N(N-1)\n",
    "num1=int(input(\"Enter a number: \"))\n",
    "fact=1\n",
    "for i in range(1,num1+1):\n",
    "    fact=fact*i\n",
    "print(\"factorial of\",num1,\" is \",fact)\n",
    "\n"
   ]
  },
  {
   "cell_type": "code",
   "execution_count": 82,
   "id": "aefb23d9-c4ae-4887-9ac9-362ddf5f243d",
   "metadata": {},
   "outputs": [
    {
     "name": "stdin",
     "output_type": "stream",
     "text": [
      "Enter a number:  5\n"
     ]
    },
    {
     "name": "stdout",
     "output_type": "stream",
     "text": [
      "factorial of 5  is  120\n"
     ]
    }
   ],
   "source": [
    "# while loop\n",
    "num2=int(input(\"Enter a number: \"))\n",
    "fact=1\n",
    "i=1\n",
    "while(i<=num2):\n",
    "    fact=fact*i\n",
    "    i=i+1\n",
    "print(\"factorial of\",num2,\" is \",fact)\n",
    "    "
   ]
  },
  {
   "cell_type": "code",
   "execution_count": 3,
   "id": "14a38f8b-bb72-4b23-841a-4819b585a234",
   "metadata": {},
   "outputs": [
    {
     "name": "stdin",
     "output_type": "stream",
     "text": [
      "Enter your marks format: 25/50/100 50\n"
     ]
    },
    {
     "name": "stdout",
     "output_type": "stream",
     "text": [
      " Enter your marks in  English out of 50  : \n"
     ]
    },
    {
     "name": "stdin",
     "output_type": "stream",
     "text": [
      " 67\n"
     ]
    },
    {
     "name": "stdout",
     "output_type": "stream",
     "text": [
      "Invald marks entered\n"
     ]
    }
   ],
   "source": [
    "# lists in loops\n",
    "\n",
    "subjects=['English','Urdu','Maths','GSc','SST','Computer','Isl']\n",
    "obtain_marks = 0\n",
    "total_marks = 0\n",
    "marks_format = int(input(\"Enter your marks format: 25/50/100\"))\n",
    "for sub in subjects:\n",
    "    print(\" Enter your marks in \", sub , \"out of\",marks_format,\" : \")\n",
    "    marks = float(input())\n",
    "    if ( marks_format == 100 ):\n",
    "        if marks in range(marks_format):\n",
    "            total_marks = total_marks + 100\n",
    "        else:\n",
    "           print(\"Invald marks entered\")\n",
    "           break\n",
    "    elif( marks_format == 50 ):\n",
    "        if marks in range(marks_format):\n",
    "            total_marks = total_marks + 50\n",
    "        else:\n",
    "           print(\"Invald marks entered\")\n",
    "           break\n",
    "    elif( marks_format == 25 ):\n",
    "        if marks in range( marks_format ):\n",
    "            total_marks = total_marks + 25\n",
    "        else:\n",
    "           print(\"Invald marks entered\")\n",
    "           continue\n",
    "    else:\n",
    "        print(\" You Entered invalid marks\")\n",
    "    obtain_marks = obtain_marks+marks\n"
   ]
  },
  {
   "cell_type": "code",
   "execution_count": 2,
   "id": "4b3028bb-4a7a-4cef-bcfb-e7e310610489",
   "metadata": {},
   "outputs": [
    {
     "name": "stdout",
     "output_type": "stream",
     "text": [
      "Obtain marks:  167.0\n",
      "Total marks:  175\n",
      "Percentage: 95.43 %\n"
     ]
    }
   ],
   "source": [
    "print(\"Obtain marks: \",obtain_marks)\n",
    "print(\"Total marks: \",total_marks)\n",
    "percent=obtain_marks*100/total_marks\n",
    "print(f\"Percentage: {percent:.2f} %\")"
   ]
  },
  {
   "cell_type": "code",
   "execution_count": 5,
   "id": "d9c2b7c5-9d65-41a7-92a6-877bb07ed2a2",
   "metadata": {},
   "outputs": [
    {
     "name": "stdout",
     "output_type": "stream",
     "text": [
      "Grade A1\n"
     ]
    }
   ],
   "source": [
    "if percent > 90 and percent <= 100:\n",
    "    print(\"Grade A1\")\n",
    "elif percent > 80 and percent <= 90:\n",
    "    print(\"Grade A\")\n",
    "elif percent > 70 and percent <= 80:\n",
    "    print(\"Grade B\")\n",
    "elif percent > 60 and percent <= 70:\n",
    "    print(\"Grade C\")\n",
    "elif percent > 40 and percent <= 60:\n",
    "    print(\"Grade D\")\n",
    "elif percent <40:\n",
    "    print(\"Grade F / You are Fail\")\n",
    "else:\n",
    "    print(\"Invalid values are entered:\")"
   ]
  },
  {
   "cell_type": "code",
   "execution_count": null,
   "id": "3020a98f-e90e-440a-b3c1-6339463d0838",
   "metadata": {},
   "outputs": [],
   "source": [
    "\n"
   ]
  },
  {
   "cell_type": "code",
   "execution_count": 2,
   "id": "abf889b6-059d-4b96-9430-c5e693cfa139",
   "metadata": {},
   "outputs": [
    {
     "name": "stdin",
     "output_type": "stream",
     "text": [
      "Enter your marks format: 25/50/100 25\n"
     ]
    },
    {
     "name": "stdout",
     "output_type": "stream",
     "text": [
      " Enter your marks in  English out of 25  : \n"
     ]
    },
    {
     "name": "stdin",
     "output_type": "stream",
     "text": [
      " 67\n"
     ]
    },
    {
     "name": "stdout",
     "output_type": "stream",
     "text": [
      "Invald marks entered\n"
     ]
    }
   ],
   "source": []
  },
  {
   "cell_type": "code",
   "execution_count": null,
   "id": "abff0c98-5310-4096-981a-d41a0e41dc95",
   "metadata": {},
   "outputs": [],
   "source": []
  },
  {
   "cell_type": "code",
   "execution_count": null,
   "id": "220d32a6-f6c1-4ad7-b21b-61235c4e797c",
   "metadata": {},
   "outputs": [],
   "source": [
    "\n"
   ]
  },
  {
   "cell_type": "code",
   "execution_count": null,
   "id": "4ea770dc-3b73-428f-9973-b3b3f5fc1bfc",
   "metadata": {},
   "outputs": [],
   "source": [
    "no_Subjects=int(input(\"Enter the number of subjects: \"))\n",
    "i=1\n",
    "subjects=[]\n",
    "while(i <= no_Subjects ):\n",
    "    \n",
    "    sub=input(\"Enter your subjects: \")\n",
    "    subjects.insert(i,sub)\n",
    "\n",
    "    obtain_marks = 0\n",
    "    total_marks = 0\n",
    "    marks_format = int(input(\"Enter your marks format: 25/50/100\"))\n",
    "    \n",
    "    for sub in subjects:\n",
    "        print(\" Enter your marks in \", sub , \" : \")\n",
    "        marks = float(input())\n",
    "        if ( marks_format == 100 ):\n",
    "            if marks in range(marks_format):\n",
    "                total_marks = total_marks + 100\n",
    "            else:\n",
    "               print(\"Invald marks entered\")\n",
    "               break\n",
    "        elif( marks_format == 50 ):\n",
    "            if marks in range(marks_format):\n",
    "                total_marks = total_marks + 50\n",
    "            else:\n",
    "               print(\"Invald marks entered\")\n",
    "               break\n",
    "        elif( marks_format == 25 ):\n",
    "            if marks in range( marks_format ):\n",
    "                total_marks = total_marks + 25\n",
    "            else:\n",
    "               print(\"Invald marks entered\")\n",
    "               break\n",
    "        else:\n",
    "            print(\" You Entered invalid marks\")\n",
    "        obtain_marks = obtain_marks+marks\n",
    "\n",
    "\n",
    "\n",
    "    i = i + 1"
   ]
  }
 ],
 "metadata": {
  "kernelspec": {
   "display_name": "Python 3 (ipykernel)",
   "language": "python",
   "name": "python3"
  },
  "language_info": {
   "codemirror_mode": {
    "name": "ipython",
    "version": 3
   },
   "file_extension": ".py",
   "mimetype": "text/x-python",
   "name": "python",
   "nbconvert_exporter": "python",
   "pygments_lexer": "ipython3",
   "version": "3.11.7"
  }
 },
 "nbformat": 4,
 "nbformat_minor": 5
}
