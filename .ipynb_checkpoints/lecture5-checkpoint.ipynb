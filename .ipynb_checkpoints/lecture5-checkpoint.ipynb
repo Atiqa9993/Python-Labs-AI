{
 "cells": [
  {
   "cell_type": "code",
   "execution_count": 18,
   "id": "2fdcf663-88ae-47fc-8de3-f79e50feaf32",
   "metadata": {},
   "outputs": [],
   "source": [
    "# polymorphism\n",
    "# same function used in different calsses\n",
    "\n",
    "class Vechical:\n",
    "    def __init__(self, name, model, color):\n",
    "        self.name=name\n",
    "        self.model=model\n",
    "        self.color=color\n",
    "\n",
    "    def move(self):\n",
    "        print(\"Vechical is moving\")\n",
    "\n",
    "\n",
    "    def show(self):\n",
    "        print(f\"Vechical: {self.name} Model: {self.model} Color: {self.color}\" )\n",
    "\n",
    "\n",
    "\n",
    "class Car(Vechical):\n",
    "    def move(self):\n",
    "        print(\"car get started\")\n",
    "\n",
    "class Plane(Car):\n",
    "    def move(self):\n",
    "        print(\"Plane fly\")\n",
    "    "
   ]
  },
  {
   "cell_type": "code",
   "execution_count": 19,
   "id": "da6283cd-b837-483a-9635-38f1b25b4d7a",
   "metadata": {},
   "outputs": [],
   "source": [
    "c1=Car(\"Suziki\",\"DFDG43\",\"White\")"
   ]
  },
  {
   "cell_type": "code",
   "execution_count": 20,
   "id": "e179f366-b0b0-42ff-b8cb-4da764cee541",
   "metadata": {},
   "outputs": [
    {
     "name": "stdout",
     "output_type": "stream",
     "text": [
      "Vechical: Suziki Model: DFDG43 Color: White\n",
      "car get started\n"
     ]
    }
   ],
   "source": [
    "c1.show()\n",
    "c1.move()"
   ]
  },
  {
   "cell_type": "code",
   "execution_count": 21,
   "id": "34191791-5117-4fc8-9aa2-98ea9212d3c2",
   "metadata": {},
   "outputs": [],
   "source": [
    "p1=Plane(\"Qatar Airlines\",\"FG56\",\"White\")"
   ]
  },
  {
   "cell_type": "code",
   "execution_count": 22,
   "id": "4a8efd34-1100-49f2-852c-37525378bb9b",
   "metadata": {},
   "outputs": [
    {
     "name": "stdout",
     "output_type": "stream",
     "text": [
      "Plane fly\n"
     ]
    }
   ],
   "source": [
    "p1.move()"
   ]
  },
  {
   "cell_type": "code",
   "execution_count": 33,
   "id": "73e0027a-0816-47f1-8d01-14926ffa720d",
   "metadata": {},
   "outputs": [],
   "source": [
    "# Abstraction\n",
    "\n",
    "from abc import ABC,abstractmethod"
   ]
  },
  {
   "cell_type": "code",
   "execution_count": 97,
   "id": "ed88ad56-1c05-44d0-844c-328fd2ee53bd",
   "metadata": {},
   "outputs": [],
   "source": [
    "class Person(ABC):\n",
    "    def __init__(self, name, id, profession):\n",
    "        self.name=name\n",
    "        self.id=id\n",
    "        self._profession=profession\n",
    "        \n",
    "    @abstractmethod\n",
    "    def profession(self):\n",
    "        pass\n",
    "    "
   ]
  },
  {
   "cell_type": "code",
   "execution_count": 100,
   "id": "dcd833f6-d1fe-4bb4-957c-de56f26fe188",
   "metadata": {},
   "outputs": [],
   "source": [
    "class Student(Person):\n",
    "    def p1(self):\n",
    "        print(\"Base\")\n",
    "    def profession(self):\n",
    "        print(f\"Profession is {self._profession}\")\n",
    "    \n",
    "# class Employee(Person):\n",
    "#     def profession(self):\n",
    "#         print(f\"Profession is {self.profession}\")"
   ]
  },
  {
   "cell_type": "code",
   "execution_count": 104,
   "id": "5cbf1446-43ce-422a-805c-00ad9271c0c8",
   "metadata": {},
   "outputs": [],
   "source": [
    "s1=Student(\"Ahmed\",\"2300\",\"student\")\n",
    "s2=Student(\"Raza \",\"3000\",\"Programmer\")\n"
   ]
  },
  {
   "cell_type": "code",
   "execution_count": 105,
   "id": "2b05e05d-dff9-4f69-89d0-04db6c969491",
   "metadata": {},
   "outputs": [
    {
     "name": "stdout",
     "output_type": "stream",
     "text": [
      "Profession is student\n",
      "Profession is Programmer\n"
     ]
    }
   ],
   "source": [
    "s1.profession()\n",
    "s2.profession()"
   ]
  },
  {
   "cell_type": "code",
   "execution_count": 156,
   "id": "af858eb8-9f8b-4e39-ba07-0006e8dd2ed6",
   "metadata": {},
   "outputs": [],
   "source": [
    "# Encapsulation\n",
    "\n",
    "#----------> public accessed by all classes and sub classes\n",
    "#----------> __private restricted to the class only\n",
    "#---------->_protected accessible by the base class or sub classes\n",
    "\n",
    "class Employee:\n",
    "    def __init__(self,name,id, password):\n",
    "        self.name=name\n",
    "        self.id=id\n",
    "        self.password=password\n",
    "        \n",
    "    def showinfo(self):\n",
    "        print(f\"Name is: {self.name} Id is {self.id} password is {self.password}\")\n",
    "        \n",
    "\n",
    "class Manager(Employee):\n",
    "    def show(self):\n",
    "        print(f\"Name is: {self.name} Id is {self.id} password is {self._password}\")\n",
    "    \n",
    "        "
   ]
  },
  {
   "cell_type": "code",
   "execution_count": 157,
   "id": "c7030cb0-c0c9-4ab1-a08e-9287a90f6430",
   "metadata": {},
   "outputs": [],
   "source": [
    "e1=Employee(\"Ahmed\",2300,\"abc@123\")"
   ]
  },
  {
   "cell_type": "code",
   "execution_count": 158,
   "id": "73adf0e1-6286-4ddc-ace1-bbc90a5f44f0",
   "metadata": {},
   "outputs": [
    {
     "ename": "AttributeError",
     "evalue": "'Employee' object has no attribute 'id'",
     "output_type": "error",
     "traceback": [
      "\u001b[1;31m---------------------------------------------------------------------------\u001b[0m",
      "\u001b[1;31mAttributeError\u001b[0m                            Traceback (most recent call last)",
      "Cell \u001b[1;32mIn[158], line 1\u001b[0m\n\u001b[1;32m----> 1\u001b[0m e1\u001b[38;5;241m.\u001b[39mshowinfo()\n",
      "Cell \u001b[1;32mIn[156], line 15\u001b[0m, in \u001b[0;36mEmployee.showinfo\u001b[1;34m(self)\u001b[0m\n\u001b[0;32m     14\u001b[0m \u001b[38;5;28;01mdef\u001b[39;00m \u001b[38;5;21mshowinfo\u001b[39m(\u001b[38;5;28mself\u001b[39m):\n\u001b[1;32m---> 15\u001b[0m     \u001b[38;5;28mprint\u001b[39m(\u001b[38;5;124mf\u001b[39m\u001b[38;5;124m\"\u001b[39m\u001b[38;5;124mName is: \u001b[39m\u001b[38;5;132;01m{\u001b[39;00m\u001b[38;5;28mself\u001b[39m\u001b[38;5;241m.\u001b[39mname\u001b[38;5;132;01m}\u001b[39;00m\u001b[38;5;124m Id is \u001b[39m\u001b[38;5;132;01m{\u001b[39;00m\u001b[38;5;28mself\u001b[39m\u001b[38;5;241m.\u001b[39mid\u001b[38;5;132;01m}\u001b[39;00m\u001b[38;5;124m password is \u001b[39m\u001b[38;5;132;01m{\u001b[39;00m\u001b[38;5;28mself\u001b[39m\u001b[38;5;241m.\u001b[39m_password\u001b[38;5;132;01m}\u001b[39;00m\u001b[38;5;124m\"\u001b[39m)\n",
      "\u001b[1;31mAttributeError\u001b[0m: 'Employee' object has no attribute 'id'"
     ]
    }
   ],
   "source": [
    "e1.showinfo()"
   ]
  },
  {
   "cell_type": "code",
   "execution_count": null,
   "id": "1cbad8e2-062a-466b-8c30-13a29e7fe8a4",
   "metadata": {},
   "outputs": [],
   "source": []
  }
 ],
 "metadata": {
  "kernelspec": {
   "display_name": "Python 3 (ipykernel)",
   "language": "python",
   "name": "python3"
  },
  "language_info": {
   "codemirror_mode": {
    "name": "ipython",
    "version": 3
   },
   "file_extension": ".py",
   "mimetype": "text/x-python",
   "name": "python",
   "nbconvert_exporter": "python",
   "pygments_lexer": "ipython3",
   "version": "3.11.7"
  }
 },
 "nbformat": 4,
 "nbformat_minor": 5
}
