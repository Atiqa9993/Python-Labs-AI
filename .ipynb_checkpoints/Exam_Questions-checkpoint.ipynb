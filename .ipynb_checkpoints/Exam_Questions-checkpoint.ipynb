{
 "cells": [
  {
   "cell_type": "markdown",
   "id": "d52ed6aa-2a95-4b60-8ea0-6d01b78ded10",
   "metadata": {},
   "source": [
    "#  **EXAM FOR PYTHON**"
   ]
  },
  {
   "cell_type": "markdown",
   "id": "db91c92e-fa09-4912-829b-acf3272f6bcf",
   "metadata": {},
   "source": [
    "## Q.1: Sum and average of first n natural numbers\n",
    "\n",
    "### 1. Sum and average of n numbers in Python\n",
    "\n",
    "### 2. Accept the number n from a user\n",
    "### 3. Use input() function to accept integer number from a user.\n",
    "\n",
    "### 4. Run a loop till the entered number\n",
    "Next, run a for loop till the entered number using the range() function. In each iteration, we will get the next number till the loop reaches the last number, i.e., n.\n",
    "\n",
    "### 5. Calculate the sum\n",
    "In each iteration, keep adding the current number into the sum variable to calculate the addition. Use a formula sum = sum + current number.\n",
    "\n",
    "### 6. Calculate the average\n",
    "At last, after the loop ends, calculate the average using a formula average = sum / n. Here, The n is a number entered by the user.\n",
    "\n",
    "\n",
    "### Desired Output\n",
    "\n",
    "\n",
    "Enter number 10\n",
    "\n",
    "Sum of first  10 numbers is:  55\n",
    "\n",
    "Average of  10 numbers is:  5.5"
   ]
  },
  {
   "cell_type": "code",
   "execution_count": 1,
   "id": "6d63c946-f9d5-4f32-86eb-bd1c78cce619",
   "metadata": {},
   "outputs": [
    {
     "name": "stdin",
     "output_type": "stream",
     "text": [
      "Enter a number:  10\n"
     ]
    },
    {
     "name": "stdout",
     "output_type": "stream",
     "text": [
      "Sum of first 10 numbers is 55\n",
      "Average of first 10 numbers is 5.5\n"
     ]
    }
   ],
   "source": [
    "n=int(input(\"Enter a number: \"))\n",
    "sum=0\n",
    "for i in range(1,n+1):\n",
    "    sum=sum+i\n",
    "    avg=sum/n\n",
    "print(f\"Sum of first {n} numbers is\",sum)\n",
    "print(f\"Average of first {n} numbers is\",avg)\n",
    "\n",
    "    \n",
    "\n"
   ]
  },
  {
   "cell_type": "markdown",
   "id": "acc4c30e-c4ad-4040-841e-071c7a3f1add",
   "metadata": {},
   "source": [
    "## Q.2: Check if the first and last numbers of a list are the same\n",
    "Write a code to return True if the list’s first and last numbers are the same. If the numbers are different, return False.\n",
    "\n",
    "### Given:\n",
    "\n",
    "numbers_x = [10, 20, 30, 40, 10]\n",
    "\n",
    "numbers_y = [75, 65, 35, 75, 30]\n",
    "\n",
    "### Expected Output:\n",
    "\n",
    "Given list: [10, 20, 30, 40, 10]\n",
    "\n",
    "result is True\n",
    "\n",
    "\n",
    "numbers_y = [75, 65, 35, 75, 30]\n",
    "\n",
    "result is False"
   ]
  },
  {
   "cell_type": "code",
   "execution_count": 3,
   "id": "a3878dd4-f419-4208-b424-864f73afd020",
   "metadata": {},
   "outputs": [
    {
     "name": "stdout",
     "output_type": "stream",
     "text": [
      "Given List [10, 20, 30, 40, 10]\n",
      "Result is True\n",
      "Given List [10, 20, 30, 40, 10]\n",
      "False\n"
     ]
    }
   ],
   "source": [
    "numbers_x = [10, 20, 30, 40, 10]\n",
    "numbers_y = [75, 65, 35, 75, 30]\n",
    "\n",
    "def compare(num):\n",
    "    print(\"Given List\",numbers_x)\n",
    "    if num[0] == num[-1]:\n",
    "        print(\"Result is True\")\n",
    "    else:\n",
    "        print(\"False\")\n",
    "compare(numbers_x)\n",
    "compare(numbers_y)\n"
   ]
  },
  {
   "cell_type": "markdown",
   "id": "15c919f1-9ee5-42be-a9be-4b4a4c3cf318",
   "metadata": {},
   "source": [
    "## Q.3: Check Palindrome Number\n",
    "Write a Python code to check if the given number is palindrome. A palindrome number is a number that is the same after reverse. \n",
    "**For example, 545 is the palindrome number.**\n",
    "\n",
    "### Expected Output:\n",
    "original number 121\n",
    "\n",
    "Yes. given number is palindrome number\n",
    "\n",
    "original number 125\n",
    "\n",
    "No. given number is not palindrome number"
   ]
  },
  {
   "cell_type": "code",
   "execution_count": 19,
   "id": "d2671613-908a-4e6e-9ab7-83611695289a",
   "metadata": {},
   "outputs": [
    {
     "ename": "SyntaxError",
     "evalue": "invalid syntax (4197665711.py, line 9)",
     "output_type": "error",
     "traceback": [
      "\u001b[1;36m  Cell \u001b[1;32mIn[19], line 9\u001b[1;36m\u001b[0m\n\u001b[1;33m    rev:=(rev*10)+n\u001b[0m\n\u001b[1;37m       ^\u001b[0m\n\u001b[1;31mSyntaxError\u001b[0m\u001b[1;31m:\u001b[0m invalid syntax\n"
     ]
    }
   ],
   "source": [
    "\n",
    "num=int(input(\"Enter a number\"))\n",
    "# 1. first we have to save the original entered number in to another variable\n",
    "ori_num=num\n",
    "# 2. initiallizing the reversing variable to 0 first\n",
    "rev=0\n",
    "while num>0:\n",
    "# 3. now first store the reminder in n\n",
    "    n=num%10\n",
    "    # 4. then multiply reversing variable with 10 for place vaalue and then add reminder in to the reverse variabl\n",
    "    rev=(rev*10)+n\n",
    "    # 5. this will remove the digits from the original number\n",
    "    num=num//10\n",
    "\n",
    "\n",
    "if ori_num==rev:\n",
    "   print(\"True\")\n",
    "else:\n",
    "   print(\"False\")\n",
    "    \n",
    "# print(ori_num)\n",
    "# print(rev)"
   ]
  },
  {
   "cell_type": "markdown",
   "id": "c8bcdc6a-a122-4b9c-b232-b3c15cd91831",
   "metadata": {},
   "source": [
    "## Q.4: Create an inner function to calculate the addition in the following way\n",
    "**Create an outer function that will accept two parameters, a and b**\n",
    "\n",
    "**Create an inner function inside an outer function that will calculate the addition of a and b**\n",
    "\n",
    "**At last, an outer function will add 5 into addition and return it**\n",
    "### Given:\n",
    "result = outer_fun(5, 10)\n",
    "### Output:\n",
    "20"
   ]
  },
  {
   "cell_type": "code",
   "execution_count": 22,
   "id": "48929b38-16bd-4bc5-ad1b-ff8ef682c18f",
   "metadata": {},
   "outputs": [
    {
     "name": "stdout",
     "output_type": "stream",
     "text": [
      "20\n"
     ]
    }
   ],
   "source": [
    "def outer_fun(a,b):\n",
    "    def addition(a,b):\n",
    "        return a+b\n",
    "    return addition(a,b)+5\n",
    "\n",
    "print(outer_fun(5,10))\n"
   ]
  },
  {
   "cell_type": "markdown",
   "id": "0e7228bb-4ad3-4bd4-9b28-a75dfa8518a0",
   "metadata": {},
   "source": [
    "## Q.5: Print a date in a the following format\n",
    "**Day_name      Day_number      Month_name      Year**\n",
    "\n",
    "#### Refer: Python DateTime Format Using Strftime()\n",
    "\n",
    "### Given:\n",
    "given_date = datetime(2020, 2, 25)\n",
    "\n",
    "### Expected output:\n",
    "Tuesday 25 February 2020"
   ]
  },
  {
   "cell_type": "code",
   "execution_count": 23,
   "id": "27a16267-bc69-4507-be56-29a1f74a8121",
   "metadata": {},
   "outputs": [
    {
     "name": "stdout",
     "output_type": "stream",
     "text": [
      "Tuesday 25February 2020 \n"
     ]
    }
   ],
   "source": [
    "from datetime import datetime\n",
    "given_date=datetime(2020, 2, 25)\n",
    "print(given_date.strftime(\"%A %d%B %Y \"))"
   ]
  },
  {
   "cell_type": "markdown",
   "id": "301911e5-6481-44f8-9e9c-379898a6ffb2",
   "metadata": {},
   "source": [
    "## Q.6: Calculate number of days between two given dates\n",
    "### Given:\n",
    "\n",
    "date_1 = datetime(2020, 2, 25)\n",
    "\n",
    "date_2 = datetime(2020, 9, 17)\n",
    "\n",
    "### Expected output:\n",
    "**205 days**"
   ]
  },
  {
   "cell_type": "code",
   "execution_count": 24,
   "id": "30179a7a-3eb4-4343-b1d8-f019a71c7128",
   "metadata": {},
   "outputs": [
    {
     "name": "stdout",
     "output_type": "stream",
     "text": [
      "205\n"
     ]
    }
   ],
   "source": [
    "date_1 = datetime(2020, 2, 25)\n",
    "date_2 =datetime(2020, 9, 17)\n",
    "\n",
    "delta=date_1-date_2\n",
    "\n",
    "print(abs(delta.days))\n"
   ]
  },
  {
   "cell_type": "markdown",
   "id": "8304ed76-3b2f-4855-b534-59b8fdb65f7b",
   "metadata": {},
   "source": [
    "## Q.7: Turn every item of a list into its square\n",
    "Given a list of numbers. write a program to turn every item of a list into its square.\n",
    "\n",
    "### Given:\n",
    "numbers = [1, 2, 3, 4, 5, 6, 7]\n",
    "\n",
    "### Expected output:\n",
    "[1, 4, 9, 16, 25, 36, 49]"
   ]
  },
  {
   "cell_type": "code",
   "execution_count": 25,
   "id": "b3ff545c-a76f-4ec6-b1bf-a269cfa90d84",
   "metadata": {},
   "outputs": [
    {
     "name": "stdout",
     "output_type": "stream",
     "text": [
      "[1, 4, 9, 16, 25, 36, 49]\n"
     ]
    }
   ],
   "source": [
    "numbers = [1, 2, 3, 4, 5, 6, 7]\n",
    "x=[]\n",
    "for i in numbers:\n",
    "    x.append(i*i)\n",
    "\n",
    "print(x)\n"
   ]
  },
  {
   "cell_type": "markdown",
   "id": "ec68cf16-92c4-4d18-bb2a-0327e41c94bc",
   "metadata": {},
   "source": [
    "## Q.8: Add new item to list after a specified item\n",
    "Write a program to add item 7000 after 6000 in the following Python List\n",
    "\n",
    "### Given:\n",
    "list1 = [10, 20, [300, 400, [5000, 6000], 500], 30, 40]\n",
    "### Expected output:\n",
    "[10, 20, [300, 400, [5000, 6000, 7000], 500], 30, 40]"
   ]
  },
  {
   "cell_type": "code",
   "execution_count": 26,
   "id": "cb79394c-24f9-462d-9683-3eb4022b57ad",
   "metadata": {},
   "outputs": [
    {
     "data": {
      "text/plain": [
       "[10, 20, [300, 400, [5000, 6000, 7000], 500], 30, 40, 2]"
      ]
     },
     "execution_count": 26,
     "metadata": {},
     "output_type": "execute_result"
    }
   ],
   "source": [
    "list1 = [10, 20, [300, 400, [5000, 6000], 500], 30, 40]\n",
    "list1.append(2)\n",
    "\n",
    "list1[2][2].append(7000)\n",
    "list1\n"
   ]
  },
  {
   "cell_type": "markdown",
   "id": "9593bb31-4cc1-4805-b731-739a14921798",
   "metadata": {},
   "source": [
    "## Q.9: Calculate the cube of all numbers from 1 to a given number\n",
    "Write a Python program to print the cube of all numbers from 1 to a given number\n",
    "\n",
    "### Given:\n",
    "\n",
    "**input_number = 6** // Take user input\n",
    "\n",
    "### Expected output:\n",
    "\n",
    "Current Number is : 1  and the cube is 1\n",
    "\n",
    "Current Number is : 2  and the cube is 8\n",
    "\n",
    "Current Number is : 3  and the cube is 27\n",
    "\n",
    "Current Number is : 4  and the cube is 64\n",
    "\n",
    "Current Number is : 5  and the cube is 125\n",
    "\n",
    "Current Number is : 6  and the cube is 216"
   ]
  },
  {
   "cell_type": "code",
   "execution_count": 27,
   "id": "79b8cb25-2f20-4d73-8ebc-aac9b77f890d",
   "metadata": {},
   "outputs": [
    {
     "name": "stdin",
     "output_type": "stream",
     "text": [
      "Enter a number: 10\n"
     ]
    },
    {
     "name": "stdout",
     "output_type": "stream",
     "text": [
      "Current Number 1 cube is: 1\n",
      "Current Number 2 cube is: 8\n",
      "Current Number 3 cube is: 27\n",
      "Current Number 4 cube is: 64\n",
      "Current Number 5 cube is: 125\n",
      "Current Number 6 cube is: 216\n",
      "Current Number 7 cube is: 343\n",
      "Current Number 8 cube is: 512\n",
      "Current Number 9 cube is: 729\n"
     ]
    }
   ],
   "source": [
    "input_number = int(input(\"Enter a number:\"))\n",
    "\n",
    "for i in range(1,input_number):\n",
    "    print(f\"Current Number {i} cube is:\",i*i*i)\n",
    "\n"
   ]
  },
  {
   "cell_type": "markdown",
   "id": "3f55a645-095e-4b83-8002-ada331c62c1b",
   "metadata": {},
   "source": [
    "## Q.10: Write all content of a given file into a new file by skipping line number 5\n",
    "### Hints:\n",
    "Python file handling\n",
    "\n",
    "Python Read file\n",
    "\n",
    "Python write file\n",
    "\n",
    "Create a test.txt file and add the below content to it.\n",
    "\n",
    "### Given test.txt file:\n",
    "\n",
    "line1\n",
    "\n",
    "line2\n",
    "\n",
    "line3\n",
    "\n",
    "line4\n",
    "\n",
    "line5\n",
    "\n",
    "line6\n",
    "\n",
    "line7\n",
    "### Expected Output: new_file.txt\n",
    "\n",
    "line1\n",
    "\n",
    "line2\n",
    "\n",
    "line3\n",
    "\n",
    "line4\n",
    "\n",
    "line6\n",
    "\n",
    "line7"
   ]
  },
  {
   "cell_type": "code",
   "execution_count": 45,
   "id": "f6c080d2-54a4-4b77-8ae6-b165fdffb82f",
   "metadata": {},
   "outputs": [
    {
     "name": "stdout",
     "output_type": "stream",
     "text": [
      "['line1\\n', 'line2\\n', 'line3\\n', 'line4\\n', 'line5\\n', 'line6\\n', 'line7\\n']\n"
     ]
    }
   ],
   "source": [
    "import os\n",
    "list=[\"line1\\n\",\"line2\\n\",\"line3\\n\",\"line4\\n\",\"line5\\n\",\"line6\\n\",\"line7\\n\",]\n",
    "with open(\"test.txt\",\"w\") as f:\n",
    "    f.writelines(list)\n",
    "    # f.close()\n",
    "    \n",
    "\n",
    "with open(\"test.txt\") as f:\n",
    "    lines=f.readlines()\n",
    "    print(lines)"
   ]
  },
  {
   "cell_type": "code",
   "execution_count": 48,
   "id": "ccc28f7a-f1ce-4831-b2fd-dee383d86039",
   "metadata": {},
   "outputs": [
    {
     "name": "stdout",
     "output_type": "stream",
     "text": [
      "['line1\\n', 'line2\\n', 'line3\\n', 'line4\\n', 'line5\\n', 'line6\\n', 'line7\\n']\n"
     ]
    }
   ],
   "source": [
    "with open(\"test.txt\") as f:\n",
    "    lines=f.readlines()\n",
    "    print(lines)\n",
    "with open(\"new_file.txt\",\"w\") as fp:\n",
    "    for i,line in enumerate(lines):\n",
    "        if i==4:\n",
    "            continue\n",
    "        fp.writelines(line)\n",
    "        \n",
    "        \n",
    "        \n",
    "    \n",
    "    "
   ]
  },
  {
   "cell_type": "markdown",
   "id": "bb639484-5350-430c-bf40-87dc58806c2e",
   "metadata": {},
   "source": [
    "## Q.11: Assign a different name to function and call it through the new name\n",
    "Below is the function **display_student(name, age)**. Assign a new name **show_student(name, age)** to it and call it using the new name.\n",
    "\n",
    "### Given:\n",
    "def display_student(name, age):\n",
    "    print(name, age)\n",
    "\n",
    "**display_student(\"Emma\", 26)**\n",
    "### Expected output\n",
    "You should be able to call the same function using\n",
    "\n",
    "**show_student(name, age)**"
   ]
  },
  {
   "cell_type": "code",
   "execution_count": 50,
   "id": "4bde6a7c-ba5b-437b-9197-d7fa67684469",
   "metadata": {},
   "outputs": [
    {
     "name": "stdout",
     "output_type": "stream",
     "text": [
      "name: Anna Age: 24\n",
      "name: Eman Age: 23\n"
     ]
    }
   ],
   "source": [
    "def display_student(name,age):\n",
    "    print(f\"name: {name} Age: {age}\")\n",
    "\n",
    "show_student=display_student\n",
    "\n",
    "display_student(\"Anna\",24)\n",
    "show_student(\"Eman\",23)"
   ]
  },
  {
   "cell_type": "markdown",
   "id": "fb8e7512-0682-4a0a-b5f9-7f7dc42ea9ae",
   "metadata": {},
   "source": [
    "## Q.12: Change value of a key in a nested dictionary\n",
    "Write a Python program to change Brad’s salary to 8500 in the following dictionary.\n",
    "\n",
    "### Given:\n",
    "\n",
    "sample_dict = {\n",
    "\n",
    "    'emp1': {'name': 'Jhon', 'salary': 7500},\n",
    "    \n",
    "    'emp2': {'name': 'Emma', 'salary': 8000},\n",
    "    \n",
    "    'emp3': {'name': 'Brad', 'salary': 500}\n",
    "    \n",
    "}\n",
    "### Expected output:\n",
    "\n",
    "{\n",
    "\n",
    "   'emp1': {'name': 'Jhon', 'salary': 7500},\n",
    "   \n",
    "   'emp2': {'name': 'Emma', 'salary': 8000},\n",
    "   \n",
    "   'emp3': {'name': 'Brad', 'salary': 8500}\n",
    "   \n",
    "}"
   ]
  },
  {
   "cell_type": "code",
   "execution_count": 56,
   "id": "df3f06f9-5aaf-4118-9c5a-c1bfc38aeec2",
   "metadata": {},
   "outputs": [
    {
     "name": "stdout",
     "output_type": "stream",
     "text": [
      "{'emp1': {'name': 'Jhon', 'salary': 7500}, 'emp2': {'name': 'Emma', 'salary': 8000}, 'emp3': {'name': 'Brad', 'salary': 8500}}\n"
     ]
    }
   ],
   "source": [
    "sample_dict = {\n",
    "\n",
    "'emp1': {'name': 'Jhon', 'salary': 7500},\n",
    "\n",
    "'emp2': {'name': 'Emma', 'salary': 8000},\n",
    "\n",
    "'emp3': {'name': 'Brad', 'salary': 500}\n",
    "}\n",
    "sample_dict['emp3']['salary']=8500\n",
    "\n",
    "print(sample_dict)"
   ]
  },
  {
   "cell_type": "markdown",
   "id": "530ffb0a-bbb6-4895-86ac-4e23c678bf86",
   "metadata": {},
   "source": [
    "## Q.13: Define a class which has at least two methods:\n",
    "### getString: to get a string from console input\n",
    "### printString: to print the string in upper case.\n",
    "### Also please include simple test function to test the class methods.\n",
    "\n",
    "### Hints:\n",
    "*Use __ init __ method to construct some parameters*"
   ]
  },
  {
   "cell_type": "code",
   "execution_count": 65,
   "id": "9d137055-9038-497a-8066-fc636711b33b",
   "metadata": {},
   "outputs": [
    {
     "name": "stdin",
     "output_type": "stream",
     "text": [
      "Enter your name:  RuBina\n"
     ]
    },
    {
     "name": "stdout",
     "output_type": "stream",
     "text": [
      "in upper case:  RUBINA\n"
     ]
    }
   ],
   "source": [
    "class Student:\n",
    "    def getString(self):\n",
    "        self.name=input(\"Enter your name: \")\n",
    "    def printString(self):\n",
    "        print(\"in upper case: \",self.name.upper())\n",
    "\n",
    "\n",
    "s1=Student()\n",
    "s1.getString()\n",
    "s1.printString()\n",
    "        "
   ]
  },
  {
   "cell_type": "markdown",
   "id": "c86a2ec2-fa40-461e-abcd-db5cc45a796f",
   "metadata": {},
   "source": [
    "## Q.14: Create a child class Bus that will inherit all of the variables and methods of the Vehicle class\n",
    "### Given:\n",
    "#### class Vehicle:\n",
    "    def __init__(self, name, max_speed, mileage):\n",
    "        self.name = name\n",
    "        self.max_speed = max_speed\n",
    "        self.mileage = mileage\n",
    "\n",
    "### Create a Bus object that will inherit all of the variables and methods of the parent Vehicle class and display it.\n",
    "\n",
    "### Expected Output:\n",
    "\n",
    "**Vehicle Name: School Volvo Speed: 180 Mileage: 12**"
   ]
  },
  {
   "cell_type": "code",
   "execution_count": 70,
   "id": "de351c85-7341-4877-840f-7487bcec7281",
   "metadata": {},
   "outputs": [
    {
     "name": "stdout",
     "output_type": "stream",
     "text": [
      "Vechical name: School Volve Speed: 180 Mileage: 12\n"
     ]
    }
   ],
   "source": [
    "class Vechical:\n",
    "    def __init__(self, name, max_speed, mileage):\n",
    "        self.name = name\n",
    "        self.max_speed = max_speed\n",
    "        self.mileage = mileage\n",
    "    \n",
    "    def show(self):\n",
    "        print(f\"Vechical name: {self.name} Speed: {self.max_speed} Mileage: {self.mileage}\")\n",
    "\n",
    "class Bus(Vechical):\n",
    "    pass\n",
    "\n",
    "b=Bus(\"School Volve\",180,12)\n",
    "b.show()\n",
    "\n",
    "    \n",
    "    "
   ]
  },
  {
   "cell_type": "markdown",
   "id": "c96f48f9-4641-430a-b2e5-945e3454e140",
   "metadata": {},
   "source": [
    "## Q.15: Student management system in Python\n",
    "\n",
    "**Problem Statement: Write a program to build a simple Student Management System using Python which can perform the following operations:**\n",
    "1. Accept\n",
    "2. Display\n",
    "3. Search\n",
    "4. Delete\n",
    "5. Update\n",
    "\n",
    "### Prerequisite: **Classes and objects in python** "
   ]
  },
  {
   "cell_type": "markdown",
   "id": "237f9012-009c-43a4-9f99-d3a512cfa424",
   "metadata": {},
   "source": [
    "### Desired Output\n",
    "\n",
    "Operations used, \n",
    "\n",
    "1.Accept Student details\n",
    "\n",
    "2.Display Student Details\n",
    "\n",
    "3.Search Details of a Student\n",
    "\n",
    "4.Delete Details of Student\n",
    "\n",
    "5.Update Student Details\n",
    "\n",
    "6.Exit\n",
    "\n",
    "\n",
    "_______________________________________________\n",
    "\n",
    "\n",
    "List of Students\n",
    "\n",
    "Name :  A\n",
    "\n",
    "RollNo :  1\n",
    "\n",
    "Marks1 :  100\n",
    "\n",
    "Marks2 :  100\n",
    "\n",
    "\n",
    "_______________________________________________\n",
    "\n",
    "\n",
    "Name :  B\n",
    "\n",
    "RollNo :  2\n",
    "\n",
    "Marks1 :  90\n",
    "\n",
    "Marks2 :  90\n",
    "\n",
    "_______________________________________________\n",
    "\n",
    "\n",
    "Name :  C\n",
    "\n",
    "RollNo :  3\n",
    "\n",
    "Marks1 :  80\n",
    "\n",
    "Marks2 :  80\n",
    "\n",
    "\n",
    "_______________________________________________\n",
    "\n",
    "\n",
    " Student Found, \n",
    " \n",
    "Name :  B\n",
    "\n",
    "RollNo :  2\n",
    "\n",
    "Marks1 :  90\n",
    "\n",
    "Marks2 :  90\n",
    "\n",
    "_______________________________________________\n",
    "\n",
    "\n",
    "2\n",
    "\n",
    "List after deletion\n",
    "\n",
    "Name :  A\n",
    "\n",
    "RollNo :  1\n",
    "\n",
    "Marks1 :  100\n",
    "\n",
    "Marks2 :  100\n",
    "\n",
    "_______________________________________________\n",
    "\n",
    "\n",
    "Name :  C\n",
    "\n",
    "RollNo :  3\n",
    "\n",
    "Marks1 :  80\n",
    "\n",
    "Marks2 :  80\n",
    "\n",
    "_______________________________________________\n",
    "\n",
    "\n",
    "2\n",
    "\n",
    "List after updation\n",
    "\n",
    "Name :  A\n",
    "\n",
    "RollNo :  1\n",
    "\n",
    "Marks1 :  100\n",
    "\n",
    "Marks2 :  100\n",
    "\n",
    "_______________________________________________\n",
    "\n",
    "\n",
    "Name :  C\n",
    "\n",
    "RollNo :  2\n",
    "\n",
    "Marks1 :  80\n",
    "\n",
    "Marks2 :  80\n",
    "\n",
    "_______________________________________________\n",
    "\n",
    "\n",
    "Thank You !"
   ]
  },
  {
   "cell_type": "markdown",
   "id": "9f8ae6e5-6c76-4efb-a7b4-f2ed204563b5",
   "metadata": {},
   "source": [
    "## Best of Luck..."
   ]
  },
  {
   "cell_type": "code",
   "execution_count": 11,
   "id": "c29fcd4e-6a8c-4c59-bc63-27cef6fbbb63",
   "metadata": {},
   "outputs": [],
   "source": [
    "class Student:\n",
    "    def __init__(self,name,rollno,marks_1,marks_2):\n",
    "        self.name=name\n",
    "        self.rollno=rollno\n",
    "        self.marks_1=marks_1\n",
    "        self.marks_2=marks_2\n",
    "        \n",
    "\n",
    "    def show(self):\n",
    "        print(f\"name: {self.name} rollno: {self.rollno} marks_1: {self.marks_1} marks_2: {self.marks_2}\")\n",
    "\n",
    "    def Accept_Student_details(self):\n",
    "        \n",
    "    "
   ]
  },
  {
   "cell_type": "markdown",
   "id": "b01e3d6b-290c-4cff-bc85-ba3ac00ebd7e",
   "metadata": {},
   "source": [
    "\n"
   ]
  },
  {
   "cell_type": "code",
   "execution_count": 9,
   "id": "b7797448-712b-4781-8997-c81d4660a106",
   "metadata": {},
   "outputs": [
    {
     "name": "stdout",
     "output_type": "stream",
     "text": [
      "1. Accept Student details \n",
      "2. Display Student Details \n",
      "3. Search Details of a Student \n",
      "4. Delete Details of Student \n",
      "5. Update Student Details \n",
      "6. Exit\n"
     ]
    },
    {
     "name": "stdin",
     "output_type": "stream",
     "text": [
      "Enter which operation you wanna perform:  89\n"
     ]
    },
    {
     "name": "stdout",
     "output_type": "stream",
     "text": [
      "Invalid operation value entered: \n"
     ]
    }
   ],
   "source": [
    "print(\"1. Accept Student details \\n2. Display Student Details \\n3. Search Details of a Student \\n4. Delete Details of Student \\n5. Update Student Details \\n6. Exit\")\n",
    "opr=int(input(\"Enter which operation you wanna perform: \"))\n",
    "if opr==1:\n",
    "    Accept_Student_details()\n",
    "    print(\"1\")\n",
    "elif opr==2:\n",
    "    print(\"2\")\n",
    "    Display_Student_Details()\n",
    "elif opr==3:\n",
    "    print(\"3\")\n",
    "    Search_Details_Student()\n",
    "elif opr==4:\n",
    "    print(\"4\")\n",
    "    Delete_Details_Student()\n",
    "elif opr==5:\n",
    "    print(\"5\")\n",
    "    Update_Student_Details()\n",
    "elif opr==6:\n",
    "    print(\"6\")\n",
    "    Exit()\n",
    "else:\n",
    "    print(\"Invalid operation value entered: \")\n",
    "    \n",
    "    \n",
    "    \n",
    "    \n",
    "\n",
    "students_info = [\n",
    "    {\n",
    "        \"Name\": \"A\",\n",
    "        \"RollNo\": 1,\n",
    "        \"Marks1\": 100,\n",
    "        \"Marks2\": 100\n",
    "    },\n",
    "    {\n",
    "        \"Name\": \"B\",\n",
    "        \"RollNo\": 2,\n",
    "        \"Marks1\": 90,\n",
    "        \"Marks2\": 90\n",
    "    },\n",
    "    {\n",
    "        \"Name\": \"C\",\n",
    "        \"RollNo\": 3,\n",
    "        \"Marks1\": 80,\n",
    "        \"Marks2\": 80\n",
    "    }\n",
    "]"
   ]
  },
  {
   "cell_type": "code",
   "execution_count": null,
   "id": "791ef4eb-3bdf-4f98-bb06-776406857324",
   "metadata": {},
   "outputs": [],
   "source": []
  }
 ],
 "metadata": {
  "kernelspec": {
   "display_name": "Python 3 (ipykernel)",
   "language": "python",
   "name": "python3"
  },
  "language_info": {
   "codemirror_mode": {
    "name": "ipython",
    "version": 3
   },
   "file_extension": ".py",
   "mimetype": "text/x-python",
   "name": "python",
   "nbconvert_exporter": "python",
   "pygments_lexer": "ipython3",
   "version": "3.11.7"
  },
  "widgets": {
   "application/vnd.jupyter.widget-state+json": {
    "state": {},
    "version_major": 2,
    "version_minor": 0
   }
  }
 },
 "nbformat": 4,
 "nbformat_minor": 5
}
