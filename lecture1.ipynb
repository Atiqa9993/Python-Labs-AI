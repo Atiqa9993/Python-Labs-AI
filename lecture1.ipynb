{
 "cells": [
  {
   "cell_type": "code",
   "execution_count": 3,
   "id": "98396eec-9c5c-43c5-a533-267a08044f9a",
   "metadata": {},
   "outputs": [],
   "source": [
    "a=23\n",
    "b=\"Codder\""
   ]
  },
  {
   "cell_type": "code",
   "execution_count": 6,
   "id": "bf2d8d80-a020-4859-95ba-5b76aa32ec05",
   "metadata": {},
   "outputs": [
    {
     "name": "stdout",
     "output_type": "stream",
     "text": [
      "a is an <class 'int'>\n",
      "b is an <class 'str'>\n"
     ]
    }
   ],
   "source": [
    "print(\"a is an\",type(a))\n",
    "print(\"b is an\",type(b))"
   ]
  },
  {
   "cell_type": "code",
   "execution_count": 3,
   "id": "dbc5979e-6a97-41b5-b42a-87089774f268",
   "metadata": {},
   "outputs": [
    {
     "name": "stdin",
     "output_type": "stream",
     "text": [
      "Enter first number 2\n",
      "Enter second number 0\n"
     ]
    },
    {
     "name": "stdout",
     "output_type": "stream",
     "text": [
      "Select operator: \n",
      "1 for +\n",
      "2 for -\n",
      "3 for *\n",
      "4 for /\n",
      "5 for %\n"
     ]
    },
    {
     "name": "stdin",
     "output_type": "stream",
     "text": [
      "Choose operator:   5\n"
     ]
    },
    {
     "ename": "ZeroDivisionError",
     "evalue": "integer modulo by zero",
     "output_type": "error",
     "traceback": [
      "\u001b[1;31m---------------------------------------------------------------------------\u001b[0m",
      "\u001b[1;31mZeroDivisionError\u001b[0m                         Traceback (most recent call last)",
      "Cell \u001b[1;32mIn[3], line 27\u001b[0m\n\u001b[0;32m     25\u001b[0m         \u001b[38;5;28mprint\u001b[39m(num1,\u001b[38;5;124m\"\u001b[39m\u001b[38;5;124m / \u001b[39m\u001b[38;5;124m\"\u001b[39m,num2,\u001b[38;5;124m\"\u001b[39m\u001b[38;5;124m=\u001b[39m\u001b[38;5;124m\"\u001b[39m,num1\u001b[38;5;241m/\u001b[39mnum2)\n\u001b[0;32m     26\u001b[0m \u001b[38;5;28;01melif\u001b[39;00m(op\u001b[38;5;241m==\u001b[39m\u001b[38;5;241m5\u001b[39m):\n\u001b[1;32m---> 27\u001b[0m     \u001b[38;5;28mprint\u001b[39m(num1,\u001b[38;5;124m\"\u001b[39m\u001b[38;5;124m \u001b[39m\u001b[38;5;124m%\u001b[39m\u001b[38;5;124m \u001b[39m\u001b[38;5;124m\"\u001b[39m,num2,\u001b[38;5;124m\"\u001b[39m\u001b[38;5;124m=\u001b[39m\u001b[38;5;124m\"\u001b[39m,num1\u001b[38;5;241m%\u001b[39mnum2)\n\u001b[0;32m     28\u001b[0m \u001b[38;5;28;01melse\u001b[39;00m:\n\u001b[0;32m     29\u001b[0m     \u001b[38;5;28mprint\u001b[39m(\u001b[38;5;124m\"\u001b[39m\u001b[38;5;124mInvalid operator is entered\u001b[39m\u001b[38;5;124m\"\u001b[39m)\n",
      "\u001b[1;31mZeroDivisionError\u001b[0m: integer modulo by zero"
     ]
    }
   ],
   "source": [
    "# calculator\n",
    "\n",
    "num1=int(input(\"Enter first number\"))\n",
    "num2=int(input(\"Enter second number\"))\n",
    "\n",
    "print(\"Select operator: \")\n",
    "print(\"1 for +\")\n",
    "print(\"2 for -\")\n",
    "print(\"3 for *\")\n",
    "print(\"4 for /\")\n",
    "print(\"5 for %\")\n",
    "\n",
    "op=int(input(\"Choose operator:  \"))\n",
    "\n",
    "if(op==1):\n",
    "    print(num1,\" + \",num2,\"=\",num1+num2)\n",
    "elif(op==2):\n",
    "    print(num1,\" - \",num2,\"=\",num1-num2)\n",
    "elif(op==3):\n",
    "    print(num1,\" * \",num2,\"=\",num1*num2)\n",
    "elif(op==4):\n",
    "    if(num2==0):\n",
    "        print(\"Invalid denominator\")\n",
    "    else:\n",
    "        print(num1,\" / \",num2,\"=\",num1/num2)\n",
    "elif(op==5):\n",
    "    print(num1,\" % \",num2,\"=\",num1%num2)\n",
    "else:\n",
    "    print(\"Invalid operator is entered\")"
   ]
  },
  {
   "cell_type": "code",
   "execution_count": null,
   "id": "17b57935-e974-464e-ac1d-7075be90c052",
   "metadata": {},
   "outputs": [],
   "source": []
  },
  {
   "cell_type": "code",
   "execution_count": null,
   "id": "c425da44-ed5c-43c4-9e32-67808a6e782a",
   "metadata": {},
   "outputs": [],
   "source": []
  }
 ],
 "metadata": {
  "kernelspec": {
   "display_name": "Python 3 (ipykernel)",
   "language": "python",
   "name": "python3"
  },
  "language_info": {
   "codemirror_mode": {
    "name": "ipython",
    "version": 3
   },
   "file_extension": ".py",
   "mimetype": "text/x-python",
   "name": "python",
   "nbconvert_exporter": "python",
   "pygments_lexer": "ipython3",
   "version": "3.11.7"
  }
 },
 "nbformat": 4,
 "nbformat_minor": 5
}
