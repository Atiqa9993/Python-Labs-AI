{
 "cells": [
  {
   "cell_type": "code",
   "execution_count": null,
   "id": "5890227b-d259-4c9e-ba62-5efb8cc0b5b4",
   "metadata": {},
   "outputs": [
    {
     "name": "stdin",
     "output_type": "stream",
     "text": [
      "Do You Want To Continue Yes or No ( Y/N ):  y\n"
     ]
    },
    {
     "name": "stdout",
     "output_type": "stream",
     "text": [
      "Do You Want To Continue Yes or No ( Y/N ):  y\n",
      "++++++++++++++++++++++++++++++++++++++++++++++++++++++++\n",
      "\t\t A Grading System\n",
      "++++++++++++++++++++++++++++++++++++++++++++++++++++++++\n"
     ]
    },
    {
     "name": "stdin",
     "output_type": "stream",
     "text": [
      "\t Enter Number of Subjects 3\n"
     ]
    },
    {
     "name": "stdout",
     "output_type": "stream",
     "text": [
      "\t Enter Number of Subjects: 3\n",
      "++++++++++++++++++++++++++++++++++++++++++++++++++++++++\n"
     ]
    },
    {
     "name": "stdin",
     "output_type": "stream",
     "text": [
      "\t Enter Marks of Subject:  23\n"
     ]
    },
    {
     "name": "stdout",
     "output_type": "stream",
     "text": [
      "\t Enter Marks of Subject: 23.0\n"
     ]
    },
    {
     "name": "stdin",
     "output_type": "stream",
     "text": [
      "\t Enter Marks of Subject:  7658\n"
     ]
    },
    {
     "name": "stdout",
     "output_type": "stream",
     "text": [
      "\t Enter Marks of Subject: 7658.0\n",
      "Invalid marks please Try Again and Enter marks between 0 and 100\n"
     ]
    },
    {
     "name": "stdin",
     "output_type": "stream",
     "text": [
      "\t Enter Marks of Subject:  568\n"
     ]
    },
    {
     "name": "stdout",
     "output_type": "stream",
     "text": [
      "\t Enter Marks of Subject: 568.0\n",
      "Invalid marks please Try Again and Enter marks between 0 and 100\n"
     ]
    },
    {
     "name": "stdin",
     "output_type": "stream",
     "text": [
      "\t Enter Marks of Subject:  568\n"
     ]
    },
    {
     "name": "stdout",
     "output_type": "stream",
     "text": [
      "\t Enter Marks of Subject: 568.0\n",
      "Invalid marks please Try Again and Enter marks between 0 and 100\n"
     ]
    },
    {
     "name": "stdin",
     "output_type": "stream",
     "text": [
      "\t Enter Marks of Subject:  76876\n"
     ]
    },
    {
     "name": "stdout",
     "output_type": "stream",
     "text": [
      "\t Enter Marks of Subject: 76876.0\n",
      "Invalid marks please Try Again and Enter marks between 0 and 100\n"
     ]
    },
    {
     "name": "stdin",
     "output_type": "stream",
     "text": [
      "\t Enter Marks of Subject:  23\n"
     ]
    },
    {
     "name": "stdout",
     "output_type": "stream",
     "text": [
      "\t Enter Marks of Subject: 23.0\n"
     ]
    },
    {
     "name": "stdin",
     "output_type": "stream",
     "text": [
      "\t Enter Marks of Subject:  23\n"
     ]
    },
    {
     "name": "stdout",
     "output_type": "stream",
     "text": [
      "\t Enter Marks of Subject: 23.0\n",
      "++++++++++++++++++++++++++++++++++++++++++++++++++++++++\n",
      "Total Marks Obtained in 3 Subjects is: 69.0\n",
      "Obtained Percentage By Student 23.00 : \n",
      "++++++++++++++++++++++++++++++++++++++++++++++++++++++++\n",
      "\t Grade Of Student is: F\n",
      "++++++++++++++++++++++++++++++++++++++++++++++++++++++++\n"
     ]
    }
   ],
   "source": [
    "\"\"\"A Module for Grading just call finalapp() and Start the app\"\"\"\n",
    "def app():\n",
    "    def voidfunc():\n",
    "        print(\"*\"*50)\n",
    "    def Grader(i):\n",
    "        \"\"\"Collect Percentage in Floats and Return Percentage\"\"\"\n",
    "        if ((i>=80.0)&(i<=100.0)):\n",
    "            return \"A\"\n",
    "        elif ((i>=70.0)&(i<80.0)):\n",
    "            return \"B+\"\n",
    "        elif ((i>=60.0)&(i<70.0)):\n",
    "            return \"B\"\n",
    "        elif ((i>=50.0)&(i<60.0)):\n",
    "            return \"C+\"\n",
    "        elif ((i>=45.0)&(i<50.0)):\n",
    "            return \"C\"\n",
    "        elif ((i>=40.0)&(i<45.0)):\n",
    "            return \"D\"\n",
    "        elif ((i>=39.0)&(i<40.0)):\n",
    "            return \"D-\"\n",
    "        elif ((i<39.0)&(i>=0.0)):\n",
    "            return \"F\"\n",
    "        else:\n",
    "            return \"Invalid Percentage\"\n",
    "    voidfunc()\n",
    "    print(\"\\t\\t A Grading System\")\n",
    "    voidfunc()\n",
    "    no_sub=int(input(\"\\t Enter Number of Subjects\"))\n",
    "    print(\"\\t Enter Number of Subjects:\",no_sub)\n",
    "    after_sub=no_sub\n",
    "    voidfunc()\n",
    "    marks=[]\n",
    "    total_marks=0.0\n",
    "    \n",
    "    while no_sub>0:\n",
    "        ma=float(input(\"\\t Enter Marks of Subject: \"))\n",
    "        print(\"\\t Enter Marks of Subject:\",ma)\n",
    "        if ma>100:\n",
    "            print(\"Invalid marks please Try Again and Enter marks between 0 and 100\")\n",
    "        elif ((ma>=0.0)&(ma<=100.0)):\n",
    "            marks.append(ma)\n",
    "            total_marks+=ma\n",
    "            no_sub-=1\n",
    "        else:\n",
    "            print(\"Invalid Input !!!!!!\")\n",
    "    voidfunc()\n",
    "    print(\"Total Marks Obtained in\",after_sub,\"Subjects is:\",total_marks)\n",
    "    percentage=(total_marks/(after_sub*100))*100\n",
    "    print(\"Obtained Percentage By Student {:.2f} : \".format(percentage))\n",
    "    voidfunc()\n",
    "    grade_return=Grader(percentage)\n",
    "    print(\"\\t Grade Of Student is:\",grade_return)\n",
    "    voidfunc()\n",
    "\n",
    "\n",
    "def finalapp():\n",
    "    ch=True\n",
    "    while ch:\n",
    "        inp=input(\"Do You Want To Continue Yes or No ( Y/N ): \")\n",
    "        print(\"Do You Want To Continue Yes or No ( Y/N ): \",inp)\n",
    "        inp=inp.lower()\n",
    "        if ((inp==\"yes\") | (inp==\"y\")) :\n",
    "            app()\n",
    "      \n",
    "        elif ((inp==\"no\") | (inp==\"n\")):\n",
    "            print(\"++++++++++++++++++++++++++++++++++++++++++++++++++++++++\")\n",
    "            print(\"\\t Thanks For Using The System.......\")\n",
    "            ch=False\n",
    "       \n",
    "        else:\n",
    "            print(\"++++++++++++++++++++++++++++++++++++++++++++++++++++++++\")\n",
    "            print(\"\\t Invalid Input !!!!!\")\n",
    "\n",
    "finalapp()"
   ]
  },
  {
   "cell_type": "code",
   "execution_count": null,
   "id": "bb7551b2-50bc-494d-8e0d-5e8f0a350c3c",
   "metadata": {},
   "outputs": [],
   "source": []
  }
 ],
 "metadata": {
  "kernelspec": {
   "display_name": "Python 3 (ipykernel)",
   "language": "python",
   "name": "python3"
  },
  "language_info": {
   "codemirror_mode": {
    "name": "ipython",
    "version": 3
   },
   "file_extension": ".py",
   "mimetype": "text/x-python",
   "name": "python",
   "nbconvert_exporter": "python",
   "pygments_lexer": "ipython3",
   "version": "3.11.7"
  },
  "widgets": {
   "application/vnd.jupyter.widget-state+json": {
    "state": {},
    "version_major": 2,
    "version_minor": 0
   }
  }
 },
 "nbformat": 4,
 "nbformat_minor": 5
}
