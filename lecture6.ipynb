{
 "cells": [
  {
   "cell_type": "markdown",
   "id": "14271bcf-5119-4655-bbc7-acd67d7ee6a6",
   "metadata": {},
   "source": [
    "# "
   ]
  },
  {
   "cell_type": "code",
   "execution_count": 1,
   "id": "f201902d-578a-4832-93cc-4a5e147eacc5",
   "metadata": {},
   "outputs": [],
   "source": [
    "# lambda functions\n",
    "\n",
    "square= lambda x: x*x"
   ]
  },
  {
   "cell_type": "code",
   "execution_count": 3,
   "id": "4d5e2bfb-b051-4595-a21b-1d0501280103",
   "metadata": {},
   "outputs": [
    {
     "name": "stdin",
     "output_type": "stream",
     "text": [
      "Enter a number to find square:  5\n"
     ]
    },
    {
     "name": "stdout",
     "output_type": "stream",
     "text": [
      " Square of 5 =  25\n"
     ]
    }
   ],
   "source": [
    "num1=int(input(\"Enter a number to find square: \"))\n",
    "\n",
    "print(f\" Square of {num1} = \",square(num1))"
   ]
  },
  {
   "cell_type": "code",
   "execution_count": 8,
   "id": "77505500-e5d7-420f-a3aa-c8a122285774",
   "metadata": {},
   "outputs": [],
   "source": [
    "sum = lambda x,y,z:x+y+z"
   ]
  },
  {
   "cell_type": "code",
   "execution_count": 9,
   "id": "94a60db7-170d-4137-ac6c-16abfe806752",
   "metadata": {},
   "outputs": [
    {
     "name": "stdout",
     "output_type": "stream",
     "text": [
      "9\n"
     ]
    }
   ],
   "source": [
    "print(sum(5,1,3))"
   ]
  },
  {
   "cell_type": "code",
   "execution_count": 18,
   "id": "7e9ce905-029f-4fc1-ba12-6188411e6291",
   "metadata": {},
   "outputs": [
    {
     "name": "stdout",
     "output_type": "stream",
     "text": [
      "1 X 3  3\n",
      "2 X 3  6\n",
      "3 X 3  9\n",
      "4 X 3  12\n",
      "5 X 3  15\n",
      "6 X 3  18\n",
      "7 X 3  21\n",
      "8 X 3  24\n",
      "9 X 3  27\n",
      "10 X 3  30\n"
     ]
    }
   ],
   "source": [
    "for x in range(1,11):\n",
    "    \n",
    "    mul=lambda x,y:x*y\n",
    "    # y=3\n",
    "    print(f\"{x} X {3} \",mul(x,3))\n",
    "    "
   ]
  },
  {
   "cell_type": "code",
   "execution_count": 51,
   "id": "bb821e9d-ac96-41b6-bf07-45d3aaeab948",
   "metadata": {},
   "outputs": [],
   "source": [
    "# scope of variables\n",
    "\n",
    "# global variables  variables accessible throughout the program\n",
    "\n",
    "num1=34\n",
    "num2=23\n",
    "def sum():\n",
    "    global num3  #global variables can be defined wthin a function using global key word\n",
    "    num3=5\n",
    "    num2=20\n",
    "    print(f\"{num1} + {num2} =\",num1+num2)"
   ]
  },
  {
   "cell_type": "code",
   "execution_count": 52,
   "id": "a7cf2544-281b-4fea-af84-6608e7b7d69b",
   "metadata": {},
   "outputs": [
    {
     "name": "stdout",
     "output_type": "stream",
     "text": [
      "34 + 20 = 54\n",
      "5\n"
     ]
    }
   ],
   "source": [
    "sum()\n",
    "print(num3) "
   ]
  },
  {
   "cell_type": "code",
   "execution_count": 53,
   "id": "27ed6e6d-265c-48ec-9026-3a11a4fcc041",
   "metadata": {},
   "outputs": [],
   "source": [
    "# local variables \n",
    "\n",
    "def cube():\n",
    "    num4=int(input(\"Enter a number: \"))\n",
    "    return \"Cube is \",num4*num4*num4"
   ]
  },
  {
   "cell_type": "code",
   "execution_count": 54,
   "id": "7a72d2ed-5464-49e2-85b9-c1cdb68cefe0",
   "metadata": {},
   "outputs": [
    {
     "name": "stdin",
     "output_type": "stream",
     "text": [
      "Enter a number:  5\n"
     ]
    },
    {
     "name": "stdout",
     "output_type": "stream",
     "text": [
      "('Cube is ', 125)\n"
     ]
    }
   ],
   "source": [
    "print(cube())"
   ]
  },
  {
   "cell_type": "code",
   "execution_count": 55,
   "id": "9cc26660-2b85-4364-89eb-d67c98c7979f",
   "metadata": {},
   "outputs": [],
   "source": [
    "# print(num4)\n",
    "# cant access num4 as it is local variable of cube function"
   ]
  },
  {
   "cell_type": "code",
   "execution_count": 59,
   "id": "a8495cb3-d40c-456a-8e54-7b775dc2a38d",
   "metadata": {},
   "outputs": [],
   "source": [
    "# non local variables\n",
    "\n",
    "def greeting():\n",
    "    greet=\"Hello \" #non local variable for welcome function\n",
    "    def welcome():\n",
    "        name=\"Sana\"\n",
    "        print(f\"{greet} {name}\")\n",
    "    welcome()\n",
    "        "
   ]
  },
  {
   "cell_type": "code",
   "execution_count": 60,
   "id": "ddf45f11-cc64-4d61-94b8-bd3ecffb669d",
   "metadata": {},
   "outputs": [
    {
     "name": "stdout",
     "output_type": "stream",
     "text": [
      "Hello  Sana\n"
     ]
    }
   ],
   "source": [
    "greeting()"
   ]
  },
  {
   "cell_type": "code",
   "execution_count": 5,
   "id": "d6bb501b-a012-4bca-8b7e-b340f5a10aef",
   "metadata": {},
   "outputs": [
    {
     "name": "stdin",
     "output_type": "stream",
     "text": [
      "Enter a number:  ahmed\n"
     ]
    },
    {
     "name": "stdout",
     "output_type": "stream",
     "text": [
      "You entered an invalid valued\n"
     ]
    }
   ],
   "source": [
    "# Exception handling\n",
    "# number=int(input(\"Enter your number:\"))\n",
    "num5=input(\"Enter a number: \")\n",
    "try:\n",
    "    int(num5)\n",
    "    if num5 in range(1,11):\n",
    "        print(num5 + 10 )\n",
    "    else:\n",
    "        print(\"value is out of range\")\n",
    "except:\n",
    "    print(\"You entered an invalid valued\")"
   ]
  },
  {
   "cell_type": "code",
   "execution_count": 14,
   "id": "76f6563d-2ff7-441f-8551-c0585dc1446b",
   "metadata": {},
   "outputs": [
    {
     "name": "stdin",
     "output_type": "stream",
     "text": [
      "Enter your amount to deposit:  hlo\n"
     ]
    },
    {
     "name": "stdout",
     "output_type": "stream",
     "text": [
      "You Entered an invalid amount\n",
      "Its all about exception handlnh\n"
     ]
    }
   ],
   "source": [
    "balance_amount=0\n",
    "try:\n",
    "    amount=int(input(\"Enter your amount to deposit: \"))\n",
    "    if amount>0:\n",
    "        balance_amount=amount+ balance_amount\n",
    "        print(f\"Your current balaance is: {balance_amount}\")\n",
    "except:\n",
    "    print(\"You Entered an invalid amount\")\n",
    "\n",
    "print(\"Its all about exception handlnh\") #this code linne always executed either try block is executed or except block "
   ]
  },
  {
   "cell_type": "code",
   "execution_count": 31,
   "id": "1db14259-6852-47cd-9dad-f72dead87962",
   "metadata": {},
   "outputs": [],
   "source": [
    "\n",
    "# try Except and Finally keyword\n",
    "def func1(x):\n",
    "    try:\n",
    "        if x > 0 and x <= 10:\n",
    "            print(f\" value of x is {x}\")\n",
    "            return 1\n",
    "    except:\n",
    "        print(\"Sorry! Invalid number is entered \")\n",
    "        return 0\n",
    "    finally:\n",
    "        print(\"finally wiill always be executed\")\n",
    "    "
   ]
  },
  {
   "cell_type": "code",
   "execution_count": 32,
   "id": "7e3a7b1f-81df-442d-942f-4e2f1ff55c50",
   "metadata": {},
   "outputs": [
    {
     "name": "stdin",
     "output_type": "stream",
     "text": [
      "Enter value:  hello\n"
     ]
    },
    {
     "name": "stdout",
     "output_type": "stream",
     "text": [
      "Sorry! Invalid number is entered \n",
      "finally wiill always be executed\n"
     ]
    },
    {
     "data": {
      "text/plain": [
       "0"
      ]
     },
     "execution_count": 32,
     "metadata": {},
     "output_type": "execute_result"
    }
   ],
   "source": [
    "x=input(\"Enter value: \")\n",
    "func1(x)"
   ]
  },
  {
   "cell_type": "code",
   "execution_count": 33,
   "id": "1847104b-cd83-411d-94c6-4281bd49755f",
   "metadata": {},
   "outputs": [
    {
     "name": "stdin",
     "output_type": "stream",
     "text": [
      "Enter value:  5\n"
     ]
    },
    {
     "name": "stdout",
     "output_type": "stream",
     "text": [
      " value of x is 5\n",
      "finally wiill always be executed\n"
     ]
    },
    {
     "data": {
      "text/plain": [
       "1"
      ]
     },
     "execution_count": 33,
     "metadata": {},
     "output_type": "execute_result"
    }
   ],
   "source": [
    "x=int(input(\"Enter value: \"))\n",
    "func1(x)"
   ]
  },
  {
   "cell_type": "code",
   "execution_count": 91,
   "id": "65ff1497-dfe6-429e-8f19-12f89a90767c",
   "metadata": {},
   "outputs": [],
   "source": [
    "         # custom errors\n",
    "def account_info():\n",
    "    name=input(\"Enter user name: \")\n",
    "    try:\n",
    "        if name.lower()==\"ahmed\":\n",
    "            print(\"Login Successfully\")\n",
    "        else:\n",
    "            raise ValueError(\"Invald User entered\")\n",
    "    finally:\n",
    "        print(\"Account info\")\n",
    "\n",
    " "
   ]
  },
  {
   "cell_type": "code",
   "execution_count": 92,
   "id": "2cef7ace-a569-442d-a032-0510fa1bcbe7",
   "metadata": {},
   "outputs": [
    {
     "name": "stdin",
     "output_type": "stream",
     "text": [
      "Enter user name:  gfh\n"
     ]
    },
    {
     "name": "stdout",
     "output_type": "stream",
     "text": [
      "Account info\n"
     ]
    },
    {
     "ename": "ValueError",
     "evalue": "Invald User entered",
     "output_type": "error",
     "traceback": [
      "\u001b[1;31m---------------------------------------------------------------------------\u001b[0m",
      "\u001b[1;31mValueError\u001b[0m                                Traceback (most recent call last)",
      "Cell \u001b[1;32mIn[92], line 1\u001b[0m\n\u001b[1;32m----> 1\u001b[0m account_info()\n",
      "Cell \u001b[1;32mIn[91], line 8\u001b[0m, in \u001b[0;36maccount_info\u001b[1;34m()\u001b[0m\n\u001b[0;32m      6\u001b[0m         \u001b[38;5;28mprint\u001b[39m(\u001b[38;5;124m\"\u001b[39m\u001b[38;5;124mLogin Successfully\u001b[39m\u001b[38;5;124m\"\u001b[39m)\n\u001b[0;32m      7\u001b[0m     \u001b[38;5;28;01melse\u001b[39;00m:\n\u001b[1;32m----> 8\u001b[0m         \u001b[38;5;28;01mraise\u001b[39;00m \u001b[38;5;167;01mValueError\u001b[39;00m(\u001b[38;5;124m\"\u001b[39m\u001b[38;5;124mInvald User entered\u001b[39m\u001b[38;5;124m\"\u001b[39m)\n\u001b[0;32m      9\u001b[0m \u001b[38;5;28;01mfinally\u001b[39;00m:\n\u001b[0;32m     10\u001b[0m     \u001b[38;5;28mprint\u001b[39m(\u001b[38;5;124m\"\u001b[39m\u001b[38;5;124mAccount info\u001b[39m\u001b[38;5;124m\"\u001b[39m)\n",
      "\u001b[1;31mValueError\u001b[0m: Invald User entered"
     ]
    }
   ],
   "source": [
    "account_info()"
   ]
  },
  {
   "cell_type": "code",
   "execution_count": null,
   "id": "e7adae17-519f-4c31-955d-c1956223bc45",
   "metadata": {},
   "outputs": [],
   "source": []
  }
 ],
 "metadata": {
  "kernelspec": {
   "display_name": "Python 3 (ipykernel)",
   "language": "python",
   "name": "python3"
  },
  "language_info": {
   "codemirror_mode": {
    "name": "ipython",
    "version": 3
   },
   "file_extension": ".py",
   "mimetype": "text/x-python",
   "name": "python",
   "nbconvert_exporter": "python",
   "pygments_lexer": "ipython3",
   "version": "3.11.7"
  },
  "widgets": {
   "application/vnd.jupyter.widget-state+json": {
    "state": {},
    "version_major": 2,
    "version_minor": 0
   }
  }
 },
 "nbformat": 4,
 "nbformat_minor": 5
}
